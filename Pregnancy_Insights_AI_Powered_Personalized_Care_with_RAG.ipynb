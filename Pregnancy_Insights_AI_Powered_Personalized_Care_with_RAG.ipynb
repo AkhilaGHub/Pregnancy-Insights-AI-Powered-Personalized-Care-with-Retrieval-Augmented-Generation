{
  "cells": [
    {
      "cell_type": "markdown",
      "metadata": {
        "id": "view-in-github",
        "colab_type": "text"
      },
      "source": [
        "<a href=\"https://colab.research.google.com/github/AkhilaGHub/Pregnancy-Insights-AI-Powered-Personalized-Care-with-Retrieval-Augmented-Generation/blob/main/Pregnancy_Insights_AI_Powered_Personalized_Care_with_RAG.ipynb\" target=\"_parent\"><img src=\"https://colab.research.google.com/assets/colab-badge.svg\" alt=\"Open In Colab\"/></a>"
      ]
    },
    {
      "cell_type": "markdown",
      "metadata": {
        "id": "wrgOhk8U4Rpl"
      },
      "source": [
        "# Quickstart: Querying PDF With Astra and LangChain\n",
        "\n",
        "### A question-answering demo using Astra DB and LangChain, powered by Vector Search"
      ]
    },
    {
      "cell_type": "markdown",
      "metadata": {
        "id": "MqfJKgRM4Rpo"
      },
      "source": [
        "#### Pre-requisites:\n",
        "\n",
        "You need a **_Serverless Cassandra with Vector Search_** database on [Astra DB](https://astra.datastax.com) to run this demo. As outlined in more detail [here](https://docs.datastax.com/en/astra-serverless/docs/vector-search/quickstart.html#_prepare_for_using_your_vector_database), you should get a DB Token with role _Database Administrator_ and copy your Database ID: these connection parameters are needed momentarily.\n",
        "\n",
        "You also need an [OpenAI API Key](https://cassio.org/start_here/#llm-access) for this demo to work.\n",
        "\n",
        "#### What you will do:\n",
        "\n",
        "- Setup: import dependencies, provide secrets, create the LangChain vector store;\n",
        "- Run a Question-Answering loop retrieving the relevant headlines and having an LLM construct the answer."
      ]
    },
    {
      "cell_type": "markdown",
      "metadata": {
        "id": "m_FeN-Ep4Rpp"
      },
      "source": [
        "Install the required dependencies:"
      ]
    },
    {
      "cell_type": "code",
      "source": [
        "pip install torch"
      ],
      "metadata": {
        "colab": {
          "base_uri": "https://localhost:8080/"
        },
        "id": "c-uID-MiPODj",
        "outputId": "3813e9e4-fefd-4de2-d65e-79cca7f4cafd"
      },
      "execution_count": null,
      "outputs": [
        {
          "output_type": "stream",
          "name": "stdout",
          "text": [
            "Requirement already satisfied: torch in /usr/local/lib/python3.10/dist-packages (2.4.0+cu121)\n",
            "Requirement already satisfied: filelock in /usr/local/lib/python3.10/dist-packages (from torch) (3.15.4)\n",
            "Requirement already satisfied: typing-extensions>=4.8.0 in /usr/local/lib/python3.10/dist-packages (from torch) (4.12.2)\n",
            "Requirement already satisfied: sympy in /usr/local/lib/python3.10/dist-packages (from torch) (1.13.2)\n",
            "Requirement already satisfied: networkx in /usr/local/lib/python3.10/dist-packages (from torch) (3.3)\n",
            "Requirement already satisfied: jinja2 in /usr/local/lib/python3.10/dist-packages (from torch) (3.1.4)\n",
            "Requirement already satisfied: fsspec in /usr/local/lib/python3.10/dist-packages (from torch) (2024.6.1)\n",
            "Requirement already satisfied: MarkupSafe>=2.0 in /usr/local/lib/python3.10/dist-packages (from jinja2->torch) (2.1.5)\n",
            "Requirement already satisfied: mpmath<1.4,>=1.1.0 in /usr/local/lib/python3.10/dist-packages (from sympy->torch) (1.3.0)\n"
          ]
        }
      ]
    },
    {
      "cell_type": "code",
      "execution_count": null,
      "metadata": {
        "id": "Uk0qUhJUQrkO",
        "colab": {
          "base_uri": "https://localhost:8080/"
        },
        "outputId": "ec390297-1081-4aba-d2fe-0b232d2303b1"
      },
      "outputs": [
        {
          "output_type": "stream",
          "name": "stdout",
          "text": [
            "\u001b[2K     \u001b[90m━━━━━━━━━━━━━━━━━━━━━━━━━━━━━━━━━━━━━━━━\u001b[0m \u001b[32m50.4/50.4 kB\u001b[0m \u001b[31m704.5 kB/s\u001b[0m eta \u001b[36m0:00:00\u001b[0m\n",
            "\u001b[2K   \u001b[90m━━━━━━━━━━━━━━━━━━━━━━━━━━━━━━━━━━━━━━━━\u001b[0m \u001b[32m45.1/45.1 kB\u001b[0m \u001b[31m1.8 MB/s\u001b[0m eta \u001b[36m0:00:00\u001b[0m\n",
            "\u001b[2K   \u001b[90m━━━━━━━━━━━━━━━━━━━━━━━━━━━━━━━━━━━━━━━━\u001b[0m \u001b[32m527.3/527.3 kB\u001b[0m \u001b[31m4.6 MB/s\u001b[0m eta \u001b[36m0:00:00\u001b[0m\n",
            "\u001b[2K   \u001b[90m━━━━━━━━━━━━━━━━━━━━━━━━━━━━━━━━━━━━━━━━\u001b[0m \u001b[32m1.0/1.0 MB\u001b[0m \u001b[31m16.0 MB/s\u001b[0m eta \u001b[36m0:00:00\u001b[0m\n",
            "\u001b[2K   \u001b[90m━━━━━━━━━━━━━━━━━━━━━━━━━━━━━━━━━━━━━━━━\u001b[0m \u001b[32m365.7/365.7 kB\u001b[0m \u001b[31m15.4 MB/s\u001b[0m eta \u001b[36m0:00:00\u001b[0m\n",
            "\u001b[2K   \u001b[90m━━━━━━━━━━━━━━━━━━━━━━━━━━━━━━━━━━━━━━━━\u001b[0m \u001b[32m1.1/1.1 MB\u001b[0m \u001b[31m29.7 MB/s\u001b[0m eta \u001b[36m0:00:00\u001b[0m\n",
            "\u001b[2K   \u001b[90m━━━━━━━━━━━━━━━━━━━━━━━━━━━━━━━━━━━━━━━━\u001b[0m \u001b[32m18.9/18.9 MB\u001b[0m \u001b[31m51.7 MB/s\u001b[0m eta \u001b[36m0:00:00\u001b[0m\n",
            "\u001b[2K   \u001b[90m━━━━━━━━━━━━━━━━━━━━━━━━━━━━━━━━━━━━━━━━\u001b[0m \u001b[32m116.3/116.3 kB\u001b[0m \u001b[31m546.4 kB/s\u001b[0m eta \u001b[36m0:00:00\u001b[0m\n",
            "\u001b[2K   \u001b[90m━━━━━━━━━━━━━━━━━━━━━━━━━━━━━━━━━━━━━━━━\u001b[0m \u001b[32m76.4/76.4 kB\u001b[0m \u001b[31m4.1 MB/s\u001b[0m eta \u001b[36m0:00:00\u001b[0m\n",
            "\u001b[2K   \u001b[90m━━━━━━━━━━━━━━━━━━━━━━━━━━━━━━━━━━━━━━━━\u001b[0m \u001b[32m77.9/77.9 kB\u001b[0m \u001b[31m4.4 MB/s\u001b[0m eta \u001b[36m0:00:00\u001b[0m\n",
            "\u001b[2K   \u001b[90m━━━━━━━━━━━━━━━━━━━━━━━━━━━━━━━━━━━━━━━━\u001b[0m \u001b[32m318.9/318.9 kB\u001b[0m \u001b[31m18.0 MB/s\u001b[0m eta \u001b[36m0:00:00\u001b[0m\n",
            "\u001b[2K   \u001b[90m━━━━━━━━━━━━━━━━━━━━━━━━━━━━━━━━━━━━━━━━\u001b[0m \u001b[32m395.9/395.9 kB\u001b[0m \u001b[31m22.7 MB/s\u001b[0m eta \u001b[36m0:00:00\u001b[0m\n",
            "\u001b[2K   \u001b[90m━━━━━━━━━━━━━━━━━━━━━━━━━━━━━━━━━━━━━━━━\u001b[0m \u001b[32m150.7/150.7 kB\u001b[0m \u001b[31m9.2 MB/s\u001b[0m eta \u001b[36m0:00:00\u001b[0m\n",
            "\u001b[2K   \u001b[90m━━━━━━━━━━━━━━━━━━━━━━━━━━━━━━━━━━━━━━━━\u001b[0m \u001b[32m39.9/39.9 MB\u001b[0m \u001b[31m14.2 MB/s\u001b[0m eta \u001b[36m0:00:00\u001b[0m\n",
            "\u001b[2K   \u001b[90m━━━━━━━━━━━━━━━━━━━━━━━━━━━━━━━━━━━━━━━━\u001b[0m \u001b[32m134.8/134.8 kB\u001b[0m \u001b[31m7.1 MB/s\u001b[0m eta \u001b[36m0:00:00\u001b[0m\n",
            "\u001b[2K   \u001b[90m━━━━━━━━━━━━━━━━━━━━━━━━━━━━━━━━━━━━━━━━\u001b[0m \u001b[32m194.1/194.1 kB\u001b[0m \u001b[31m10.2 MB/s\u001b[0m eta \u001b[36m0:00:00\u001b[0m\n",
            "\u001b[2K   \u001b[90m━━━━━━━━━━━━━━━━━━━━━━━━━━━━━━━━━━━━━━━━\u001b[0m \u001b[32m141.9/141.9 kB\u001b[0m \u001b[31m8.4 MB/s\u001b[0m eta \u001b[36m0:00:00\u001b[0m\n",
            "\u001b[2K   \u001b[90m━━━━━━━━━━━━━━━━━━━━━━━━━━━━━━━━━━━━━━━━\u001b[0m \u001b[32m58.3/58.3 kB\u001b[0m \u001b[31m3.1 MB/s\u001b[0m eta \u001b[36m0:00:00\u001b[0m\n",
            "\u001b[?25h\u001b[31mERROR: pip's dependency resolver does not currently take into account all the packages that are installed. This behaviour is the source of the following dependency conflicts.\n",
            "cudf-cu12 24.4.1 requires pyarrow<15.0.0a0,>=14.0.1, but you have pyarrow 17.0.0 which is incompatible.\n",
            "ibis-framework 8.0.0 requires pyarrow<16,>=2, but you have pyarrow 17.0.0 which is incompatible.\u001b[0m\u001b[31m\n",
            "\u001b[0m"
          ]
        }
      ],
      "source": [
        "!pip install -q cassio datasets langchain openai tiktoken"
      ]
    },
    {
      "cell_type": "code",
      "source": [
        "pip install -U langchain-community"
      ],
      "metadata": {
        "colab": {
          "base_uri": "https://localhost:8080/"
        },
        "id": "b8g3KHANPzDN",
        "outputId": "c78271cf-8376-47af-8c1b-acee17b2f6cf"
      },
      "execution_count": null,
      "outputs": [
        {
          "output_type": "stream",
          "name": "stdout",
          "text": [
            "Collecting langchain-community\n",
            "  Downloading langchain_community-0.2.14-py3-none-any.whl.metadata (2.7 kB)\n",
            "Requirement already satisfied: PyYAML>=5.3 in /usr/local/lib/python3.10/dist-packages (from langchain-community) (6.0.2)\n",
            "Requirement already satisfied: SQLAlchemy<3,>=1.4 in /usr/local/lib/python3.10/dist-packages (from langchain-community) (2.0.32)\n",
            "Requirement already satisfied: aiohttp<4.0.0,>=3.8.3 in /usr/local/lib/python3.10/dist-packages (from langchain-community) (3.10.5)\n",
            "Collecting dataclasses-json<0.7,>=0.5.7 (from langchain-community)\n",
            "  Downloading dataclasses_json-0.6.7-py3-none-any.whl.metadata (25 kB)\n",
            "Requirement already satisfied: langchain<0.3.0,>=0.2.15 in /usr/local/lib/python3.10/dist-packages (from langchain-community) (0.2.15)\n",
            "Requirement already satisfied: langchain-core==0.2.36 in /usr/local/lib/python3.10/dist-packages (from langchain-community) (0.2.36)\n",
            "Requirement already satisfied: langsmith<0.2.0,>=0.1.0 in /usr/local/lib/python3.10/dist-packages (from langchain-community) (0.1.107)\n",
            "Requirement already satisfied: numpy<2,>=1 in /usr/local/lib/python3.10/dist-packages (from langchain-community) (1.26.4)\n",
            "Requirement already satisfied: requests<3,>=2 in /usr/local/lib/python3.10/dist-packages (from langchain-community) (2.32.3)\n",
            "Requirement already satisfied: tenacity!=8.4.0,<9.0.0,>=8.1.0 in /usr/local/lib/python3.10/dist-packages (from langchain-community) (8.5.0)\n",
            "Requirement already satisfied: jsonpatch<2.0,>=1.33 in /usr/local/lib/python3.10/dist-packages (from langchain-core==0.2.36->langchain-community) (1.33)\n",
            "Requirement already satisfied: packaging<25,>=23.2 in /usr/local/lib/python3.10/dist-packages (from langchain-core==0.2.36->langchain-community) (24.1)\n",
            "Requirement already satisfied: pydantic<3,>=1 in /usr/local/lib/python3.10/dist-packages (from langchain-core==0.2.36->langchain-community) (2.8.2)\n",
            "Requirement already satisfied: typing-extensions>=4.7 in /usr/local/lib/python3.10/dist-packages (from langchain-core==0.2.36->langchain-community) (4.12.2)\n",
            "Requirement already satisfied: aiohappyeyeballs>=2.3.0 in /usr/local/lib/python3.10/dist-packages (from aiohttp<4.0.0,>=3.8.3->langchain-community) (2.4.0)\n",
            "Requirement already satisfied: aiosignal>=1.1.2 in /usr/local/lib/python3.10/dist-packages (from aiohttp<4.0.0,>=3.8.3->langchain-community) (1.3.1)\n",
            "Requirement already satisfied: attrs>=17.3.0 in /usr/local/lib/python3.10/dist-packages (from aiohttp<4.0.0,>=3.8.3->langchain-community) (24.2.0)\n",
            "Requirement already satisfied: frozenlist>=1.1.1 in /usr/local/lib/python3.10/dist-packages (from aiohttp<4.0.0,>=3.8.3->langchain-community) (1.4.1)\n",
            "Requirement already satisfied: multidict<7.0,>=4.5 in /usr/local/lib/python3.10/dist-packages (from aiohttp<4.0.0,>=3.8.3->langchain-community) (6.0.5)\n",
            "Requirement already satisfied: yarl<2.0,>=1.0 in /usr/local/lib/python3.10/dist-packages (from aiohttp<4.0.0,>=3.8.3->langchain-community) (1.9.4)\n",
            "Requirement already satisfied: async-timeout<5.0,>=4.0 in /usr/local/lib/python3.10/dist-packages (from aiohttp<4.0.0,>=3.8.3->langchain-community) (4.0.3)\n",
            "Collecting marshmallow<4.0.0,>=3.18.0 (from dataclasses-json<0.7,>=0.5.7->langchain-community)\n",
            "  Downloading marshmallow-3.22.0-py3-none-any.whl.metadata (7.2 kB)\n",
            "Collecting typing-inspect<1,>=0.4.0 (from dataclasses-json<0.7,>=0.5.7->langchain-community)\n",
            "  Downloading typing_inspect-0.9.0-py3-none-any.whl.metadata (1.5 kB)\n",
            "Requirement already satisfied: langchain-text-splitters<0.3.0,>=0.2.0 in /usr/local/lib/python3.10/dist-packages (from langchain<0.3.0,>=0.2.15->langchain-community) (0.2.2)\n",
            "Requirement already satisfied: httpx<1,>=0.23.0 in /usr/local/lib/python3.10/dist-packages (from langsmith<0.2.0,>=0.1.0->langchain-community) (0.27.2)\n",
            "Requirement already satisfied: orjson<4.0.0,>=3.9.14 in /usr/local/lib/python3.10/dist-packages (from langsmith<0.2.0,>=0.1.0->langchain-community) (3.10.7)\n",
            "Requirement already satisfied: charset-normalizer<4,>=2 in /usr/local/lib/python3.10/dist-packages (from requests<3,>=2->langchain-community) (3.3.2)\n",
            "Requirement already satisfied: idna<4,>=2.5 in /usr/local/lib/python3.10/dist-packages (from requests<3,>=2->langchain-community) (3.8)\n",
            "Requirement already satisfied: urllib3<3,>=1.21.1 in /usr/local/lib/python3.10/dist-packages (from requests<3,>=2->langchain-community) (2.0.7)\n",
            "Requirement already satisfied: certifi>=2017.4.17 in /usr/local/lib/python3.10/dist-packages (from requests<3,>=2->langchain-community) (2024.7.4)\n",
            "Requirement already satisfied: greenlet!=0.4.17 in /usr/local/lib/python3.10/dist-packages (from SQLAlchemy<3,>=1.4->langchain-community) (3.0.3)\n",
            "Requirement already satisfied: anyio in /usr/local/lib/python3.10/dist-packages (from httpx<1,>=0.23.0->langsmith<0.2.0,>=0.1.0->langchain-community) (3.7.1)\n",
            "Requirement already satisfied: httpcore==1.* in /usr/local/lib/python3.10/dist-packages (from httpx<1,>=0.23.0->langsmith<0.2.0,>=0.1.0->langchain-community) (1.0.5)\n",
            "Requirement already satisfied: sniffio in /usr/local/lib/python3.10/dist-packages (from httpx<1,>=0.23.0->langsmith<0.2.0,>=0.1.0->langchain-community) (1.3.1)\n",
            "Requirement already satisfied: h11<0.15,>=0.13 in /usr/local/lib/python3.10/dist-packages (from httpcore==1.*->httpx<1,>=0.23.0->langsmith<0.2.0,>=0.1.0->langchain-community) (0.14.0)\n",
            "Requirement already satisfied: jsonpointer>=1.9 in /usr/local/lib/python3.10/dist-packages (from jsonpatch<2.0,>=1.33->langchain-core==0.2.36->langchain-community) (3.0.0)\n",
            "Requirement already satisfied: annotated-types>=0.4.0 in /usr/local/lib/python3.10/dist-packages (from pydantic<3,>=1->langchain-core==0.2.36->langchain-community) (0.7.0)\n",
            "Requirement already satisfied: pydantic-core==2.20.1 in /usr/local/lib/python3.10/dist-packages (from pydantic<3,>=1->langchain-core==0.2.36->langchain-community) (2.20.1)\n",
            "Collecting mypy-extensions>=0.3.0 (from typing-inspect<1,>=0.4.0->dataclasses-json<0.7,>=0.5.7->langchain-community)\n",
            "  Downloading mypy_extensions-1.0.0-py3-none-any.whl.metadata (1.1 kB)\n",
            "Requirement already satisfied: exceptiongroup in /usr/local/lib/python3.10/dist-packages (from anyio->httpx<1,>=0.23.0->langsmith<0.2.0,>=0.1.0->langchain-community) (1.2.2)\n",
            "Downloading langchain_community-0.2.14-py3-none-any.whl (2.3 MB)\n",
            "\u001b[2K   \u001b[90m━━━━━━━━━━━━━━━━━━━━━━━━━━━━━━━━━━━━━━━━\u001b[0m \u001b[32m2.3/2.3 MB\u001b[0m \u001b[31m10.9 MB/s\u001b[0m eta \u001b[36m0:00:00\u001b[0m\n",
            "\u001b[?25hDownloading dataclasses_json-0.6.7-py3-none-any.whl (28 kB)\n",
            "Downloading marshmallow-3.22.0-py3-none-any.whl (49 kB)\n",
            "\u001b[2K   \u001b[90m━━━━━━━━━━━━━━━━━━━━━━━━━━━━━━━━━━━━━━━━\u001b[0m \u001b[32m49.3/49.3 kB\u001b[0m \u001b[31m2.5 MB/s\u001b[0m eta \u001b[36m0:00:00\u001b[0m\n",
            "\u001b[?25hDownloading typing_inspect-0.9.0-py3-none-any.whl (8.8 kB)\n",
            "Downloading mypy_extensions-1.0.0-py3-none-any.whl (4.7 kB)\n",
            "Installing collected packages: mypy-extensions, marshmallow, typing-inspect, dataclasses-json, langchain-community\n",
            "Successfully installed dataclasses-json-0.6.7 langchain-community-0.2.14 marshmallow-3.22.0 mypy-extensions-1.0.0 typing-inspect-0.9.0\n"
          ]
        }
      ]
    },
    {
      "cell_type": "markdown",
      "source": [],
      "metadata": {
        "id": "KkcJ34y5PMyO"
      }
    },
    {
      "cell_type": "markdown",
      "metadata": {
        "id": "XQQN-L2J4Rpq"
      },
      "source": [
        "Import the packages you'll need:"
      ]
    },
    {
      "cell_type": "code",
      "execution_count": null,
      "metadata": {
        "id": "V4qBIihE4Rpq"
      },
      "outputs": [],
      "source": [
        "# LangChain components to use\n",
        "from langchain.vectorstores.cassandra import Cassandra\n",
        "from langchain.indexes.vectorstore import VectorStoreIndexWrapper\n",
        "from langchain.llms import OpenAI\n",
        "from langchain.embeddings import OpenAIEmbeddings\n",
        "\n",
        "# Support for dataset retrieval with Hugging Face\n",
        "from datasets import load_dataset\n",
        "\n",
        "# With CassIO, the engine powering the Astra DB integration in LangChain,\n",
        "# you will also initialize the DB connection:\n",
        "import cassio"
      ]
    },
    {
      "cell_type": "code",
      "source": [
        "\n",
        "!pip install PyPDF2"
      ],
      "metadata": {
        "colab": {
          "base_uri": "https://localhost:8080/"
        },
        "id": "WIs76OPQ6JyD",
        "outputId": "08c2e2a7-1343-4633-92f4-152b9479481e"
      },
      "execution_count": null,
      "outputs": [
        {
          "output_type": "stream",
          "name": "stdout",
          "text": [
            "Collecting PyPDF2\n",
            "  Downloading pypdf2-3.0.1-py3-none-any.whl.metadata (6.8 kB)\n",
            "Downloading pypdf2-3.0.1-py3-none-any.whl (232 kB)\n",
            "\u001b[2K   \u001b[90m━━━━━━━━━━━━━━━━━━━━━━━━━━━━━━━━━━━━━━━━\u001b[0m \u001b[32m232.6/232.6 kB\u001b[0m \u001b[31m1.7 MB/s\u001b[0m eta \u001b[36m0:00:00\u001b[0m\n",
            "\u001b[?25hInstalling collected packages: PyPDF2\n",
            "Successfully installed PyPDF2-3.0.1\n"
          ]
        }
      ]
    },
    {
      "cell_type": "code",
      "source": [
        "from PyPDF2 import PdfReader"
      ],
      "metadata": {
        "id": "1itBNL1v6N9-"
      },
      "execution_count": null,
      "outputs": []
    },
    {
      "cell_type": "markdown",
      "metadata": {
        "id": "Vu2UauiC4Rpr"
      },
      "source": [
        "### Setup"
      ]
    },
    {
      "cell_type": "markdown",
      "metadata": {
        "id": "Q1cmD5EF4Rpr"
      },
      "source": [
        "#### Provide your secrets:\n",
        "\n",
        "Replace the following with your Astra DB connection details and your OpenAI API key:"
      ]
    },
    {
      "cell_type": "code",
      "source": [
        "ASTRA_DB_APPLICATION_TOKEN = \"\" # enter the \"AstraCS:...\" string found in in your Token JSON file\n",
        "ASTRA_DB_ID = \"\" # enter your Database ID\n",
        "\n",
        "OPENAI_API_KEY = \"\" # enter your OpenAI key"
      ],
      "metadata": {
        "id": "Zphv-r3412eZ"
      },
      "execution_count": null,
      "outputs": []
    },
    {
      "cell_type": "code",
      "source": [
        "# provide the path of  pdf file/files.\n",
        "pdfreader = PdfReader('/content/Pregnancy Care.pdf')"
      ],
      "metadata": {
        "id": "waVKJW-n6jqJ"
      },
      "execution_count": null,
      "outputs": []
    },
    {
      "cell_type": "code",
      "source": [
        "from typing_extensions import Concatenate\n",
        "# read text from pdf\n",
        "raw_text = ''\n",
        "for i, page in enumerate(pdfreader.pages):\n",
        "    content = page.extract_text()\n",
        "    if content:\n",
        "        raw_text += content"
      ],
      "metadata": {
        "id": "42BKuFRO6meP"
      },
      "execution_count": null,
      "outputs": []
    },
    {
      "cell_type": "code",
      "source": [
        "raw_text"
      ],
      "metadata": {
        "colab": {
          "base_uri": "https://localhost:8080/",
          "height": 145
        },
        "id": "vR41Iq-4ZHnG",
        "outputId": "a8f269c2-fe87-4579-9eaf-8afa1486cc11"
      },
      "execution_count": null,
      "outputs": [
        {
          "output_type": "execute_result",
          "data": {
            "text/plain": [
              "'Pregnancy\\nCare\\nPregnancy\\nis\\nthe\\nperiod\\nduring\\nwhich\\na\\nfertilized\\negg\\ndevelops\\ninto\\na\\nfetus\\ninside\\na\\nwoman\\'s\\nwomb.\\nCarrying\\na\\nbaby\\nis\\nthe\\nmost\\nrewarding\\nexperience\\na\\nwoman\\ncan\\nenjoy .\\nIt\\ntypically\\nlasts\\nabout\\n40\\nweeks,\\ncounting\\nfrom\\nthe\\nfirst\\nday\\nof\\nthe\\nlast\\nmenstrual\\nperiod\\n(LMP)\\nto\\ndelivery .\\nStages\\nof\\nPregnancy\\n(Trimesters)\\n●\\nFirst\\nTrimester\\n(Weeks\\n1-12)\\n:\\nMajor\\norgans\\nand\\nbody\\nsystems\\nbegin\\nto\\nform.\\nThe\\nembryo\\ntransitions\\ninto\\na\\nfetus\\nby\\nthe\\nend\\nof\\nthe\\n8th\\nweek.\\nSymptoms:\\nNausea,\\nfatigue,\\nbreast\\ntenderness,\\nfrequent\\nurination,\\nand\\nmood\\nswings.\\n●\\nSecond\\nTrimester\\n(Weeks\\n13-26)\\n:The\\nfetus\\ngrows\\nrapidly ,\\nand\\nthe\\nmother\\nmay\\nstart\\nto\\nfeel\\nfetal\\nmovements\\n(quickening).\\nSymptoms:\\nReduced\\nnausea,\\nincreased\\nenergy,\\nvisible\\npregnancy\\nbump,\\nand\\npossible\\nswelling\\nin\\nlegs\\nand\\nankles.\\n●\\nThird\\nTrimester\\n(Weeks\\n27-40)\\n:\\nThe\\nfetus\\ngains\\nweight,\\nlungs\\nmature,\\nand\\nthe\\nbody\\nprepares\\nfor\\ndelivery .\\nSymptoms:\\nShortness\\nof\\nbreath,\\nheartburn,\\nbackaches,\\nBraxton\\nHicks\\ncontractions,\\nand\\nincreased\\nfetal\\nmovements.\\nSigns\\nand\\nSymptoms\\nof\\nPregnancy:\\n●\\nEarly\\nSigns:\\nMissed\\nperiod,\\ntender/swollen\\nbreasts,\\nnausea\\n(morning\\nsickness),\\nfrequent\\nurination,\\nfatigue,\\nand\\nmood\\nswings.\\n●\\nConfirming\\nPregnancy:\\nHome\\npregnancy\\ntests,\\nblood\\ntests,\\nand\\nan\\nultrasound\\nto\\nconfirm\\nthe\\ngestational\\nage\\nand\\ncheck\\nfor\\nmultiple\\npregnancies.\\nPrenatal\\nCare\\nRegular\\nprenatal\\nvisits\\nare\\nessential\\nfor\\nmonitoring\\nthe\\nhealth\\nof\\nboth\\nmother\\nand\\nbaby .\\nThey\\nhelp\\nin\\nearly\\ndetection\\nof\\nany\\npotential\\ncomplications\\nand\\nensure\\nproper\\nfetal\\ndevelopment.\\nAntenatal\\nCheck-up\\nQuality\\nantenatal\\ncare\\nis\\nthe\\ncornerstone\\nto\\nimprove\\nmaternal\\nhealth\\nand\\na\\ncrucial\\nchallenge.\\nGood\\nquality\\nand\\nfull\\ncompletion\\nof\\nANC\\ncheck-ups\\nare\\ncritical\\nfor\\nreducing\\nthe\\npersisting\\nburden\\nof\\nmaternal\\nand\\nnewborn\\nmortality .\\nIts\\nessential\\ncomponents\\nincludes\\n:\\n●\\nCalculation\\nof\\nexpected\\npregnancies\\n●\\nSchedule\\nof\\nantenatal\\nassessment\\n●\\nHistory\\ntaking\\nfor\\npregnant\\nmothers\\n●\\nPhysical\\nExamination,\\nGeneral\\nExamination\\nand\\nAbdominal\\nExamination\\n●\\nANC\\nrelated\\nInvestigations–\\nUrine\\ntest\\nfor\\npregnancy ,\\nHaemoglobin\\nTest,\\nUrine\\ntest\\nfor\\nproteins\\nand\\nsugar ,Oral\\n●\\nGlucose\\nTolerance\\nTest\\n(OGTT),RDT\\nfor\\nMalaria,\\nHIV,\\nDengue,\\nHBsAg,\\nand\\nRDT\\nfor\\nSyphilis\\netc.\\n●\\nCounseling\\nGet\\nyour\\nHb,\\nBlood\\npressure(BP),\\nurine,\\nweight\\nand\\nabdomen\\nchecked\\nat\\nevery\\nvisit.\\nEnsure\\nthat\\nyou\\nreceive\\nIFA\\ntablets\\nand\\ntwo\\ndoses\\nof\\nInj.\\nTetanus\\nToxoid\\n(TT).\\nAlways\\nconsult\\nyour\\nMO\\nif\\nnecessary\\nor\\nreferred.\\nRegular\\nANC\\nvisits\\nprotect\\nyou\\nand\\nyour\\nbaby\\nfrom\\ncomplications\\nand\\nensure\\na\\nhealthy\\nmother\\nand\\nchild.\\nCalculation\\nof\\nExpected\\nPregnancies\\n:\\nTo\\nensure\\ncomplete\\nregistration,\\nit\\nis\\nessential\\nthat\\nyou\\nknow\\nthe\\nestimated\\nnumber\\nof\\npregnancies\\nto\\nbe\\nregistered\\nannually\\nin\\nyour\\narea.\\nIn\\ncase\\nthe\\nnumber\\nof\\npregnancies\\nregistered\\nis\\nless\\nthan\\nthat\\nof\\nthe\\nestimated\\npregnancies,\\nyou\\nneed\\nto\\ntrack\\ndown\\nthe\\npregnancies\\nyou\\nhave\\nmissed\\nwith\\nthe\\nhelp\\nof\\nASHAs\\nand\\nANMs.\\nThe\\ncalculation\\nof\\nexpected\\npregnancies\\nat\\nyour\\nSub\\nCentre\\nHealth\\nand\\nWellness\\nCentres\\nof\\n5000\\npopulation.Suppose\\nthe\\nbirth\\nrate\\nof\\nthe\\ndistrict\\nis\\n20\\nper\\n1000\\npopulation,\\nthen,\\n100\\nchildren\\nwill\\nbe\\nborn\\nfor\\na\\npopulation\\nof\\n5000;\\nthen\\n110\\nwomen\\nwill\\nbecome\\npregnant\\nin\\nthe\\npopulation,considering\\n10\\n%\\nwastage;\\nin\\nany\\nmonth,\\nyou\\nshould\\nhave\\nabout\\nat\\nleast\\n52-53\\npregnancies\\nregistered\\nwith\\nyou.\\nSome\\nwomen\\nmay\\nbe\\nreceiving\\nANC\\nfrom\\nthe\\nprivate\\nsector .Ensure\\nthat\\ntheir\\nnames\\nwith\\nthe\\nnames\\nof\\nthe\\nfacilities\\nwhere\\nthey\\nare\\nregistered\\nare\\nmentioned\\nin\\nyour\\nRCH\\nregister/ANMOL.\\nEarly\\ndetection\\nof\\npregnancy\\n:\\nEarly\\ndiagnosis\\nof\\npregnancy\\nis\\nnecessary\\nto\\nensure\\nadequate\\ncare\\nto\\npregnant\\nmothers,\\nfetal\\ngrowth\\nand\\ndevelopment\\nand\\nsafe\\ndelivery .\\nIt\\nshould\\nbe\\nundertaken\\nas\\nearly\\nas\\npossible\\nafter\\nthe\\nfirst\\nmissed\\nperiod.\\nASHAs\\nhave\\na\\nlist\\nof\\neligible\\ncouples\\nfor\\ntheir\\npopulation\\nand\\nundertake\\nhousehold\\nvisits\\nto\\nfacilitate\\nearly\\nidentification\\nof\\npregnancy\\nusing\\nNishchay\\nkits.\\nUndertaking\\nPregnancy\\nDetection\\nTest:\\nProcedure:\\n●\\nRemove\\nthe\\npregnancy\\ntest\\nCassette\\nfrom\\nthe\\npregnancy\\nkit.\\nKeep\\nthis\\ncard\\non\\na\\nflat\\nsurface.\\n●\\nUse\\nthe\\ndropper\\nto\\ntake\\na\\nmorning\\nsample\\nof\\nurine.\\nPut\\n2-3\\ndrops\\nin\\nthe\\nwell-marked\\n‘S’.\\n●\\nWait\\nfor\\n5\\nminutes.\\nResult:\\n●\\nIf\\none\\nred\\nband\\nappears\\nin\\nthe\\nresult\\nwindow\\n‘R’,\\nthe\\npregnancy\\ntest\\nis\\nnegative.\\n●\\nIf\\ntwo\\nparallel\\nred\\nbands\\nappear ,\\nthe\\npregnancy\\ntest\\nis\\npositive.\\nDetermining\\nLMP\\nand\\nEDD:\\n●\\nAs\\na\\nfirst\\nstep\\nyou\\nwould\\ntake\\nthe\\nmenstrual\\nhistory\\nto\\ncalculate\\nthe\\nEDD\\nand\\nprepare\\na\\nbirth\\nplan.\\n●\\nRecall\\nthat\\nthe\\nLMP\\nrefers\\nto\\nthe\\nFIRST\\nday\\nof\\nthe\\nwoman’ s\\nlast\\nmenstrual\\nperiod.\\n●\\nMake\\nsure\\nthat\\nthe\\nwoman\\nis\\nnot\\nreferring\\nto\\nthe\\ndate\\nof\\nthe\\nfirst\\nmissed\\nperiod,\\ni.e.,\\nthe\\ndate\\nwhen\\nmenstruation\\nwas\\nexpected\\nto\\noccur\\nthe\\nfollowing\\nmonth\\nand\\nfailed\\nto\\noccur .\\n●\\nIf\\nthe\\nwoman\\nis\\nunable\\nto\\nremember\\nthe\\nexact\\ndate,\\nencourage\\nher\\nto\\nremember\\nsome\\nmajor\\nevent,festival,\\nor\\noccurrence\\nwhich\\nshe\\nmight\\nlink\\nwith\\nher\\nLMP .\\n●\\nIf\\nthe\\nexact\\ndate\\nof\\nthe\\nLMP\\nis\\nnot\\nknown\\nand\\nit\\nis\\nlate\\nin\\nthe\\npregnancy ,\\nask\\nfor\\nthe\\ndate\\nwhen\\nthe\\nfetal\\nmovements\\nwere\\nfirst\\nfelt.\\nThis\\nis\\nknown\\nas\\n‘quickening’\\nand\\nis\\nfelt\\nat\\naround\\n20\\nweeks\\nof\\ngestation.\\nThis\\ninformation\\nwould\\ngive\\na\\nrough\\nidea\\nabout\\nthe\\nperiod\\nof\\ngestation,\\nwhich\\nneeds\\nto\\nbe\\ncorrelated\\nwith\\nthe\\nfundal\\nheight\\nto\\nestimate\\nthe\\ngestational\\nage.\\n●\\nCalculate\\nthe\\nEDD\\nusing\\nthe\\nformula\\nin\\nthe\\nbox.\\nIt\\nis\\nbased\\non\\nthe\\nassumption\\nthat\\nthe\\nmenstrual\\ncycle\\nof\\nthe\\nwoman\\nwas\\nregular\\nbefore\\nconception\\nand\\nthat\\nit\\nwas\\na\\n28–30\\ndays’\\ncycle.\\n●\\nEDD\\n=\\nDate\\nof\\nLMP\\n+\\n9\\nmonths\\n+\\n7\\ndaysFour\\nantenatal\\ncheck\\nups\\nare\\nessential\\nfor\\na\\npregnant\\nwoman:\\nNo.of\\nVisit\\nTimings\\nof\\nVisit\\n1st\\nWithin\\n12\\nweeks\\n2nd\\nBetween\\n14-26\\nweeks\\n3rd\\nBetween\\n28-36\\nweeks\\n4th\\nBetween\\n36\\nweeks\\nand\\nterm\\nPMSMA\\ncheck-up\\nIn\\n2nd\\nor\\n3rd\\ntrimester\\nPhysical\\nExamination\\nThis\\nactivity\\nneeds\\nto\\nbe\\nconducted\\nduring\\nall\\nthe\\nvisits.\\nThe\\ninitial\\nreadings\\nmay\\nbe\\ntaken\\nas\\na\\nbaseline\\nwith\\nwhich\\nthe\\nlater\\nreadings\\nare\\nto\\nbe\\ncompared.\\nGeneral\\nexamination\\ninvolves\\nfollowing\\nsteps\\n●\\nLook\\nfor\\nPallor\\n:\\nPresence\\nof\\npallor\\nindicates\\nanemia.\\nExamine\\nthe\\nwoman’ s\\nconjunctiva,nails,\\ntongue,\\noral\\nmucosa\\nand\\npalms.\\nIncrease\\nin\\npallor\\nis\\nlinked\\nwith\\nworsening\\nanemia\\nand\\nshould\\nbe\\nverified\\nwith\\nhemoglobin\\nestimation\\nand\\nother\\ninvestigations\\nto\\nidentify\\nthe\\nneeds\\nfor\\nreferral\\nto\\nthe\\nPHC\\nMedical\\nOfficer\\nin\\ncase\\nanemia\\nworsens.\\n●\\nLook\\nfor\\nJaundice:\\n1.\\nJaundice\\nis\\na\\nyellowish\\nstaining\\nof\\nthe\\nskin\\nand\\nsclera\\n(the\\nwhites\\nof\\nthe\\neyes),\\ncaused\\nby\\nhigh\\nlevels\\nof\\nthe\\nchemical\\nbilirubin\\nin\\nthe\\nblood.\\nJaundice\\nis\\nnot\\na\\ndisease,\\nbut\\na\\nsign\\nthat\\ncan\\noccur\\nin\\nmany\\ndifferent\\ndiseases.\\n2.\\nLook\\nfor\\nyellowish\\ndiscoloration\\nof\\nthe\\nskin\\nand\\nsclera.\\nThe\\ncolor\\nof\\nthe\\nskin\\nand\\nsclera\\nvary\\ndepending\\non\\nthe\\nlevel\\nof\\nbilirubin.\\nWhen\\nthe\\nbilirubin\\nlevel\\nis\\nmildly\\nelevated,\\nthey\\nare\\nyellowish.\\nWhen\\nthe\\nbilirubin\\nlevel\\nis\\nhigh,\\nthey\\ntend\\nto\\nbe\\nbrown.\\n●\\nMeasure\\nand\\nrecord\\nPulse:\\nThe\\nnormal\\npulse\\nrate\\nis\\n60–90\\nbeats\\nper\\nminute.\\nIf\\nthe\\npulse\\nrate\\nis\\npersistently\\nhigh\\nor\\nlow,\\nwith\\nor\\nwithout\\nother\\nsymptoms,\\nthe\\nwoman\\nrequires\\nmedical\\nattention\\nat\\nthe\\nPHC/FRU.\\n●\\nMeasure\\nand\\nrecord\\nRespiratory\\nrate:\\nNormal\\nrespiratory\\nrate\\nis\\n18-20\\nbreaths\\nper\\nminute.\\nIf\\nthe\\nRR\\nis\\nabove\\n30\\nbreaths\\nper\\nminute\\nand\\npallor\\nis\\npresent,\\nit\\nindicates\\nsevere\\nanemia,\\nheart\\ndisease\\nor\\nother\\nassociated\\nmedical\\nproblems.She\\nmust\\nbe\\nimmediately\\nreferred\\nto\\nthe\\nPHC-Medical\\nOfficer\\nfor\\nfurther\\ninvestigation\\nand\\nmanagement\\nof\\nany\\nillness\\nthat\\nmay\\nbe\\npresent.●\\nLook\\nfor\\nOedema:\\n❖\\nOedema\\n(swelling),\\nwhich\\nappears\\nin\\nthe\\nevening\\nand\\ndisappears\\nin\\nthe\\nmorning\\nafter\\na\\nfull\\nnight’ s\\nsleep,\\ncould\\nbe\\na\\nnormal\\nmanifestation\\nof\\npregnancy .\\n❖\\nAny\\noedema\\nof\\nthe\\nface,\\nhands,\\nabdominal\\nwall,\\nand\\nvulva\\nis\\nabnormal.\\nOedema\\ncan\\nbe\\nsuspected\\nif\\na\\nwoman\\ncomplains\\nof\\nabnormal\\ntightening\\nof\\nany\\nrings\\non\\nher\\nfingers.\\n❖\\nIf\\nthere\\nis\\noedema\\nin\\nassociation\\nwith\\nhigh\\nblood\\npressure,\\nheart\\ndisease,\\nanemia\\nor\\nproteinuria,\\nthe\\nwoman\\nshould\\nbe\\nreferred\\nto\\nFRU.\\n❖\\nNon-pitting\\noedema\\nindicates\\nhypothyroidism\\nor\\nfilariasis\\nand\\nrequires\\nimmediate\\nreferral\\nto\\nFRU\\nfor\\ninvestigations.\\n●\\nMeasure\\nand\\nrecord\\nBlood\\nPressure:\\n❖\\nMeasure\\nthe\\nwoman’ s\\nblood\\npressure\\nat\\nevery\\nvisit\\n.\\nThis\\nis\\nimportant\\nto\\nrule\\nout\\nhypertensive\\ndisorders\\nof\\npregnancy .\\n❖\\nHypertension\\nis\\ndiagnosed\\nwhen\\ntwo\\nconsecutive\\nreadings\\ntaken\\nfour\\nhours\\nor\\nmore\\napart\\nshow\\nthe\\nsystolic\\nblood\\npressure\\nto\\nbe\\n140\\nmmHg\\nor\\nmore\\nand/or\\nthe\\ndiastolic\\nblood\\npressure\\nto\\nbe\\n90mmHg\\nor\\nmore.\\n❖\\nHigh\\nblood\\npressure\\nduring\\npregnancy\\nmay\\nsignify\\nPregnancy\\nInduced\\nHypertension\\n(PIH)\\nand/or\\nchronic\\nhypertension.\\n❖\\nIf\\nthe\\nwoman\\nhas\\nhigh\\nblood\\npressure,\\ncheck\\nher\\nurine\\nfor\\nthe\\npresence\\nof\\nalbumin.\\nThe\\npresence\\nof\\nalbumin\\n(+2)\\ntogether\\nwith\\nhigh\\nblood\\npressure\\nis\\nsufficient\\nto\\ncategorize\\nher\\nas\\nhaving\\npre-eclampsia.\\nRefer\\nher\\nto\\nthe\\nPHC-MO\\nimmediately .\\n❖\\nIf\\nthe\\ndiastolic\\nblood\\npressure\\nof\\nthe\\nwoman\\nis\\nabove\\n110\\nmmHg,\\nit\\nis\\na\\ndanger\\nsign\\nthat\\npoints\\ntowards\\nimminent\\neclampsia.\\nThe\\nurine\\nalbumin\\nshould\\nbe\\nestimated\\nat\\nthe\\nearliest.\\nIf\\nit\\nis\\nstrongly\\npositive,\\nthe\\nwoman\\nshould\\nbe\\nreferred\\nto\\nthe\\nFRU\\nIMMEDIA TELY.\\n❖\\nIf\\nthe\\nwoman\\nhas\\nhigh\\nblood\\npressure\\nbut\\nno\\nurine\\nalbumin,\\nshe\\nshould\\nbe\\nreferred\\nto\\nthe\\nPHC\\nMedical\\nOfficer.\\n❖\\nA\\nwoman\\nwith\\nPIH,\\npre-eclampsia\\nor\\nimminent\\neclampsia\\nrequires\\nhospitalization\\nand\\nsupervised\\ntreatment\\nat\\na\\n24-hour\\nPHC/FRU.\\n❖\\nCHO/ANM/ASHA\\nmust\\nkeep\\nin\\ntouch\\nwith\\nthe\\nwoman\\nor\\nher\\nfamily\\nand\\nundertake\\nappropriate\\nfollow\\nup\\nof\\nthese\\ncases.\\n●\\nMeasure\\nand\\nrecord\\nweight:\\n❖\\nA\\npregnant\\nwoman’ s\\nweight\\nshould\\nbe\\ntaken\\nat\\neach\\nvisit.\\nThe\\nweight\\ntaken\\nduring\\nthe\\nfirst\\nvisit/registration\\nshould\\nbe\\ntreated\\nas\\nthe\\nbaseline\\nweight.\\n❖\\nNormally ,\\na\\nwoman\\nshould\\ngain\\n9-11\\nkg\\nduring\\nher\\npregnancy .\\nIdeally\\nafter\\nthe\\nfirst\\ntrimester ,\\na\\npregnant\\nwoman\\ngains\\naround\\n2\\nkg\\nevery\\nmonth.❖\\nAn\\ninadequate\\ndietary\\nintake\\ncan\\nbe\\nsuspected\\nif\\nthe\\nwoman\\ngains\\nless\\nthan\\n2\\nkg\\nper\\nmonth.\\nShe\\nneeds\\nto\\nbe\\nput\\non\\nfood\\nsupplementation\\nand\\ncounseled\\nfor\\nadequate\\ndietary\\nintake.\\nLow\\nWeight\\ngain\\nusually\\nleads\\nto\\nIntrauterine\\nGrowth\\nRetardation\\n(IUGR)\\nand\\nresults\\nin\\nthe\\nbirth\\nof\\na\\nbaby\\nwith\\na\\nlow\\nbirth\\nweight.\\n❖\\nExcessive\\nweight\\ngain\\n(more\\nthan\\n3\\nkg\\nin\\na\\nmonth)\\nshould\\nraise\\nsuspicion\\nof\\npreeclampsia,\\ntwins\\n(multiple\\npregnancy)\\nor\\ndiabetes.\\nTake\\nthe\\nwoman’ s\\nblood\\npressure\\nand\\ntest\\nher\\nurine\\nfor\\nproteinuria\\nor\\nsugar .\\nIf\\nher\\nblood\\npressure\\nis\\nhigh,\\ni.e.,\\nmore\\nthan\\n140/90\\nmmHg,\\nand\\nher\\nurine\\nhas\\nproteins\\nor\\nsugar ,\\nrefer\\nher\\nto\\nthe\\nPHC-Medical\\nOfficer.\\n●\\nRoutine\\nCheckups\\nand\\nScreenings\\n:\\n1.\\nInitial\\nVisit:\\nIncludes\\na\\ncomprehensive\\nhealth\\nassessment,\\nblood\\ntests,\\nurine\\ntests,\\nand\\na\\ndiscussion\\non\\nmedical\\nhistory\\nand\\nlifestyle.\\n2.\\nSubsequent\\nVisits\\n:\\nMonitoring\\nblood\\npressure,\\nweight,\\nfetal\\nheartbeat,\\nand\\ngrowth.\\nScreening\\nfor\\ngestational\\ndiabetes,\\nanemia,\\nand\\nother\\nconditions\\nas\\npregnancy\\nprogresses.\\n3.\\nUltrasounds:\\nTypically\\nperformed\\nat\\n11-14\\nweeks\\n(to\\ncheck\\nfor\\nDown\\nsyndrome\\nmarkers)\\nand\\n18-22\\nweeks\\n(anomaly\\nscan\\nto\\ncheck\\nfetal\\nanatomy).\\nNutrition\\nand\\nDiet\\nGuidelines:\\n●\\nYou\\nneed\\nto\\neat\\none\\nextra\\nmeal\\na\\nday\\nduring\\npregnancy .\\n●\\nTake\\nmilk\\nand\\ndairy\\nproducts\\nlike\\ncurd,\\nbuttermilk,\\npaneer -these\\nare\\nrich\\nin\\ncalcium,\\nproteins\\nand\\nvitamins.\\n●\\nEat\\nfresh/seasonal\\nfruits\\nand\\nvegetables\\nas\\nthese\\nprovide\\nvitamins\\nand\\niron.\\nCereals,\\nwhole\\ngrains\\nand\\npulses\\nare\\ngood\\nsources\\nof\\nproteins.\\n●\\nGreen\\nleafy\\nvegetables\\nare\\na\\nrich\\nsource\\nof\\niron\\nand\\nfolic\\nacid.\\n●\\nA\\nhandful\\n(45\\ngrams)\\nof\\nnuts\\nand\\nat\\nleast\\ntwo\\ncups\\nof\\ndaal\\nprovide\\ndaily\\nprotein\\nrequirements\\nof\\nproteins\\nin\\nvegetarians.\\n●\\nFor\\nnon-vegetarians,\\nmeat,\\negg,\\nchicken\\nor\\nfish\\nare\\ngood\\nsources\\nof\\nproteins,\\nvitamins\\nand\\niron.\\n●\\nA\\nwell\\nbalanced\\ndiet\\nconsisting\\nof\\na\\nvariety\\nof\\nfood\\nhelps\\nin\\nthe\\ngrowth\\nof\\nthe\\nbaby\\nand\\nprevents\\nanemia.\\n●\\nDuring\\npregnancy\\n100\\ntablets\\nof\\niron\\nand\\nfolic\\nacid\\nwill\\nbe\\ngiven.\\n●\\nOne\\ntablet\\nof\\nIFA\\nis\\nto\\nbe\\ntaken\\ndaily\\nstarting\\nfrom\\nthe\\nfourth\\nmonth\\nof\\npregnancy .\\nIf\\nyou\\nare\\nanemic,\\nyou\\nwill\\nbe\\nadvised\\nto\\ntake\\ntwo\\nIFA\\ntablets\\ndaily ,\\none\\ntablet\\nin\\nthe\\nmorning\\nand\\none\\nin\\nthe\\nevening.\\n●\\nTaking\\none\\nIFA\\ntablet\\na\\nday\\nkeeps\\nanemia\\naway\\nin\\nmothers\\nand\\nensures\\ndelivery\\nof\\na\\nhealthy\\nbaby\\nand\\nprevents\\nanemia.Abdominal\\nExamination\\nAbdominal\\nexamination\\nhelps\\nyou\\nto\\nmonitor\\nthe\\nprogress\\nof\\npregnancy\\nand\\nfetal\\ngrowth,\\ncheck\\nfor\\nfetal\\nlie\\nand\\npresentation\\nand\\nauscultate\\nfetal\\nheart\\nsounds.\\nPreparation\\nfor\\nabdominal\\nexamination\\nEnsure\\nprivacy ,\\nexamination\\nroom\\nshould\\nbe\\nwell\\nlit\\nand\\nairy,woman\\nis\\nasked\\nto\\nempty\\nher\\nbladder ,explain\\nthe\\nwomen\\nabout\\nthe\\nprocedure/process,to\\nmake\\nher\\ncomfortable\\nkeep\\ntalking\\nto\\nher,she\\nlies\\nsupine\\nwith\\nlegs\\npartially\\nflexed,stand\\non\\nher\\nright\\nside\\nand\\npalpate\\nthe\\nuterus\\nwith\\nwarm\\nhands.\\nSteps\\nfor\\nabdominal\\nexamination\\n1.\\nMeasuring\\nFundal\\nheight:\\nThis\\nindicates\\nthe\\nprogress\\nof\\npregnancy\\nand\\nfoetal\\ngrowth.\\nThe\\nuterus\\nbecomes\\nan\\nabdominal\\norgan\\nafter\\n12\\nweeks\\nof\\ngestation.\\nThe\\ngestational\\nage\\n(in\\nweeks)\\ncorresponds\\nto\\nthe\\nfundal\\nheight\\n(in\\ncm)\\nafter\\n24\\nweeks\\nof\\ngestation.\\nThe\\nnormal\\nfundal\\nheight\\nis\\ndifferent\\nat\\ndifferent\\nweeks\\nof\\npregnancy .\\nFollow\\nthe\\nfollowing\\nsteps\\nfor\\nmeasuring\\nfundal\\nheight\\n●\\nDivide\\nthe\\nabdomen\\ninto\\nparts\\nby\\nimaginary\\nlines\\nto\\nestimate\\nthe\\ngestational\\nage\\nthrough\\nthe\\nfundal\\nheight.\\n●\\nThe\\nmost\\nimportant\\nline\\nis\\nthe\\none\\npassing\\nthrough\\nthe\\numbilicus.\\n●\\nDivide\\nthe\\nlower\\nabdomen\\n(below\\nthe\\numbilicus)\\ninto\\nthree\\nparts,\\nwith\\ntwo\\nequidistant\\nlines\\nbetween\\nthe\\nsymphysis\\npubis\\nand\\nthe\\numbilicus.\\n●\\nSimilarly ,\\ndivide\\nthe\\nupper\\nabdomen\\ninto\\nthree\\nparts,\\nagain\\nwith\\ntwo\\nimaginary\\nequidistant\\nlines,\\nbetween\\nthe\\numbilicus\\nand\\nthe\\nxiphisternum.\\n●\\nKeep\\nthe\\nulnar\\nborder\\nof\\nthe\\ncurved\\nleft\\nhand\\non\\nthe\\nwoman\\'s\\nabdomen\\nparallel\\nto\\nsymphysis\\npubis.\\nStart\\nfrom\\nxiphisternum\\nand\\ngradually\\nproceed\\ntowards\\nsymphysis\\npubis\\nlifting\\nthe\\nhand\\nbetween\\neach\\nstep\\ntill\\na\\nbulge\\nresistance\\nof\\nuterine\\nfundus\\nis\\nfelt.\\nMark\\nthe\\nlevel\\nof\\nfundus.\\n●\\nRemember\\nthat\\nwhile\\nmeasuring\\nthe\\nfundal\\nheight,\\nthe\\nwoman’ s\\nlegs\\nshould\\nbe\\nkept\\nstraight\\nand\\nnot\\nflexed.\\nFetal\\nlie\\nand\\nPresentation:\\nDetermining\\nthe\\nfetal\\nlie\\nand\\npresentation\\nis\\nrelevant\\nonly\\nin\\nlate\\npregnancy\\n(32\\nweeks\\nonwards).\\nBefore\\nthat,\\nit\\nis\\nimportant\\nto\\nonly\\npalpate\\nthe\\nfetal\\nparts\\nwhile\\nconducting\\nan\\nabdominal\\nexamination.\\nThe\\nnormal\\nlie\\nat\\nterm\\nin\\nthe\\nmajority\\nof\\npregnancies\\nis\\nlongitudinal,\\nwith\\na\\ncephalic\\npresentation.\\nAny\\nother\\nlie\\nis\\nabnormal,\\nand\\nthe\\nwoman\\nmust\\nbe\\nreferred\\nto\\nan\\nFRU\\nfor\\nthe\\ndelivery .\\nPalpation\\nto\\ndetermine\\nfetal\\nlie\\nand\\npresentation.\\n●\\nThe\\npelvic\\ngrips\\n(four\\nin\\nnumber)\\nare\\nperformed\\nto\\ndetermine\\nthe\\nlie\\nand\\nthe\\npresenting\\npart\\nof\\nthe\\nfetus.\\n●\\nPalpate\\nfor\\nthe\\nfoetal\\nline\\nand\\nassess\\nwhether\\nit\\nis\\nlongitudinal,\\ntransverse\\nor\\noblique.\\nRemember\\nthat\\neven\\nif\\na\\nmalpresentation\\nis\\ndiagnosed\\nbefore\\n36\\nweeks,\\nno\\nactive\\nmanagement\\nor\\nintervention\\nis\\nrecommended\\nat\\nthat\\npoint\\nof\\ntime.\\nAdvise\\nthe\\nwoman\\nto\\ngo\\nin\\nfor\\nan\\ninstitutional\\ndelivery .\\n●\\nAll\\nhealth\\nworkers\\nshould\\nbe\\nable\\nto\\nrecognise\\na\\ntransverse\\nlie.\\nMissing\\nit\\ncan\\nbe\\ndisastrous\\nbecause\\nthere\\nis\\nno\\nmechanism\\nby\\nwhich\\na\\nwoman\\nwith\\na\\ntransverse\\nlie\\ncan\\ndeliver\\nnormally ,\\ni.e.,\\nvaginally .\\nThe\\nwoman\\nneeds\\nan\\nelective\\ncesarean\\nsection,\\ni.e.,\\nshe\\nmust\\nnot\\ngo\\ninto\\nlabor .\\nShe\\nshould,\\ntherefore,\\nbe\\nreferred\\nto\\nan\\nFRU\\nwhere\\nemer gency\\nobstetric\\nservices\\nand\\nfacilities\\nfor\\na\\ncesarean\\nsection\\nare\\navailable.\\nIndications\\nfor\\nreferral\\nbased\\non\\nPhysical\\nExamination\\nof\\nPregnant\\nWoman\\nRefer\\nthe\\npregnant\\nwoman\\nto\\n24-hour\\nPHC/FRU\\nfor\\nfurther\\nexamination\\nin\\nfollowing\\ncases:\\na.\\nIf\\nyou\\nidentify\\nany\\nsymptoms\\nof\\ncomplications\\nb.\\nIf\\nyou\\nidentify\\nthe\\nfollowing\\nfrom\\nphysical\\nexamination\\n●\\nSevere\\nanemia\\n(Hb\\nless\\nthan\\n7gm/dl\\nor\\npaleness\\ninside\\neyelids\\nand\\nfingernails)\\n●\\nJaundice\\n(yellowish\\ndiscoloration\\nof\\nskin\\nand\\nconjunctiva\\nor\\nhigh\\nbilirubin\\nlevel)\\n●\\nPulse\\nrate\\n>90\\nbeats/min\\nor\\n<60\\nbeats/min\\n●\\nRespiratory\\nrate\\n>\\n30\\nbreaths/min\\nalong\\nwith\\nanemia\\n●\\nOedema\\nof\\nface,\\nhands,\\nabdominal\\nwalland\\nvulva\\nor\\ntightening\\nof\\nfinger\\nrings\\n●\\nOedema\\nwith\\nhigh\\nblood\\npressure,\\nheart\\ndisease\\nor\\nproteinuria\\n●\\nNon\\npitting\\noedema\\nwith\\nhypothyroidism\\nor\\nfilariasis\\n●\\nPregnancy\\ninduced\\nhypertension\\n(BP\\nmore\\nthan\\n140/90\\nmm\\nHg)●\\nPre-eclampsia\\n(High\\nBP\\nalong\\nwith\\nalbuminuria)\\n●\\nImminent\\neclampsia\\n(Diastolic\\npressure\\nabove\\n110\\nmm\\nHg\\nwith\\nalbuminuria)\\n●\\nExcessive\\nweight\\ngain\\n(more\\nthan\\n3kg/month)\\nalong\\nwith\\npre-eclampsia\\nor\\ndiabetes\\n●\\nFetal\\ngrowth\\nretardation\\n●\\nMultifetal\\npregnancy\\n●\\nLump\\nor\\ntenderness\\nin\\nbreast\\n●\\nUterus\\nheight\\nmore\\nthan\\n3cm\\ndifferent\\nfrom\\ngestational\\nage\\n●\\nNo\\nfetal\\nmovement/heart\\nsound\\n●\\nFetal\\ndistress\\n●\\nBreech\\npresentation\\nand\\nfetal\\nlie\\nother\\nthan\\nlongitudinal\\nB\\nlood\\nsugar\\nExamination\\nfor\\nGestational\\nDiabetes\\nMellitus\\nTesting\\nfor\\nGDM\\nis\\nrecommended\\ntwice\\nduringANC\\nby\\nANM/CHO\\nby\\nusing\\nplasma\\ncalibrated\\nglucometer .\\nThe\\nfirst\\ntesting\\nshould\\nbe\\ndone\\nduring\\nfirst\\nantenatal\\ncontact\\nas\\nearly\\nas\\npossible\\nin\\npregnancy .\\nThe\\nsecond\\ntesting\\nshould\\nbe\\ndone\\nduring\\n24-28\\nweeks\\nof\\npregnancy\\nif\\nthe\\nfirst\\ntest\\nis\\nnegative.\\nThere\\nshould\\nbe\\nat\\nleast\\na\\n4\\nweek\\ngap\\nbetween\\nthe\\ntwo\\ntests.\\nThe\\ntest\\nis\\nto\\nbe\\nconducted\\nfor\\nevery\\npregnant\\nwoman\\neven\\nif\\nshe\\ncomes\\nlate\\nin\\npregnancy\\nfor\\nANC\\nat\\nthe\\ntime\\nof\\nfirst\\ncontact.\\nExercise\\nand\\nPhysical\\nActivity\\n●\\nSafe\\nExercises:\\nWalking,\\nswimming,\\nprenatal\\nyoga,\\nand\\nlight\\nstrength\\ntraining.\\nThese\\nhelp\\nin\\nmaintaining\\nfitness,\\nreducing\\nstress,\\nand\\npreparing\\nfor\\nlabor .\\n●\\nAvoiding\\nRisks:\\nHigh-impact\\nsports,\\nheavy\\nlifting,\\nand\\nactivities\\nthat\\nincrease\\nthe\\nrisk\\nof\\nfalls\\nor\\nabdominal\\ntrauma.\\nManaging\\nCommon\\nDiscomforts\\n1.Nausea\\nand\\nVomiting\\n(Morning\\nSickness)\\nNausea\\nand\\nvomiting\\nare\\namong\\nthe\\nmost\\ncommon\\nsymptoms\\nduring\\nthe\\nfirst\\ntrimester\\nof\\npregnancy ,\\noften\\nreferred\\nto\\nas\\n\"morning\\nsickness,\"\\nthough\\nthey\\ncan\\noccur\\nat\\nany\\ntime\\nof\\nthe\\nday.\\nCauses:\\n●\\nHormonal\\nChanges:\\nThe\\nrise\\nin\\nhuman\\nchorionic\\ngonadotropin\\n(hCG)\\nand\\nestrogen\\nlevels\\nis\\nbelieved\\nto\\ntrigger\\nnausea\\nand\\nvomiting.\\n●\\nBlood\\nSugar\\nLevels:\\nLow\\nblood\\nsugar\\nlevels,\\nespecially\\nafter\\nlong\\nperiods\\nwithout\\neating,\\ncan\\ncontribute\\nto\\nnausea.Management:\\n●\\nSmall,\\nFrequent\\nMeals:\\nEating\\nsmall\\nmeals\\nevery\\n2-3\\nhours\\ncan\\nhelp\\nmaintain\\nstable\\nblood\\nsugar\\nlevels\\nand\\nprevent\\nnausea.\\nAvoid\\nlarge\\nmeals,\\nas\\nthey\\ncan\\nexacerbate\\nsymptoms.\\n●\\nGinger:\\nGinger\\ntea,\\nginger\\ncandies,\\nor\\nginger\\nsupplements\\ncan\\nhelp\\nreduce\\nnausea.\\nIt\\'s\\na\\nnatural\\nremedy\\nthat\\nhas\\nbeen\\nshown\\nto\\nbe\\neffective.\\n●\\nHydration:\\nStaying\\nhydrated\\nis\\ncrucial,\\nespecially\\nif\\nvomiting\\nis\\nfrequent.\\nSipping\\non\\nwater ,\\nclear\\nbroths,\\nor\\nelectrolyte\\ndrinks\\ncan\\nhelp\\nmaintain\\nfluid\\nlevels.\\n●\\nAvoiding\\nTriggers:\\nIdentify\\nand\\navoid\\nfoods\\nor\\nsmells\\nthat\\ntrigger\\nnausea.\\nCommon\\ntriggers\\ninclude\\nspicy ,\\ngreasy ,\\nor\\noverly\\nsweet\\nfoods.\\n●\\nAcupressure:\\nWristbands\\nthat\\napply\\npressure\\nto\\nthe\\nP6\\npoint\\non\\nthe\\ninner\\nwrist\\ncan\\nhelp\\nalleviate\\nnausea.\\nThis\\nmethod\\nis\\nnon-invasive\\nand\\nhas\\nshown\\nsome\\neffectiveness\\nin\\nstudies.\\n●\\nRest:\\nFatigue\\ncan\\nworsen\\nnausea,\\nso\\nensure\\nyou\\'re\\ngetting\\nenough\\nrest\\nand\\nsleep.\\nWhen\\nto\\nSeek\\nMedical\\nHelp:\\n●\\nIf\\nnausea\\nand\\nvomiting\\nare\\nsevere\\nand\\npersistent,\\nleading\\nto\\ndehydration\\nor\\nweight\\nloss,\\nit\\ncould\\nindicate\\na\\ncondition\\ncalled\\nhyperemesis\\ngravidarum.\\nThis\\nrequires\\nmedical\\nattention,\\nas\\nit\\ncan\\nimpact\\nboth\\nthe\\nmother\\nand\\nbaby .\\n2.Back\\nPain\\nBack\\npain\\nis\\ncommon,\\nespecially\\nin\\nthe\\nlater\\nstages\\nof\\npregnancy ,\\nas\\nthe\\ngrowing\\nuterus\\nshifts\\nyour\\ncenter\\nof\\ngravity\\nand\\nadds\\nstrain\\nto\\nyour\\nback\\nmuscles.\\nCauses:\\n●\\nWeight\\nGain:\\nThe\\nadditional\\nweight\\ncarried\\nduring\\npregnancy\\nadds\\npressure\\nto\\nthe\\nspine.\\n●\\nPostural\\nChanges:\\nAs\\nthe\\npregnancy\\nprogresses,\\nthe\\nbody’ s\\nposture\\nchanges\\nto\\naccommodate\\nthe\\ngrowing\\nbelly ,\\noften\\nleading\\nto\\nan\\nexaggerated\\nlumbar\\ncurve.\\n●\\nHormonal\\nChanges:\\nPregnancy\\nhormones\\nlike\\nrelaxin\\nloosen\\nthe\\nligaments\\nin\\nthe\\npelvic\\narea\\nand\\ncan\\naffect\\nthe\\nstability\\nof\\nthe\\nspine.\\nManagement:\\n●\\nExercise:\\nRegular ,\\nlow-impact\\nexercise\\nlike\\nwalking,\\nswimming,\\nor\\nprenatal\\nyoga\\ncan\\nstrengthen\\nthe\\nmuscles\\nof\\nthe\\nback\\nand\\nabdomen,\\nreducing\\npain.\\n●\\nGood\\nPosture:\\nPractice\\ngood\\nposture\\nby\\nkeeping\\nyour\\nback\\nstraight,\\nshoulders\\nback,\\nand\\navoid\\nslouching.\\nUse\\na\\nfootrest\\nif\\nsitting\\nfor\\nlong\\nperiods.●\\nProper\\nLifting\\nTechniques:\\nBend\\nyour\\nknees\\nand\\nkeep\\nyour\\nback\\nstraight\\nwhen\\nlifting\\nobjects.\\nAvoid\\nheavy\\nlifting\\nwhen\\npossible.\\n●\\nSupportive\\nFootwear:\\nWear\\nlow-heeled,\\nsupportive\\nshoes.\\nHigh\\nheels\\ncan\\nthrow\\noff\\nyour\\nbalance\\nand\\ncontribute\\nto\\nback\\npain.\\n●\\nSleep\\nPosition:\\nSleep\\non\\nyour\\nside,\\npreferably\\nthe\\nleft\\nside,\\nwith\\na\\npillow\\nbetween\\nyour\\nknees\\nto\\nreduce\\nback\\nstrain.\\nA\\npregnancy\\npillow\\ncan\\nalso\\nprovide\\nadditional\\nsupport.\\n●\\nHeat\\nand\\nCold\\nTherapy:\\nApplying\\nheat\\n(a\\nwarm\\nbath,\\nheating\\npad)\\nor\\ncold\\n(ice\\npack)\\nto\\nthe\\naffected\\narea\\ncan\\nhelp\\nalleviate\\npain.\\nAlternate\\nbetween\\nthe\\ntwo\\nfor\\nbest\\nresults.\\n●\\nPrenatal\\nMassage:\\nA\\nprofessional\\nprenatal\\nmassage\\ncan\\nrelieve\\nmuscle\\ntension\\nand\\nimprove\\ncirculation,\\nreducing\\nback\\npain.\\nWhen\\nto\\nSeek\\nMedical\\nHelp:\\n●\\nIf\\nback\\npain\\nis\\nsevere,\\npersistent,\\nor\\naccompanied\\nby\\nother\\nsymptoms\\nlike\\nvaginal\\nbleeding,\\nconsult\\nyour\\nhealthcare\\nprovider\\nas\\nit\\ncould\\nindicate\\na\\nmore\\nserious\\nissue.\\nMental\\nHealth\\nConsiderations\\nDuring\\nPregnancy\\nMental\\nhealth\\nis\\na\\ncrucial\\naspect\\nof\\noverall\\nwell-being\\nduring\\npregnancy .\\nThe\\nemotional\\nand\\npsychological\\nchanges\\nthat\\noccur\\nduring\\nthis\\ntime\\ncan\\nbe\\nchallenging,\\nand\\nmanaging\\nthem\\neffectively\\nis\\nessential\\nfor\\na\\nhealthy\\npregnancy .\\n1.\\nManaging\\nStress\\nPregnancy\\ncan\\nbe\\na\\nstressful\\ntime\\ndue\\nto\\nvarious\\nfactors,\\nincluding\\nphysical\\nchanges,\\nworries\\nabout\\nchildbirth,\\nand\\nconcerns\\nabout\\nparenting.\\nStrategies\\nfor\\nManaging\\nStress:\\n●\\nMindfulness\\nand\\nMeditation:\\nPracticing\\nmindfulness\\ntechniques\\nsuch\\nas\\ndeep\\nbreathing,\\nmeditation,\\nor\\nguided\\nimagery\\ncan\\nhelp\\ncalm\\nthe\\nmind\\nand\\nreduce\\nstress.\\nEven\\na\\nfew\\nminutes\\na\\nday\\ncan\\nmake\\na\\nsignificant\\ndifference.\\n●\\nPrenatal\\nYoga:\\nYoga\\nnot\\nonly\\nhelps\\nwith\\nphysical\\ndiscomforts\\nbut\\nalso\\npromotes\\nrelaxation\\nand\\nmental\\nwell-being.\\nIt\\ncombines\\nphysical\\npostures\\nwith\\nbreathing\\ntechniques\\nthat\\nreduce\\nstress.\\n●\\nRegular\\nPhysical\\nActivity:\\nRegular\\nexercise,\\neven\\nlight\\nactivities\\nlike\\nwalking,\\ncan\\nreduce\\nstress\\nlevels\\nby\\nreleasing\\nendorphins,\\nthe\\nbody\\'s\\nnatural\\nstress\\nrelievers.\\n●\\nAdequate\\nSleep:\\nSleep\\nis\\nessential\\nfor\\nmanaging\\nstress.\\nAim\\nfor\\n7-9\\nhours\\nof\\nquality\\nsleep\\nper\\nnight.\\nCreate\\na\\ncomfortable\\nsleeping\\nenvironment\\nand\\nestablish\\na\\nbedtime\\nroutine.\\n●\\nTime\\nManagement:\\nOrganizing\\ndaily\\ntasks\\nand\\nsetting\\nrealistic\\ngoals\\ncan\\nhelp\\nreduce\\nfeelings\\nof\\nbeing\\noverwhelmed.\\nPrioritize\\ntasks\\nand\\ndelegate\\nwhen\\npossible.●\\nSupport\\nSystem:\\nLean\\non\\nyour\\npartner ,\\nfamily ,\\nand\\nfriends\\nfor\\nemotional\\nsupport.\\nTalking\\nabout\\nyour\\nconcerns\\nand\\nfeelings\\ncan\\nrelieve\\nstress.\\n●\\nProfessional\\nHelp:\\nIf\\nstress\\nbecomes\\noverwhelming,\\nseek\\nhelp\\nfrom\\na\\ncounselor\\nor\\ntherapist\\nwho\\nspecializes\\nin\\nprenatal\\ncare.\\nCognitive-behavioral\\ntherapy\\n(CBT)\\nis\\nparticularly\\neffective\\nin\\nmanaging\\nstress\\nand\\nanxiety\\nduring\\npregnancy .\\n2.\\nDealing\\nwith\\nAnxiety\\nAnxiety\\nduring\\npregnancy\\nis\\ncommon,\\nwith\\nmany\\nwomen\\nexperiencing\\nworries\\nabout\\ntheir\\nhealth,\\nthe\\nbaby’ s\\nhealth,\\nand\\nthe\\nchanges\\nthat\\ncome\\nwith\\nmotherhood.\\nStrategies\\nfor\\nManaging\\nAnxiety:\\n●\\nEducation:\\nEducating\\nyourself\\nabout\\npregnancy ,\\nchildbirth,\\nand\\nparenting\\ncan\\nreduce\\nanxiety .\\nKnowing\\nwhat\\nto\\nexpect\\ncan\\nhelp\\nalleviate\\nfears\\nand\\nuncertainties.\\n●\\nPositive\\nAffirmations:\\nUse\\npositive\\naffirmations\\nto\\ncombat\\nnegative\\nthoughts.\\nRemind\\nyourself\\nthat\\nyou\\nare\\ncapable\\nand\\nthat\\nmany\\nof\\nyour\\nfears\\nare\\nmanageable.\\n●\\nLimiting\\nMedia\\nExposure:\\nAvoid\\nconsuming\\ntoo\\nmuch\\nnegative\\nmedia,\\nespecially\\nrelated\\nto\\npregnancy\\nand\\nchildbirth,\\nas\\nit\\ncan\\nexacerbate\\nanxiety .\\n●\\nMindfulness\\nand\\nRelaxation\\nTechniques:\\nEngage\\nin\\npractices\\nlike\\nprogressive\\nmuscle\\nrelaxation,\\ndeep\\nbreathing\\nexercises,\\nor\\nprenatal\\nmeditation\\nto\\ncalm\\nthe\\nmind.\\n●\\nRoutine:\\nEstablish\\na\\ndaily\\nroutine\\nthat\\nincludes\\ntime\\nfor\\nrelaxation,\\nhobbies,\\nand\\nactivities\\nthat\\nbring\\njoy.\\nStructure\\ncan\\nprovide\\na\\nsense\\nof\\ncontrol\\nand\\nstability .\\n●\\nAvoiding\\nCaffeine\\nand\\nSugary\\nFoods:\\nHigh\\ncaffeine\\nand\\nsugar\\nintake\\ncan\\nincrease\\nanxiety\\nlevels.\\nOpt\\nfor\\na\\nbalanced\\ndiet\\nthat\\nstabilizes\\nblood\\nsugar\\nlevels,\\nas\\nfluctuating\\nblood\\nsugar\\ncan\\naffect\\nmood.\\n●\\nPeer\\nSupport\\nGroups:\\nJoining\\na\\nprenatal\\nsupport\\ngroup,\\neither\\nin-person\\nor\\nonline,\\ncan\\nprovide\\ncomfort\\nand\\nreduce\\nanxiety .\\nSharing\\nexperiences\\nwith\\nother\\npregnant\\nwomen\\ncan\\nnormalize\\nyour\\nfeelings\\nand\\noffer\\npractical\\nadvice.\\nWhen\\nto\\nSeek\\nMedical\\nHelp:\\n●\\nIf\\nanxiety\\nis\\nsevere,\\npersistent,\\nor\\ninterfering\\nwith\\ndaily\\nlife,\\nit\\nis\\nimportant\\nto\\nseek\\nhelp\\nfrom\\na\\nmental\\nhealth\\nprofessional.\\nAntenatal\\nanxiety\\ncan\\nlead\\nto\\npostpartum\\ndepression\\nif\\nnot\\naddressed.\\nMedications\\nand\\nSupplements\\nDuring\\nPregnancy\\nThe\\nsafety\\nof\\nmedications\\nand\\nsupplements\\nduring\\npregnancy\\nis\\na\\ncrucial\\nconsideration.\\nWhat\\nmay\\nbe\\nsafe\\nfor\\nnon-pregnant\\nindividuals\\ncould\\npose\\nrisks\\nto\\nthe\\ndeveloping\\nfetus.\\nHere’ s\\na\\ndetailed\\nguide\\non\\nwhat’ s\\nsafe\\nand\\nwhat’ s\\nnot.1.\\nSafe\\nMedications\\nGeneral\\nGuidelines:\\n●\\nConsultation:\\nAlways\\nconsult\\nyour\\nhealthcare\\nprovider\\nbefore\\ntaking\\nany\\nmedication\\nduring\\npregnancy ,\\nincluding\\nover-the-counter\\n(OTC)\\ndrugs,\\nprescription\\nmedications,\\nand\\nherbal\\nsupplements.\\n●\\nMinimal\\nUse:\\nUse\\nmedications\\nonly\\nwhen\\nnecessary\\nand\\nat\\nthe\\nlowest\\neffective\\ndose.\\nAvoid\\nmedications\\nin\\nthe\\nfirst\\ntrimester\\nif\\npossible,\\nas\\nthis\\nis\\nthe\\nmost\\ncritical\\nperiod\\nfor\\nfetal\\ndevelopment.\\nCommonly\\nSafe\\nMedications:\\n●\\nAcetaminophen\\n(Tylenol):\\nGenerally\\nconsidered\\nsafe\\nfor\\npain\\nrelief\\nand\\nfever\\nmanagement.\\nAvoid\\nNSAIDs\\nlike\\nibupr ofen\\n,\\nespecially\\nin\\nthe\\nthird\\ntrimester ,\\nas\\nthey\\ncan\\naffect\\nfetal\\ndevelopment.\\n●\\nAntacids:\\nCalcium\\ncarbonate\\n(Tums)\\nis\\nsafe\\nfor\\ntreating\\nheartburn.\\nAvoid\\nantacids\\ncontaining\\nsodium\\nbicarbonate.\\n●\\nPrenatal\\nVitamins:\\nEssential\\nfor\\nproviding\\nnecessary\\nnutrients\\nlike\\nfolic\\nacid,\\niron,\\nand\\nDHA.\\nFolic\\nacid,\\nin\\nparticular ,\\nis\\ncrucial\\nfor\\npreventing\\nneural\\ntube\\ndefects.\\n●\\nAntihistamines:\\nDiphenhydramine\\n(Benadryl)\\nand\\nloratadine\\n(Claritin)\\nare\\ngenerally\\nconsidered\\nsafe\\nfor\\nallergy\\nrelief.\\n●\\nCough\\nMedications:\\nDextr omethorphan\\n(Robitussin)\\nis\\noften\\nsafe\\nfor\\ntreating\\ncough,\\nbut\\navoid\\nproducts\\ncontaining\\nalcohol.\\n●\\nAntibiotics:\\nCertain\\nantibiotics\\nlike\\npenicillin\\nand\\nerythromycin\\nare\\nconsidered\\nsafe,\\nwhile\\nothers\\nlike\\ntetracycline\\nshould\\nbe\\navoided.\\nWhen\\nto\\nAvoid\\nMedications:\\n●\\nNSAIDs:\\nNonsteroidal\\nanti-inflammatory\\ndrugs\\nlike\\nibuprofen\\nand\\naspirin\\nare\\ngenerally\\navoided,\\nespecially\\nin\\nthe\\nthird\\ntrimester ,\\ndue\\nto\\nthe\\nrisk\\nof\\nfetal\\ncomplications.\\n●\\nCertain\\nAntidepressants:\\nWhile\\nsome\\nSSRIs\\nare\\nconsidered\\nsafe,\\nothers,\\nsuch\\nas\\nparoxetine\\n(Paxil)\\n,\\nmay\\nbe\\nassociated\\nwith\\nfetal\\nrisks.\\nConsult\\nyour\\ndoctor\\nfor\\nalternative\\ntreatments\\nif\\nneeded.\\n●\\nACE\\nInhibitors:\\nThese\\nblood\\npressure\\nmedications\\nare\\nlinked\\nto\\nfetal\\nkidney\\ndamage\\nand\\nshould\\nbe\\navoided\\nduring\\npregnancy .\\n●\\nRetinoids:\\nUsed\\nfor\\nacne\\ntreatment,\\nretinoids\\nlike\\nisotretinoin\\ncan\\ncause\\nsevere\\nbirth\\ndefects\\nand\\nshould\\nbe\\nstrictly\\navoided.2.\\nSafe\\nSupplements\\nPrenatal\\nVitamins:\\n●\\nFolic\\nAcid:\\nCrucial\\nfor\\npreventing\\nneural\\ntube\\ndefects.\\nThe\\nrecommended\\ndaily\\ndose\\nis\\n400-800\\nmcg.\\n●\\nIron:\\nSupports\\nthe\\nincreased\\nblood\\nvolume\\nduring\\npregnancy .\\nThe\\nrecommended\\ndaily\\nintake\\nis\\n27\\nmg.\\n●\\nCalcium:\\nImportant\\nfor\\nbone\\ndevelopment.\\nAim\\nfor\\n1,000\\nmg\\nper\\nday.\\n●\\nDHA\\n(Omega-3\\nFatty\\nAcids):\\nSupports\\nbrain\\nand\\neye\\ndevelopment\\nin\\nthe\\nfetus.\\nRecommended\\nintake\\nis\\n200-300\\nmg\\ndaily .\\nHerbal\\nSupplements:\\n●\\nCaution\\nis\\nKey:\\nMany\\nherbal\\nsupplements\\nare\\nnot\\nregulated\\nand\\ncan\\npose\\nrisks\\nduring\\npregnancy .\\nAlways\\nconsult\\nyour\\nhealthcare\\nprovider\\nbefore\\ntaking\\nany\\nherbal\\nproducts.\\n●\\nSafe\\nOptions:\\nGinger\\n(for\\nnausea)\\nand\\npeppermint\\n(for\\ndigestion)\\nare\\ngenerally\\nconsidered\\nsafe\\nin\\nmoderate\\namounts.\\n●\\nAvoid:\\nSupplements\\nlike\\nSt.\\nJohn’ s\\nWort,\\nechinacea,\\nand\\nginkgo\\nbiloba,\\nas\\ntheir\\nsafety\\nduring\\npregnancy\\nis\\nnot\\nwell\\nestablished.\\nWhen\\nto\\nSeek\\nMedical\\nHelp:\\n●\\nAdverse\\nReactions:\\nIf\\nyou\\nexperience\\nany\\nadverse\\nreactions\\nor\\nside\\neffects\\nfrom\\nmedications\\nor\\nsupplements,\\ncontact\\nyour\\nhealthcare\\nprovider\\nimmediately .\\n●\\nConsultation\\nBefore\\nStarting\\nNew\\nSupplements:\\nAlways\\ndiscuss\\nwith\\nyour\\ndoctor\\nbefore\\nstarting\\nany\\nnew\\nsupplements,\\neven\\nthose\\nconsidered\\nsafe,\\nto\\nensure\\nthey\\nare\\nappropriate\\nfor\\nyour\\nspecific\\nhealth\\nneeds\\nand\\npregnancy .\\nHealthy\\nLifestyle\\nDuring\\nPregnancy\\nEating\\na\\nnutritious\\ndiet\\nduring\\npregnancy\\nis\\nlinked\\nto\\ngood\\nbrain\\ndevelopment\\nand\\na\\nhealthy\\nbirth\\nweight,\\nand\\ncan\\nreduce\\nthe\\nrisk\\nof\\nmany\\nbirth\\ndefects.Learn\\nto\\nmake\\nthe\\nright\\nlifestyle\\nchoices\\nduring\\npregnancy:\\ndiet,\\nsleep,\\nexercise,\\nbeauty ,\\ntravel,\\nwork\\nand\\nmany\\nmore.A\\nhealthy\\npregnancy\\ndiet\\nwill\\npromote\\nyour\\nbaby\\'s\\ngrowth\\nand\\ndevelopment.\\nUnderstand\\nwhich\\nnutrients\\nyou\\nneed\\nmost\\nand\\nwhere\\nto\\nfind\\nthem.\\nDuring\\npregnancy ,\\nthe\\nbasic\\nprinciples\\nof\\nhealthy\\neating\\nremain\\nthe\\nsame\\n—\\nget\\nplenty\\nof\\nfruits,\\nvegetables,\\nwhole\\ngrains,\\nlean\\nprotein\\nand\\nhealthy\\nfats.Dos\\nand\\nDon\\'ts\\nThere\\ncan\\nbe\\nmisconceptions\\nabout\\nwhat\\nis\\nok\\nto\\ndo\\nduring\\npregnancy .\\nIt’s\\ncommonly\\nknown\\nto\\ntry\\nto\\neat\\nhealthy\\nwhile\\navoiding\\ncertain\\nfoods,\\nexercise,\\nand\\ntake\\nyour\\nprenatal\\nmultivitamins,\\nbut\\nother\\nthings\\nmay\\nsurprise\\nyou.\\nBefore\\nyour\\nlittle\\nbundle\\nof\\njoy\\narrives,\\nyou’re\\nresponsible\\nfor\\nhelping\\nthem\\ngrow\\nin\\na\\nnurturing,\\nhealthy\\nenvironment.\\nThis\\nlist\\nof\\npregnancy\\ndo’s,\\nand\\ndon’ts\\ncan\\nilluminate\\nwhat\\nyou\\nshould\\nworry\\nabout\\n—\\nand\\nwhat\\nyou\\nshouldn’ t\\nfret\\nover.\\nSafe\\nSleep\\nPractices\\nSleeping\\non\\nyour\\neither\\nside\\ncan\\nhelp\\ngive\\nyou\\nand\\nyour\\nbaby\\noptimal\\nblood\\nflow.\\nDoctors\\nmay\\nrecommend\\nnot\\nsleeping\\non\\nyour\\nback\\nor\\nstomach\\nafter\\na\\ncertain\\npoint\\nin\\nyour\\npregnancy .\\nSide\\nsleeping:\\nLeft\\nvs.\\nright\\nDoctors\\ngenerally\\nrecommend\\nsleeping\\non\\nyour\\nside\\nduring\\npregnancy ,\\nespecially\\nas\\ntime\\ngoes\\non.\\nWhy\\nis\\nthis\\nexactly?\\nIt\\nboils\\ndown\\nto\\nblood\\nflow.\\nAs\\nthe\\nfetus\\ngets\\nbigger ,\\nthere\\nis\\ngreater\\nchance\\nof\\ncompression\\nof\\nthe\\nblood\\nflow\\nto\\nthe\\nuterus.\\nHowever ,\\ndoctors\\nstill\\ncontinue\\nto\\ntilt\\npatients\\nwhen\\nthey\\nare\\nlying\\ndown\\nduring\\na\\ncesarean\\ndelivery ,\\ncommonly\\ncalled\\na\\nc-section,\\nor\\nwhen\\nthey\\nare\\nin\\nlabor\\nwith\\nabnormal\\nheart\\nrhythms.\\nA\\n2019\\nreview\\nof\\nmedical\\nstudies\\nsuggests\\nthat\\nsleeping\\non\\nyour\\nback\\ncarries\\nrisks,\\nbut\\nit\\ndoesn’ t\\nseem\\nto\\nmatter\\nwhether\\nyou\\nsleep\\non\\nyour\\nright\\nor\\nleft\\nside.These\\nstudies\\ndo\\nhave\\nsome\\nflaws,\\nthough.\\nThird\\ntrimester\\npregnancy\\nloss\\nis\\nvery\\nuncommon.\\nTherefore,\\nthere\\naren’ t\\nmany\\ncases\\nfrom\\nwhich\\nto\\ndraw\\nconclusions.Additionally ,\\nit’s\\ndifficult\\nto\\ndetermine\\nexactly\\nwhen\\nthe\\nfetus\\npassed\\naway\\nand\\nwhether\\nthere\\nwere\\nother\\nfactors\\ninvolved.\\nIt\\ncan\\nbe\\nchallenging\\nto\\npinpoint\\nwhat\\nis\\noccurring\\nin\\nutero\\nwithout\\nmonitoring.The\\nstudy\\ndid\\nfind,\\nhowever ,\\nthat\\nthere\\nwas\\nan\\nincreased\\nrisk\\nof\\nstillbirth\\nfor\\nback\\nsleepers\\nafter\\n28\\nweeks.There’ s\\na\\nlot\\nof\\nmixed\\ndata\\non\\nwhether\\nlying\\nflat\\non\\nyour\\nback\\nduring\\npregnancy\\ncontributes\\nto\\nan\\nincreased\\nrisk\\nof\\nstillbirth.\\nLeft\\nside\\nSleeping\\non\\nyour\\nleft\\nside\\nis\\noften\\nreferred\\nto\\nas\\nthe\\n“ideal”\\nscenario\\nduring\\npregnancy .Positioning\\nyourself\\non\\nthe\\nleft\\nside\\nof\\nyour\\nbody\\nallows\\nfor\\noptimal\\nblood\\nflow\\nfrom\\nthe\\ninferior\\nvena\\ncava\\n(IVC).This\\nlarge\\nvein\\nruns\\nparallel\\nto\\nyour\\nspine\\non\\nthe\\nright\\nside\\nand\\ncarries\\nblood\\nto\\nyour\\nheart\\nand,\\nin\\nturn,\\nto\\nyour\\nbaby .Sleeping\\non\\nyour\\nleft\\nside\\nalso\\ntakes\\nthe\\npressure\\noff\\nyour\\nliver\\nand\\nyour\\nkidneys.\\nThis\\nmeans\\nmore\\nroom\\nto\\nfunction\\nproperly ,\\nhelping\\nwith\\nswelling\\nissues\\nin\\nyour\\nhands,\\nankles,\\nand\\nfeet.\\nRight\\nside\\nSo,\\nif\\nthe\\nleft\\nside\\nis\\nideal\\n—\\nshould\\nyou\\navoid\\nthe\\nright\\nside?\\nNot\\nnecessarily .That\\n2019\\nreview\\nshowed\\nequal\\nsafety\\nwith\\nsleeping\\non\\nthe\\nleft\\nand\\nright\\nsides.\\nThere’ s\\na\\nslight\\nrisk\\nof\\ncompression\\nissues\\nwith\\nthe\\nIVC\\nwhen\\nyou\\nsleep\\non\\nthe\\nright,\\nbut\\nit’s\\nmostly\\na\\nmatter\\nof\\nwhere\\nyou’re\\ncomfortable.\\nWays\\nto\\nmake\\nside\\nsleeping\\nwork\\n:\\n●\\nIf\\nside\\nsleeping\\nisn’t\\nyour\\nthing,\\nhere\\nare\\nsome\\nsuggestions\\nfor\\nhow\\nto\\nmake\\nit\\nfeel\\nmore\\nnatural\\nor\\nat\\nleast\\ncomfortable.\\n●\\nIf\\nyou’re\\nespecially\\nconcerned\\nabout\\nyour\\nsleeping\\nposition,\\nyou\\nmay\\neven\\nask\\nyour\\npartner\\nto\\ncheck\\non\\nyou\\nfrom\\ntime\\nto\\ntime\\nand\\nhelp\\nnudge\\nyou\\ninto\\na\\nbetter\\nposition.First\\ntrimester\\n●\\nSleeping\\nin\\nany\\nposition\\nis\\ngenerally\\nfine\\nearly\\non.\\nBut\\nif\\nyou\\nwant\\nto\\nget\\ninto\\nthe\\nhabit\\nof\\nfavoring\\nyour\\nside,\\ntry\\nsimply\\nslipping\\na\\npillow\\nbetween\\nyour\\nlegs.\\nThis\\nmay\\nease\\ndiscomfort\\nin\\nyour\\nhips\\nand\\nlower\\nbody .\\n●\\nAnd\\nif\\nyou\\nwant\\nto\\nbe\\na\\nlittle,\\nwell,\\nextra,\\nyou\\ncould\\nconsider\\ngetting\\nan\\northopedic\\nknee\\npillow\\nthat’s\\nmade\\nof\\nmemory\\nfoam.\\nSecond\\ntrimester\\n●\\nAs\\nyour\\nbelly\\ngrows,\\nyou’ll\\nwant\\nto\\nmake\\nsure\\nyour\\nmattress\\nis\\nsomewhat\\nfirm\\nso\\nyour\\nback\\ndoesn’ t\\nsag.\\nIf\\nyours\\nis\\ntoo\\nsoft,\\nyou\\nmight\\nconsider\\nslipping\\na\\nboard\\nbetween\\nyour\\nmattress\\nand\\nbox\\nspring.\\n●\\nYou\\nmay\\nalso\\nwant\\nto\\nlook\\ninto\\npregnancy\\npillows.\\nThey\\ncome\\nin\\nU\\nor\\nC\\nshapes\\nand\\nwrap\\naround\\nyour\\nentire\\nbody\\nto\\nhelp\\nwith\\nside\\nsleeping.\\n●\\nYou\\nposition\\nthe\\npillow\\nso\\nthat\\nit\\nruns\\nalong\\nyour\\nback\\nand\\nthen\\nhug\\nthe\\nfront\\nwhile\\nsimultaneously\\nslipping\\nit\\nbetween\\nyour\\nknees.\\nThird\\ntrimester\\n●\\nContinue\\nusing\\na\\npregnancy\\npillow\\nfor\\nsupport.\\nIf\\nyou\\nfind\\nthem\\na\\nbit\\ncumbersome\\nwith\\nyour\\ngrowing\\nbelly ,\\ninvestigate\\nwedge\\npillows.\\nYou\\ncan\\nstick\\nthem\\nunder\\nyour\\nbelly\\nand\\nbehind\\nyour\\nback\\nto\\nkeep\\nfrom\\nrolling.\\n●\\nIf\\nyou\\nsimply\\ncan’t\\nget\\nused\\nto\\nsleeping\\non\\nyour\\nside,\\ntry\\nusing\\npillows\\nto\\nprop\\nyour\\nupper\\nbody\\nat\\na\\n45-degree\\nangle.\\nThis\\nway,\\nyou’re\\nnot\\nflat\\non\\nyour\\nback\\nand\\nyou\\ntake\\nthe\\ncompression\\noff\\nyour\\nIVC.\\n●\\nAlternatively ,\\nyou\\ncan\\ntry\\nelevating\\nthe\\nhead\\nof\\nyour\\nbed\\na\\ncouple\\ninches\\nwith\\nbooks\\nor\\nblocks.Stomach\\nsleeping\\n●\\nWondering\\nif\\nyou\\ncan\\nsleep\\non\\nyour\\nstomach\\nduring\\npregnancy?\\nYou\\nsure\\ncan\\n—\\nat\\nleast\\nfor\\na\\nwhile.\\n●\\nStomach\\nsleeping\\nis\\nOK\\nuntil\\nyou\\nreach\\nabout\\nweeks\\n16\\nto\\n18.\\nAt\\nthat\\npoint,\\nyour\\nbump\\nmay\\nbe\\ngrowing\\na\\nbit\\nbigger ,\\nmaking\\nthis\\nposition\\nless\\nand\\nless\\ndesirable.\\nIt\\nmay\\nfeel\\na\\nbit\\nlike\\nyou’re\\ntrying\\nto\\nsleep\\natop\\na\\nwatermelon.\\n●\\nBesides\\ncomfort,\\nthough,\\nthere\\nisn’t\\nmuch\\nto\\nworry\\nabout\\nif\\nyou\\nsomehow\\nfind\\nyourself\\non\\nyour\\nstomach.\\nThe\\nuterine\\nwalls\\nand\\namniotic\\nfluid\\nprotect\\nyour\\nbaby\\nfrom\\nbeing\\nsquished.\\n●\\nTo\\nmake\\nthis\\nposition\\nmore\\ncomfortable,\\nyou\\nmay\\nconsider\\npurchasing\\na\\nstomach\\nsleeping\\npillow .\\nSome\\nare\\ninflatable\\nand\\nsome\\nare\\nmore\\nlike\\na\\nfirm\\npillow\\nwith\\na\\nlarge\\ncutout\\nfor\\nyour\\nbelly .\\n●\\nWhatever\\none\\nyou\\nchoose,\\nthe\\nidea\\nis\\nthat\\nyou\\nget\\nsome\\nshut-eye\\non\\nyour\\nstomach\\nwhile\\ngiving\\nyour\\nbaby\\n(and\\nyou)\\nplenty\\nof\\nroom\\nto\\nbreathe\\nAvoiding\\nHarmful\\nSubstances\\n1.\\nAvoid\\nAlcohol\\nCompletely:\\nDrinking\\nalcohol\\nduring\\npregnancy\\ncan\\nlead\\nto\\nfetal\\nalcohol\\nsyndrome,\\nwhich\\ncan\\ncause\\nlifelong\\nphysical,\\nbehavioral,\\nand\\nintellectual\\ndisabilities\\nin\\nyour\\nchild.\\nNo\\namount\\nof\\nalcohol\\nis\\nconsidered\\nsafe\\nduring\\npregnancy .\\n2.\\nQuit\\nSmoking:\\nSmoking\\nincreases\\nthe\\nrisk\\nof\\npremature\\nbirth,\\nlow\\nbirth\\nweight,\\nand\\ndevelopmental\\nissues.\\nIt\\nalso\\nraises\\nthe\\nchances\\nof\\nSudden\\nInfant\\nDeath\\nSyndrome\\n(SIDS).\\nSeek\\nsupport\\nto\\nquit\\nsmoking\\nas\\nsoon\\nas\\npossible\\nif\\nyou\\nare\\npregnant.\\n3.\\nStay\\nAway\\nfrom\\nSecondhand\\nSmoke:\\nEven\\nif\\nyou\\ndon\\'t\\nsmoke,\\nexposure\\nto\\nsecondhand\\nsmoke\\ncan\\nharm\\nyour\\nbaby\\nby\\nincreasing\\nthe\\nrisk\\nof\\nmiscarriage,\\nlow\\nbirth\\nweight,\\nand\\nrespiratory\\nproblems.\\nAvoid\\nenvironments\\nwhere\\npeople\\nare\\nsmoking.4.\\nAvoid\\nIllegal\\nDrugs:\\nUsing\\nillegal\\ndrugs\\nduring\\npregnancy\\ncan\\nlead\\nto\\nserious\\ncomplications,\\nincluding\\nmiscarriage,\\npreterm\\nlabor ,\\nand\\nbirth\\ndefects.\\nBabies\\nborn\\nto\\nmothers\\nwho\\nuse\\ndrugs\\nmay\\nalso\\nsuffer\\nfrom\\nwithdrawal\\nsymptoms\\nafter\\nbirth.\\n5.\\nBe\\nCautious\\nwith\\nPrescription\\nand\\nOver-the-Counter\\nMedications:\\nSome\\nmedications\\ncan\\nbe\\nharmful\\nto\\nyour\\nbaby ,\\nso\\nalways\\nconsult\\nyour\\nhealthcare\\nprovider\\nbefore\\ntaking\\nany\\nprescription\\nor\\nover-the-counter\\ndrugs\\nduring\\npregnancy .\\n6.\\nAvoid\\nHarmful\\nChemicals\\nand\\nSubstances:\\nStay\\naway\\nfrom\\ntoxic\\nsubstances\\nsuch\\nas\\ncertain\\ncleaning\\nproducts,\\npesticides,\\nand\\npaint\\nfumes.\\nThese\\ncan\\nhave\\nadverse\\neffects\\non\\nboth\\nyour\\nhealth\\nand\\nthe\\ndevelopment\\nof\\nyour\\nbaby .\\nOpt\\nfor\\nsafer\\nalternatives\\nand\\nensure\\ngood\\nventilation\\nif\\nexposure\\nis\\nunavoidable.\\nHygiene\\nand\\nSelf-Care\\nGood\\nhygiene\\nduring\\nyour\\npregnancy\\nwill\\nhelp\\nprevent\\ninfections,\\nkeep\\nyou\\ncomfortable\\nand\\nmake\\nyou\\nfeel\\nmore\\nrefreshed. \\nHormone\\nchanges\\nduring\\npregnancy\\ncan\\ncause:\\n●\\nIncreased\\nperspiration\\n●\\nVaginal\\ndischar ge\\n●\\nDry,\\nscaly\\nskin\\nHere\\nare\\nsome\\nbasic\\nhygiene\\ntips:\\n●\\nApply\\nlotions\\nor\\ncreams\\nimmediately\\nafter\\nbathing\\nor\\nshowering\\nto\\nsoothe\\nand\\nsoften\\nyour\\nskin\\n●\\n Good\\nhygiene\\nwill\\nhelp\\nprevent\\nvaginal\\ninfections,\\nbut\\nnever\\ndouche\\nduring\\npregnancy\\nunless\\nyour\\nprovider\\nspecifically\\ntells\\nyou\\nto.\\n●\\nPut\\na\\nrubber\\nmat\\nin\\nthe\\ntub\\nor\\nshower\\nto\\nprevent\\nslipping.\\nTub\\nbaths\\nmay\\nbecome\\nmore\\ndifficult\\nnear\\nthe\\nend\\nof\\npregnancy\\nwhen\\nyour\\ncenter\\nof\\nbalance\\nshifts.\\nYou\\nmay\\nwant\\nto\\nswitch\\nto\\nshowers\\nor\\nhave\\nsomeone\\nhelp\\nyou\\nin\\nand\\nout\\nof\\nthe\\ntub\\nsafely .\\n●\\nKeep\\nthe\\nwater\\ntemperature\\nwarm\\nwhen\\nyou\\nbathe\\nor\\nshower\\nbecause\\nhot\\nwater\\nmay\\nmake\\nyou\\nfeel\\ndizzy\\nor\\nlightheaded.\\n●\\nAvoid\\nhyperthermia\\n(high\\nbody\\ntemperature).\\nThere\\nis\\nsome\\nevidence\\nthat\\nhyperthermia\\nin\\nearly\\npregnancy\\nmay\\ncause\\ndamage\\nto\\nthe\\nfetus.\\nYou\\nmay\\nbe\\nable\\nto\\ntolerate\\nshortstretches\\nin\\na\\nsauna\\nor\\nhot\\ntub,\\nbut\\nthe\\ntemperature\\nshould\\nnot\\nexceed\\n102°F\\nand\\nyour\\nexposure\\nshould\\nnot\\nexceed\\n10\\nminutes.\\nDental\\nhealth\\nDental\\nhealth     \\nis\\nan\\nimportant\\npart\\nof\\nyour\\ntotal\\nhealth.\\nDental\\ndisease\\ncan\\nincrease\\nyour\\nrisk\\nof\\ncertain\\npregnancy\\ncomplications.\\nHere\\nare\\nsome\\nhelpful\\npointers\\nto\\nmake\\nsure\\nthat\\nyou\\nhave\\nthe\\nbest\\noral\\nhealth:\\n●\\nSee\\nyour\\ndentist\\nas\\nearly\\nas\\npossible\\nin\\nyour\\npregnancy\\nto\\nbe\\nchecked\\nfor\\ntooth\\ndecay ,\\ngum\\ndisease\\nand\\nother\\ndental\\nproblems,\\nand\\nto\\nget\\nthe\\nnecessary\\ntreatment\\n●\\nYou\\nrequire\\nspecial\\ncare\\nand\\nattention\\nwhen\\nyou’re\\npregnant,\\nso\\nbe\\nsure\\nto\\ntell\\nyour\\ndentist\\nthat\\nyou\\nare\\npregnant\\n●\\nDiscuss\\nthe\\nbenefits\\nand\\nrisks\\nof\\nx-rays,\\nanesthetic\\nagents,\\npain\\nmedications,\\nand\\nother\\ndrugs\\nwith\\nyour\\ndentist.\\nYour\\ndentist\\nmay\\nrecommend\\nalternative\\nprocedures\\nand\\ntreatments\\n●\\nIf\\nyour\\ndrinking\\nwater\\nis\\nnot\\nfluoridated,\\nask\\nyour\\ndentist\\nor\\nprovider\\nabout\\nfluoride\\nsupplements\\n●\\nBrush\\nand\\nfloss\\nyour\\nteeth\\nat\\nleast\\nonce\\na\\nday.\\nThis\\nprevents\\ntooth\\ndecay\\nand\\nwill\\nhelp\\nyou\\nmaintain\\nhealthy\\ngums\\n●\\nYour\\ngums\\nmay\\nbleed\\nmore\\neasily\\nduring\\npregnancy\\n●\\nAn\\nearly\\ndental\\nexamination\\nfollowed\\nby\\nnecessary\\ntreatment,\\ngood\\noral\\nhygiene\\npractices\\nand\\na\\nwell-balanced\\ndiet\\nwill\\nhelp\\nyou\\nmaintain\\nbright\\nand\\nhealthy\\nteeth\\n●\\nAvoid\\nsweets\\nsuch\\nas\\ncaramels,\\nhard\\ncandies,\\nsticky\\nfoods,\\nand\\nsoft\\ndrinks.\\nIf\\nyou\\nhave\\nsome\\nof\\nthese\\noccasionally ,\\nbrush\\nyour\\nteeth,\\nor\\nat\\nleast\\nrinse\\nwith\\nwater\\nafterward.\\nSugar\\nbuild-up\\nin\\nyour\\nmouth,\\neven\\nfor\\na\\nfew\\nhours,\\ncan\\ncontribute\\nto\\ntooth\\ndecay \\nCommon\\nPregnancy\\nComplications\\nLabor\\nand\\nDelivery\\nSigns\\nof\\nLabor\\nEarly\\nLabor\\n(Latent\\nLabor)\\n:\\n●\\nEarly\\nlabor\\ninvolves\\nmild\\nbut\\nconsistent\\ncontractions\\nthat\\ngrow\\nstronger\\nand\\ncloser\\ntogether\\nover\\ntime,\\nunlike\\nBraxton\\nHicks\\ncontractions.\\n●\\nIt\\nis\\noften\\nthe\\nlongest\\npart\\nof\\nlabor ,\\nsometimes\\nlasting\\nfor\\ndays,\\nwith\\ncontractions\\ninitially\\nup\\nto\\n20\\nminutes\\napart.Signs\\nLabor\\nis\\nNear:\\n1.\\nBaby\\ndescends\\ninto\\nthe\\nbirth\\ncanal,\\nrelieving\\npressure\\non\\nthe\\ndiaphragm\\nbut\\nincreasing\\npelvic\\npressure\\nand\\nurination.\\n2.\\nThe\\ncervix\\nsoftens,\\nthins,\\nand\\nbegins\\nto\\nopen,\\noften\\naccompanied\\nby\\nincreased\\nvaginal\\ndischar ge\\nthat\\nmay\\nbe\\nbrownish\\nor\\npinkish.\\n3.\\nVaginal\\ndischar ge\\n(leukorrhea)\\nmay\\nincrease\\nas\\nthe\\nbody\\nprepares\\nfor\\nlabor ,\\nhelping\\nto\\nclean\\nthe\\nvagina\\nfor\\ndelivery .\\n4.\\nWeight\\ngain\\nmay\\nslow\\nas\\nthe\\nbaby\\nreaches\\nfull-term\\nsize,\\nthough\\nnot\\neveryone\\nexperiences\\nthis.\\n5.\\nThe\\nbody\\nmay\\nempty\\nthe\\nbowels\\nto\\nhelp\\nthe\\nuterus\\ncontract\\neffectively ,\\nsometimes\\naccompanied\\nby\\nindigestion\\nor\\nvomiting.\\n6.\\nA\\nsudden\\nburst\\nof\\nenergy\\nand\\nrestlessness\\nmay\\noccur ,\\noften\\nleading\\nto\\n\"nesting\"\\nbehaviors\\nas\\nyou\\nprepare\\nfor\\nthe\\nbaby’ s\\narrival.\\nSigns\\nLabor\\nis\\nImminent:\\n●\\nWater\\nBreaks:The\\nrupture\\nof\\nthe\\namniotic\\nsac,\\nwhether\\na\\ndramatic\\ngush\\nor\\na\\nsmall\\nleak,\\nusually\\nsignals\\nthat\\nlabor\\nis\\nnear.\\n●\\nMucusy\\nDischar ge\\nor\\n\"Bloody\\nShow\":\\nThe\\nmucus\\nplug\\ndislodges\\nas\\nthe\\ncervix\\ndilates,\\nindicating\\nthat\\nlabor\\ncould\\nbe\\nhours\\nor\\ndays\\naway .\\n●\\nBack\\nPain:Intense\\nor\\nlocalized\\nback\\npain,\\nparticularly\\nin\\nthe\\nlower\\nback,\\nmay\\nsignal\\n\"back\\nlabor ,\"\\nespecially\\nif\\nthe\\nbaby\\nis\\npositioned\\nfacing\\nforward.\\nWhen\\nto\\nContact\\nHealthcare\\nProvider:\\n●\\nContractions:Generally ,\\nhead\\nto\\nthe\\nhospital\\nwhen\\ncontractions\\nare\\n5\\nminutes\\napart\\nand\\nlast\\n45-60\\nseconds.\\nSubsequent\\nlabors\\nmay\\nprogress\\nfaster ,\\nso\\nfollow\\nyour\\nhealthcare\\nprovider\\'s\\nspecific\\ninstructions.\\n●\\nWater\\nBreaking\\nConcerns\\n:\\nIf\\nthe\\nfluid\\nis\\ngreen\\nor\\nbrown,\\nor\\nif\\nlabor\\nsymptoms\\ninclude\\nbright\\nred\\nbleeding,\\nsevere\\nheadaches,\\nor\\nsudden\\nswelling,\\nseek\\nimmediate\\nmedical\\nattention.\\nCoping\\nStrategies\\nDuring\\nEarly\\nLabor:\\n●\\nRelaxation\\nTechniques:\\nInclude\\nmental\\nrelaxation,\\nsoothing\\nenvironments,\\nself-hypnosis,\\nhydrotherapy ,\\ncomforting\\ntouch,\\nchanging\\npositions,\\nand\\ndeep\\nbreathing.\\n●\\nWarm\\nBath:Can\\nhelp\\nsoothe\\nand\\ndistract\\nduring\\nearly\\nlabor\\nif\\nthe\\nwater\\nhasn’ t\\nbroken.●\\nHydration:\\nSipping\\nclear\\nfluids\\nlike\\nwater ,\\njuice,\\nand\\ntea\\ncan\\nhelp\\nmaintain\\nenergy\\nduring\\nlabor ,\\nwith\\ncertain\\nrestrictions\\nfor\\nthose\\nat\\nhigher\\nrisk.\\nTypes\\nof\\nDelivery\\nIt’s\\nhard\\nto\\nknow\\nexactly\\nwhat\\nwill\\nhappen\\nwhen\\nyou\\ngive\\nbirth.\\nMost\\npeople\\nhave\\na\\nplan\\nin\\nmind\\nfor\\nhow\\nthey\\nhope\\ntheir\\nlabor\\nand\\ndelivery\\ngoes.\\nWhen\\nit\\ncomes\\nto\\ndelivering\\nyour\\nbaby ,\\nit’s\\ngood\\nto\\nknow\\nthere\\nare\\nmany\\nmethods\\npregnancy\\ncare\\nproviders\\nuse.\\nTypes\\nof\\ndelivery\\ninclude:\\n●\\nVaginal\\ndelivery\\n.\\n●\\nAssisted\\nvaginal\\ndelivery\\n(vacuum\\nor\\nforceps).\\n●\\nC-section\\n(\\nCesarean\\nbirth\\n).\\n●\\nVBAC\\n(\\nvaginal\\nbirth\\nafter\\ncesarean\\n).\\nWhat\\ntype\\nof\\ndelivery\\nis\\nbest?\\nA\\nvaginal\\ndelivery\\nis\\nthe\\nsafest\\nand\\nmost\\ncommon\\ntype\\nof\\nchildbirth.\\nVaginal\\ndeliveries\\naccount\\nfor\\nabout\\n68%\\nof\\nall\\nbirths\\nin\\nthe\\nUnited\\nStates.\\nMost\\nmedical\\norganizations\\nand\\nobstetricians\\nrecommend\\na\\nvaginal\\ndelivery\\nunless\\nthere\\nis\\na\\nmedical\\nreason\\nfor\\na\\nC-section.\\nVaginal\\ndelivery\\nIn\\na\\nvaginal\\nbirth,\\nyour\\nbaby\\nis\\nborn\\nthrough\\nyour\\nvagina\\nor\\nbirth\\ncanal.\\nIt’s\\nthe\\nmost\\npreferred\\nand\\nmost\\ncommon\\nway\\nto\\ndeliver\\na\\nbaby\\nbecause\\nit\\ncarries\\nthe\\nlowest\\nrisk\\n(in\\nmost\\ncases).\\nA\\nvaginal\\ndelivery\\noccurs\\nmost\\noften\\nbetween\\nweeks\\n37\\nand\\n42\\nof\\npregnancy\\n.\\nA\\nvaginal\\ndelivery\\nhas\\nthree\\nstages\\n:\\nlabor ,\\nbirth\\nand\\ndelivering\\nthe\\nplacenta\\n.\\nSome\\nbenefits\\nof\\na\\nvaginal\\ndelivery\\ninclude:\\n●\\nFaster\\nrecovery .\\n●\\nSafest\\nfor\\nthe\\npregnant\\nperson\\nand\\nthe\\nbaby .\\n●\\nLower\\nrates\\nof\\ninfection.\\n●\\nBabies\\nare\\nat\\nlower\\nrisk\\nfor\\nrespiratory\\nproblems\\nand\\nhave\\na\\nstronger\\nimmune\\nsystem.\\n●\\nLactation\\nand\\nbreastfeeding\\nare\\nusually\\neasier .\\nA\\nvaginal\\ndelivery\\ncan\\nbe\\nspontaneous\\nor\\ninduced:\\n●\\nSpontaneous\\nvaginal\\ndelivery:\\nA\\nvaginal\\ndelivery\\nthat\\nhappens\\non\\nits\\nown\\nand\\nwithout\\nlabor -inducing\\ndrugs.\\nGoing\\ninto\\nlabor\\nnaturally\\nat\\n40\\nweeks\\nof\\npregnancy\\nis\\nideal.\\n●\\nInduced\\nvaginal\\ndelivery:\\nDrugs\\nor\\nother\\ntechniques\\nstart\\nlabor\\nand\\nsoften\\nor\\nopen\\nyour\\ncervix\\nfor\\ndelivery .\\nPregnancy\\ncare\\nproviders\\noften\\nrecommend\\ninducing\\nlabor\\nwhen\\napregnant\\nperson\\nhas\\na\\nmedical\\ncondition\\nor\\nis\\npast\\ndue.\\nLabor\\nis\\nusually\\ninduced\\nwith\\nPitocin®,\\na\\nsynthetic\\nform\\nof\\nthe\\ndrug\\noxytocin.\\nIn\\nmost\\ncases,\\nonce\\nyour\\ncervix\\nis\\nfully\\ndilated\\nand\\nyour\\nhealthcare\\nteam\\nis\\nin\\nplace,\\nyour\\nprovider\\nwill\\nask\\nyou\\nto\\npush\\nduring\\na\\ncontraction.\\nPregnancy\\ncare\\nproviders\\nhave\\ndiffering\\nopinions\\non\\nwhen\\nto\\npush,\\nhow\\nlong\\nto\\npush,\\ndelayed\\npushing\\nor\\nwaiting\\nuntil\\nyou\\nfeel\\nthe\\nurge\\nto\\npush.\\nIt’s\\nhard\\nto\\nsay\\nwhat\\nwill\\nhappen\\nif\\nyou\\ndon’t\\nor\\ncan’t\\npush\\nduring\\na\\nvaginal\\ndelivery ,\\nbecause\\nyour\\nbirthing\\nexperience\\nis\\nso\\nunique.\\nHowever ,\\nstudies\\nshow\\nthat\\nresisting\\nthe\\nurge\\nto\\npush\\nor\\ndelaying\\npushing\\n(\\nlaboring\\ndown\\n)\\ncan\\ncause\\ncomplications\\nlike\\ninfection,\\nbleeding\\nor\\ndamage\\nto\\nyour\\npelvis.\\nIt’s\\nbest\\nto\\ndiscuss\\npushing\\nwith\\nyour\\npregnancy\\ncare\\nprovider\\nahead\\nof\\ntime\\nso\\nyou\\nknow\\nwhat\\nto\\nexpect\\nduring\\nlabor .\\nAssisted\\nvaginal\\ndelivery\\nAn\\nassisted\\nvaginal\\ndelivery\\nis\\nwhen\\nyour\\nobstetrician\\nuses\\nforceps\\nor\\na\\nvacuum\\ndevice\\nto\\nget\\nyour\\nbaby\\nout\\nof\\nyour\\nvagina.\\nAssisted\\ndeliveries\\noften\\nhappen\\nwhen:\\n●\\nYou’ve\\nbeen\\nin\\nlabor\\na\\nlong\\ntime.\\n●\\nYour\\nlabor\\nisn’t\\nprogressing.\\n●\\nYou\\nbecome\\ntoo\\nfatigued\\nto\\ncontinue\\npushing.\\n●\\nYou\\nor\\nyour\\nbaby\\nare\\nshowing\\nsigns\\nof\\ndistress.\\nAssisted\\ndeliveries\\nonly\\noccur\\nwhen\\ncertain\\nconditions\\nare\\nmet.The\\nprocedure\\nyour\\nobstetrician\\nrecommends\\nwill\\ndepend\\non\\nthe\\nconditions\\nthat\\narise\\nwhile\\nyou’re\\nin\\nlabor .\\nAssisted\\ndelivery\\nprocedures\\ncan\\ninclude\\nthe\\nfollowing:\\n●\\nForceps\\ndelivery\\n:\\nForceps\\nare\\na\\ntong-like\\nsurgical\\ntool\\nobstetricians\\nuse\\nto\\ngrasp\\nyour\\nbaby’ s\\nhead\\nin\\norder\\nto\\nguide\\nthem\\nout\\nof\\nthe\\nbirth\\ncanal.\\n●\\nVacuum\\nextraction\\ndelivery\\n:\\nIn\\na\\nvacuum\\nextraction,\\nyour\\nobstetrician\\nplaces\\na\\nsmall\\nsuction\\ncup\\non\\nyour\\nbaby’ s\\nhead.\\nThe\\ncup\\nis\\nattached\\nto\\na\\npump\\nthat\\npulls\\non\\nyour\\nbaby\\nwhile\\nyou\\npush.\\nVacuum\\nextraction\\nand\\nforceps\\ndelivery\\nare\\nsimilar\\nin\\ntheir\\nadvantages\\nand\\ndisadvantages,\\nand\\noften\\nthe\\nchoice\\nbetween\\nthem\\ncomes\\ndown\\nto\\nthe\\nexperience\\nof\\nyour\\nobstetrician.\\nC-section\\nDuring\\na\\nC-section\\nbirth,\\nyour\\nobstetrician\\ndelivers\\nyour\\nbaby\\nthrough\\nsurgical\\nincisions\\nmade\\nin\\nyour\\nabdomen\\nand\\nuterus.\\nA\\nC-section\\ndelivery\\nmight\\nbe\\nplanned\\nin\\nadvance\\nif\\na\\nmedical\\nreasoncalls\\nfor\\nit,\\nor\\nit\\nmight\\nbe\\nunplanned\\nand\\ntake\\nplace\\nduring\\nyour\\nlabor\\nif\\ncertain\\nproblems\\narise.\\nThere\\nare\\nabout\\n1.2\\nmillion\\nC-section\\ndeliveries\\nin\\nthe\\nUnited\\nStates\\neach\\nyear.\\nYour\\nprovider\\nmay\\nrecommend\\na\\nplanned\\ncesarean\\ndelivery\\nif\\nyou:\\n●\\nHad\\na\\nprevious\\nC-section\\ndelivery .\\n●\\nAre\\nexpecting\\nmultiples\\n.\\n●\\nHave\\nplacenta\\nprevia\\n.\\n●\\nHave\\na\\nbreech\\nbaby .\\n●\\nHave\\na\\nbaby\\nwith\\nfetal\\nmacrosomia\\nor\\na\\nlarge\\nbaby .\\n●\\nHave\\na\\nuterine\\nfibroid\\nor\\nother\\nobstruction.\\nSometimes,\\nyour\\nlabor\\nand\\ndelivery\\nchanges,\\nand\\na\\ncesarean\\nbirth\\nbecomes\\nnecessary\\nfor\\nthe\\nhealth\\nand\\nsafety\\nof\\nyou\\nor\\nyour\\nbaby .\\nAn\\nunplanned\\nC-section\\nmight\\nbe\\nneeded\\nif\\nany\\nof\\nthe\\nfollowing\\nconditions\\narise\\nduring\\nyour\\nlabor:\\n●\\nFetal\\ndistress\\n(your\\nbaby\\nisn’t\\ntolerating\\nlabor).\\n●\\nLabor\\nisn’t\\nprogressing.\\n●\\nUmbilical\\ncord\\nprolapse\\n.\\n●\\nPlacental\\nabruption\\n.\\n●\\nHemorrhage\\nor\\nexcessive\\nbleeding.\\nRisks\\nof\\nC-section\\ndeliveries:\\nLike\\nany\\nsurgery,\\na\\ncesarean\\nbirth\\ninvolves\\nsome\\nrisks.\\nIn\\ngeneral,\\nthere\\nis\\nmore\\nrisk\\nassociated\\nwith\\na\\nC-section\\nthan\\nwith\\na\\nvaginal\\ndelivery .\\nThese\\nmight\\ninclude:\\n●\\nInfection.\\n●\\nLoss\\nof\\nblood\\nor\\nneed\\nfor\\na\\nblood\\ntransfusion\\n.\\n●\\nA\\nblood\\nclot\\nthat\\nmay\\nbreak\\noff\\nand\\nenter\\nthe\\nbloodstream\\n(embolism).\\n●\\nInjury\\nto\\nthe\\nbowel\\nor\\nbladder .\\n●\\nLonger\\nrecovery\\nand\\nlonger\\nhospital\\nstay.\\n●\\nAbdominal\\nadhesions.\\nBenefits\\nof\\nC-section\\ndeliveries\\nSome\\npeople\\nprefer\\na\\nC-section\\nbirth\\nbecause\\nit\\ngives\\nthem\\nmore\\ncontrol\\non\\nchoosing\\na\\ndue\\ndate.\\nThis\\nis\\ncalled\\nan\\nelective\\nC-section.\\nSome\\nproviders\\nmay\\nallow\\nelective\\nC-sections\\nfor\\nnonmedical\\nreasons,\\nhowever ,\\nthis\\nis\\nusually\\ndiscouraged.\\nIn\\nmost\\ncases,\\na\\nC-section\\nbirth\\noccurs\\nbecause\\nit’s\\nmedically\\nnecessary .\\nThe\\nAmerican\\nCongress\\nof\\nObstetrics\\nand\\nGynecologists\\n(ACOG)\\nrecommends\\nthat\\nscheduled\\ncesareans\\nnot\\nbe\\nperformed\\nbefore\\n39\\nweeks\\ngestation,\\nunless\\nmedically\\nindicated.Some\\nbenefits\\nof\\na\\nC-section\\nas\\ncompared\\nto\\na\\nvaginal\\ndelivery\\nare:\\n●\\nLower\\nrisk\\nof\\nyour\\nbaby\\nhaving\\ntrauma\\nfrom\\npassing\\nthrough\\nyour\\nvagina.\\n●\\nLess\\nrisk\\nof\\nyour\\nbaby\\nbeing\\noxygen-deprived\\nduring\\ndelivery .\\n●\\nPossible\\nlower\\nrisk\\nof\\nincontinence\\nor\\nsexual\\ndysfunction.\\nVBAC\\n(vaginal\\nbirth\\nafter\\ncesarean)\\nIf\\nyou’ve\\nalready\\nhad\\na\\ncesarean\\nbirth,\\nyou\\nmay\\nbe\\nable\\nto\\nhave\\nyour\\nnext\\nbaby\\nvaginally .\\nThis\\nis\\na\\nVBAC,\\nor\\nvaginal\\nbirth\\nafter\\ncesarean.\\nBecause\\na\\nsurgical\\ncut\\nresults\\nin\\na\\nscar\\non\\nyour\\nuterus,\\nthe\\nconcern\\nis\\nthat\\nthe\\npressure\\nof\\nlabor\\nin\\na\\nvaginal\\ndelivery\\ncould\\ncause\\nyour\\nuterus\\nto\\nopen\\n(rupture)\\nalong\\nthe\\nprevious\\nC-section\\nscar.\\nFor\\nthis\\nreason,\\ncertain\\ncriteria\\nmust\\nbe\\nmet\\nin\\norder\\nfor\\nyour\\nobstetrician\\nto\\nattempt\\na\\nvaginal\\nbirth\\nafter\\nC-section.\\nPeople\\nwho\\nhave\\nhad\\na\\ncesarean\\ndelivery\\nmight\\nbe\\nable\\nto\\ndeliver\\nvaginally\\nin\\na\\nfuture\\npregnancy .\\nIf\\nyou\\nmeet\\nthe\\nfollowing\\ncriteria,\\nyour\\nchances\\nof\\na\\nsuccessful\\nvaginal\\nbirth\\nafter\\ncesarean\\n(VBAC)\\nare\\nhigh:\\n●\\nYour\\nobstetrician\\nmade\\na\\nlow\\ntransverse\\nincision\\nduring\\nyour\\ncesarean.\\nThis\\nis\\nthe\\ntypical\\nway\\nto\\nperform\\na\\nC-section,\\nunless\\nthey\\nneed\\nto\\ndeliver\\nyour\\nbaby\\nin\\na\\nhurry .\\n●\\nYou\\ndon’t\\nhave\\nother\\nuterine\\nscars\\nor\\nabnormalities.\\n●\\nYou\\nhad\\na\\nprior\\nvaginal\\ndelivery .\\n●\\nYou\\nhaven’ t\\nhad\\na\\nprevious\\nuterine\\nrupture.\\nPostpartum\\nCare\\nInstructions\\nfor\\nthe\\nFirst\\n24\\nHours\\nThe\\nfirst\\n24\\nhours\\nafter\\nbirth\\ncan\\nfeel\\nlike\\na\\nwhirlwind.\\nYour\\nfocus\\nis\\nboth\\non\\nhealing\\nphysically\\nand\\ncaring\\nfor\\nyour\\nnewborn.\\nPhysical\\nsymptoms\\nyou\\nmay\\nexperience\\nin\\nthe\\nfirst\\n24\\nhours\\ninclude:\\n1.\\nPerineum\\nsoreness\\n:\\nIf\\nyou\\nhad\\na\\nvaginal\\nbirth\\n,\\nthe\\narea\\nbetween\\nthe\\nvagina\\nand\\nthe\\nrectum\\nmay\\nfeel\\nsore\\nor\\npainful.\\nThis\\nis\\nbecause\\nof\\nstretching\\nor\\ntearing\\nduring\\nlabor\\nand\\ndelivery .\\n2.\\nC-section\\npain\\n:\\nIf\\nyou\\nhad\\na\\nsurgical\\ndeliver\\nknown\\nas\\na\\ncesarean\\nsection\\n(C-section),\\nyou\\nmay\\nfeel\\nexhausted\\nand\\npain\\naround\\nyour\\nincision.\\nRest\\nis\\ncrucial.\\n3.\\nAfterbirth\\npains\\n:\\nAfter\\ngiving\\nbirth,\\nyour\\nuterus\\nwill\\nbegin\\nto\\nshrink\\nback\\nto\\nits\\noriginal\\nsize,\\nwhich\\nmay\\ncause\\nabdominal\\ncramping.\\n4.\\nVaginal\\ndischarge\\n:\\nVaginal\\nbleeding\\nafter\\ndelivery\\nis\\nexpected.\\nHowever ,\\ncall\\nyour\\nprovider\\nif\\nyou\\nhave\\nheavy ,\\nbright\\nred\\nbleeding\\nor\\nare\\npassing\\ngolf\\nball–sized\\nblood\\nclots.5.\\nBreast\\nengorgement\\n:\\nThis\\noccurs\\nwhen\\nthe\\nbreasts\\nfill\\nwith\\nmilk\\na\\nfew\\ndays\\nafter\\ndelivery .\\n6.\\nSwelling\\n:\\nPregnancy\\ncauses\\nwater\\nretention\\nin\\nthe\\nbody ,\\nespecially\\nthe\\nhands,\\nfeet,\\nand\\nface.\\nIt\\nmay\\nalso\\nbe\\na\\nsign\\nof\\npreeclampsia\\nand\\nshould\\nbe\\ndiscussed\\nwith\\na\\nmedical\\nprovider .\\n7.\\nConstipation\\n:\\nIt\\nmay\\nfeel\\ndifficult\\nto\\nhave\\na\\nbowel\\nmovement\\nafter\\ngiving\\nbirth.\\n8.\\nPain\\nwith\\nurination\\n:\\nIf\\nyou\\nhad\\nvaginal\\ntearing\\nwith\\nbirth,\\nyou\\nmay\\nexperience\\npain\\nor\\nburning\\nwith\\nurination,\\nleaking,\\nand\\nincontinence\\n.\\n9.\\nFatigue\\n:\\nYour\\nbody\\nwill\\nfeel\\ntired\\nfrom\\nthe\\nexertion\\nof\\nchildbirth,\\nblood\\nloss,\\nand\\na\\nlack\\nof\\nsleep.\\nIt\\'s\\ncommon\\nto\\nfeel\\noverwhelmed\\nand\\nexhausted\\nor\\ndown\\nand\\nsad.\\nThe\\n\"baby\\nblues\"\\nare\\ntypical\\nfeelings\\nthat\\ncome\\nafter\\nhaving\\na\\nbaby\\nand\\nare\\ntypical\\nfor\\nup\\nto\\ntwo\\nweeks.\\nPostpartum\\nCare\\nin\\nDays\\nand\\nWeeks\\nAfter\\nBirth\\nThe\\ndays\\nand\\nweeks\\nafter\\ngiving\\nbirth\\ncan\\nbe\\nemotional.\\nYou\\nwill\\nlikely\\nnot\\nfeel\\nlike\\nyourself\\nbecause\\nof\\nyour\\nphysical\\nrecovery ,\\nchanging\\nhormone\\nlevels,\\nand\\ncaring\\nfor\\na\\nnewborn.\\nIt\\nis\\nimportant\\nto\\nsee\\nyour\\nhealthcare\\nprovider\\nduring\\nthe\\npostpartum\\nperiod.\\nYour\\nprovider\\ncan\\nhelp\\nkeep\\nyou\\nand\\nyour\\nnewborn\\nhealthy .\\nHealing\\nFrom\\nBirth\\nGiving\\nbirth\\nis\\nphysically\\nexhausting\\nand\\nrequires\\ntime\\nto\\nheal.\\nThere\\nare\\nmany\\nsymptoms\\nyou\\nmight\\nfeel\\nduring\\nthe\\npostpartum\\nperiod.\\nFortunately ,\\nthere\\nare\\nways\\nto\\nhelp\\nrelieve\\nthem.\\nSleep\\nPostpartum\\nsleep\\ncan\\nbe\\nchallenging.\\n7\\nYou\\nwill\\nlikely\\nfeel\\ntired\\nin\\nthe\\nweeks\\nand\\nmonths\\nafter\\ngiving\\nbirth.\\nTo\\nhelp\\nyour\\nbody\\nheal,\\nfocus\\non\\nresting\\nas\\nmuch\\nas\\npossible.\\nSleep\\nwhen\\nyour\\nbaby\\nsleeps.\\nConsider\\nlimiting\\nvisitors\\nto\\nhelp\\nyou\\ncatch\\nup\\non\\nrest.\\nIf\\nsome\\nof\\nyour\\nloved\\nones\\nhave\\noffered\\nto\\nhelp\\nyou,\\nask\\nthem\\nto\\ntake\\nover\\nhousehold\\nchores\\nso\\nyou\\ncan\\nuse\\nthat\\ntime\\nto\\nrest.\\nMental\\nHealth\\nIt\\'s\\ncommon\\nto\\nfeel\\nsad,\\nanxious\\n,\\nor\\nirritable\\nfor\\nup\\nto\\ntwo\\nweeks\\nafter\\ngiving\\nbirth.\\nWhen\\nfrequent\\nfeelings\\nof\\nsadness,\\nanxiety ,\\nhopelessness,\\nor\\nanger\\nlast\\nlonger\\nthan\\ntwo\\nweeks,\\nyou\\nmay\\nhave\\npostpartum\\ndepression\\n.Postpartum\\ndepression\\naffects\\nabout\\n1\\nin\\n8\\npeople\\nin\\nthe\\npostpartum\\nperiod.Symptoms\\nmay\\ninclude:\\n●\\nFeeling\\nangry ,\\nsad,\\nhopeless,\\nguilty ,\\nor\\nworthless\\nmuch\\nof\\nthe\\ntime\\n●\\nEating\\nmore\\nor\\nless\\nthan\\nusual\\n●\\nSleeping\\nmore\\nor\\nless\\nthan\\nusual\\n●\\nCrying\\nfrequently\\n●\\nLosing\\ninterest\\nin\\nfavorite\\nactivities\\n●\\nWithdrawing\\nfrom\\nfriends\\nand\\nfamily\\n●\\nHaving\\nthoughts\\nof\\nhurting\\nyourself\\nor\\nyour\\nbaby\\nIf\\nyou\\nare\\nconcerned\\nabout\\nyour\\nmood,\\ntalk\\nwith\\nyour\\nhealthcare\\nprovider\\nright\\naway .\\nFortunately ,\\npostpartum\\ndepression\\nis\\ntreatable\\nwith\\ntherapy\\nsupport\\ngroups,\\nmedication,\\nand\\nsupport.\\nOther\\nmeasures\\nthat\\nmay\\nhelp\\ninclude:\\n●\\nRest\\nas\\nmuch\\nas\\npossible.\\n●\\nAsk\\nfor\\nhelp.\\n●\\nMake\\ntime\\nto\\nsee\\nfriends\\nand\\nfamily .\\n●\\nShare\\nyour\\nexperience\\nwith\\nfellow\\nparents\\nor\\na\\nsupport\\ngroup.\\n●\\nAvoid\\nmaking\\nsignificant\\nlife\\nchanges.\\nContraception\\nIt\\nmay\\nseem\\ntoo\\nsoon\\nto\\nstart\\nthinking\\nabout\\nfuture\\npregnancies,\\nbut\\nit\\nis\\nimportant\\nto\\nhave\\na\\ncontraception\\nplan\\nwhen\\nyou\\nare\\npostpartum.\\nMost\\nhealthcare\\nproviders\\nrecommend\\nabstaining\\nfrom\\nsex\\nfor\\nabout\\nfour\\nto\\nsix\\nweeks\\nafter\\ngiving\\nbirth.This\\nis\\nhow\\nlong\\nit\\nusually\\ntakes\\nto\\nheal.\\nOnce\\nyou\\nare\\nready\\nto\\nhave\\nsex\\nagain,\\ntalk\\nwith\\nyour\\nprovider\\nabout\\na\\ncontraception\\nplan.\\nYou\\nmay\\nconsider\\nbarrier\\nmethods\\nlike\\ncondoms\\nand\\ndiaphragms\\nor\\nhormonal\\nmethods\\nlike\\npills\\n,\\npatches,\\nintrauterine\\ndevices\\n(IUDs),\\nor\\nshots.Coping\\nThrough\\nPostpartum\\nChanges\\nThe\\npostpartum\\nperiod\\nbrings\\ncountless\\nchanges.\\nIt\\nmay\\nbe\\nhelpful\\nto\\nmake\\na\\nplan\\nfor\\nchanges\\nin\\nthis\\nnew\\nchapter\\nof\\nlife.\\nPhysical\\nand\\nSelf-Esteem\\n●\\nThe\\nphysical\\nexertion\\nof\\nchildbirth,\\nlack\\nof\\nsleep,\\nand\\nother\\nfactors\\nmay\\nmake\\nyou\\nuncomfortable.\\nFocus\\non\\nrest\\nand\\nrecovery .\\nCaring\\nfor\\na\\nnewborn\\nrequires\\na\\nlot\\nof\\ntime,\\nbut\\naim\\nto\\neat,\\nsleep,\\nand\\nshower\\ndaily .\\n●\\nPlan\\nto\\nwear\\na\\nsanitary\\npad\\nin\\nthe\\ndays\\nand\\nweeks\\nafter\\nbirth\\ndue\\nto\\nvaginal\\nbleeding.\\nDrink\\nplenty\\nof\\nwater ,\\nand\\nadd\\nhealthy ,\\nfresh\\nfoods\\nto\\nyour\\nmeals\\nwhen\\npossible.\\n10\\n●\\nTalk\\nwith\\nyour\\nhealthcare\\nprovider\\nabout\\nan\\nexercise\\nplan.\\nThere\\nare\\nseveral\\nbenefits\\nto\\nworking\\nout\\nin\\nthe\\npostpartum\\nperiod,\\nincluding\\nincreased\\nenergy,\\nbetter\\nsleep,\\nstress\\nrelief,\\nand\\nstronger\\nmuscles.\\nStart\\nslow,\\ntaking\\n10-minute\\nwalks,\\nand\\nwork\\nup\\nfrom\\nthere.\\nAdjusting\\nto\\nParenthood\\n●\\nAdjusting\\nto\\nlife\\nas\\na\\nnew\\nparent\\n(or\\na\\nparent\\nwith\\nanother\\nchild)\\ntakes\\ntime.\\nTry\\nto\\nfocus\\non\\nsmall\\nthings\\nthat\\nhelp\\nyou\\nfeel\\nlike\\nyourself.\\nSleep\\nwhenever\\nyou\\ncan,\\nand\\nspend\\ntime\\nresting\\nthroughout\\nthe\\nday.\\nTalk\\nto\\nyour\\npartner ,\\nfriends,\\nor\\nloved\\nones\\nabout\\nhow\\nthey\\ncan\\nsupport\\nyou.\\n●\\nIt\\'s\\nnormal\\nto\\nnot\\nfeel\\nlike\\nyourself\\nat\\nfirst\\nor\\nto\\nfeel\\nsad\\nand\\noverwhelmed\\nin\\nthe\\npostpartum\\nperiod.\\nIf\\nyou\\nfind\\nyourself\\nfeeling\\nthis\\nway\\nfor\\nmore\\nthan\\ntwo\\nweeks,\\nspeak\\nto\\nyour\\nhealthcare\\nprovider\\nbecause\\nyou\\ncould\\nbe\\nexperiencing\\npostpartum\\ndepression.\\nFeeding\\n●\\nLearning\\nhow\\nto\\nfeed\\nyour\\nnewborn\\ntakes\\ntime\\nand\\nmay\\nbe\\nchallenging.\\nIf\\nyou\\nare\\nusing\\nformula\\nto\\nfeed\\nyour\\nbaby ,\\ndiscuss\\nrecommendations\\nwith\\nyour\\nchild’ s\\npediatrician.\\n●\\nIf\\nbreastfeeding\\n,\\nseek\\nsupport\\nfrom\\na\\nlactation\\nconsultant,\\nmidwife,\\nor\\nhealthcare\\nprovider .\\nThey\\ncan\\nhelp\\nwith\\nany\\nbreastfeeding\\nchallenges\\nor\\nquestions.\\nIt\\'s\\nimportant\\nfor\\npeople\\nwho\\nbreastfeed\\nto\\ndrink\\nwater\\nthroughout\\nthe\\nday\\nand\\nconsume\\nan\\nextra\\n500\\ncalories\\ndaily .\\n3\\n●\\nWhen\\nyour\\nmilk\\nfirst\\ncomes\\nin,\\nit\\nmay\\ncause\\nengor gement\\nwhen\\nthe\\nbreasts\\nfill\\nwith\\nmilk\\nand\\nfeel\\nfull\\nand\\ntender .\\nFrequent\\nfeedings,\\nbreast\\nmassage,\\nand\\nwarm\\nshowers\\ncan\\nhelp.\\nSee\\nyour\\nhealthcare\\nprovider\\nif\\nyou\\ndevelop\\na\\nfever\\nor\\nchills\\nwhile\\nbreastfeeding.\\nMastitis\\nis\\na\\ncommon\\ninfection\\nin\\nbreastfeeding\\npeople\\nand\\ncan\\nbe\\ntreated\\nwith\\nantibiotics.Going\\nBack\\nto\\nWork\\n●\\nGoing\\nback\\nto\\nwork\\nis\\nan\\nemotional\\nexperience\\nafter\\nhaving\\na\\nbaby .\\nIf\\npossible,\\nstart\\nplanning\\nyour\\nreturn\\nto\\nwork\\nwhile\\npregnant.\\nTalk\\nwith\\nyour\\nemployer\\nabout\\nany\\naccommodations\\nyou\\nmay\\nneed,\\nlike\\na\\nflexible\\nschedule\\nor\\nbreaks\\nto\\npump\\nbreast\\nmilk.\\n●\\nIt\\nis\\nalso\\nimportant\\nto\\ndevelop\\na\\nchildcare\\nplan\\nahead\\nof\\ntime.\\nDecide\\nif\\nyou\\nwill\\nneed\\nto\\nhire\\na\\nbabysitter\\nor\\nnanny\\nor\\ntake\\nyour\\nbaby\\nto\\na\\ndaycare\\nin\\na\\nhome\\nor\\nfacility .\\n●\\nAs\\nyour\\nreturn\\nto\\nwork\\ngets\\ncloser ,\\npractice\\nfor\\nthe\\nbig\\nday.\\nIt\\nmay\\nhelp\\nto\\nhave\\na\\nmorning\\nin\\nwhich\\nyou\\nget\\nready\\nas\\nif\\nfor\\nwork\\nand\\nthink\\nthrough\\nany\\npossible\\nissues\\nthat\\ncould\\ncome\\nup.\\nIf\\nyou\\nare\\nplanning\\nto\\ncontinue\\nbreastfeeding\\nafter\\ngoing\\nback\\nto\\nwork,\\npractice\\nwith\\nthe\\nbreast\\npump\\nahead\\nof\\ntime.\\n●\\nWhen\\nyou\\nreturn\\nto\\nwork,\\nremember\\nit’s\\nnormal\\nto\\nfeel\\ndifferent.\\nYou\\nhave\\nunder gone\\nchanges.\\nTry\\nto\\nbe\\npatient\\nwith\\nyourself\\nand\\nthose\\naround\\nyou.\\nThis\\nis\\na\\nbig\\ntransition,\\nand\\nit\\nwill\\ntake\\ntime.\\nPostpartum\\nFollow-Up\\n●\\nIt\\nis\\nimportant\\nto\\ncontinue\\nseeing\\nyour\\nhealthcare\\nprovider\\nafter\\ngiving\\nbirth.\\nHealthcare\\nproviders\\nrecommend\\nchecking\\nin\\nwithin\\nthree\\nweeks\\nof\\ngiving\\nbirth\\nand\\nseeing\\nthem\\nfor\\na\\nvisit\\nwithin\\n12\\nweeks.\\nMost\\npeople\\nsee\\ntheir\\nproviders\\nabout\\nsix\\nweeks\\nafter\\ngiving\\nbirth.\\nAbout\\n40%\\nof\\npeople\\ndo\\nnot\\nattend\\ntheir\\npostpartum\\nvisit.\\n2\\n●\\nDuring\\nyour\\nfollow-up\\nvisit,\\nyour\\nprovider\\nwill\\nask\\nabout\\nyour\\nphysical\\nand\\nemotional\\nhealth.\\nThey\\nwill\\ntalk\\nwith\\nyou\\nabout\\nyour\\nmood\\nand\\nany\\nsymptoms\\nyou\\nare\\nexperiencing.\\nYour\\nprovider\\nwill\\nlikely\\nexamine\\nyour\\nincisions\\nif\\nyou\\nhave\\nthem\\nand\\nwill\\nperform\\na\\npelvic\\nexam\\nto\\ndetermine\\nif\\nyou\\nhave\\nhealed\\nfrom\\nbirth.\\nTalk\\nwith\\nyour\\nprovider\\nabout\\nany\\nconcerns\\nyou\\nhave.\\nIf\\na\\nloved\\none\\nrecently\\ngave\\nbirth,\\nyou\\nmay\\nwonder\\nhow\\nbest\\nto\\nsupport\\nthem.\\nWays\\nto\\nshow\\nsupport\\ninclude:\\n●\\nListening\\nto\\ntheir\\nconcerns\\n●\\nLearning\\nthe\\nsigns\\nof\\npostpartum\\ndepression\\n●\\nProviding\\nrides\\nto\\nmedical\\nappointments\\n●\\nOffering\\nto\\nhelp\\ncare\\nfor\\nthe\\nbaby\\n●\\nAssisting\\nwith\\ndaily\\nchores\\nThe\\npostpartum\\nperiod\\nis\\nan\\nintense\\ntime\\nof\\nlife.\\nYou\\nwill\\nlikely\\nexperience\\nseveral\\nchanges,\\nboth\\nphysical\\nand\\nemotional.\\nIt\\nis\\nimportant\\nto\\nfocus\\non\\nyour\\nhealth\\nand\\nwell-being\\nin\\naddition\\nto\\nyour\\nnewborn.Women\\'s\\nHealth\\nConsiderations\\nPreconception\\nHealth\\nPreconception\\nhealth\\nis\\na\\nwoman\\'s\\nhealth\\nbefore\\nshe\\nbecomes\\npregnant.\\nIt\\nmeans\\nknowing\\nhow\\nhealth\\nconditions\\nand\\nrisk\\nfactors\\ncould\\naffect\\na\\nwoman\\nor\\nher\\nunborn\\nbaby\\nif\\nshe\\nbecomes\\npregnant.\\nFor\\nexample,\\nsome\\nfoods,\\nhabits,\\nand\\nmedicines\\ncan\\nharm\\nyour\\nbaby\\neven\\nbefore\\nhe\\nor\\nshe\\nis\\nconceived.\\nSome\\nhealth\\nproblems,\\nsuch\\nas\\ndiabetes,\\nalso\\ncan\\naffect\\npregnancy .\\nEvery\\nwoman\\nshould\\nbe\\nthinking\\nabout\\nher\\nhealth\\nwhether\\nor\\nnot\\nshe\\nis\\nplanning\\npregnancy .\\nOne\\nreason\\nis\\nthat\\nabout\\nhalf\\nof\\nall\\npregnancies\\nare\\nnot\\nplanned.\\nUnplanned\\npregnancies\\nare\\nat\\ngreater\\nrisk\\nof\\npreterm\\nbirth\\nand\\nlow\\nbirth\\nweight\\nbabies.\\nAnother\\nreason\\nis\\nthat,\\ndespite\\nimportant\\nadvances\\nin\\nmedicine\\nand\\nprenatal\\ncare,\\nabout\\n1\\nin\\n8\\nbabies\\nis\\nborn\\ntoo\\nearly .\\nResearchers\\nare\\ntrying\\nto\\nfind\\nout\\nwhy\\nand\\nhow\\nto\\nprevent\\npreterm\\nbirth.\\nBut\\nexperts\\nagree\\nthat\\nwomen\\nneed\\nto\\nbe\\nhealthier\\nbefore\\nbecoming\\npregnant.\\nBy\\ntaking\\naction\\non\\nhealth\\nissues\\nand\\nrisks\\nbefore\\npregnancy ,\\nyou\\ncan\\nprevent\\nproblems\\nthat\\nmight\\naffect\\nyou\\nor\\nyour\\nbaby\\nlater.\\nWomen\\nand\\nmen\\nshould\\nprepare\\nfor\\npregnancy\\nbefore\\nbecoming\\nsexually\\nactive\\nor\\nat\\nleast\\nthree\\nmonths\\nbefore\\ngetting\\npregnant.\\nSome\\nactions,\\nsuch\\nas\\nquitting\\nsmoking,\\nreaching\\na\\nhealthy\\nweight,\\nor\\nadjusting\\nmedicines\\nyou\\nare\\nusing,\\nshould\\nstart\\neven\\nearlier .\\nThe\\nfive\\nmost\\nimportant\\nthings\\nyou\\ncan\\ndo\\nfor\\npreconception\\nhealth\\nare:\\n1.\\nTake\\n400\\nto\\n800\\nmicrograms\\n(400\\nto\\n800\\nmcg\\nor\\n0.4\\nto\\n0.8\\nmg)\\nof\\nfolic\\nacid\\nevery\\nday\\nif\\nyou\\nare\\nplanning\\nor\\ncapable\\nof\\npregnancy\\nto\\nlower\\nyour\\nrisk\\nof\\nsome\\nbirth\\ndefects\\nof\\nthe\\nbrain\\nand\\nspine,\\nincluding\\nspina\\nbifida\\n.\\nAll\\nwomen\\nneed\\nfolic\\nacid\\nevery\\nday.\\nTalk\\nto\\nyour\\ndoctor\\nabout\\nyour\\nfolic\\nacid\\nneeds.\\nSome\\ndoctors\\nprescribe\\nprenatal\\nvitamins\\nthat\\ncontain\\nhigher\\namounts\\nof\\nfolic\\nacid.\\n2.\\nStop\\nsmoking\\nand\\ndrinking\\nalcohol.\\n3.\\nIf\\nyou\\nhave\\na\\nmedical\\ncondition,\\nbe\\nsure\\nit\\nis\\nunder\\ncontrol.\\nSome\\nconditions\\nthat\\ncan\\naffect\\npregnancy\\nor\\nbe\\naffected\\nby\\nit\\ninclude\\nasthma\\n,\\ndiabetes\\n,\\noral\\nhealth,\\nobesity\\n,\\nor\\nepilepsy\\n.\\n4.\\nTalk\\nto\\nyour\\ndoctor\\nabout\\nany\\nover-the-counter\\nand\\nprescription\\nmedicines\\nyou\\nare\\nusing.\\nThese\\ninclude\\ndietary\\nor\\nherbal\\nsupplements.\\nBe\\nsure\\nyour\\nvaccinations\\nare\\nup\\nto\\ndate.\\n5.\\nAvoid\\ncontact\\nwith\\ntoxic\\nsubstances\\nor\\nmaterials\\nthat\\ncould\\ncause\\ninfection\\nat\\nwork\\nand\\nat\\nhome.\\nStay\\naway\\nfrom\\nchemicals\\nand\\ncat\\nor\\nrodent\\nfeces.Reproductive\\nHealth\\n1.\\nMenstrual\\nCycle\\nAwareness\\n:\\nUnderstanding\\nthe\\nmenstrual\\ncycle\\nis\\ncrucial\\nfor\\npregnancy\\nplanning.\\nTracking\\nthe\\ncycle\\nhelps\\nidentify\\novulation,\\nthe\\nmost\\nfertile\\nperiod,\\nwhich\\nis\\nkey\\nfor\\ntiming\\nconception.\\nIrregular\\ncycles\\nmay\\nindicate\\nunderlying\\nhealth\\nissues\\nthat\\ncould\\naffect\\nfertility .\\n2.\\nOvulation\\nand\\nFertility\\nWindow\\n:\\nOvulation\\nusually\\noccurs\\naround\\n14\\ndays\\nbefore\\nthe\\nnext\\nperiod.\\nThis\\nis\\nwhen\\nan\\negg\\nis\\nreleased\\nand\\ncan\\nbe\\nfertilized.\\nThe\\nfertility\\nwindow ,\\ntypically\\na\\n5-6\\nday\\nperiod\\nincluding\\nthe\\nday\\nof\\novulation,\\nis\\nthe\\noptimal\\ntime\\nfor\\nconception.\\n3.\\nPreconception\\nHealth:\\nMaintaining\\ngood\\nreproductive\\nhealth\\nbefore\\ntrying\\nto\\nconceive\\nis\\nimportant.\\nThis\\nincludes\\na\\nbalanced\\ndiet,\\nregular\\nexercise,\\navoiding\\nsmoking\\nand\\nexcessive\\nalcohol,\\nand\\nmanaging\\nstress.\\nPreconception\\ncheck-ups\\ncan\\nhelp\\nidentify\\nand\\naddress\\nany\\npotential\\nhealth\\nissues.\\n4.\\nImpact\\nof\\nAge\\non\\nFertility\\n:\\nFertility\\nnaturally\\ndeclines\\nwith\\nage,\\nparticularly\\nafter\\nthe\\nage\\nof\\n35.\\nUnderstanding\\nthe\\nimpact\\nof\\nage\\non\\nboth\\negg\\nquality\\nand\\nquantity\\ncan\\nhelp\\nin\\nmaking\\ninformed\\ndecisions\\nabout\\nfamily\\nplanning.\\n5.\\nManaging\\nReproductive\\nHealth\\nConditions\\n:\\nConditions\\nlike\\nPolycystic\\nOvary\\nSyndrome\\n(PCOS),\\nendometriosis,\\nor\\nthyroid\\ndisorders\\ncan\\naffect\\nmenstrual\\nhealth\\nand\\nfertility .\\nEarly\\ndiagnosis\\nand\\nmanagement\\nof\\nthese\\nconditions\\ncan\\nimprove\\nthe\\nchances\\nof\\na\\nsuccessful\\npregnancy .\\nAge-Related\\nPregnancy\\nConcerns\\nFertility\\nDecline\\nwith\\nAge:\\n●\\nEgg\\nQuality\\nand\\nQuantity:\\nWomen\\'s\\nfertility\\ngradually\\ndeclines\\nstarting\\nin\\ntheir\\nlate\\n20s\\nand\\nmore\\nrapidly\\nafter\\nage\\n35.\\nBoth\\nthe\\nquality\\nand\\nquantity\\nof\\neggs\\ndecrease,\\nleading\\nto\\nreduced\\nchances\\nof\\nconception.\\n●\\nIncreased\\nRisk\\nof\\nMiscarriage:\\nThe\\nrisk\\nof\\nmiscarriage\\nincreases\\nwith\\nage\\ndue\\nto\\nchromosomal\\nabnormalities\\nin\\neggs.\\nIncreased\\nPregnancy\\nComplications:\\n●\\nHigh\\nBlood\\nPressure\\nand\\nDiabetes:\\nOlder\\npregnant\\nwomen\\nare\\nat\\nhigher\\nrisk\\nof\\ndeveloping\\nconditions\\nlike\\ngestational\\ndiabetes\\nand\\nhigh\\nblood\\npressure,\\nwhich\\ncan\\ncomplicate\\npregnancy .●\\nPlacental\\nIssues:\\nThere\\'s\\na\\nhigher\\nlikelihood\\nof\\nplacental\\nproblems,\\nsuch\\nas\\nplacenta\\nprevia\\nor\\nplacental\\nabruption,\\nwhich\\ncan\\naffect\\nthe\\nhealth\\nof\\nboth\\nmother\\nand\\nbaby .\\nHigher\\nRisk\\nof\\nGenetic\\nDisorders:\\n●\\nChromosomal\\nAbnormalities:\\nThe\\nrisk\\nof\\ngenetic\\nconditions,\\nsuch\\nas\\nDown\\nsyndrome,\\nincreases\\nwith\\nmaternal\\nage.\\nPrenatal\\nscreening\\nand\\ndiagnostic\\ntests\\nare\\noften\\nrecommended\\nfor\\nolder\\nmothers.\\nLabor\\nand\\nDelivery\\nChallenges:\\n●\\nIncreased\\nCesarean\\nSections:\\nOlder\\nmothers\\nare\\nmore\\nlikely\\nto\\nneed\\na\\ncesarean\\ndelivery\\ndue\\nto\\nfactors\\nlike\\nslower\\nlabor\\nprogression\\nor\\ncomplications\\nduring\\nchildbirth.\\n●\\nPreterm\\nBirth:\\nThe\\nrisk\\nof\\npreterm\\nbirth\\nis\\nhigher ,\\nwhich\\ncan\\nlead\\nto\\nadditional\\nhealth\\nchallenges\\nfor\\nthe\\nnewborn.\\nFertility\\nTreatments:\\n●\\nAssisted\\nReproductive\\nTechnologies\\n(ART):\\nWomen\\nover\\n35\\nmay\\nneed\\nfertility\\ntreatments\\nsuch\\nas\\nIVF\\n(In\\nVitro\\nFertilization)\\nto\\nconceive.\\nSuccess\\nrates\\nof\\nART\\ndecrease\\nwith\\nage,\\nand\\nmultiple\\ncycles\\nmay\\nbe\\nrequired.\\nManaging\\nChronic\\nConditions\\nDuring\\nPregnancy\\nPreconception\\nPlanning:\\n●\\nMedical\\nConsultation:\\nBefore\\nconception,\\nwomen\\nwith\\nchronic\\nconditions\\nlike\\ndiabetes\\nor\\nhypertension\\nshould\\nconsult\\nwith\\ntheir\\nhealthcare\\nprovider\\nto\\nassess\\nthe\\nrisks\\nand\\noptimize\\nhealth.\\nAdjustments\\nto\\nmedications\\nand\\nlifestyle\\nchanges\\nmay\\nbe\\nnecessary\\nto\\nprepare\\nthe\\nbody\\nfor\\npregnancy .\\nRegular\\nMonitoring\\nand\\nAdjustments:\\n●\\nFrequent\\nCheck-Ups:\\nRegular\\nprenatal\\nvisits\\nare\\ncrucial\\nfor\\nclosely\\nmonitoring\\nthe\\ncondition.\\nBlood\\npressure,\\nblood\\nglucose\\nlevels,\\nand\\nother\\nvital\\nsigns\\nshould\\nbe\\nfrequently\\nchecked\\nto\\ndetect\\nany\\nearly\\nsigns\\nof\\ncomplications.\\n●\\nMedication\\nManagement:\\nSome\\nmedications\\nmay\\nneed\\nto\\nbe\\nadjusted\\nor\\nreplaced\\nwith\\nsafer\\nalternatives\\nduring\\npregnancy\\nto\\navoid\\npotential\\nharm\\nto\\nthe\\ndeveloping\\nfetus.\\nDiet\\nand\\nLifestyle\\nModifications:\\n●\\nNutritional\\nSupport:\\nA\\nbalanced\\ndiet\\ntailored\\nto\\nthe\\ncondition\\n(e.g.,\\nlow-sodium\\nfor\\nhypertension,\\nlow-sugar\\nfor\\ndiabetes)\\ncan\\nhelp\\nmanage\\nsymptoms\\nand\\nreduce\\ncomplications.\\nWorking\\nwith\\na\\ndietitian\\nmay\\nbe\\nbeneficial.●\\nExercise:\\nSafe,\\nmoderate\\nexercise\\ncan\\nhelp\\ncontrol\\nblood\\npressure\\nand\\nblood\\nsugar\\nlevels.\\nHowever ,\\nit’s\\nimportant\\nto\\nconsult\\na\\nhealthcare\\nprovider\\nbefore\\nstarting\\nany\\nexercise\\nprogram.\\nRisk\\nof\\nPregnancy\\nComplications\\n:\\n●\\nMonitoring\\nfor\\nPreeclampsia:\\nWomen\\nwith\\nhypertension\\nare\\nat\\nhigher\\nrisk\\nfor\\npreeclampsia,\\na\\nserious\\ncondition\\nthat\\ninvolves\\nhigh\\nblood\\npressure\\nand\\ncan\\naffect\\nthe\\nkidneys\\nand\\nother\\norgans.\\nClose\\nmonitoring\\nand\\ntimely\\nintervention\\nare\\nessential.\\n●\\nRisk\\nof\\nPreterm\\nBirth:\\nChronic\\nconditions\\ncan\\nincrease\\nthe\\nlikelihood\\nof\\npreterm\\nbirth.\\nEarly\\nidentification\\nof\\nrisks\\nallows\\nfor\\nproactive\\nmanagement\\nand\\nplanning\\nfor\\npotential\\nearly\\ndelivery .\\nPostpartum\\nCare:\\n●\\nContinued\\nManagement:\\nAfter\\ndelivery ,\\nongoing\\ncare\\nis\\nessential\\nfor\\nboth\\nmother\\nand\\nbaby .\\nWomen\\nshould\\ncontinue\\nto\\nmonitor\\nand\\nmanage\\ntheir\\nchronic\\nconditions\\nto\\navoid\\npostpartum\\ncomplications.\\n●\\nBreastfeeding\\nConsiderations:\\nSome\\nmedications\\nmay\\naffect\\nbreastfeeding,\\nso\\nit’s\\nimportant\\nto\\ndiscuss\\nthis\\nwith\\na\\nhealthcare\\nprovider\\nto\\nensure\\nboth\\nmother\\nand\\nbaby’ s\\nhealth\\nis\\nmaintained.\\nSpecial\\nConsiderations\\nHigh-Risk\\nPregnancies\\nAll\\npregnancies\\ncarry\\nrisks.\\nThe\\ndefinition\\nof\\na\\nhigh-risk\\npregnancy\\nis\\nany\\npregnancy\\nthat\\ncarries\\nincreased\\nhealth\\nrisks\\nfor\\nthe\\npregnant\\nperson,\\nfetus\\nor\\nboth.\\nPeople\\nwith\\nhigh-risk\\npregnancies\\nmay\\nneed\\nextra\\nmedical\\ncare\\nbefore,\\nduring\\nand\\nafter\\nthey\\ngive\\nbirth.\\nThis\\nhelps\\nto\\nreduce\\nthe\\npossibility\\nand\\nseverity\\nof\\ncomplications.\\nBut\\nhaving\\na\\npregnancy\\nthat’s\\nconsidered\\nhigh\\nrisk\\ndoesn’ t\\nmean\\nyou\\nor\\nthe\\nfetus\\nwill\\nhave\\nhealth\\nproblems.\\nMany\\npeople\\nexperience\\nhealthy\\npregnancies\\nand\\nnormal\\nlabor\\nand\\ndelivery\\ndespite\\nhaving\\nspecial\\nhealth\\nneeds\\nleading\\nup\\nto\\nthe\\nbirth.\\nIt\\ncan\\nbe\\neasy\\nto\\npanic\\nand\\nworry\\nwhen\\nyou\\nhear\\nyour\\npregnancy\\ncare\\nprovider\\nsay\\nyour\\npregnancy\\nis\\nat\\na\\nhigher\\nrisk.\\nYou’re\\nnot\\nalone.\\nIt\\ndoesn’ t\\nmean\\nyour\\npregnancy\\nwill\\nautomatically\\nbe\\ndifficult.\\nIt\\nmay\\njust\\nmean\\nyour\\npregnancy\\ncare\\nteam\\nwatches\\nyou\\nmore\\nclosely .\\nTrust\\nyour\\nhealthcare\\nteam’ s\\nrecommendations\\nand\\nask\\nthem\\nfor\\nhelp\\nmanaging\\nyour\\nfeelings.\\nMany\\npeople\\nhave\\nhigh-risk\\npregnancies,\\nand\\nmost\\nend\\nin\\nhealthy\\nbabies.\\nRoutine\\nprenatal\\ncare\\ncan\\nhelp\\nensure\\nyour\\npregnancy\\nis\\nsafe,\\neven\\nif\\nit’s\\nhigh\\nrisk.Approximately\\n30,000\\nto\\n50,000\\npregnant\\npeople\\n(between\\n6%\\nand\\n8%)\\nin\\nthe\\nU.S.\\nhave\\nhigh-risk\\npregnancies\\nper\\nyear.Symptoms\\nand\\nCauses\\nA\\nhigh-risk\\npregnancy\\nmeans\\nyou\\nhave\\na\\nhigher -than-average\\nrisk\\nof\\nexperiencing\\na\\npregnancy\\ncomplication.\\nSome\\npregnancies\\nbegin\\nas\\nhigh\\nrisk,\\nwhile\\nothers\\nbecome\\nhigh\\nrisk\\nat\\nsome\\npoint\\nduring\\nthe\\npregnancy .\\nFactors\\nthat\\nmake\\na\\npregnancy\\nhigh\\nrisk\\ninclude:\\n●\\nPreexisting\\nhealth\\nconditions.\\nThese\\nare\\nhealth\\nconditions\\nyou\\nhave\\nbefore\\npregnancy .\\n●\\nPregnancy-related\\nhealth\\nconditions.\\nThese\\nare\\nconditions\\nyou\\ndevelop\\nonce\\npregnancy\\nbegins.\\n●\\nLifestyle\\nfactors\\n(including\\nsmoking\\n,\\nsubstance\\nuse\\ndisorder\\n,\\nalcohol\\nuse\\ndisorder\\nand\\nexposure\\nto\\ncertain\\ntoxins).\\nPeople\\nwith\\npreexisting\\nconditions\\nhave\\nincreased\\nhealth\\nrisks\\nduring\\npregnancy .\\nSome\\nof\\nthese\\nconditions\\ninclude:\\n●\\nAutoimmune\\ndiseases\\n,\\nsuch\\nas\\nlupus\\nor\\nmultiple\\nsclerosis\\n(MS)\\n.\\n●\\nDiabetes\\n.\\n●\\nHigh\\nblood\\npressure\\n.\\n●\\nFibroids\\n.\\n●\\nHIV/AIDS\\n.\\n●\\nKidney\\ndisease\\n.\\n●\\nObesity\\n.\\n●\\nMental\\nhealth\\ndisorders\\n,\\nsuch\\nas\\ndepression\\n.\\n●\\nPolycystic\\novary\\nsyndrome\\n(PCOS)\\n.\\n●\\nThyroid\\ndisease\\n.\\n●\\nBlood\\nclotting\\ndisorders\\n.\\nPregnancy-related\\nhealth\\nconditions\\nthat\\ncan\\ncause\\npotential\\ncomplications\\ninclude:\\n●\\nGestational\\ndiabetes\\n.\\n●\\nLow\\nbirth\\nweight\\n.\\n●\\nMultiple\\ngestation\\n(pregnancy\\nwith\\nmore\\nthan\\none\\nfetus,\\nsuch\\nas\\ntwins\\nor\\ntriplets\\n).\\n●\\nGestational\\nhypertension\\n,\\npreeclampsia\\n,\\nand\\neclampsia\\n.\\n●\\nPlacental\\nconditions\\nlike\\nplacenta\\nprevia\\nor\\na\\nplacental\\nabruption.\\n●\\nPrevious\\npreterm\\nbirth,\\nor\\nother\\ncomplications\\nwith\\nprevious\\npregnancies.\\n●\\nToo\\nmuch\\nor\\ntoo\\nlittle\\namniotic\\nfluid\\n.\\nThese\\nfactors\\nare\\nonly\\nsome\\nof\\nthe\\nconditions\\nor\\nfactors\\nthat\\nmay\\nresult\\nin\\nyour\\nprovider\\ncalling\\nyour\\npregnancy\\n“high\\nrisk.”\\nThe\\nlabel\\nisn’t\\nmeant\\nto\\nscare\\nyou.\\nRather ,\\nit’s\\na\\nway\\nfor\\nyourprovider\\nto\\nrecognize\\nand\\nidentify\\npotential\\ncomplications\\nto\\nkeep\\nyou\\nand\\nthe\\nfetus\\nsafe\\nthrough\\npregnancy\\nand\\ndelivery .\\nTalk\\nto\\nyour\\npregnancy\\ncare\\nprovider\\nright\\naway\\nif\\nyou\\nexperience\\nany\\nof\\nthe\\nfollowing\\nsymptoms\\nduring\\npregnancy ,\\nregardless\\nof\\nif\\nyour\\npregnancy\\nis\\nhigh\\nrisk\\nor\\nlow\\nrisk:\\n●\\nAbdominal\\npain\\nthat\\ndoesn’ t\\ngo\\naway .\\n●\\nChest\\npain\\n.\\n●\\nDizziness\\nor\\nfainting.\\n●\\nExtreme\\nfatigue\\n.\\n●\\nThe\\nfetus’ s\\nmovement\\nstopping\\nor\\nslowing.\\n●\\nHeart\\npalpitations\\n.\\n●\\nNausea\\nand\\nvomiting\\nthat’s\\nworse\\nthan\\ntypical\\nmorning\\nsickness\\n.\\n●\\nSevere\\nheadache\\nthat\\nwon’ t\\ngo\\naway\\nor\\ngets\\nworse.\\n●\\nSwelling,\\nredness\\nor\\npain\\nin\\nyour\\nface\\nor\\nlimbs.\\n●\\nThoughts\\nabout\\nharming\\nyourself\\n.\\n●\\nTrouble\\nbreathing.\\n●\\nVaginal\\nbleeding\\nor\\nincreased\\ndischar ge\\n.\\nAge\\nalone\\nisn’t\\na\\ndetermining\\nfactor\\nin\\na\\nhigh-risk\\npregnancy .\\nYour\\npregnancy\\ncare\\nprovider\\ndetermines\\nif\\nyour\\npregnancy\\nis\\nlikely\\nto\\nhave\\ncomplications\\nbased\\non\\nseveral\\nother\\nfactors.\\nA\\nhigh-risk\\npregnancy\\ncan\\nbe\\nlife-threatening\\nfor\\nthe\\npregnant\\nperson\\nor\\nfetus.\\nSome\\nof\\nthe\\nmost\\ncommon\\ncomplications\\ncan\\ninclude:\\n●\\nPreeclampsia-spectrum\\ndisorders,\\nincluding\\ngestational\\nhypertension,\\npreeclampsia\\nand\\neclampsia.\\n●\\nPreterm\\ndelivery\\n.\\n●\\nCesarean\\ndelivery\\n.\\n●\\nExcessive\\nbleeding\\nduring\\nlabor\\nand\\ndelivery ,\\nor\\nafter\\nbirth\\n(\\npostpartum\\nhemorrhage\\n).\\n●\\nLow\\nbirth\\nweight\\n.\\n●\\nBirth\\ndefects\\n(problems\\nwith\\nthe\\ndevelopment\\nof\\na\\nbaby’ s\\norgans\\nsuch\\nas\\nthe\\nheart\\nor\\nbrain,\\nalso\\ncalled\\ncongenital\\nconditions).\\n●\\nNeonatal\\nintensive\\ncare\\nunit\\n(NICU)\\nadmission\\nfor\\nyour\\nbaby .\\n●\\nIntensive\\ncare\\nunit\\n(ICU)\\nadmission\\nfor\\nyou.\\n●\\nMiscarriage\\n.\\n●\\nStillbirth\\n.\\nIt’s\\nimportant\\nto\\ntalk\\nto\\nyour\\npregnancy\\ncare\\nprovider\\nabout\\nyour\\nrisks\\nfor\\nthese\\ncomplications.\\nAsk\\nthem\\nany\\nquestions\\nyou\\nhave.\\nWith\\nproper\\nmonitoring\\nand\\ncare,\\nyou\\nand\\nyour\\nproviders\\nmay\\nbe\\nable\\nto\\nreduce\\nyour\\nrisk\\nof\\nhaving\\nthese\\nor\\nother\\ncomplications.Diagnosis\\nand\\nTests\\nGetting\\nearly\\nand\\nthorough\\nprenatal\\ncare\\nas\\nsoon\\nas\\nyou\\nknow\\nyou’re\\npregnant\\nis\\ncritical.\\nIt’s\\nthe\\nbest\\nway\\nto\\ndetect\\nand\\nmanage\\na\\nhigh-risk\\npregnancy .\\nBe\\nsure\\nto\\ntell\\nyour\\nhealthcare\\nprovider\\nabout\\nyour\\nhealth\\nhistory\\nand\\nany\\npast\\npregnancies.\\nIf\\nyou\\ndo\\nhave\\na\\nhigh-risk\\npregnancy ,\\nyou\\nmay\\nneed\\nspecial\\nmonitoring\\nthroughout\\nyour\\npregnancy .\\nTests\\nto\\nmonitor\\nyour\\nhealth\\nand\\nthe\\nhealth\\nof\\nthe\\nfetus\\nduring\\npregnancy\\nmay\\ninclude:\\n●\\nBlood\\nand\\nurine\\ntesting\\nto\\ncheck\\nyour\\nhealth\\nand\\nthe\\nfetus’ s\\nrisk\\nfor\\ngenetic\\nconditions.\\n●\\nUltrasound\\n,\\nwhich\\nuses\\nsound\\nwaves\\nto\\ncreate\\nimages\\nof\\nthe\\nfetus\\nto\\nensure\\nthe\\nfetus\\nis\\ndeveloping\\nappropriately .\\nPeople\\nwith\\nhigh-risk\\npregnancies\\nusually\\nhave\\nmore\\nfrequent\\nultrasounds.\\n●\\nOther\\nultrasound\\nand\\nfetal\\nheart\\nrate\\nmonitoring\\ntests\\nthat\\ncheck\\non\\nthe\\noverall\\nhealth\\nof\\nthe\\nfetus\\nand\\nplacenta,\\ncalled\\na\\nbiophysical\\nprofile\\nand\\nnonstress\\ntest\\n.\\nManagement\\nand\\nTreatment\\n●\\nCloser\\nmonitoring\\nfrom\\nyour\\nobstetrician\\n.\\n●\\nConsultation\\nwith\\na\\nmaternal-fetal\\nmedicine\\nspecialist.\\n●\\nConsultation\\nwith\\nother\\nmedical\\nspecialists.\\n●\\nMore\\nultrasounds\\nand\\ncloser\\nfetal\\nevaluation.\\n●\\nHome\\nblood\\npressure\\nmonitoring.\\n●\\nCareful\\nmonitoring\\nof\\nmedications\\nused\\nto\\nmanage\\npreexisting\\nconditions.\\nIf\\nthere\\nare\\nsigns\\nthat\\nthe\\npregnancy\\nis\\nin\\ndanger ,\\nyour\\nhealthcare\\nprovider\\nmay\\nrecommend\\nlabor\\ninduction\\nor\\na\\ncesarean\\ndelivery\\nearlier\\nthan\\nplanned.\\nIt\\ndepends.\\nTypical\\nlow-risk\\npregnancies\\nhave\\ntwo\\nto\\nthree\\nultrasounds\\nthroughout\\npregnancy .\\nHow\\nmany\\nadditional\\nultrasounds\\nyour\\npregnancy\\ncare\\nprovider\\nrecommends\\nwill\\nbe\\nunique\\nto\\nyou\\n(but\\nyou’ll\\nlikely\\nhave\\nmore\\nthan\\nthree).\\nYour\\nprovider\\nwill\\nlet\\nyou\\nknow\\nhow\\nmany\\nadditional\\nultrasounds\\nyou\\ncan\\nexpect\\nto\\nhave\\nif\\nyour\\npregnancy\\nis\\nhigh\\nrisk\\nand\\nwhen\\nthese\\nshould\\nhappen.\\nPrevention\\n:\\n●\\nAvoiding\\nbeverages\\ncontaining\\nalcohol\\nand\\nany\\nnonprescription\\ndrugs\\nor\\nmedications.\\n●\\nIdentifying\\npotential\\nhealth\\nrisks\\nbefore\\ngetting\\npregnant.\\nTell\\nyour\\nprovider\\nabout\\nyour\\nfamilial\\nand\\npersonal\\nmedical\\nhistory .\\n●\\nMaintaining\\na\\nbody\\nweight\\nthat’s\\nhealthy\\nfor\\nyou\\nbefore\\npregnancy .\\n●\\nManaging\\nany\\npreexisting\\nhealth\\nconditions\\nyou\\nmay\\nhave.\\n●\\nMaking\\nsure\\nany\\nlong-term\\nmedications\\nare\\nsafe\\nto\\ntake\\nduring\\npregnancy .\\n●\\nQuitting\\nsmoking\\n.Multiple\\nPregnancies\\n(twins,\\ntriplets)\\n●\\nA\\npregnancy\\nwhere\\nmore\\nthan\\none\\nbaby\\nis\\ncarried\\nat\\nthe\\nsame\\ntime.\\n○\\nTwins:\\nTwo\\nbabies.\\n○\\nTriplets:\\nThree\\nbabies.\\n○\\nHigh-Order\\nMultiples:\\nMore\\nthan\\nthree\\nbabies.\\nMultiple\\nPregnancies\\nOccur\\nwhen\\n:\\n1.\\nFertilized\\nEgg\\nSplitting:\\nOne\\negg\\nsplits\\ninto\\nmultiple\\nembryos\\n(identical\\nsiblings).\\n2.\\nSeparate\\nEggs\\nFertilized:\\nMultiple\\neggs\\nare\\nfertilized\\nby\\ndifferent\\nsperm\\n(fraternal\\nsiblings).\\nTypes\\nof\\nMultiples\\n●\\nIdentical\\nMultiples:\\nResult\\nfrom\\none\\negg\\nsplitting\\ninto\\nmultiple\\nembryos;\\nthey\\nare\\ngenetically\\nidentical\\nand\\nof\\nthe\\nsame\\nsex.\\n●\\nFraternal\\nMultiples:\\nResult\\nfrom\\nseparate\\neggs\\nfertilized\\nby\\ndifferent\\nsperm;\\nthey\\nmay\\nor\\nmay\\nnot\\nbe\\nidentical\\nand\\ncan\\nbe\\nof\\ndifferent\\nsexes.\\n●\\nMixed\\nTypes:\\nPossible\\nin\\npregnancies\\nwith\\nmore\\nthan\\none\\negg\\nand\\nsplits;\\ne.g.,\\nsome\\nidentical\\nand\\nsome\\nfraternal.\\nFactors\\nIncreasing\\nthe\\nRisk\\nof\\nMultiple\\nPregnancy\\n●\\nAge:\\nWomen\\nin\\ntheir\\n30s\\nare\\nmore\\nlikely\\nto\\nrelease\\nmultiple\\neggs.\\n●\\nGenetics:\\nFamily\\nhistory\\nof\\ntwins\\nor\\nbeing\\na\\ntwin\\nyourself.\\n●\\nFertility\\nTreatments:\\nUse\\nof\\nfertility\\ndrugs\\nor\\nprocedures\\nlike\\nIVF.\\n●\\nBody\\nSize:\\nTaller\\nheight\\nand\\nhigher\\nbody\\nweight\\ncan\\nincrease\\nthe\\nlikelihood.\\nSigns\\nof\\nMultiple\\nPregnancy\\n●\\nUltrasound:\\nThe\\nprimary\\nmethod\\nto\\nconfirm\\nmultiple\\npregnancies.\\n●\\nSymptoms:\\nMore\\nintense\\nmorning\\nsickness,\\nrapid\\nweight\\ngain,\\nsore\\nbreasts,\\nhigh\\nhCG\\nlevels,\\nand\\nelevated\\nalpha-fetoprotein.\\nComplications\\nAssociated\\nwith\\nMultiple\\nPregnancies\\n●\\nPremature\\nLabor\\nand\\nBirth:\\nHigher\\nrisk\\nof\\ndelivering\\nbefore\\n37\\nweeks;\\nassociated\\nwith\\nlow\\nbirth\\nweight.\\n●\\nPreeclampsia\\nand\\nGestational\\nHypertension:\\nIncreased\\nrisk\\nof\\nhigh\\nblood\\npressure\\nand\\npreeclampsia.\\n●\\nGestational\\nDiabetes:\\nIncreased\\nrisk\\ndue\\nto\\nhormonal\\nchanges\\nand\\nplacental\\nsize.\\n●\\nPlacenta\\nAbruption:\\nHigher\\nlikelihood\\nof\\nplacenta\\ndetaching\\nfrom\\nthe\\nuterus.●\\nFetal\\nGrowth\\nRestriction:\\nRisk\\nof\\nbabies\\nnot\\ngrowing\\nat\\nthe\\nproper\\nrate.\\nUnique\\nComplications\\nfor\\nIdentical\\nTwins\\n●\\nTwin-T win\\nTransfusion\\nSyndrome\\n(TTTS):\\nBlood\\nsharing\\nbetween\\ntwins\\nthrough\\nplacental\\nconnections.\\n●\\nTwin-Anemia-Polycythemia\\nSequence\\n(TAPS):\\nOne\\ntwin\\nbecomes\\nanemic,\\nwhile\\nthe\\nother\\nbecomes\\npolycythemic.\\n●\\nSelective\\nIUGR:\\nUnequal\\ngrowth\\nbetween\\ntwins.\\n●\\nTwin-Reversed-Arterial-Perfusion\\nSyndrome:\\nOne\\ntwin’ s\\nheart\\npumps\\nblood\\nfor\\nboth\\ntwins.\\nDelivery\\nConsiderations\\n●\\nC-Section:\\nHigher\\nlikelihood\\nfor\\nmultiple\\nbirths;\\ncan\\nbe\\ndue\\nto\\nbabies’\\nposition\\nor\\ncomplications.\\n●\\nPlanning:\\nYour\\nhealthcare\\nprovider\\nwill\\nmonitor\\nand\\ndiscuss\\nthe\\nsafest\\ndelivery\\noptions.\\nHealth\\nManagement\\nDuring\\na\\nMultiple\\nPregnancy\\n●\\nNutrition:\\nIncreased\\ncalorie\\nintake;\\n300\\nextra\\ncalories\\nper\\nbaby\\nper\\nday.\\n●\\nRest\\nand\\nCare:\\nAdequate\\nrest\\nand\\nself-care\\nare\\nessential;\\nconsider\\nseeing\\na\\nspecialist.\\n●\\nExercise:\\nLow-impact\\nactivities\\nlike\\nswimming,\\nwalking,\\nand\\nprenatal\\nyoga\\nare\\ngenerally\\nrecommended.\\nAvoid\\nhigh-impact\\nexercises\\nunless\\nadvised\\notherwise.\\nPregnancy\\nAfter\\nMiscarriage\\nor\\nInfertility\\nMiscarriage\\ncan\\ncause\\nstrong\\nfeelings\\nof\\nloss.\\nYou\\nand\\nyour\\npartner\\nalso\\nmight\\nfeel\\nsad,\\nanxious\\nor\\nguilty .\\nGive\\nyourselves\\ntime\\nto\\ngrieve.\\nIf\\nyou\\'re\\ndepressed,\\ntalk\\nto\\na\\nhealthcare\\nprofessional\\nabout\\ntreatment.Most\\ncouples\\nare\\ntold\\nnot\\nto\\nhave\\nsex\\nfor\\ntwo\\nweeks\\nafter\\na\\nmiscarriage.\\nThis\\nis\\nto\\nprevent\\nan\\ninfection.\\nBut\\nyou\\ncan\\nbecome\\npregnant\\nas\\nsoon\\nas\\ntwo\\nweeks\\nafter\\na\\nmiscarriage.\\nOnce\\nyou\\nfeel\\nready\\nfor\\nanother\\npregnancy ,\\nask\\nyour\\nhealthcare\\nprofessional\\nto\\nguide\\nyou.\\nAfter\\none\\nmiscarriage,\\nyou\\nmight\\nnot\\nneed\\nto\\nwait\\nto\\ntry\\nagain.\\nAfter\\ntwo\\nor\\nmore\\nmiscarriages,\\nyour\\nhealthcare\\nprofessional\\nmight\\nsuggest\\ntesting\\nbefore\\nyou\\ntry\\nto\\nconceive.\\nIf\\nyou\\nhave\\ntwo\\nor\\nmore\\nmiscarriages\\nin\\na\\nrow,\\nyour\\nhealthcare\\nprofessional\\nmight\\nsuggest\\ntesting\\nto\\ntry\\nto\\nfind\\nthe\\ncause\\nbefore\\nyou\\ntry\\nto\\nget\\npregnant\\nagain.\\nTests\\nmight\\ninclude:\\n●\\nBlood\\ntests.\\nTesting\\na\\nsample\\nof\\nyour\\nblood\\ncan\\nhelp\\nfind\\nout\\nif\\nyour\\nhormones\\nor\\nyour\\nimmune\\nsystem\\naren\\'t\\nworking\\nas\\nthey\\nshould.\\n●\\nChromosomal\\ntests.\\nYou\\nand\\nyour\\npartner\\nmight\\nboth\\nhave\\nyour\\nblood\\ntested\\nto\\nsee\\nif\\nyour\\nchromosomes\\nare\\na\\nfactor .\\nIf\\nthere\\'s\\ntissue\\nfrom\\nthe\\nmiscarriage,\\nit\\nalso\\nmay\\nbe\\ntested.Other\\ntests\\nmay\\nbe\\nsuggested,\\ntoo,\\nsuch\\nas\\nan\\nultrasound\\nor\\nan\\nMRI,\\nto\\nhelp\\nfind\\nconditions\\nthat\\neffect\\nthe\\nuterus.\\nIf\\nthe\\ncause\\nof\\nyour\\nmiscarriages\\ncan\\'t\\nbe\\nfound,\\ndon\\'t\\ngive\\nup.\\nMost\\npeople\\nwho\\nhave\\nmore\\nthan\\none\\nmiscarriage\\ngo\\non\\nto\\nhave\\nhealthy\\npregnancies.\\nCultural\\nand\\nReligious\\nConsiderations\\nin\\nPregnancy\\nCare\\nDietary\\nRestrictions:\\n●\\nCultural\\nand\\nReligious\\nDiets:\\nSome\\ncultures\\nand\\nreligions\\nhave\\nspecific\\ndietary\\npractices\\nor\\nrestrictions\\nduring\\npregnancy ,\\nsuch\\nas\\navoiding\\ncertain\\nfoods\\nor\\nfasting\\nperiods.\\nAdapting\\nprenatal\\nnutrition\\nto\\nrespect\\nthese\\npractices\\nwhile\\nensuring\\nmaternal\\nand\\nfetal\\nhealth\\nis\\nessential.\\nPrenatal\\nand\\nBirth\\nPractices:\\n●\\nTraditional\\nPractices:\\nCertain\\ncultures\\nhave\\nunique\\nprenatal\\ncare\\npractices,\\nincluding\\nspecific\\nrituals\\nor\\nhealth\\ncare\\npractices.\\nUnderstanding\\nand\\nincorporating\\nthese\\ntraditions\\ncan\\nsupport\\nthe\\nemotional\\nand\\npsychological\\nwell-being\\nof\\nthe\\nexpectant\\nmother .\\n●\\nPreferred\\nBirth\\nSettings:\\nPreferences\\nfor\\nbirth\\nsettings\\nand\\npractices,\\nsuch\\nas\\nhome\\nbirths\\nor\\nspecific\\nbirthing\\npositions,\\ncan\\nbe\\ninfluenced\\nby\\ncultural\\nor\\nreligious\\nbeliefs.\\nHealth\\nCare\\nProvider\\nPreferences:\\n●\\nProvider\\nGender:\\nSome\\ncultures\\nand\\nreligions\\nmay\\nprefer\\nhealth\\ncare\\nproviders\\nof\\na\\nspecific\\ngender .\\nEnsuring\\nthat\\npatient\\npreferences\\nare\\nrespected\\ncan\\nimprove\\ncomfort\\nand\\ncare\\nsatisfaction.\\nReligious\\nObservances:\\n●\\nFasting\\nand\\nRituals:\\nReligious\\nobservances\\nlike\\nfasting\\nduring\\ncertain\\ntimes\\n(e.g.,\\nRamadan)\\nmay\\nimpact\\nprenatal\\ncare\\nand\\nnutrition.\\nPlanning\\nand\\nmodifying\\ncare\\nto\\naccommodate\\nthese\\nobservances\\nis\\nimportant\\nfor\\nmaintaining\\nhealth.\\nPostnatal\\nPractices:\\n●\\nConfinement\\nand\\nRest:\\nMany\\ncultures\\nhave\\ntraditional\\npostnatal\\npractices,\\nsuch\\nas\\nconfinement\\nperiods\\nor\\nspecific\\nrest\\npractices.\\nIncorporating\\nthese\\npractices\\nwhile\\nproviding\\nmodern\\nmedical\\nadvice\\ncan\\nsupport\\nboth\\ncultural\\nrespect\\nand\\neffective\\nrecovery .Support\\nSystems\\nRole\\nof\\nPartners\\nand\\nFamily\\nin\\nPregnancy\\nCare\\nActive\\npartner\\ninvolvement\\nduring\\npregnancy\\nis\\nan\\neffective\\nstrategy\\nto\\nenhance\\nboth\\nmaternal\\nand\\nnewborn\\nhealth\\noutcomes.\\nThe\\npresence\\nof\\na\\nsupportive\\npartner\\nequips\\nwomen\\nwith\\na\\nheightened\\nsense\\nof\\nempowerment\\nto\\ndeal\\nwith\\nthe\\nchallenges\\nof\\npregnancy ,\\nincluding\\nmaintaining\\na\\nhealthy\\ndiet\\nduring\\npregnancy ,\\nwhich\\nis\\nimportant\\nfor\\nthe\\nhealth\\nof\\nboth\\nthe\\nmother\\nand\\nchild.\\nHowever ,\\nlittle\\ninformation\\nexists\\nregarding\\nthe\\npartner ’s\\nrole\\nin\\nencouraging\\na\\npregnant\\nwoman’ s\\nhealthy\\ndietary\\nchoices.\\nThis\\nstudy\\naimed\\nto\\nexplore\\nthe\\nperspectives\\nof\\npregnant\\nwomen\\nand\\ntheir\\npartners\\nconcerning\\nthe\\npartner ’s\\nrole\\nin\\npromoting\\na\\nhealthy\\ndietary\\nintake\\nduring\\npregnancy .\\nSixteen\\nsemi-structured\\ncouple\\ninterviews\\nwere\\nconducted\\nin\\nthe\\nNetherlands,\\ninvolving\\nexpecting\\ncouples.\\nBased\\non\\nBerkman’ s\\nsocial\\nnetworks\\nand\\nsupport\\ntheory ,\\nwe\\ncategorized\\nvarious\\nforms\\nof\\nsupport\\nas\\nemotional,\\ninstrumental,\\nappraisal,\\nand\\ninformational.\\nThe\\ninterviews\\nwere\\naccurately\\nrecorded,\\ntranscribed\\nverbatim,\\nand\\nanalyzed\\nusing\\nan\\ninductive\\napproach.\\nIn\\ngeneral,\\npregnant\\nwomen\\nreported\\nbeing\\npositive\\nregarding\\nthe\\nsupport\\nthey\\nreceived\\nfrom\\ntheir\\npartners.\\nPartners\\nprimarily\\noffered\\ninstrumental\\nsupport\\nto\\npregnant\\nwomen,\\nsuch\\nas\\ncooking,\\ngrocery\\nshopping,\\nand\\nhelping\\nthem\\navoid\\nunsafe\\nfoods.\\nPartners\\nprovided\\ninformational\\nsupport,\\nmainly\\nabout\\nfoods\\nconsidered\\nunsafe\\nduring\\npregnancy .\\nEmotional\\nsupport\\nwas\\nrelatively\\nless\\ncommon.\\nThe\\nprimary\\nmotives\\nfor\\ngiving\\nsupport\\nwere\\npregnancy-related\\nsymptoms,\\nthe\\nimportance\\nof\\nthe\\nhealth\\nof\\nthe\\nmother\\nand\\nbaby ,\\nand\\nsolidarity\\nwith\\nthe\\npregnant\\nwoman.\\nSupport\\nfrom\\nthe\\npartner\\nwas\\nmore\\nwillingly\\naccepted\\nby\\npregnant\\nwomen\\nif\\nthe\\nsupport\\nwas\\nperceived\\nas\\nbeing\\nhelpful,\\nshowing\\ninvolvement,\\nand\\npositive.\\nConversely ,\\npartner\\nsupport\\nwas\\nnot\\naccepted\\nif\\nit\\nwas\\nperceived\\nas\\njudgmental\\nor\\nunwanted.\\nThe\\nmajority\\nof\\npregnant\\nwomen\\nwere\\nsatisfied\\nwith\\nthe\\nsupport\\nreceived\\nfrom\\ntheir\\npartners,\\nalthough\\nthere\\nare\\nopportunities\\nfor\\na\\npartner\\nto\\nprovide\\nmore\\nsupport\\nto\\nimprove\\nthe\\ndietary\\nintake\\nof\\npregnant\\nwomen.\\nTo\\noptimize\\nthis\\nsupport,\\npartners\\nare\\nadvised\\nto\\ntailor\\ntheir\\nsupport\\nto\\nthe\\nneeds\\nand\\nexpectations\\nof\\npregnant\\nwomen.\\nPersonalizing\\ndietary\\nsupport\\ncan\\nbe\\nachieved\\nby\\ncouples\\ncommunicating\\ntheir\\ndietary\\nwishes\\nand\\nexpectations\\nregarding\\nsupport.\\nWorkplace\\nConsiderations\\nand\\nMaternity\\nLeave\\n●\\nMaternity\\nLeave:\\nA\\nsanctioned\\nperiod\\nfor\\nworking\\nwomen\\nto\\ntake\\nleave\\nbefore\\nand/or\\nafter\\nchildbirth,\\nas\\nper\\nthe\\nMaternity\\nBenefit\\nAct\\nof\\n1961.\\nLegal\\nFramework\\n●\\nMaternity\\nBenefit\\nAct,\\n1961:\\nInitially\\nprovided\\n12\\nweeks\\nof\\nleave.●\\nMaternity\\nBenefit\\n(Amendment)\\nAct,\\n2017:\\nExtended\\nleave\\nto\\n26\\nweeks,\\nincluding\\nprovisions\\nfor\\nwork-from-home\\nand\\nadditional\\npaid\\ndays.\\n3.\\nKey\\nProvisions\\n●\\nDuration:\\nUp\\nto\\n26\\nweeks.\\n●\\nPayment:\\nFull\\nsalary\\nduring\\nleave.\\n●\\nJob\\nSecurity:\\nReinstatement\\nto\\nthe\\noriginal\\nposition\\nwith\\nthe\\nsame\\nconditions.\\n●\\nMedical\\nBenefits:\\nCoverage\\nfor\\npre-natal\\nand\\npost-natal\\ncare.\\n●\\nRecent\\nChanges:\\nIncludes\\nwork-from-home\\noptions\\nand\\nadditional\\npaid\\nleave.\\n4.\\nEligibility\\nCriteria\\n●\\nQualifying\\nPeriod:\\nMinimum\\nduration\\nof\\ncontinuous\\nservice\\nwith\\nthe\\nemployer\\nbefore\\nexpected\\ndelivery .\\n●\\nDuration\\nof\\nService:\\nSpecifies\\nthe\\nminimum\\nwork\\nperiod\\nrequired.\\n●\\nInclusivity:\\nDesigned\\nto\\ncover\\nvarious\\nprofessional\\nscenarios.\\n●\\nLegal\\nCompliance:\\nEnsures\\nadherence\\nto\\nthe\\nMaternity\\nBenefit\\nAct\\nby\\nboth\\nemployees\\nand\\nemployers.\\n5.\\nRules\\nand\\nProcedures\\n●\\nTiming\\nof\\nLeave:\\n○\\nPre-Delivery:\\nCan\\nstart\\nbefore\\ndelivery\\nbased\\non\\nmedical\\nadvice.\\n○\\nPost-Delivery:\\nCan\\ncommence\\nafter\\ndelivery\\nif\\nneeded.\\n●\\nDocumentation:\\n○\\nMedical\\nCertification:\\nRequired\\nfor\\nconfirming\\npregnancy\\nand\\nongoing\\nmedical\\nneeds.\\n○\\nEmployer\\nCommunication:\\nEmployees\\nmust\\nformally\\ninform\\nemployers\\nabout\\ntheir\\nleave\\nplans.\\n6.\\nSector-Specific\\nPolicies\\n●\\nPrivate\\nSector:\\nOften\\nfollows\\nstatutory\\nprovisions\\nbut\\nmay\\noffer\\nadditional\\nbenefits.\\n●\\nPublic\\nSector:\\nAdheres\\nto\\ngovernment\\nguidelines\\nfor\\nuniformity\\nin\\nmaternity\\nleave\\nprovisions.\\n7.\\nBenefits\\n●\\nPaid\\nLeave:\\nEnsures\\nfinancial\\nsupport\\nduring\\nthe\\nabsence.\\n●\\nJob\\nSecurity:\\nGuarantees\\nreturn\\nto\\nthe\\nsame\\njob\\nand\\nconditions.\\n●\\nMedical\\nCoverage:\\nIncludes\\nprenatal\\nand\\npostnatal\\ncare\\nunder\\nemployer\\nhealthcare\\nplans.8.\\nChallenges\\n●\\nFor\\nEmployees:\\nFinancial\\nconstraints,\\ncareer\\nsetbacks,\\nand\\nsocietal\\npressures.\\n●\\nFor\\nEmployers:\\nWorkforce\\nplanning,\\ntemporary\\nreplacements,\\nand\\nmaintaining\\nproductivity .\\n9.\\nOnsurity’s\\nGroup\\nHealth\\nInsurance\\n●\\nPrenatal\\nCare:\\nCovers\\ncheck-ups\\nand\\nconsultations.\\n●\\nDelivery\\nCosts:\\nIncludes\\nhospitalisation\\nand\\nmedical\\nexpenses.\\n●\\nPostnatal\\nCare:\\nSupports\\npostnatal\\nmedical\\nneeds.\\n●\\nEfficient\\nClaims:\\nStreamlined\\nand\\nuser-friendly\\nclaims\\nprocess.\\n●\\nTransparent\\nCommunication:\\nClear\\ninformation\\nabout\\nclaims\\nstatus.\\nUnderstanding\\nand\\nadhering\\nto\\nmaternity\\nleave\\nlaws\\nin\\nIndia\\nis\\nessential\\nfor\\nfostering\\na\\nsupportive\\nworkplace\\nand\\nensuring\\ncompliance.\\nThe\\nMaternity\\nBenefit\\nAct\\nprovides\\ncomprehensive\\nsupport,\\npromoting\\nboth\\nthe\\nwell-being\\nof\\nemployees\\nand\\na\\npositive\\nwork\\nenvironment.\\nPCOD\\n(Polycystic\\nOvarian\\nDisease)\\nand\\nIts\\nEffect\\non\\nPregnancy\\nPCOD\\nis\\na\\ncondition\\nwhere\\nthe\\novaries\\nproduce\\na\\nhigher -than-normal\\nnumber\\nof\\nimmature\\nor\\npartially\\nmature\\neggs,\\nwhich\\noften\\ndevelop\\ninto\\ncysts\\non\\nthe\\novaries\\nover\\ntime.\\nThis\\ncan\\nlead\\nto\\nhormonal\\nimbalances,\\nirregular\\nmenstrual\\ncycles,\\nand\\nfertility\\nissues.\\nTypes\\nof\\nPCOD\\nPCOD\\nis\\noften\\ncategorized\\nbased\\non\\nthe\\nsymptoms\\nand\\nunderlying\\nhormonal\\nimbalances.\\nWhile\\nthere\\nis\\nno\\nuniversally\\nagreed-upon\\nclassification,\\nPCOD\\nis\\ngenerally\\ndivided\\ninto\\nthe\\nfollowing\\ntypes:\\n●\\nInsulin-Resistant\\nPCOD:\\n○\\nCharacteristics:\\nThe\\nmost\\ncommon\\ntype,\\nwhere\\nthe\\nbody\\nbecomes\\nresistant\\nto\\ninsulin,\\nleading\\nto\\nhigher\\ninsulin\\nlevels\\nand,\\nconsequently ,\\nan\\nincrease\\nin\\nandrogen\\nproduction.\\n○\\nSymptoms:\\nWeight\\ngain,\\ndifficulty\\nlosing\\nweight,\\nskin\\ndarkening\\n(acanthosis\\nnigricans),\\nand\\nhair\\nloss.\\n○\\nEffects\\non\\nPregnancy:\\nInsulin\\nresistance\\ncan\\nincrease\\nthe\\nrisk\\nof\\ngestational\\ndiabetes\\nand\\ncomplicate\\npregnancy\\nmanagement.\\n●\\nInflammatory\\nPCOD:○\\nCharacteristics:\\nThis\\ntype\\nis\\ncharacterized\\nby\\nchronic\\ninflammation,\\nwhich\\ncan\\nlead\\nto\\nhigher\\nandrogen\\nlevels,\\novulatory\\ndysfunction,\\nand\\nfertility\\nissues.\\n○\\nSymptoms:\\nIncreased\\nlevels\\nof\\ninflammatory\\nmarkers\\n(e.g.,\\nC-reactive\\nprotein),\\nunexplained\\nfatigue,\\njoint\\npain,\\nand\\nskin\\nconditions\\nlike\\npsoriasis.\\n○\\nEffects\\non\\nPregnancy:\\nInflammation\\ncan\\nincrease\\nthe\\nrisk\\nof\\npregnancy\\ncomplications,\\nsuch\\nas\\npreeclampsia\\nand\\nmiscarriage.\\n●\\nAdrenal\\nPCOD:\\n○\\nCharacteristics:\\nThis\\nform\\nis\\ndue\\nto\\nan\\nabnormal\\nstress\\nresponse\\nleading\\nto\\nexcess\\nproduction\\nof\\nandrogens\\nby\\nthe\\nadrenal\\nglands,\\noften\\nlinked\\nto\\nstress\\nor\\ncongenital\\nadrenal\\nhyperplasia.\\n○\\nSymptoms:\\nElevated\\nlevels\\nof\\nDHEAS\\n(dehydroepiandrosterone\\nsulfate),\\nstress-related\\nsymptoms,\\nand\\noccasional\\novulatory\\nissues.\\n○\\nEffects\\non\\nPregnancy:\\nCan\\nlead\\nto\\ndifficulties\\nin\\nconceiving\\ndue\\nto\\novulatory\\ndysfunction\\nand\\nmight\\ncontribute\\nto\\ncomplications\\nrelated\\nto\\nstress\\nduring\\npregnancy .\\n●\\nPost-Pill\\nPCOD:\\n○\\nCharacteristics:\\nSome\\nwomen\\nmay\\ndevelop\\nPCOD\\nsymptoms\\nafter\\ndiscontinuing\\noral\\ncontraceptive\\npills,\\nwhich\\ncan\\ntemporarily\\ndisrupt\\nthe\\nbody\\'s\\nhormonal\\nbalance.\\n○\\nSymptoms:\\nIrregular\\nperiods\\nor\\namenorrhea\\nafter\\nstopping\\nthe\\npill,\\nmild\\nhirsutism,\\nand\\nminor\\ncystic\\nacne.\\n○\\nEffects\\non\\nPregnancy:\\nUsually\\ntemporary ,\\nbut\\ncan\\ndelay\\nconception\\nuntil\\nhormonal\\nbalance\\nis\\nrestored.\\nEffect\\nof\\nPCOD\\non\\nPregnancy\\n●\\nDifficulty\\nin\\nConceiving:\\n○\\nWomen\\nwith\\nPCOD\\noften\\nexperience\\nirregular\\novulation\\nor\\nanovulation\\n(absence\\nof\\novulation),\\nmaking\\nit\\ndifficult\\nto\\nconceive\\nnaturally .\\n●\\nIncreased\\nRisk\\nof\\nMiscarriage:\\n○\\nHormonal\\nimbalances\\nand\\ninsulin\\nresistance\\nassociated\\nwith\\nPCOD\\ncan\\nincrease\\nthe\\nrisk\\nof\\nearly\\npregnancy\\nloss.\\n●\\nGestational\\nDiabetes:\\n○\\nThe\\ninsulin\\nresistance\\nseen\\nin\\nPCOD\\nraises\\nthe\\nlikelihood\\nof\\ndeveloping\\ngestational\\ndiabetes\\nduring\\npregnancy ,\\nwhich\\ncan\\nimpact\\nboth\\nmaternal\\nand\\nfetal\\nhealth.\\n●\\nPreeclampsia:\\n○\\nPCOD\\nincreases\\nthe\\nrisk\\nof\\npreeclampsia,\\na\\npregnancy\\ncomplication\\ncharacterized\\nby\\nhigh\\nblood\\npressure\\nand\\ndamage\\nto\\nother\\norgans,\\nusually\\nthe\\nliver\\nand\\nkidneys.\\n●\\nPreterm\\nBirth:○\\nWomen\\nwith\\nPCOD\\nmay\\nhave\\na\\nhigher\\nrisk\\nof\\npreterm\\nbirth\\ndue\\nto\\ncomplications\\nlike\\ngestational\\ndiabetes\\nand\\npreeclampsia.\\n●\\nCesarean\\nSection:\\n○\\nThe\\ncomplications\\nassociated\\nwith\\nPCOD,\\nsuch\\nas\\nlarger\\nbaby\\nsize\\n(macrosomia)\\ndue\\nto\\ngestational\\ndiabetes,\\ncan\\nincrease\\nthe\\nlikelihood\\nof\\nrequiring\\na\\ncesarean\\nsection.\\n●\\nBirth\\nWeight\\nIssues:\\n○\\nPCOD\\nmay\\nlead\\nto\\neither\\nlow\\nbirth\\nweight\\nor\\nhigh\\nbirth\\nweight\\n(macrosomia)\\nin\\nnewborns,\\ndepending\\non\\nthe\\npresence\\nof\\nconditions\\nlike\\ngestational\\ndiabetes.\\nManaging\\nPCOD\\nDuring\\nPregnancy\\n●\\nPreconception\\nCare:\\nWomen\\nwith\\nPCOD\\nshould\\nconsult\\nwith\\na\\nhealthcare\\nprovider\\nbefore\\nattempting\\nto\\nconceive\\nto\\nmanage\\nsymptoms\\nand\\nimprove\\ntheir\\nchances\\nof\\na\\nhealthy\\npregnancy .\\n●\\nLifestyle\\nChanges:\\nA\\nbalanced\\ndiet,\\nregular\\nexercise,\\nand\\nweight\\nmanagement\\ncan\\nhelp\\nreduce\\nthe\\nseverity\\nof\\nPCOD\\nsymptoms\\nand\\nlower\\nthe\\nrisk\\nof\\npregnancy\\ncomplications.\\n●\\nMedication:\\nSome\\nwomen\\nmay\\nrequire\\nmedications\\nto\\nregulate\\novulation\\nor\\nmanage\\ninsulin\\nresistance\\nand\\ninflammation.\\n●\\nMonitoring:\\nFrequent\\nmonitoring\\nof\\nblood\\nsugar\\nlevels,\\nblood\\npressure,\\nand\\noverall\\nhealth\\nis\\ncrucial\\nduring\\npregnancy\\nfor\\nwomen\\nwith\\nPCOD.\\n●\\nStress\\nManagement:\\nReducing\\nstress\\nthrough\\nrelaxation\\ntechniques,\\ncounseling,\\nor\\nlifestyle\\nadjustments\\ncan\\nbe\\nbeneficial,\\nparticularly\\nfor\\nthose\\nwith\\nadrenal\\nPCOD.\\nMiscarriage\\nMiscarriage\\nrefers\\nto\\nthe\\nloss\\nof\\na\\npregnancy\\nbefore\\nthe\\n20th\\nweek.\\nIt’s\\na\\ncommon\\nbut\\noften\\nemotionally\\nchallenging\\nevent\\nthat\\ncan\\noccur\\nfor\\nvarious\\nreasons.\\nCauses\\nof\\nMiscarriage\\n❖\\nGenetic\\nAbnormalities:\\nOften,\\nmiscarriages\\noccur\\nbecause\\nthe\\nembryo\\nhas\\nchromosomal\\nproblems\\nthat\\nprevent\\nnormal\\ndevelopment.\\n❖\\nHormonal\\nImbalances:\\nIssues\\nsuch\\nas\\nlow\\nlevels\\nof\\nprogesterone\\ncan\\ncontribute\\nto\\nmiscarriage.\\n❖\\nInfections:\\nCertain\\ninfections\\nin\\nthe\\nmother\\ncan\\nlead\\nto\\npregnancy\\nloss.\\n❖\\nChronic\\nConditions:\\nConditions\\nlike\\ndiabetes,\\nthyroid\\ndisorders,\\nor\\nautoimmune\\ndiseases\\ncan\\nincrease\\nmiscarriage\\nrisk.\\n❖\\nAnatomical\\nIssues:\\nUterine\\nabnormalities\\nor\\ncervical\\ninsuf ficiency\\ncan\\ncause\\ncomplications.\\n❖\\nLifestyle\\nFactors:\\nSmoking,\\nexcessive\\nalcohol\\nconsumption,\\ndrug\\nuse,\\nand\\nexposure\\nto\\nharmful\\nsubstances\\ncan\\nincrease\\nmiscarriage\\nrisk.❖\\nAge:\\nThe\\nrisk\\nof\\nmiscarriage\\nincreases\\nwith\\nmaternal\\nage,\\nparticularly\\nafter\\nage\\n35.\\n❖\\nPrevious\\nMiscarriages:\\nHaving\\nmultiple\\nmiscarriages\\ncan\\nincrease\\nthe\\nlikelihood\\nof\\nsubsequent\\nlosses.\\nTypes\\nof\\nMiscarriage\\n❖\\nThreatened\\nMiscarriage:\\nVaginal\\nbleeding\\noccurs,\\nbut\\nthe\\ncervix\\nremains\\nclosed.\\nThe\\npregnancy\\nmay\\nor\\nmay\\nnot\\ncontinue.\\n❖\\nInevitable\\nMiscarriage:\\nBleeding\\nand\\ncramping\\noccur ,\\nand\\nthe\\ncervix\\nis\\nopen,\\nindicating\\nthat\\nmiscarriage\\nis\\ncertain.\\n❖\\nIncomplete\\nMiscarriage:\\nSome\\npregnancy\\ntissue\\nis\\nexpelled,\\nbut\\nsome\\nremains\\nin\\nthe\\nuterus.\\n❖\\nComplete\\nMiscarriage:\\nAll\\npregnancy\\ntissue\\nis\\nexpelled\\nfrom\\nthe\\nuterus.\\n❖\\nMissed\\nMiscarriage:\\nThe\\nembryo\\nor\\nfetus\\nhas\\ndied,\\nbut\\nthe\\nbody\\ndoes\\nnot\\nexpel\\nit.\\nThis\\nis\\noften\\ndiscovered\\nduring\\na\\nroutine\\nultrasound.\\n❖\\nRecurrent\\nMiscarriage:\\nDefined\\nas\\nhaving\\ntwo\\nor\\nmore\\nconsecutive\\nmiscarriages.\\nPrecautions\\nto\\nPrevent\\nMiscarriage\\n1.\\nPreconception\\nCare\\n❖\\nMedical\\nConsultation:\\nBefore\\nconceiving,\\nit’s\\nadvisable\\nto\\nconsult\\na\\nhealthcare\\nprovider ,\\nespecially\\nif\\nyou\\nhave\\na\\nhistory\\nof\\nmiscarriages\\nor\\nchronic\\nconditions.\\n❖\\nFolic\\nAcid\\nSupplementation:\\nTaking\\nfolic\\nacid\\nbefore\\nconception\\nand\\nduring\\nearly\\npregnancy\\ncan\\nhelp\\nprevent\\ncertain\\nbirth\\ndefects\\nand\\nreduce\\nmiscarriage\\nrisk.\\n❖\\nHealthy\\nWeight:\\nMaintaining\\na\\nhealthy\\nweight\\nthrough\\na\\nbalanced\\ndiet\\nand\\nregular\\nexercise\\nis\\nessential.\\n❖\\nManaging\\nChronic\\nConditions:\\nEnsure\\nthat\\nany\\nchronic\\nconditions\\nlike\\ndiabetes\\nor\\nhypertension\\nare\\nwell-controlled\\nbefore\\npregnancy .\\n2.\\nDuring\\nPregnancy\\n❖\\nRegular\\nPrenatal\\nCare:\\nAttend\\nall\\nscheduled\\nprenatal\\nappointments\\nto\\nmonitor\\nthe\\nhealth\\nof\\nboth\\nmother\\nand\\nbaby .\\n❖\\nAvoid\\nHarmful\\nSubstances:\\nStay\\naway\\nfrom\\nsmoking,\\nalcohol,\\nand\\nrecreational\\ndrugs,\\nwhich\\ncan\\nincrease\\nmiscarriage\\nrisk.\\n❖\\nHealthy\\nDiet:\\nEat\\na\\nwell-balanced\\ndiet\\nrich\\nin\\nvitamins,\\nminerals,\\nand\\nantioxidants.\\nEnsure\\nadequate\\nintake\\nof\\nfolic\\nacid,\\niron,\\ncalcium,\\nand\\nother\\nessential\\nnutrients.\\n❖\\nHydration:\\nDrink\\nplenty\\nof\\nwater\\nto\\nstay\\nhydrated\\nand\\nsupport\\noverall\\nhealth.\\n❖\\nSafe\\nExercise:\\nEngage\\nin\\nmoderate,\\npregnancy-safe\\nexercises\\nas\\nrecommended\\nby\\nyour\\nhealthcare\\nprovider .❖\\nStress\\nManagement:\\nPractice\\nstress-reducing\\ntechniques\\nsuch\\nas\\nyoga,\\nmeditation,\\nor\\ndeep\\nbreathing\\nexercises.\\n❖\\nInfection\\nPrevention:\\nAvoid\\nexposure\\nto\\ninfectious\\ndiseases,\\nmaintain\\ngood\\nhygiene,\\nand\\nensure\\nvaccinations\\nare\\nup\\nto\\ndate.\\n❖\\nAvoiding\\nEnvironmental\\nHazards:\\nStay\\naway\\nfrom\\ntoxic\\nchemicals,\\npollutants,\\nand\\nheavy\\nmetals.\\n❖\\nRest\\nand\\nSleep:\\nEnsure\\nadequate\\nrest\\nand\\nsleep,\\navoiding\\nexcessive\\nphysical\\nstrain.\\n3.\\nRecognizing\\nWarning\\nSigns\\n❖\\nBe\\naware\\nof\\nsymptoms\\nsuch\\nas\\nheavy\\nbleeding,\\nsevere\\nabdominal\\npain,\\nor\\nthe\\npassing\\nof\\ntissue,\\nand\\nseek\\nimmediate\\nmedical\\nattention\\nif\\nthey\\noccur .\\n4.\\nAftercare\\nFollowing\\na\\nMiscarriage\\n❖\\nEmotional\\nSupport:\\nSeek\\ncounseling\\nor\\njoin\\na\\nsupport\\ngroup\\nto\\ncope\\nwith\\nthe\\nemotional\\nimpact.\\n❖\\nPhysical\\nRecovery:\\nFollow\\nyour\\nhealthcare\\nprovider ’s\\nadvice\\nfor\\nphysical\\nrecovery ,\\nwhich\\nmay\\ninclude\\navoiding\\ncertain\\nactivities\\nor\\nsexual\\nintercourse\\nfor\\na\\nperiod.\\n❖\\nPlanning\\nfor\\nFuture\\nPregnancy:\\nDiscuss\\nwith\\nyour\\nhealthcare\\nprovider\\nthe\\nbest\\ntime\\nto\\ntry\\nconceiving\\nagain,\\ntypically\\nafter\\nyour\\nbody\\nhas\\nfully\\nrecovered.\\nCommon\\ntests\\ncarried\\nduring\\npregnancy\\n●\\nPregnancy\\nDetection\\nTest\\n●\\nHaemoglobin\\nTest\\n●\\nComplete\\nUrine\\nAnalysis\\n●\\nBlood\\nsugar\\ntesting\\nTesting\\nfor\\nMalaria\\nif\\nthe\\nwoman\\ncomplains\\nof\\nfever\\nwith\\nchills\\n●\\nHIV\\n(Antibodies\\nto\\nHIV\\n1\\nand\\n2)\\n●\\nRDT\\nfor\\nHBsAg\\nRDT\\nfor\\nSyphili\\nKey\\nmaternal\\nhealth\\nschemes\\n●\\nSurakshit\\nMatritva\\nAashwashan(SUMAN)\\n●\\nJanani\\nSuraksha\\nYojana\\n●\\nJanani\\nShishu\\nSuraksha\\nKaryakram(JSSK)\\n●\\nPradhan\\nMantri\\nSurakshit\\nMatritva\\nAbhiyan(PMSMA)\\n●\\nUniversal\\nscreening\\nfor\\nGDM,HIV\\nand\\nSyphilis\\n●\\nStrengthening\\nfirst\\nreferral\\nunits(FRUs)\\n&\\nDelivery\\npoints(DP)\\n●\\nMCH\\nWings\\nand\\nobstetric\\nHDUs\\n/ICUs\\n●\\nLaQshya-Labor\\nRoom\\n&\\nMaternity\\nOT\\n●\\nCapacity\\nBuilding\\nof\\nHuman\\nResource:\\nDakshata,CEmONC,LSAS,SBA\\netc.●\\nMidwifery\\nInitiative\\n●\\nComprehensive\\nAbortion\\nCare\\nServices(CAC)\\n●\\nMaternal\\nDeath\\nSurveillance\\n&\\nResponse\\n(MDSR)\\nPremature\\nBirths\\nA\\npremature\\nbirth\\nmeans\\na\\nbaby\\nis\\nborn\\ntoo\\nearly .\\nThe\\nbirth\\ntakes\\nplace\\nbefore\\nthe\\n37th\\nweek\\nof\\npregnancy .\\nA\\ntypical\\npregnancy\\nlasts\\nabout\\n40\\nweeks.\\nPremature\\nbabies\\noften\\nhave\\nserious\\nhealth\\nproblems,\\nespecially\\nwhen\\nthey\\'re\\nborn\\nvery\\nearly .\\nThese\\nproblems\\noften\\nvary.\\nBut\\nthe\\nearlier\\na\\nbaby\\nis\\nborn,\\nthe\\nhigher\\nthe\\nrisk\\nof\\nhealth\\nchallenges.\\nA\\nnewborn\\ncan\\nbe:\\n●\\nLate\\npreterm,\\nborn\\nbetween\\n34\\nand\\n36\\ncompleted\\nweeks\\nof\\npregnancy .\\n●\\nModerately\\npreterm\\n,\\nborn\\nbetween\\n32\\nand\\n34\\nweeks\\nof\\npregnancy .\\n●\\nVery\\npreterm\\n,\\nborn\\nbetween\\n28\\nand\\n32\\nweeks\\nof\\npregnancy .\\n●\\nExtremely\\npreterm\\n,\\nborn\\nbefore\\n28\\nweeks\\nof\\npregnancy .\\nSome\\nsigns\\nof\\nbeing\\nborn\\ntoo\\nearly\\ninclude:\\n●\\nSmall\\nsize,\\nwith\\na\\nhead\\nthat\\'s\\nlarge\\ncompared\\nwith\\nthe\\nbody .\\n●\\nFeatures\\nthat\\nare\\nsharper\\nand\\nless\\nrounded\\nthan\\na\\nfull-term\\nbaby\\'s\\nfeatures\\ndue\\nto\\na\\nlack\\nof\\ncells\\nthat\\nstore\\nfat.\\n●\\nFine\\nhair\\nthat\\ncovers\\nmuch\\nof\\nthe\\nbody .\\n●\\nLow\\nbody\\ntemperature,\\nmainly\\nright\\nafter\\nbirth\\nin\\nthe\\ndelivery\\nroom.\\n●\\nTrouble\\nbreathing.\\n●\\nFeeding\\nproblems.\\nIf\\nyou\\ngive\\nbirth\\nto\\na\\npreterm\\nbaby ,\\nyour\\nbaby\\nwill\\nlikely\\nneed\\nto\\nstay\\nin\\na\\nspecial\\nnursery\\nunit\\nat\\nthe\\nhospital.\\nSome\\ninfants\\nneed\\nto\\nspend\\ntime\\nin\\na\\nunit\\nthat\\ncares\\nfor\\nthem\\nand\\nclosely\\ntracks\\ntheir\\nhealth\\nday\\nand\\nnight.\\nThis\\nis\\ncalled\\na\\nneonatal\\nintensive\\ncare\\nunit\\n(NICU).\\nA\\nstep\\ndown\\nfrom\\nthe\\nNICU\\nis\\nan\\nintermediate\\ncare\\nnursery ,\\nwhich\\nprovides\\nless\\nintensive\\ncare.\\nSpecial\\nnursery\\nunits\\nare\\nstaffed\\nwith\\nhealth\\ncare\\nproviders\\nand\\na\\nteam\\nthat\\'s\\ntrained\\nto\\nhelp\\npreterm\\nbabies.'"
            ],
            "application/vnd.google.colaboratory.intrinsic+json": {
              "type": "string"
            }
          },
          "metadata": {},
          "execution_count": 10
        }
      ]
    },
    {
      "cell_type": "markdown",
      "metadata": {
        "id": "5S0GgIQs4Rps"
      },
      "source": [
        "Initialize the connection to your database:\n",
        "\n",
        "_(do not worry if you see a few warnings, it's just that the drivers are chatty about negotiating protocol versions with the DB.)_"
      ]
    },
    {
      "cell_type": "code",
      "execution_count": null,
      "metadata": {
        "id": "zFBR5HnZSPmK",
        "colab": {
          "base_uri": "https://localhost:8080/"
        },
        "outputId": "32bd9b91-4867-49f8-fa49-c0452e43ea65"
      },
      "outputs": [
        {
          "output_type": "stream",
          "name": "stderr",
          "text": [
            "WARNING:cassandra.cluster:Downgrading core protocol version from 66 to 65 for 9c021902-c44c-465a-84a6-88866f77b2b1-us-east1.db.astra.datastax.com:29042:a4208368-c3be-4134-8a22-b8080244a1cb. To avoid this, it is best practice to explicitly set Cluster(protocol_version) to the version supported by your cluster. http://datastax.github.io/python-driver/api/cassandra/cluster.html#cassandra.cluster.Cluster.protocol_version\n",
            "WARNING:cassandra.cluster:Downgrading core protocol version from 65 to 5 for 9c021902-c44c-465a-84a6-88866f77b2b1-us-east1.db.astra.datastax.com:29042:a4208368-c3be-4134-8a22-b8080244a1cb. To avoid this, it is best practice to explicitly set Cluster(protocol_version) to the version supported by your cluster. http://datastax.github.io/python-driver/api/cassandra/cluster.html#cassandra.cluster.Cluster.protocol_version\n",
            "ERROR:cassandra.connection:Closing connection <LibevConnection(133195532208352) 9c021902-c44c-465a-84a6-88866f77b2b1-us-east1.db.astra.datastax.com:29042:a4208368-c3be-4134-8a22-b8080244a1cb> due to protocol error: Error from server: code=000a [Protocol error] message=\"Beta version of the protocol used (5/v5-beta), but USE_BETA flag is unset\"\n",
            "WARNING:cassandra.cluster:Downgrading core protocol version from 5 to 4 for 9c021902-c44c-465a-84a6-88866f77b2b1-us-east1.db.astra.datastax.com:29042:a4208368-c3be-4134-8a22-b8080244a1cb. To avoid this, it is best practice to explicitly set Cluster(protocol_version) to the version supported by your cluster. http://datastax.github.io/python-driver/api/cassandra/cluster.html#cassandra.cluster.Cluster.protocol_version\n"
          ]
        }
      ],
      "source": [
        "cassio.init(token=ASTRA_DB_APPLICATION_TOKEN, database_id=ASTRA_DB_ID)"
      ]
    },
    {
      "cell_type": "markdown",
      "metadata": {
        "id": "ex7NxZYb4Rps"
      },
      "source": [
        "Create the LangChain embedding and LLM objects for later usage:"
      ]
    },
    {
      "cell_type": "code",
      "execution_count": null,
      "metadata": {
        "id": "TavS0AK2SLrL",
        "colab": {
          "base_uri": "https://localhost:8080/"
        },
        "outputId": "4248942f-566d-4cab-c537-0c14433685d1"
      },
      "outputs": [
        {
          "output_type": "stream",
          "name": "stderr",
          "text": [
            "<ipython-input-12-9c33d76eff6b>:1: LangChainDeprecationWarning: The class `OpenAI` was deprecated in LangChain 0.0.10 and will be removed in 1.0. An updated version of the class exists in the langchain-openai package and should be used instead. To use it run `pip install -U langchain-openai` and import as `from langchain_openai import OpenAI`.\n",
            "  llm = OpenAI(openai_api_key=OPENAI_API_KEY)\n",
            "<ipython-input-12-9c33d76eff6b>:2: LangChainDeprecationWarning: The class `OpenAIEmbeddings` was deprecated in LangChain 0.0.9 and will be removed in 1.0. An updated version of the class exists in the langchain-openai package and should be used instead. To use it run `pip install -U langchain-openai` and import as `from langchain_openai import OpenAIEmbeddings`.\n",
            "  embedding = OpenAIEmbeddings(openai_api_key=OPENAI_API_KEY)\n"
          ]
        }
      ],
      "source": [
        "llm = OpenAI(openai_api_key=OPENAI_API_KEY)\n",
        "embedding = OpenAIEmbeddings(openai_api_key=OPENAI_API_KEY)"
      ]
    },
    {
      "cell_type": "markdown",
      "metadata": {
        "id": "9HMMx5Pm4Rpt"
      },
      "source": [
        "Create your LangChain vector store ... backed by Astra DB!"
      ]
    },
    {
      "cell_type": "code",
      "execution_count": null,
      "metadata": {
        "id": "bg9VAk4USQvU"
      },
      "outputs": [],
      "source": [
        "astra_vector_store = Cassandra(\n",
        "    embedding=embedding,\n",
        "    table_name=\"qa_mini_demo\",\n",
        "    session=None,\n",
        "    keyspace=None,\n",
        ")"
      ]
    },
    {
      "cell_type": "code",
      "source": [
        "from langchain.text_splitter import CharacterTextSplitter\n",
        "# We need to split the text using Character Text Split such that it sshould not increse token size\n",
        "text_splitter = CharacterTextSplitter(\n",
        "    separator = \"\\n\",\n",
        "    chunk_size = 800,\n",
        "    chunk_overlap  = 200,\n",
        "    length_function = len,\n",
        ")\n",
        "texts = text_splitter.split_text(raw_text)"
      ],
      "metadata": {
        "id": "9FMAhKr77AVO"
      },
      "execution_count": null,
      "outputs": []
    },
    {
      "cell_type": "code",
      "source": [
        "texts[:50]"
      ],
      "metadata": {
        "colab": {
          "base_uri": "https://localhost:8080/"
        },
        "id": "k8BDHAyT7Gjr",
        "outputId": "5aa24b37-30da-491b-a532-94471235ba57"
      },
      "execution_count": null,
      "outputs": [
        {
          "output_type": "execute_result",
          "data": {
            "text/plain": [
              "[\"Pregnancy\\nCare\\nPregnancy\\nis\\nthe\\nperiod\\nduring\\nwhich\\na\\nfertilized\\negg\\ndevelops\\ninto\\na\\nfetus\\ninside\\na\\nwoman's\\nwomb.\\nCarrying\\na\\nbaby\\nis\\nthe\\nmost\\nrewarding\\nexperience\\na\\nwoman\\ncan\\nenjoy .\\nIt\\ntypically\\nlasts\\nabout\\n40\\nweeks,\\ncounting\\nfrom\\nthe\\nfirst\\nday\\nof\\nthe\\nlast\\nmenstrual\\nperiod\\n(LMP)\\nto\\ndelivery .\\nStages\\nof\\nPregnancy\\n(Trimesters)\\n●\\nFirst\\nTrimester\\n(Weeks\\n1-12)\\n:\\nMajor\\norgans\\nand\\nbody\\nsystems\\nbegin\\nto\\nform.\\nThe\\nembryo\\ntransitions\\ninto\\na\\nfetus\\nby\\nthe\\nend\\nof\\nthe\\n8th\\nweek.\\nSymptoms:\\nNausea,\\nfatigue,\\nbreast\\ntenderness,\\nfrequent\\nurination,\\nand\\nmood\\nswings.\\n●\\nSecond\\nTrimester\\n(Weeks\\n13-26)\\n:The\\nfetus\\ngrows\\nrapidly ,\\nand\\nthe\\nmother\\nmay\\nstart\\nto\\nfeel\\nfetal\\nmovements\\n(quickening).\\nSymptoms:\\nReduced\\nnausea,\\nincreased\\nenergy,\\nvisible\\npregnancy\\nbump,\\nand\\npossible\\nswelling\\nin\\nlegs\\nand\\nankles.\\n●\\nThird\",\n",
              " 'grows\\nrapidly ,\\nand\\nthe\\nmother\\nmay\\nstart\\nto\\nfeel\\nfetal\\nmovements\\n(quickening).\\nSymptoms:\\nReduced\\nnausea,\\nincreased\\nenergy,\\nvisible\\npregnancy\\nbump,\\nand\\npossible\\nswelling\\nin\\nlegs\\nand\\nankles.\\n●\\nThird\\nTrimester\\n(Weeks\\n27-40)\\n:\\nThe\\nfetus\\ngains\\nweight,\\nlungs\\nmature,\\nand\\nthe\\nbody\\nprepares\\nfor\\ndelivery .\\nSymptoms:\\nShortness\\nof\\nbreath,\\nheartburn,\\nbackaches,\\nBraxton\\nHicks\\ncontractions,\\nand\\nincreased\\nfetal\\nmovements.\\nSigns\\nand\\nSymptoms\\nof\\nPregnancy:\\n●\\nEarly\\nSigns:\\nMissed\\nperiod,\\ntender/swollen\\nbreasts,\\nnausea\\n(morning\\nsickness),\\nfrequent\\nurination,\\nfatigue,\\nand\\nmood\\nswings.\\n●\\nConfirming\\nPregnancy:\\nHome\\npregnancy\\ntests,\\nblood\\ntests,\\nand\\nan\\nultrasound\\nto\\nconfirm\\nthe\\ngestational\\nage\\nand\\ncheck\\nfor\\nmultiple\\npregnancies.\\nPrenatal\\nCare\\nRegular\\nprenatal\\nvisits\\nare\\nessential\\nfor\\nmonitoring\\nthe\\nhealth\\nof\\nboth',\n",
              " 'pregnancy\\ntests,\\nblood\\ntests,\\nand\\nan\\nultrasound\\nto\\nconfirm\\nthe\\ngestational\\nage\\nand\\ncheck\\nfor\\nmultiple\\npregnancies.\\nPrenatal\\nCare\\nRegular\\nprenatal\\nvisits\\nare\\nessential\\nfor\\nmonitoring\\nthe\\nhealth\\nof\\nboth\\nmother\\nand\\nbaby .\\nThey\\nhelp\\nin\\nearly\\ndetection\\nof\\nany\\npotential\\ncomplications\\nand\\nensure\\nproper\\nfetal\\ndevelopment.\\nAntenatal\\nCheck-up\\nQuality\\nantenatal\\ncare\\nis\\nthe\\ncornerstone\\nto\\nimprove\\nmaternal\\nhealth\\nand\\na\\ncrucial\\nchallenge.\\nGood\\nquality\\nand\\nfull\\ncompletion\\nof\\nANC\\ncheck-ups\\nare\\ncritical\\nfor\\nreducing\\nthe\\npersisting\\nburden\\nof\\nmaternal\\nand\\nnewborn\\nmortality .\\nIts\\nessential\\ncomponents\\nincludes\\n:\\n●\\nCalculation\\nof\\nexpected\\npregnancies\\n●\\nSchedule\\nof\\nantenatal\\nassessment\\n●\\nHistory\\ntaking\\nfor\\npregnant\\nmothers\\n●\\nPhysical\\nExamination,\\nGeneral\\nExamination\\nand\\nAbdominal\\nExamination\\n●\\nANC\\nrelated',\n",
              " ':\\n●\\nCalculation\\nof\\nexpected\\npregnancies\\n●\\nSchedule\\nof\\nantenatal\\nassessment\\n●\\nHistory\\ntaking\\nfor\\npregnant\\nmothers\\n●\\nPhysical\\nExamination,\\nGeneral\\nExamination\\nand\\nAbdominal\\nExamination\\n●\\nANC\\nrelated\\nInvestigations–\\nUrine\\ntest\\nfor\\npregnancy ,\\nHaemoglobin\\nTest,\\nUrine\\ntest\\nfor\\nproteins\\nand\\nsugar ,Oral\\n●\\nGlucose\\nTolerance\\nTest\\n(OGTT),RDT\\nfor\\nMalaria,\\nHIV,\\nDengue,\\nHBsAg,\\nand\\nRDT\\nfor\\nSyphilis\\netc.\\n●\\nCounseling\\nGet\\nyour\\nHb,\\nBlood\\npressure(BP),\\nurine,\\nweight\\nand\\nabdomen\\nchecked\\nat\\nevery\\nvisit.\\nEnsure\\nthat\\nyou\\nreceive\\nIFA\\ntablets\\nand\\ntwo\\ndoses\\nof\\nInj.\\nTetanus\\nToxoid\\n(TT).\\nAlways\\nconsult\\nyour\\nMO\\nif\\nnecessary\\nor\\nreferred.\\nRegular\\nANC\\nvisits\\nprotect\\nyou\\nand\\nyour\\nbaby\\nfrom\\ncomplications\\nand\\nensure\\na\\nhealthy\\nmother\\nand\\nchild.\\nCalculation\\nof\\nExpected\\nPregnancies\\n:\\nTo\\nensure\\ncomplete\\nregistration,\\nit\\nis',\n",
              " 'or\\nreferred.\\nRegular\\nANC\\nvisits\\nprotect\\nyou\\nand\\nyour\\nbaby\\nfrom\\ncomplications\\nand\\nensure\\na\\nhealthy\\nmother\\nand\\nchild.\\nCalculation\\nof\\nExpected\\nPregnancies\\n:\\nTo\\nensure\\ncomplete\\nregistration,\\nit\\nis\\nessential\\nthat\\nyou\\nknow\\nthe\\nestimated\\nnumber\\nof\\npregnancies\\nto\\nbe\\nregistered\\nannually\\nin\\nyour\\narea.\\nIn\\ncase\\nthe\\nnumber\\nof\\npregnancies\\nregistered\\nis\\nless\\nthan\\nthat\\nof\\nthe\\nestimated\\npregnancies,\\nyou\\nneed\\nto\\ntrack\\ndown\\nthe\\npregnancies\\nyou\\nhave\\nmissed\\nwith\\nthe\\nhelp\\nof\\nASHAs\\nand\\nANMs.\\nThe\\ncalculation\\nof\\nexpected\\npregnancies\\nat\\nyour\\nSub\\nCentre\\nHealth\\nand\\nWellness\\nCentres\\nof\\n5000\\npopulation.Suppose\\nthe\\nbirth\\nrate\\nof\\nthe\\ndistrict\\nis\\n20\\nper\\n1000\\npopulation,\\nthen,\\n100\\nchildren\\nwill\\nbe\\nborn\\nfor\\na\\npopulation\\nof\\n5000;\\nthen\\n110\\nwomen\\nwill\\nbecome\\npregnant\\nin\\nthe\\npopulation,considering\\n10\\n%\\nwastage;\\nin\\nany\\nmonth,',\n",
              " 'rate\\nof\\nthe\\ndistrict\\nis\\n20\\nper\\n1000\\npopulation,\\nthen,\\n100\\nchildren\\nwill\\nbe\\nborn\\nfor\\na\\npopulation\\nof\\n5000;\\nthen\\n110\\nwomen\\nwill\\nbecome\\npregnant\\nin\\nthe\\npopulation,considering\\n10\\n%\\nwastage;\\nin\\nany\\nmonth,\\nyou\\nshould\\nhave\\nabout\\nat\\nleast\\n52-53\\npregnancies\\nregistered\\nwith\\nyou.\\nSome\\nwomen\\nmay\\nbe\\nreceiving\\nANC\\nfrom\\nthe\\nprivate\\nsector .Ensure\\nthat\\ntheir\\nnames\\nwith\\nthe\\nnames\\nof\\nthe\\nfacilities\\nwhere\\nthey\\nare\\nregistered\\nare\\nmentioned\\nin\\nyour\\nRCH\\nregister/ANMOL.\\nEarly\\ndetection\\nof\\npregnancy\\n:\\nEarly\\ndiagnosis\\nof\\npregnancy\\nis\\nnecessary\\nto\\nensure\\nadequate\\ncare\\nto\\npregnant\\nmothers,\\nfetal\\ngrowth\\nand\\ndevelopment\\nand\\nsafe\\ndelivery .\\nIt\\nshould\\nbe\\nundertaken\\nas\\nearly\\nas\\npossible\\nafter\\nthe\\nfirst\\nmissed\\nperiod.\\nASHAs\\nhave\\na\\nlist\\nof\\neligible\\ncouples\\nfor\\ntheir\\npopulation\\nand\\nundertake\\nhousehold\\nvisits\\nto\\nfacilitate',\n",
              " 'and\\nsafe\\ndelivery .\\nIt\\nshould\\nbe\\nundertaken\\nas\\nearly\\nas\\npossible\\nafter\\nthe\\nfirst\\nmissed\\nperiod.\\nASHAs\\nhave\\na\\nlist\\nof\\neligible\\ncouples\\nfor\\ntheir\\npopulation\\nand\\nundertake\\nhousehold\\nvisits\\nto\\nfacilitate\\nearly\\nidentification\\nof\\npregnancy\\nusing\\nNishchay\\nkits.\\nUndertaking\\nPregnancy\\nDetection\\nTest:\\nProcedure:\\n●\\nRemove\\nthe\\npregnancy\\ntest\\nCassette\\nfrom\\nthe\\npregnancy\\nkit.\\nKeep\\nthis\\ncard\\non\\na\\nflat\\nsurface.\\n●\\nUse\\nthe\\ndropper\\nto\\ntake\\na\\nmorning\\nsample\\nof\\nurine.\\nPut\\n2-3\\ndrops\\nin\\nthe\\nwell-marked\\n‘S’.\\n●\\nWait\\nfor\\n5\\nminutes.\\nResult:\\n●\\nIf\\none\\nred\\nband\\nappears\\nin\\nthe\\nresult\\nwindow\\n‘R’,\\nthe\\npregnancy\\ntest\\nis\\nnegative.\\n●\\nIf\\ntwo\\nparallel\\nred\\nbands\\nappear ,\\nthe\\npregnancy\\ntest\\nis\\npositive.\\nDetermining\\nLMP\\nand\\nEDD:\\n●\\nAs\\na\\nfirst\\nstep\\nyou\\nwould\\ntake\\nthe\\nmenstrual\\nhistory\\nto\\ncalculate\\nthe\\nEDD\\nand\\nprepare\\na\\nbirth\\nplan.',\n",
              " '●\\nIf\\ntwo\\nparallel\\nred\\nbands\\nappear ,\\nthe\\npregnancy\\ntest\\nis\\npositive.\\nDetermining\\nLMP\\nand\\nEDD:\\n●\\nAs\\na\\nfirst\\nstep\\nyou\\nwould\\ntake\\nthe\\nmenstrual\\nhistory\\nto\\ncalculate\\nthe\\nEDD\\nand\\nprepare\\na\\nbirth\\nplan.\\n●\\nRecall\\nthat\\nthe\\nLMP\\nrefers\\nto\\nthe\\nFIRST\\nday\\nof\\nthe\\nwoman’ s\\nlast\\nmenstrual\\nperiod.\\n●\\nMake\\nsure\\nthat\\nthe\\nwoman\\nis\\nnot\\nreferring\\nto\\nthe\\ndate\\nof\\nthe\\nfirst\\nmissed\\nperiod,\\ni.e.,\\nthe\\ndate\\nwhen\\nmenstruation\\nwas\\nexpected\\nto\\noccur\\nthe\\nfollowing\\nmonth\\nand\\nfailed\\nto\\noccur .\\n●\\nIf\\nthe\\nwoman\\nis\\nunable\\nto\\nremember\\nthe\\nexact\\ndate,\\nencourage\\nher\\nto\\nremember\\nsome\\nmajor\\nevent,festival,\\nor\\noccurrence\\nwhich\\nshe\\nmight\\nlink\\nwith\\nher\\nLMP .\\n●\\nIf\\nthe\\nexact\\ndate\\nof\\nthe\\nLMP\\nis\\nnot\\nknown\\nand\\nit\\nis\\nlate\\nin\\nthe\\npregnancy ,\\nask\\nfor\\nthe\\ndate\\nwhen\\nthe\\nfetal\\nmovements\\nwere\\nfirst\\nfelt.\\nThis\\nis\\nknown\\nas\\n‘quickening’\\nand\\nis\\nfelt\\nat',\n",
              " 'with\\nher\\nLMP .\\n●\\nIf\\nthe\\nexact\\ndate\\nof\\nthe\\nLMP\\nis\\nnot\\nknown\\nand\\nit\\nis\\nlate\\nin\\nthe\\npregnancy ,\\nask\\nfor\\nthe\\ndate\\nwhen\\nthe\\nfetal\\nmovements\\nwere\\nfirst\\nfelt.\\nThis\\nis\\nknown\\nas\\n‘quickening’\\nand\\nis\\nfelt\\nat\\naround\\n20\\nweeks\\nof\\ngestation.\\nThis\\ninformation\\nwould\\ngive\\na\\nrough\\nidea\\nabout\\nthe\\nperiod\\nof\\ngestation,\\nwhich\\nneeds\\nto\\nbe\\ncorrelated\\nwith\\nthe\\nfundal\\nheight\\nto\\nestimate\\nthe\\ngestational\\nage.\\n●\\nCalculate\\nthe\\nEDD\\nusing\\nthe\\nformula\\nin\\nthe\\nbox.\\nIt\\nis\\nbased\\non\\nthe\\nassumption\\nthat\\nthe\\nmenstrual\\ncycle\\nof\\nthe\\nwoman\\nwas\\nregular\\nbefore\\nconception\\nand\\nthat\\nit\\nwas\\na\\n28–30\\ndays’\\ncycle.\\n●\\nEDD\\n=\\nDate\\nof\\nLMP\\n+\\n9\\nmonths\\n+\\n7\\ndaysFour\\nantenatal\\ncheck\\nups\\nare\\nessential\\nfor\\na\\npregnant\\nwoman:\\nNo.of\\nVisit\\nTimings\\nof\\nVisit\\n1st\\nWithin\\n12\\nweeks\\n2nd\\nBetween\\n14-26\\nweeks\\n3rd\\nBetween\\n28-36\\nweeks\\n4th\\nBetween\\n36\\nweeks\\nand\\nterm',\n",
              " '+\\n7\\ndaysFour\\nantenatal\\ncheck\\nups\\nare\\nessential\\nfor\\na\\npregnant\\nwoman:\\nNo.of\\nVisit\\nTimings\\nof\\nVisit\\n1st\\nWithin\\n12\\nweeks\\n2nd\\nBetween\\n14-26\\nweeks\\n3rd\\nBetween\\n28-36\\nweeks\\n4th\\nBetween\\n36\\nweeks\\nand\\nterm\\nPMSMA\\ncheck-up\\nIn\\n2nd\\nor\\n3rd\\ntrimester\\nPhysical\\nExamination\\nThis\\nactivity\\nneeds\\nto\\nbe\\nconducted\\nduring\\nall\\nthe\\nvisits.\\nThe\\ninitial\\nreadings\\nmay\\nbe\\ntaken\\nas\\na\\nbaseline\\nwith\\nwhich\\nthe\\nlater\\nreadings\\nare\\nto\\nbe\\ncompared.\\nGeneral\\nexamination\\ninvolves\\nfollowing\\nsteps\\n●\\nLook\\nfor\\nPallor\\n:\\nPresence\\nof\\npallor\\nindicates\\nanemia.\\nExamine\\nthe\\nwoman’ s\\nconjunctiva,nails,\\ntongue,\\noral\\nmucosa\\nand\\npalms.\\nIncrease\\nin\\npallor\\nis\\nlinked\\nwith\\nworsening\\nanemia\\nand\\nshould\\nbe\\nverified\\nwith\\nhemoglobin\\nestimation\\nand\\nother\\ninvestigations\\nto\\nidentify\\nthe\\nneeds\\nfor\\nreferral\\nto\\nthe\\nPHC\\nMedical\\nOfficer\\nin\\ncase\\nanemia\\nworsens.\\n●',\n",
              " 'is\\nlinked\\nwith\\nworsening\\nanemia\\nand\\nshould\\nbe\\nverified\\nwith\\nhemoglobin\\nestimation\\nand\\nother\\ninvestigations\\nto\\nidentify\\nthe\\nneeds\\nfor\\nreferral\\nto\\nthe\\nPHC\\nMedical\\nOfficer\\nin\\ncase\\nanemia\\nworsens.\\n●\\nLook\\nfor\\nJaundice:\\n1.\\nJaundice\\nis\\na\\nyellowish\\nstaining\\nof\\nthe\\nskin\\nand\\nsclera\\n(the\\nwhites\\nof\\nthe\\neyes),\\ncaused\\nby\\nhigh\\nlevels\\nof\\nthe\\nchemical\\nbilirubin\\nin\\nthe\\nblood.\\nJaundice\\nis\\nnot\\na\\ndisease,\\nbut\\na\\nsign\\nthat\\ncan\\noccur\\nin\\nmany\\ndifferent\\ndiseases.\\n2.\\nLook\\nfor\\nyellowish\\ndiscoloration\\nof\\nthe\\nskin\\nand\\nsclera.\\nThe\\ncolor\\nof\\nthe\\nskin\\nand\\nsclera\\nvary\\ndepending\\non\\nthe\\nlevel\\nof\\nbilirubin.\\nWhen\\nthe\\nbilirubin\\nlevel\\nis\\nmildly\\nelevated,\\nthey\\nare\\nyellowish.\\nWhen\\nthe\\nbilirubin\\nlevel\\nis\\nhigh,\\nthey\\ntend\\nto\\nbe\\nbrown.\\n●\\nMeasure\\nand\\nrecord\\nPulse:\\nThe\\nnormal\\npulse\\nrate\\nis\\n60–90\\nbeats\\nper\\nminute.\\nIf\\nthe\\npulse\\nrate\\nis',\n",
              " 'level\\nis\\nmildly\\nelevated,\\nthey\\nare\\nyellowish.\\nWhen\\nthe\\nbilirubin\\nlevel\\nis\\nhigh,\\nthey\\ntend\\nto\\nbe\\nbrown.\\n●\\nMeasure\\nand\\nrecord\\nPulse:\\nThe\\nnormal\\npulse\\nrate\\nis\\n60–90\\nbeats\\nper\\nminute.\\nIf\\nthe\\npulse\\nrate\\nis\\npersistently\\nhigh\\nor\\nlow,\\nwith\\nor\\nwithout\\nother\\nsymptoms,\\nthe\\nwoman\\nrequires\\nmedical\\nattention\\nat\\nthe\\nPHC/FRU.\\n●\\nMeasure\\nand\\nrecord\\nRespiratory\\nrate:\\nNormal\\nrespiratory\\nrate\\nis\\n18-20\\nbreaths\\nper\\nminute.\\nIf\\nthe\\nRR\\nis\\nabove\\n30\\nbreaths\\nper\\nminute\\nand\\npallor\\nis\\npresent,\\nit\\nindicates\\nsevere\\nanemia,\\nheart\\ndisease\\nor\\nother\\nassociated\\nmedical\\nproblems.She\\nmust\\nbe\\nimmediately\\nreferred\\nto\\nthe\\nPHC-Medical\\nOfficer\\nfor\\nfurther\\ninvestigation\\nand\\nmanagement\\nof\\nany\\nillness\\nthat\\nmay\\nbe\\npresent.●\\nLook\\nfor\\nOedema:\\n❖\\nOedema\\n(swelling),\\nwhich\\nappears\\nin\\nthe\\nevening\\nand\\ndisappears\\nin\\nthe\\nmorning\\nafter\\na\\nfull',\n",
              " 'Officer\\nfor\\nfurther\\ninvestigation\\nand\\nmanagement\\nof\\nany\\nillness\\nthat\\nmay\\nbe\\npresent.●\\nLook\\nfor\\nOedema:\\n❖\\nOedema\\n(swelling),\\nwhich\\nappears\\nin\\nthe\\nevening\\nand\\ndisappears\\nin\\nthe\\nmorning\\nafter\\na\\nfull\\nnight’ s\\nsleep,\\ncould\\nbe\\na\\nnormal\\nmanifestation\\nof\\npregnancy .\\n❖\\nAny\\noedema\\nof\\nthe\\nface,\\nhands,\\nabdominal\\nwall,\\nand\\nvulva\\nis\\nabnormal.\\nOedema\\ncan\\nbe\\nsuspected\\nif\\na\\nwoman\\ncomplains\\nof\\nabnormal\\ntightening\\nof\\nany\\nrings\\non\\nher\\nfingers.\\n❖\\nIf\\nthere\\nis\\noedema\\nin\\nassociation\\nwith\\nhigh\\nblood\\npressure,\\nheart\\ndisease,\\nanemia\\nor\\nproteinuria,\\nthe\\nwoman\\nshould\\nbe\\nreferred\\nto\\nFRU.\\n❖\\nNon-pitting\\noedema\\nindicates\\nhypothyroidism\\nor\\nfilariasis\\nand\\nrequires\\nimmediate\\nreferral\\nto\\nFRU\\nfor\\ninvestigations.\\n●\\nMeasure\\nand\\nrecord\\nBlood\\nPressure:\\n❖\\nMeasure\\nthe\\nwoman’ s\\nblood\\npressure\\nat\\nevery\\nvisit\\n.\\nThis\\nis\\nimportant\\nto',\n",
              " 'hypothyroidism\\nor\\nfilariasis\\nand\\nrequires\\nimmediate\\nreferral\\nto\\nFRU\\nfor\\ninvestigations.\\n●\\nMeasure\\nand\\nrecord\\nBlood\\nPressure:\\n❖\\nMeasure\\nthe\\nwoman’ s\\nblood\\npressure\\nat\\nevery\\nvisit\\n.\\nThis\\nis\\nimportant\\nto\\nrule\\nout\\nhypertensive\\ndisorders\\nof\\npregnancy .\\n❖\\nHypertension\\nis\\ndiagnosed\\nwhen\\ntwo\\nconsecutive\\nreadings\\ntaken\\nfour\\nhours\\nor\\nmore\\napart\\nshow\\nthe\\nsystolic\\nblood\\npressure\\nto\\nbe\\n140\\nmmHg\\nor\\nmore\\nand/or\\nthe\\ndiastolic\\nblood\\npressure\\nto\\nbe\\n90mmHg\\nor\\nmore.\\n❖\\nHigh\\nblood\\npressure\\nduring\\npregnancy\\nmay\\nsignify\\nPregnancy\\nInduced\\nHypertension\\n(PIH)\\nand/or\\nchronic\\nhypertension.\\n❖\\nIf\\nthe\\nwoman\\nhas\\nhigh\\nblood\\npressure,\\ncheck\\nher\\nurine\\nfor\\nthe\\npresence\\nof\\nalbumin.\\nThe\\npresence\\nof\\nalbumin\\n(+2)\\ntogether\\nwith\\nhigh\\nblood\\npressure\\nis\\nsufficient\\nto\\ncategorize\\nher\\nas\\nhaving\\npre-eclampsia.\\nRefer\\nher\\nto\\nthe\\nPHC-MO',\n",
              " 'pressure,\\ncheck\\nher\\nurine\\nfor\\nthe\\npresence\\nof\\nalbumin.\\nThe\\npresence\\nof\\nalbumin\\n(+2)\\ntogether\\nwith\\nhigh\\nblood\\npressure\\nis\\nsufficient\\nto\\ncategorize\\nher\\nas\\nhaving\\npre-eclampsia.\\nRefer\\nher\\nto\\nthe\\nPHC-MO\\nimmediately .\\n❖\\nIf\\nthe\\ndiastolic\\nblood\\npressure\\nof\\nthe\\nwoman\\nis\\nabove\\n110\\nmmHg,\\nit\\nis\\na\\ndanger\\nsign\\nthat\\npoints\\ntowards\\nimminent\\neclampsia.\\nThe\\nurine\\nalbumin\\nshould\\nbe\\nestimated\\nat\\nthe\\nearliest.\\nIf\\nit\\nis\\nstrongly\\npositive,\\nthe\\nwoman\\nshould\\nbe\\nreferred\\nto\\nthe\\nFRU\\nIMMEDIA TELY.\\n❖\\nIf\\nthe\\nwoman\\nhas\\nhigh\\nblood\\npressure\\nbut\\nno\\nurine\\nalbumin,\\nshe\\nshould\\nbe\\nreferred\\nto\\nthe\\nPHC\\nMedical\\nOfficer.\\n❖\\nA\\nwoman\\nwith\\nPIH,\\npre-eclampsia\\nor\\nimminent\\neclampsia\\nrequires\\nhospitalization\\nand\\nsupervised\\ntreatment\\nat\\na\\n24-hour\\nPHC/FRU.\\n❖\\nCHO/ANM/ASHA\\nmust\\nkeep\\nin\\ntouch\\nwith\\nthe\\nwoman\\nor\\nher\\nfamily\\nand\\nundertake',\n",
              " 'woman\\nwith\\nPIH,\\npre-eclampsia\\nor\\nimminent\\neclampsia\\nrequires\\nhospitalization\\nand\\nsupervised\\ntreatment\\nat\\na\\n24-hour\\nPHC/FRU.\\n❖\\nCHO/ANM/ASHA\\nmust\\nkeep\\nin\\ntouch\\nwith\\nthe\\nwoman\\nor\\nher\\nfamily\\nand\\nundertake\\nappropriate\\nfollow\\nup\\nof\\nthese\\ncases.\\n●\\nMeasure\\nand\\nrecord\\nweight:\\n❖\\nA\\npregnant\\nwoman’ s\\nweight\\nshould\\nbe\\ntaken\\nat\\neach\\nvisit.\\nThe\\nweight\\ntaken\\nduring\\nthe\\nfirst\\nvisit/registration\\nshould\\nbe\\ntreated\\nas\\nthe\\nbaseline\\nweight.\\n❖\\nNormally ,\\na\\nwoman\\nshould\\ngain\\n9-11\\nkg\\nduring\\nher\\npregnancy .\\nIdeally\\nafter\\nthe\\nfirst\\ntrimester ,\\na\\npregnant\\nwoman\\ngains\\naround\\n2\\nkg\\nevery\\nmonth.❖\\nAn\\ninadequate\\ndietary\\nintake\\ncan\\nbe\\nsuspected\\nif\\nthe\\nwoman\\ngains\\nless\\nthan\\n2\\nkg\\nper\\nmonth.\\nShe\\nneeds\\nto\\nbe\\nput\\non\\nfood\\nsupplementation\\nand\\ncounseled\\nfor\\nadequate\\ndietary\\nintake.\\nLow\\nWeight\\ngain\\nusually\\nleads\\nto\\nIntrauterine',\n",
              " 'can\\nbe\\nsuspected\\nif\\nthe\\nwoman\\ngains\\nless\\nthan\\n2\\nkg\\nper\\nmonth.\\nShe\\nneeds\\nto\\nbe\\nput\\non\\nfood\\nsupplementation\\nand\\ncounseled\\nfor\\nadequate\\ndietary\\nintake.\\nLow\\nWeight\\ngain\\nusually\\nleads\\nto\\nIntrauterine\\nGrowth\\nRetardation\\n(IUGR)\\nand\\nresults\\nin\\nthe\\nbirth\\nof\\na\\nbaby\\nwith\\na\\nlow\\nbirth\\nweight.\\n❖\\nExcessive\\nweight\\ngain\\n(more\\nthan\\n3\\nkg\\nin\\na\\nmonth)\\nshould\\nraise\\nsuspicion\\nof\\npreeclampsia,\\ntwins\\n(multiple\\npregnancy)\\nor\\ndiabetes.\\nTake\\nthe\\nwoman’ s\\nblood\\npressure\\nand\\ntest\\nher\\nurine\\nfor\\nproteinuria\\nor\\nsugar .\\nIf\\nher\\nblood\\npressure\\nis\\nhigh,\\ni.e.,\\nmore\\nthan\\n140/90\\nmmHg,\\nand\\nher\\nurine\\nhas\\nproteins\\nor\\nsugar ,\\nrefer\\nher\\nto\\nthe\\nPHC-Medical\\nOfficer.\\n●\\nRoutine\\nCheckups\\nand\\nScreenings\\n:\\n1.\\nInitial\\nVisit:\\nIncludes\\na\\ncomprehensive\\nhealth\\nassessment,\\nblood\\ntests,\\nurine\\ntests,\\nand\\na\\ndiscussion\\non\\nmedical\\nhistory\\nand',\n",
              " 'her\\nto\\nthe\\nPHC-Medical\\nOfficer.\\n●\\nRoutine\\nCheckups\\nand\\nScreenings\\n:\\n1.\\nInitial\\nVisit:\\nIncludes\\na\\ncomprehensive\\nhealth\\nassessment,\\nblood\\ntests,\\nurine\\ntests,\\nand\\na\\ndiscussion\\non\\nmedical\\nhistory\\nand\\nlifestyle.\\n2.\\nSubsequent\\nVisits\\n:\\nMonitoring\\nblood\\npressure,\\nweight,\\nfetal\\nheartbeat,\\nand\\ngrowth.\\nScreening\\nfor\\ngestational\\ndiabetes,\\nanemia,\\nand\\nother\\nconditions\\nas\\npregnancy\\nprogresses.\\n3.\\nUltrasounds:\\nTypically\\nperformed\\nat\\n11-14\\nweeks\\n(to\\ncheck\\nfor\\nDown\\nsyndrome\\nmarkers)\\nand\\n18-22\\nweeks\\n(anomaly\\nscan\\nto\\ncheck\\nfetal\\nanatomy).\\nNutrition\\nand\\nDiet\\nGuidelines:\\n●\\nYou\\nneed\\nto\\neat\\none\\nextra\\nmeal\\na\\nday\\nduring\\npregnancy .\\n●\\nTake\\nmilk\\nand\\ndairy\\nproducts\\nlike\\ncurd,\\nbuttermilk,\\npaneer -these\\nare\\nrich\\nin\\ncalcium,\\nproteins\\nand\\nvitamins.\\n●\\nEat\\nfresh/seasonal\\nfruits\\nand\\nvegetables\\nas\\nthese\\nprovide\\nvitamins\\nand',\n",
              " 'pregnancy .\\n●\\nTake\\nmilk\\nand\\ndairy\\nproducts\\nlike\\ncurd,\\nbuttermilk,\\npaneer -these\\nare\\nrich\\nin\\ncalcium,\\nproteins\\nand\\nvitamins.\\n●\\nEat\\nfresh/seasonal\\nfruits\\nand\\nvegetables\\nas\\nthese\\nprovide\\nvitamins\\nand\\niron.\\nCereals,\\nwhole\\ngrains\\nand\\npulses\\nare\\ngood\\nsources\\nof\\nproteins.\\n●\\nGreen\\nleafy\\nvegetables\\nare\\na\\nrich\\nsource\\nof\\niron\\nand\\nfolic\\nacid.\\n●\\nA\\nhandful\\n(45\\ngrams)\\nof\\nnuts\\nand\\nat\\nleast\\ntwo\\ncups\\nof\\ndaal\\nprovide\\ndaily\\nprotein\\nrequirements\\nof\\nproteins\\nin\\nvegetarians.\\n●\\nFor\\nnon-vegetarians,\\nmeat,\\negg,\\nchicken\\nor\\nfish\\nare\\ngood\\nsources\\nof\\nproteins,\\nvitamins\\nand\\niron.\\n●\\nA\\nwell\\nbalanced\\ndiet\\nconsisting\\nof\\na\\nvariety\\nof\\nfood\\nhelps\\nin\\nthe\\ngrowth\\nof\\nthe\\nbaby\\nand\\nprevents\\nanemia.\\n●\\nDuring\\npregnancy\\n100\\ntablets\\nof\\niron\\nand\\nfolic\\nacid\\nwill\\nbe\\ngiven.\\n●\\nOne\\ntablet\\nof\\nIFA\\nis\\nto\\nbe\\ntaken\\ndaily\\nstarting\\nfrom\\nthe\\nfourth',\n",
              " 'of\\nfood\\nhelps\\nin\\nthe\\ngrowth\\nof\\nthe\\nbaby\\nand\\nprevents\\nanemia.\\n●\\nDuring\\npregnancy\\n100\\ntablets\\nof\\niron\\nand\\nfolic\\nacid\\nwill\\nbe\\ngiven.\\n●\\nOne\\ntablet\\nof\\nIFA\\nis\\nto\\nbe\\ntaken\\ndaily\\nstarting\\nfrom\\nthe\\nfourth\\nmonth\\nof\\npregnancy .\\nIf\\nyou\\nare\\nanemic,\\nyou\\nwill\\nbe\\nadvised\\nto\\ntake\\ntwo\\nIFA\\ntablets\\ndaily ,\\none\\ntablet\\nin\\nthe\\nmorning\\nand\\none\\nin\\nthe\\nevening.\\n●\\nTaking\\none\\nIFA\\ntablet\\na\\nday\\nkeeps\\nanemia\\naway\\nin\\nmothers\\nand\\nensures\\ndelivery\\nof\\na\\nhealthy\\nbaby\\nand\\nprevents\\nanemia.Abdominal\\nExamination\\nAbdominal\\nexamination\\nhelps\\nyou\\nto\\nmonitor\\nthe\\nprogress\\nof\\npregnancy\\nand\\nfetal\\ngrowth,\\ncheck\\nfor\\nfetal\\nlie\\nand\\npresentation\\nand\\nauscultate\\nfetal\\nheart\\nsounds.\\nPreparation\\nfor\\nabdominal\\nexamination\\nEnsure\\nprivacy ,\\nexamination\\nroom\\nshould\\nbe\\nwell\\nlit\\nand\\nairy,woman\\nis\\nasked\\nto\\nempty\\nher\\nbladder ,explain\\nthe\\nwomen\\nabout',\n",
              " 'and\\nauscultate\\nfetal\\nheart\\nsounds.\\nPreparation\\nfor\\nabdominal\\nexamination\\nEnsure\\nprivacy ,\\nexamination\\nroom\\nshould\\nbe\\nwell\\nlit\\nand\\nairy,woman\\nis\\nasked\\nto\\nempty\\nher\\nbladder ,explain\\nthe\\nwomen\\nabout\\nthe\\nprocedure/process,to\\nmake\\nher\\ncomfortable\\nkeep\\ntalking\\nto\\nher,she\\nlies\\nsupine\\nwith\\nlegs\\npartially\\nflexed,stand\\non\\nher\\nright\\nside\\nand\\npalpate\\nthe\\nuterus\\nwith\\nwarm\\nhands.\\nSteps\\nfor\\nabdominal\\nexamination\\n1.\\nMeasuring\\nFundal\\nheight:\\nThis\\nindicates\\nthe\\nprogress\\nof\\npregnancy\\nand\\nfoetal\\ngrowth.\\nThe\\nuterus\\nbecomes\\nan\\nabdominal\\norgan\\nafter\\n12\\nweeks\\nof\\ngestation.\\nThe\\ngestational\\nage\\n(in\\nweeks)\\ncorresponds\\nto\\nthe\\nfundal\\nheight\\n(in\\ncm)\\nafter\\n24\\nweeks\\nof\\ngestation.\\nThe\\nnormal\\nfundal\\nheight\\nis\\ndifferent\\nat\\ndifferent\\nweeks\\nof\\npregnancy .\\nFollow\\nthe\\nfollowing\\nsteps\\nfor\\nmeasuring\\nfundal\\nheight\\n●\\nDivide\\nthe',\n",
              " \"to\\nthe\\nfundal\\nheight\\n(in\\ncm)\\nafter\\n24\\nweeks\\nof\\ngestation.\\nThe\\nnormal\\nfundal\\nheight\\nis\\ndifferent\\nat\\ndifferent\\nweeks\\nof\\npregnancy .\\nFollow\\nthe\\nfollowing\\nsteps\\nfor\\nmeasuring\\nfundal\\nheight\\n●\\nDivide\\nthe\\nabdomen\\ninto\\nparts\\nby\\nimaginary\\nlines\\nto\\nestimate\\nthe\\ngestational\\nage\\nthrough\\nthe\\nfundal\\nheight.\\n●\\nThe\\nmost\\nimportant\\nline\\nis\\nthe\\none\\npassing\\nthrough\\nthe\\numbilicus.\\n●\\nDivide\\nthe\\nlower\\nabdomen\\n(below\\nthe\\numbilicus)\\ninto\\nthree\\nparts,\\nwith\\ntwo\\nequidistant\\nlines\\nbetween\\nthe\\nsymphysis\\npubis\\nand\\nthe\\numbilicus.\\n●\\nSimilarly ,\\ndivide\\nthe\\nupper\\nabdomen\\ninto\\nthree\\nparts,\\nagain\\nwith\\ntwo\\nimaginary\\nequidistant\\nlines,\\nbetween\\nthe\\numbilicus\\nand\\nthe\\nxiphisternum.\\n●\\nKeep\\nthe\\nulnar\\nborder\\nof\\nthe\\ncurved\\nleft\\nhand\\non\\nthe\\nwoman's\\nabdomen\\nparallel\\nto\\nsymphysis\\npubis.\\nStart\\nfrom\\nxiphisternum\\nand\\ngradually\\nproceed\",\n",
              " \"lines,\\nbetween\\nthe\\numbilicus\\nand\\nthe\\nxiphisternum.\\n●\\nKeep\\nthe\\nulnar\\nborder\\nof\\nthe\\ncurved\\nleft\\nhand\\non\\nthe\\nwoman's\\nabdomen\\nparallel\\nto\\nsymphysis\\npubis.\\nStart\\nfrom\\nxiphisternum\\nand\\ngradually\\nproceed\\ntowards\\nsymphysis\\npubis\\nlifting\\nthe\\nhand\\nbetween\\neach\\nstep\\ntill\\na\\nbulge\\nresistance\\nof\\nuterine\\nfundus\\nis\\nfelt.\\nMark\\nthe\\nlevel\\nof\\nfundus.\\n●\\nRemember\\nthat\\nwhile\\nmeasuring\\nthe\\nfundal\\nheight,\\nthe\\nwoman’ s\\nlegs\\nshould\\nbe\\nkept\\nstraight\\nand\\nnot\\nflexed.\\nFetal\\nlie\\nand\\nPresentation:\\nDetermining\\nthe\\nfetal\\nlie\\nand\\npresentation\\nis\\nrelevant\\nonly\\nin\\nlate\\npregnancy\\n(32\\nweeks\\nonwards).\\nBefore\\nthat,\\nit\\nis\\nimportant\\nto\\nonly\\npalpate\\nthe\\nfetal\\nparts\\nwhile\\nconducting\\nan\\nabdominal\\nexamination.\\nThe\\nnormal\\nlie\\nat\\nterm\\nin\\nthe\\nmajority\\nof\\npregnancies\\nis\\nlongitudinal,\\nwith\\na\\ncephalic\\npresentation.\\nAny\\nother\\nlie\\nis\\nabnormal,\",\n",
              " 'only\\npalpate\\nthe\\nfetal\\nparts\\nwhile\\nconducting\\nan\\nabdominal\\nexamination.\\nThe\\nnormal\\nlie\\nat\\nterm\\nin\\nthe\\nmajority\\nof\\npregnancies\\nis\\nlongitudinal,\\nwith\\na\\ncephalic\\npresentation.\\nAny\\nother\\nlie\\nis\\nabnormal,\\nand\\nthe\\nwoman\\nmust\\nbe\\nreferred\\nto\\nan\\nFRU\\nfor\\nthe\\ndelivery .\\nPalpation\\nto\\ndetermine\\nfetal\\nlie\\nand\\npresentation.\\n●\\nThe\\npelvic\\ngrips\\n(four\\nin\\nnumber)\\nare\\nperformed\\nto\\ndetermine\\nthe\\nlie\\nand\\nthe\\npresenting\\npart\\nof\\nthe\\nfetus.\\n●\\nPalpate\\nfor\\nthe\\nfoetal\\nline\\nand\\nassess\\nwhether\\nit\\nis\\nlongitudinal,\\ntransverse\\nor\\noblique.\\nRemember\\nthat\\neven\\nif\\na\\nmalpresentation\\nis\\ndiagnosed\\nbefore\\n36\\nweeks,\\nno\\nactive\\nmanagement\\nor\\nintervention\\nis\\nrecommended\\nat\\nthat\\npoint\\nof\\ntime.\\nAdvise\\nthe\\nwoman\\nto\\ngo\\nin\\nfor\\nan\\ninstitutional\\ndelivery .\\n●\\nAll\\nhealth\\nworkers\\nshould\\nbe\\nable\\nto\\nrecognise\\na\\ntransverse\\nlie.\\nMissing\\nit\\ncan\\nbe',\n",
              " 'or\\nintervention\\nis\\nrecommended\\nat\\nthat\\npoint\\nof\\ntime.\\nAdvise\\nthe\\nwoman\\nto\\ngo\\nin\\nfor\\nan\\ninstitutional\\ndelivery .\\n●\\nAll\\nhealth\\nworkers\\nshould\\nbe\\nable\\nto\\nrecognise\\na\\ntransverse\\nlie.\\nMissing\\nit\\ncan\\nbe\\ndisastrous\\nbecause\\nthere\\nis\\nno\\nmechanism\\nby\\nwhich\\na\\nwoman\\nwith\\na\\ntransverse\\nlie\\ncan\\ndeliver\\nnormally ,\\ni.e.,\\nvaginally .\\nThe\\nwoman\\nneeds\\nan\\nelective\\ncesarean\\nsection,\\ni.e.,\\nshe\\nmust\\nnot\\ngo\\ninto\\nlabor .\\nShe\\nshould,\\ntherefore,\\nbe\\nreferred\\nto\\nan\\nFRU\\nwhere\\nemer gency\\nobstetric\\nservices\\nand\\nfacilities\\nfor\\na\\ncesarean\\nsection\\nare\\navailable.\\nIndications\\nfor\\nreferral\\nbased\\non\\nPhysical\\nExamination\\nof\\nPregnant\\nWoman\\nRefer\\nthe\\npregnant\\nwoman\\nto\\n24-hour\\nPHC/FRU\\nfor\\nfurther\\nexamination\\nin\\nfollowing\\ncases:\\na.\\nIf\\nyou\\nidentify\\nany\\nsymptoms\\nof\\ncomplications\\nb.\\nIf\\nyou\\nidentify\\nthe\\nfollowing\\nfrom\\nphysical',\n",
              " 'Pregnant\\nWoman\\nRefer\\nthe\\npregnant\\nwoman\\nto\\n24-hour\\nPHC/FRU\\nfor\\nfurther\\nexamination\\nin\\nfollowing\\ncases:\\na.\\nIf\\nyou\\nidentify\\nany\\nsymptoms\\nof\\ncomplications\\nb.\\nIf\\nyou\\nidentify\\nthe\\nfollowing\\nfrom\\nphysical\\nexamination\\n●\\nSevere\\nanemia\\n(Hb\\nless\\nthan\\n7gm/dl\\nor\\npaleness\\ninside\\neyelids\\nand\\nfingernails)\\n●\\nJaundice\\n(yellowish\\ndiscoloration\\nof\\nskin\\nand\\nconjunctiva\\nor\\nhigh\\nbilirubin\\nlevel)\\n●\\nPulse\\nrate\\n>90\\nbeats/min\\nor\\n<60\\nbeats/min\\n●\\nRespiratory\\nrate\\n>\\n30\\nbreaths/min\\nalong\\nwith\\nanemia\\n●\\nOedema\\nof\\nface,\\nhands,\\nabdominal\\nwalland\\nvulva\\nor\\ntightening\\nof\\nfinger\\nrings\\n●\\nOedema\\nwith\\nhigh\\nblood\\npressure,\\nheart\\ndisease\\nor\\nproteinuria\\n●\\nNon\\npitting\\noedema\\nwith\\nhypothyroidism\\nor\\nfilariasis\\n●\\nPregnancy\\ninduced\\nhypertension\\n(BP\\nmore\\nthan\\n140/90\\nmm\\nHg)●\\nPre-eclampsia\\n(High\\nBP\\nalong\\nwith\\nalbuminuria)\\n●\\nImminent',\n",
              " 'disease\\nor\\nproteinuria\\n●\\nNon\\npitting\\noedema\\nwith\\nhypothyroidism\\nor\\nfilariasis\\n●\\nPregnancy\\ninduced\\nhypertension\\n(BP\\nmore\\nthan\\n140/90\\nmm\\nHg)●\\nPre-eclampsia\\n(High\\nBP\\nalong\\nwith\\nalbuminuria)\\n●\\nImminent\\neclampsia\\n(Diastolic\\npressure\\nabove\\n110\\nmm\\nHg\\nwith\\nalbuminuria)\\n●\\nExcessive\\nweight\\ngain\\n(more\\nthan\\n3kg/month)\\nalong\\nwith\\npre-eclampsia\\nor\\ndiabetes\\n●\\nFetal\\ngrowth\\nretardation\\n●\\nMultifetal\\npregnancy\\n●\\nLump\\nor\\ntenderness\\nin\\nbreast\\n●\\nUterus\\nheight\\nmore\\nthan\\n3cm\\ndifferent\\nfrom\\ngestational\\nage\\n●\\nNo\\nfetal\\nmovement/heart\\nsound\\n●\\nFetal\\ndistress\\n●\\nBreech\\npresentation\\nand\\nfetal\\nlie\\nother\\nthan\\nlongitudinal\\nB\\nlood\\nsugar\\nExamination\\nfor\\nGestational\\nDiabetes\\nMellitus\\nTesting\\nfor\\nGDM\\nis\\nrecommended\\ntwice\\nduringANC\\nby\\nANM/CHO\\nby\\nusing\\nplasma\\ncalibrated\\nglucometer .\\nThe\\nfirst\\ntesting\\nshould\\nbe\\ndone\\nduring\\nfirst',\n",
              " 'lood\\nsugar\\nExamination\\nfor\\nGestational\\nDiabetes\\nMellitus\\nTesting\\nfor\\nGDM\\nis\\nrecommended\\ntwice\\nduringANC\\nby\\nANM/CHO\\nby\\nusing\\nplasma\\ncalibrated\\nglucometer .\\nThe\\nfirst\\ntesting\\nshould\\nbe\\ndone\\nduring\\nfirst\\nantenatal\\ncontact\\nas\\nearly\\nas\\npossible\\nin\\npregnancy .\\nThe\\nsecond\\ntesting\\nshould\\nbe\\ndone\\nduring\\n24-28\\nweeks\\nof\\npregnancy\\nif\\nthe\\nfirst\\ntest\\nis\\nnegative.\\nThere\\nshould\\nbe\\nat\\nleast\\na\\n4\\nweek\\ngap\\nbetween\\nthe\\ntwo\\ntests.\\nThe\\ntest\\nis\\nto\\nbe\\nconducted\\nfor\\nevery\\npregnant\\nwoman\\neven\\nif\\nshe\\ncomes\\nlate\\nin\\npregnancy\\nfor\\nANC\\nat\\nthe\\ntime\\nof\\nfirst\\ncontact.\\nExercise\\nand\\nPhysical\\nActivity\\n●\\nSafe\\nExercises:\\nWalking,\\nswimming,\\nprenatal\\nyoga,\\nand\\nlight\\nstrength\\ntraining.\\nThese\\nhelp\\nin\\nmaintaining\\nfitness,\\nreducing\\nstress,\\nand\\npreparing\\nfor\\nlabor .\\n●\\nAvoiding\\nRisks:\\nHigh-impact\\nsports,\\nheavy\\nlifting,\\nand\\nactivities',\n",
              " 'swimming,\\nprenatal\\nyoga,\\nand\\nlight\\nstrength\\ntraining.\\nThese\\nhelp\\nin\\nmaintaining\\nfitness,\\nreducing\\nstress,\\nand\\npreparing\\nfor\\nlabor .\\n●\\nAvoiding\\nRisks:\\nHigh-impact\\nsports,\\nheavy\\nlifting,\\nand\\nactivities\\nthat\\nincrease\\nthe\\nrisk\\nof\\nfalls\\nor\\nabdominal\\ntrauma.\\nManaging\\nCommon\\nDiscomforts\\n1.Nausea\\nand\\nVomiting\\n(Morning\\nSickness)\\nNausea\\nand\\nvomiting\\nare\\namong\\nthe\\nmost\\ncommon\\nsymptoms\\nduring\\nthe\\nfirst\\ntrimester\\nof\\npregnancy ,\\noften\\nreferred\\nto\\nas\\n\"morning\\nsickness,\"\\nthough\\nthey\\ncan\\noccur\\nat\\nany\\ntime\\nof\\nthe\\nday.\\nCauses:\\n●\\nHormonal\\nChanges:\\nThe\\nrise\\nin\\nhuman\\nchorionic\\ngonadotropin\\n(hCG)\\nand\\nestrogen\\nlevels\\nis\\nbelieved\\nto\\ntrigger\\nnausea\\nand\\nvomiting.\\n●\\nBlood\\nSugar\\nLevels:\\nLow\\nblood\\nsugar\\nlevels,\\nespecially\\nafter\\nlong\\nperiods\\nwithout\\neating,\\ncan\\ncontribute\\nto\\nnausea.Management:\\n●\\nSmall,\\nFrequent\\nMeals:',\n",
              " \"is\\nbelieved\\nto\\ntrigger\\nnausea\\nand\\nvomiting.\\n●\\nBlood\\nSugar\\nLevels:\\nLow\\nblood\\nsugar\\nlevels,\\nespecially\\nafter\\nlong\\nperiods\\nwithout\\neating,\\ncan\\ncontribute\\nto\\nnausea.Management:\\n●\\nSmall,\\nFrequent\\nMeals:\\nEating\\nsmall\\nmeals\\nevery\\n2-3\\nhours\\ncan\\nhelp\\nmaintain\\nstable\\nblood\\nsugar\\nlevels\\nand\\nprevent\\nnausea.\\nAvoid\\nlarge\\nmeals,\\nas\\nthey\\ncan\\nexacerbate\\nsymptoms.\\n●\\nGinger:\\nGinger\\ntea,\\nginger\\ncandies,\\nor\\nginger\\nsupplements\\ncan\\nhelp\\nreduce\\nnausea.\\nIt's\\na\\nnatural\\nremedy\\nthat\\nhas\\nbeen\\nshown\\nto\\nbe\\neffective.\\n●\\nHydration:\\nStaying\\nhydrated\\nis\\ncrucial,\\nespecially\\nif\\nvomiting\\nis\\nfrequent.\\nSipping\\non\\nwater ,\\nclear\\nbroths,\\nor\\nelectrolyte\\ndrinks\\ncan\\nhelp\\nmaintain\\nfluid\\nlevels.\\n●\\nAvoiding\\nTriggers:\\nIdentify\\nand\\navoid\\nfoods\\nor\\nsmells\\nthat\\ntrigger\\nnausea.\\nCommon\\ntriggers\\ninclude\\nspicy ,\\ngreasy ,\\nor\\noverly\\nsweet\\nfoods.\\n●\",\n",
              " \"or\\nelectrolyte\\ndrinks\\ncan\\nhelp\\nmaintain\\nfluid\\nlevels.\\n●\\nAvoiding\\nTriggers:\\nIdentify\\nand\\navoid\\nfoods\\nor\\nsmells\\nthat\\ntrigger\\nnausea.\\nCommon\\ntriggers\\ninclude\\nspicy ,\\ngreasy ,\\nor\\noverly\\nsweet\\nfoods.\\n●\\nAcupressure:\\nWristbands\\nthat\\napply\\npressure\\nto\\nthe\\nP6\\npoint\\non\\nthe\\ninner\\nwrist\\ncan\\nhelp\\nalleviate\\nnausea.\\nThis\\nmethod\\nis\\nnon-invasive\\nand\\nhas\\nshown\\nsome\\neffectiveness\\nin\\nstudies.\\n●\\nRest:\\nFatigue\\ncan\\nworsen\\nnausea,\\nso\\nensure\\nyou're\\ngetting\\nenough\\nrest\\nand\\nsleep.\\nWhen\\nto\\nSeek\\nMedical\\nHelp:\\n●\\nIf\\nnausea\\nand\\nvomiting\\nare\\nsevere\\nand\\npersistent,\\nleading\\nto\\ndehydration\\nor\\nweight\\nloss,\\nit\\ncould\\nindicate\\na\\ncondition\\ncalled\\nhyperemesis\\ngravidarum.\\nThis\\nrequires\\nmedical\\nattention,\\nas\\nit\\ncan\\nimpact\\nboth\\nthe\\nmother\\nand\\nbaby .\\n2.Back\\nPain\\nBack\\npain\\nis\\ncommon,\\nespecially\\nin\\nthe\\nlater\\nstages\\nof\\npregnancy ,\\nas\\nthe\",\n",
              " 'called\\nhyperemesis\\ngravidarum.\\nThis\\nrequires\\nmedical\\nattention,\\nas\\nit\\ncan\\nimpact\\nboth\\nthe\\nmother\\nand\\nbaby .\\n2.Back\\nPain\\nBack\\npain\\nis\\ncommon,\\nespecially\\nin\\nthe\\nlater\\nstages\\nof\\npregnancy ,\\nas\\nthe\\ngrowing\\nuterus\\nshifts\\nyour\\ncenter\\nof\\ngravity\\nand\\nadds\\nstrain\\nto\\nyour\\nback\\nmuscles.\\nCauses:\\n●\\nWeight\\nGain:\\nThe\\nadditional\\nweight\\ncarried\\nduring\\npregnancy\\nadds\\npressure\\nto\\nthe\\nspine.\\n●\\nPostural\\nChanges:\\nAs\\nthe\\npregnancy\\nprogresses,\\nthe\\nbody’ s\\nposture\\nchanges\\nto\\naccommodate\\nthe\\ngrowing\\nbelly ,\\noften\\nleading\\nto\\nan\\nexaggerated\\nlumbar\\ncurve.\\n●\\nHormonal\\nChanges:\\nPregnancy\\nhormones\\nlike\\nrelaxin\\nloosen\\nthe\\nligaments\\nin\\nthe\\npelvic\\narea\\nand\\ncan\\naffect\\nthe\\nstability\\nof\\nthe\\nspine.\\nManagement:\\n●\\nExercise:\\nRegular ,\\nlow-impact\\nexercise\\nlike\\nwalking,\\nswimming,\\nor\\nprenatal\\nyoga\\ncan\\nstrengthen\\nthe\\nmuscles\\nof\\nthe',\n",
              " 'ligaments\\nin\\nthe\\npelvic\\narea\\nand\\ncan\\naffect\\nthe\\nstability\\nof\\nthe\\nspine.\\nManagement:\\n●\\nExercise:\\nRegular ,\\nlow-impact\\nexercise\\nlike\\nwalking,\\nswimming,\\nor\\nprenatal\\nyoga\\ncan\\nstrengthen\\nthe\\nmuscles\\nof\\nthe\\nback\\nand\\nabdomen,\\nreducing\\npain.\\n●\\nGood\\nPosture:\\nPractice\\ngood\\nposture\\nby\\nkeeping\\nyour\\nback\\nstraight,\\nshoulders\\nback,\\nand\\navoid\\nslouching.\\nUse\\na\\nfootrest\\nif\\nsitting\\nfor\\nlong\\nperiods.●\\nProper\\nLifting\\nTechniques:\\nBend\\nyour\\nknees\\nand\\nkeep\\nyour\\nback\\nstraight\\nwhen\\nlifting\\nobjects.\\nAvoid\\nheavy\\nlifting\\nwhen\\npossible.\\n●\\nSupportive\\nFootwear:\\nWear\\nlow-heeled,\\nsupportive\\nshoes.\\nHigh\\nheels\\ncan\\nthrow\\noff\\nyour\\nbalance\\nand\\ncontribute\\nto\\nback\\npain.\\n●\\nSleep\\nPosition:\\nSleep\\non\\nyour\\nside,\\npreferably\\nthe\\nleft\\nside,\\nwith\\na\\npillow\\nbetween\\nyour\\nknees\\nto\\nreduce\\nback\\nstrain.\\nA\\npregnancy\\npillow\\ncan\\nalso\\nprovide',\n",
              " 'your\\nbalance\\nand\\ncontribute\\nto\\nback\\npain.\\n●\\nSleep\\nPosition:\\nSleep\\non\\nyour\\nside,\\npreferably\\nthe\\nleft\\nside,\\nwith\\na\\npillow\\nbetween\\nyour\\nknees\\nto\\nreduce\\nback\\nstrain.\\nA\\npregnancy\\npillow\\ncan\\nalso\\nprovide\\nadditional\\nsupport.\\n●\\nHeat\\nand\\nCold\\nTherapy:\\nApplying\\nheat\\n(a\\nwarm\\nbath,\\nheating\\npad)\\nor\\ncold\\n(ice\\npack)\\nto\\nthe\\naffected\\narea\\ncan\\nhelp\\nalleviate\\npain.\\nAlternate\\nbetween\\nthe\\ntwo\\nfor\\nbest\\nresults.\\n●\\nPrenatal\\nMassage:\\nA\\nprofessional\\nprenatal\\nmassage\\ncan\\nrelieve\\nmuscle\\ntension\\nand\\nimprove\\ncirculation,\\nreducing\\nback\\npain.\\nWhen\\nto\\nSeek\\nMedical\\nHelp:\\n●\\nIf\\nback\\npain\\nis\\nsevere,\\npersistent,\\nor\\naccompanied\\nby\\nother\\nsymptoms\\nlike\\nvaginal\\nbleeding,\\nconsult\\nyour\\nhealthcare\\nprovider\\nas\\nit\\ncould\\nindicate\\na\\nmore\\nserious\\nissue.\\nMental\\nHealth\\nConsiderations\\nDuring\\nPregnancy\\nMental\\nhealth\\nis\\na\\ncrucial\\naspect\\nof',\n",
              " 'by\\nother\\nsymptoms\\nlike\\nvaginal\\nbleeding,\\nconsult\\nyour\\nhealthcare\\nprovider\\nas\\nit\\ncould\\nindicate\\na\\nmore\\nserious\\nissue.\\nMental\\nHealth\\nConsiderations\\nDuring\\nPregnancy\\nMental\\nhealth\\nis\\na\\ncrucial\\naspect\\nof\\noverall\\nwell-being\\nduring\\npregnancy .\\nThe\\nemotional\\nand\\npsychological\\nchanges\\nthat\\noccur\\nduring\\nthis\\ntime\\ncan\\nbe\\nchallenging,\\nand\\nmanaging\\nthem\\neffectively\\nis\\nessential\\nfor\\na\\nhealthy\\npregnancy .\\n1.\\nManaging\\nStress\\nPregnancy\\ncan\\nbe\\na\\nstressful\\ntime\\ndue\\nto\\nvarious\\nfactors,\\nincluding\\nphysical\\nchanges,\\nworries\\nabout\\nchildbirth,\\nand\\nconcerns\\nabout\\nparenting.\\nStrategies\\nfor\\nManaging\\nStress:\\n●\\nMindfulness\\nand\\nMeditation:\\nPracticing\\nmindfulness\\ntechniques\\nsuch\\nas\\ndeep\\nbreathing,\\nmeditation,\\nor\\nguided\\nimagery\\ncan\\nhelp\\ncalm\\nthe\\nmind\\nand\\nreduce\\nstress.\\nEven\\na\\nfew\\nminutes\\na\\nday\\ncan\\nmake\\na\\nsignificant',\n",
              " \"and\\nMeditation:\\nPracticing\\nmindfulness\\ntechniques\\nsuch\\nas\\ndeep\\nbreathing,\\nmeditation,\\nor\\nguided\\nimagery\\ncan\\nhelp\\ncalm\\nthe\\nmind\\nand\\nreduce\\nstress.\\nEven\\na\\nfew\\nminutes\\na\\nday\\ncan\\nmake\\na\\nsignificant\\ndifference.\\n●\\nPrenatal\\nYoga:\\nYoga\\nnot\\nonly\\nhelps\\nwith\\nphysical\\ndiscomforts\\nbut\\nalso\\npromotes\\nrelaxation\\nand\\nmental\\nwell-being.\\nIt\\ncombines\\nphysical\\npostures\\nwith\\nbreathing\\ntechniques\\nthat\\nreduce\\nstress.\\n●\\nRegular\\nPhysical\\nActivity:\\nRegular\\nexercise,\\neven\\nlight\\nactivities\\nlike\\nwalking,\\ncan\\nreduce\\nstress\\nlevels\\nby\\nreleasing\\nendorphins,\\nthe\\nbody's\\nnatural\\nstress\\nrelievers.\\n●\\nAdequate\\nSleep:\\nSleep\\nis\\nessential\\nfor\\nmanaging\\nstress.\\nAim\\nfor\\n7-9\\nhours\\nof\\nquality\\nsleep\\nper\\nnight.\\nCreate\\na\\ncomfortable\\nsleeping\\nenvironment\\nand\\nestablish\\na\\nbedtime\\nroutine.\\n●\\nTime\\nManagement:\\nOrganizing\\ndaily\\ntasks\\nand\\nsetting\",\n",
              " 'for\\nmanaging\\nstress.\\nAim\\nfor\\n7-9\\nhours\\nof\\nquality\\nsleep\\nper\\nnight.\\nCreate\\na\\ncomfortable\\nsleeping\\nenvironment\\nand\\nestablish\\na\\nbedtime\\nroutine.\\n●\\nTime\\nManagement:\\nOrganizing\\ndaily\\ntasks\\nand\\nsetting\\nrealistic\\ngoals\\ncan\\nhelp\\nreduce\\nfeelings\\nof\\nbeing\\noverwhelmed.\\nPrioritize\\ntasks\\nand\\ndelegate\\nwhen\\npossible.●\\nSupport\\nSystem:\\nLean\\non\\nyour\\npartner ,\\nfamily ,\\nand\\nfriends\\nfor\\nemotional\\nsupport.\\nTalking\\nabout\\nyour\\nconcerns\\nand\\nfeelings\\ncan\\nrelieve\\nstress.\\n●\\nProfessional\\nHelp:\\nIf\\nstress\\nbecomes\\noverwhelming,\\nseek\\nhelp\\nfrom\\na\\ncounselor\\nor\\ntherapist\\nwho\\nspecializes\\nin\\nprenatal\\ncare.\\nCognitive-behavioral\\ntherapy\\n(CBT)\\nis\\nparticularly\\neffective\\nin\\nmanaging\\nstress\\nand\\nanxiety\\nduring\\npregnancy .\\n2.\\nDealing\\nwith\\nAnxiety\\nAnxiety\\nduring\\npregnancy\\nis\\ncommon,\\nwith\\nmany\\nwomen\\nexperiencing\\nworries\\nabout\\ntheir',\n",
              " 'therapy\\n(CBT)\\nis\\nparticularly\\neffective\\nin\\nmanaging\\nstress\\nand\\nanxiety\\nduring\\npregnancy .\\n2.\\nDealing\\nwith\\nAnxiety\\nAnxiety\\nduring\\npregnancy\\nis\\ncommon,\\nwith\\nmany\\nwomen\\nexperiencing\\nworries\\nabout\\ntheir\\nhealth,\\nthe\\nbaby’ s\\nhealth,\\nand\\nthe\\nchanges\\nthat\\ncome\\nwith\\nmotherhood.\\nStrategies\\nfor\\nManaging\\nAnxiety:\\n●\\nEducation:\\nEducating\\nyourself\\nabout\\npregnancy ,\\nchildbirth,\\nand\\nparenting\\ncan\\nreduce\\nanxiety .\\nKnowing\\nwhat\\nto\\nexpect\\ncan\\nhelp\\nalleviate\\nfears\\nand\\nuncertainties.\\n●\\nPositive\\nAffirmations:\\nUse\\npositive\\naffirmations\\nto\\ncombat\\nnegative\\nthoughts.\\nRemind\\nyourself\\nthat\\nyou\\nare\\ncapable\\nand\\nthat\\nmany\\nof\\nyour\\nfears\\nare\\nmanageable.\\n●\\nLimiting\\nMedia\\nExposure:\\nAvoid\\nconsuming\\ntoo\\nmuch\\nnegative\\nmedia,\\nespecially\\nrelated\\nto\\npregnancy\\nand\\nchildbirth,\\nas\\nit\\ncan\\nexacerbate\\nanxiety .\\n●\\nMindfulness\\nand',\n",
              " 'many\\nof\\nyour\\nfears\\nare\\nmanageable.\\n●\\nLimiting\\nMedia\\nExposure:\\nAvoid\\nconsuming\\ntoo\\nmuch\\nnegative\\nmedia,\\nespecially\\nrelated\\nto\\npregnancy\\nand\\nchildbirth,\\nas\\nit\\ncan\\nexacerbate\\nanxiety .\\n●\\nMindfulness\\nand\\nRelaxation\\nTechniques:\\nEngage\\nin\\npractices\\nlike\\nprogressive\\nmuscle\\nrelaxation,\\ndeep\\nbreathing\\nexercises,\\nor\\nprenatal\\nmeditation\\nto\\ncalm\\nthe\\nmind.\\n●\\nRoutine:\\nEstablish\\na\\ndaily\\nroutine\\nthat\\nincludes\\ntime\\nfor\\nrelaxation,\\nhobbies,\\nand\\nactivities\\nthat\\nbring\\njoy.\\nStructure\\ncan\\nprovide\\na\\nsense\\nof\\ncontrol\\nand\\nstability .\\n●\\nAvoiding\\nCaffeine\\nand\\nSugary\\nFoods:\\nHigh\\ncaffeine\\nand\\nsugar\\nintake\\ncan\\nincrease\\nanxiety\\nlevels.\\nOpt\\nfor\\na\\nbalanced\\ndiet\\nthat\\nstabilizes\\nblood\\nsugar\\nlevels,\\nas\\nfluctuating\\nblood\\nsugar\\ncan\\naffect\\nmood.\\n●\\nPeer\\nSupport\\nGroups:\\nJoining\\na\\nprenatal\\nsupport\\ngroup,\\neither\\nin-person\\nor',\n",
              " 'anxiety\\nlevels.\\nOpt\\nfor\\na\\nbalanced\\ndiet\\nthat\\nstabilizes\\nblood\\nsugar\\nlevels,\\nas\\nfluctuating\\nblood\\nsugar\\ncan\\naffect\\nmood.\\n●\\nPeer\\nSupport\\nGroups:\\nJoining\\na\\nprenatal\\nsupport\\ngroup,\\neither\\nin-person\\nor\\nonline,\\ncan\\nprovide\\ncomfort\\nand\\nreduce\\nanxiety .\\nSharing\\nexperiences\\nwith\\nother\\npregnant\\nwomen\\ncan\\nnormalize\\nyour\\nfeelings\\nand\\noffer\\npractical\\nadvice.\\nWhen\\nto\\nSeek\\nMedical\\nHelp:\\n●\\nIf\\nanxiety\\nis\\nsevere,\\npersistent,\\nor\\ninterfering\\nwith\\ndaily\\nlife,\\nit\\nis\\nimportant\\nto\\nseek\\nhelp\\nfrom\\na\\nmental\\nhealth\\nprofessional.\\nAntenatal\\nanxiety\\ncan\\nlead\\nto\\npostpartum\\ndepression\\nif\\nnot\\naddressed.\\nMedications\\nand\\nSupplements\\nDuring\\nPregnancy\\nThe\\nsafety\\nof\\nmedications\\nand\\nsupplements\\nduring\\npregnancy\\nis\\na\\ncrucial\\nconsideration.\\nWhat\\nmay\\nbe\\nsafe\\nfor\\nnon-pregnant\\nindividuals\\ncould\\npose\\nrisks\\nto\\nthe\\ndeveloping\\nfetus.',\n",
              " 'During\\nPregnancy\\nThe\\nsafety\\nof\\nmedications\\nand\\nsupplements\\nduring\\npregnancy\\nis\\na\\ncrucial\\nconsideration.\\nWhat\\nmay\\nbe\\nsafe\\nfor\\nnon-pregnant\\nindividuals\\ncould\\npose\\nrisks\\nto\\nthe\\ndeveloping\\nfetus.\\nHere’ s\\na\\ndetailed\\nguide\\non\\nwhat’ s\\nsafe\\nand\\nwhat’ s\\nnot.1.\\nSafe\\nMedications\\nGeneral\\nGuidelines:\\n●\\nConsultation:\\nAlways\\nconsult\\nyour\\nhealthcare\\nprovider\\nbefore\\ntaking\\nany\\nmedication\\nduring\\npregnancy ,\\nincluding\\nover-the-counter\\n(OTC)\\ndrugs,\\nprescription\\nmedications,\\nand\\nherbal\\nsupplements.\\n●\\nMinimal\\nUse:\\nUse\\nmedications\\nonly\\nwhen\\nnecessary\\nand\\nat\\nthe\\nlowest\\neffective\\ndose.\\nAvoid\\nmedications\\nin\\nthe\\nfirst\\ntrimester\\nif\\npossible,\\nas\\nthis\\nis\\nthe\\nmost\\ncritical\\nperiod\\nfor\\nfetal\\ndevelopment.\\nCommonly\\nSafe\\nMedications:\\n●\\nAcetaminophen\\n(Tylenol):\\nGenerally\\nconsidered\\nsafe\\nfor\\npain\\nrelief\\nand\\nfever\\nmanagement.',\n",
              " 'trimester\\nif\\npossible,\\nas\\nthis\\nis\\nthe\\nmost\\ncritical\\nperiod\\nfor\\nfetal\\ndevelopment.\\nCommonly\\nSafe\\nMedications:\\n●\\nAcetaminophen\\n(Tylenol):\\nGenerally\\nconsidered\\nsafe\\nfor\\npain\\nrelief\\nand\\nfever\\nmanagement.\\nAvoid\\nNSAIDs\\nlike\\nibupr ofen\\n,\\nespecially\\nin\\nthe\\nthird\\ntrimester ,\\nas\\nthey\\ncan\\naffect\\nfetal\\ndevelopment.\\n●\\nAntacids:\\nCalcium\\ncarbonate\\n(Tums)\\nis\\nsafe\\nfor\\ntreating\\nheartburn.\\nAvoid\\nantacids\\ncontaining\\nsodium\\nbicarbonate.\\n●\\nPrenatal\\nVitamins:\\nEssential\\nfor\\nproviding\\nnecessary\\nnutrients\\nlike\\nfolic\\nacid,\\niron,\\nand\\nDHA.\\nFolic\\nacid,\\nin\\nparticular ,\\nis\\ncrucial\\nfor\\npreventing\\nneural\\ntube\\ndefects.\\n●\\nAntihistamines:\\nDiphenhydramine\\n(Benadryl)\\nand\\nloratadine\\n(Claritin)\\nare\\ngenerally\\nconsidered\\nsafe\\nfor\\nallergy\\nrelief.\\n●\\nCough\\nMedications:\\nDextr omethorphan\\n(Robitussin)\\nis\\noften\\nsafe\\nfor\\ntreating\\ncough,',\n",
              " 'Diphenhydramine\\n(Benadryl)\\nand\\nloratadine\\n(Claritin)\\nare\\ngenerally\\nconsidered\\nsafe\\nfor\\nallergy\\nrelief.\\n●\\nCough\\nMedications:\\nDextr omethorphan\\n(Robitussin)\\nis\\noften\\nsafe\\nfor\\ntreating\\ncough,\\nbut\\navoid\\nproducts\\ncontaining\\nalcohol.\\n●\\nAntibiotics:\\nCertain\\nantibiotics\\nlike\\npenicillin\\nand\\nerythromycin\\nare\\nconsidered\\nsafe,\\nwhile\\nothers\\nlike\\ntetracycline\\nshould\\nbe\\navoided.\\nWhen\\nto\\nAvoid\\nMedications:\\n●\\nNSAIDs:\\nNonsteroidal\\nanti-inflammatory\\ndrugs\\nlike\\nibuprofen\\nand\\naspirin\\nare\\ngenerally\\navoided,\\nespecially\\nin\\nthe\\nthird\\ntrimester ,\\ndue\\nto\\nthe\\nrisk\\nof\\nfetal\\ncomplications.\\n●\\nCertain\\nAntidepressants:\\nWhile\\nsome\\nSSRIs\\nare\\nconsidered\\nsafe,\\nothers,\\nsuch\\nas\\nparoxetine\\n(Paxil)\\n,\\nmay\\nbe\\nassociated\\nwith\\nfetal\\nrisks.\\nConsult\\nyour\\ndoctor\\nfor\\nalternative\\ntreatments\\nif\\nneeded.\\n●\\nACE\\nInhibitors:\\nThese\\nblood',\n",
              " 'While\\nsome\\nSSRIs\\nare\\nconsidered\\nsafe,\\nothers,\\nsuch\\nas\\nparoxetine\\n(Paxil)\\n,\\nmay\\nbe\\nassociated\\nwith\\nfetal\\nrisks.\\nConsult\\nyour\\ndoctor\\nfor\\nalternative\\ntreatments\\nif\\nneeded.\\n●\\nACE\\nInhibitors:\\nThese\\nblood\\npressure\\nmedications\\nare\\nlinked\\nto\\nfetal\\nkidney\\ndamage\\nand\\nshould\\nbe\\navoided\\nduring\\npregnancy .\\n●\\nRetinoids:\\nUsed\\nfor\\nacne\\ntreatment,\\nretinoids\\nlike\\nisotretinoin\\ncan\\ncause\\nsevere\\nbirth\\ndefects\\nand\\nshould\\nbe\\nstrictly\\navoided.2.\\nSafe\\nSupplements\\nPrenatal\\nVitamins:\\n●\\nFolic\\nAcid:\\nCrucial\\nfor\\npreventing\\nneural\\ntube\\ndefects.\\nThe\\nrecommended\\ndaily\\ndose\\nis\\n400-800\\nmcg.\\n●\\nIron:\\nSupports\\nthe\\nincreased\\nblood\\nvolume\\nduring\\npregnancy .\\nThe\\nrecommended\\ndaily\\nintake\\nis\\n27\\nmg.\\n●\\nCalcium:\\nImportant\\nfor\\nbone\\ndevelopment.\\nAim\\nfor\\n1,000\\nmg\\nper\\nday.\\n●\\nDHA\\n(Omega-3\\nFatty\\nAcids):\\nSupports\\nbrain\\nand\\neye\\ndevelopment\\nin',\n",
              " 'volume\\nduring\\npregnancy .\\nThe\\nrecommended\\ndaily\\nintake\\nis\\n27\\nmg.\\n●\\nCalcium:\\nImportant\\nfor\\nbone\\ndevelopment.\\nAim\\nfor\\n1,000\\nmg\\nper\\nday.\\n●\\nDHA\\n(Omega-3\\nFatty\\nAcids):\\nSupports\\nbrain\\nand\\neye\\ndevelopment\\nin\\nthe\\nfetus.\\nRecommended\\nintake\\nis\\n200-300\\nmg\\ndaily .\\nHerbal\\nSupplements:\\n●\\nCaution\\nis\\nKey:\\nMany\\nherbal\\nsupplements\\nare\\nnot\\nregulated\\nand\\ncan\\npose\\nrisks\\nduring\\npregnancy .\\nAlways\\nconsult\\nyour\\nhealthcare\\nprovider\\nbefore\\ntaking\\nany\\nherbal\\nproducts.\\n●\\nSafe\\nOptions:\\nGinger\\n(for\\nnausea)\\nand\\npeppermint\\n(for\\ndigestion)\\nare\\ngenerally\\nconsidered\\nsafe\\nin\\nmoderate\\namounts.\\n●\\nAvoid:\\nSupplements\\nlike\\nSt.\\nJohn’ s\\nWort,\\nechinacea,\\nand\\nginkgo\\nbiloba,\\nas\\ntheir\\nsafety\\nduring\\npregnancy\\nis\\nnot\\nwell\\nestablished.\\nWhen\\nto\\nSeek\\nMedical\\nHelp:\\n●\\nAdverse\\nReactions:\\nIf\\nyou\\nexperience\\nany\\nadverse\\nreactions\\nor\\nside\\neffects',\n",
              " 'Wort,\\nechinacea,\\nand\\nginkgo\\nbiloba,\\nas\\ntheir\\nsafety\\nduring\\npregnancy\\nis\\nnot\\nwell\\nestablished.\\nWhen\\nto\\nSeek\\nMedical\\nHelp:\\n●\\nAdverse\\nReactions:\\nIf\\nyou\\nexperience\\nany\\nadverse\\nreactions\\nor\\nside\\neffects\\nfrom\\nmedications\\nor\\nsupplements,\\ncontact\\nyour\\nhealthcare\\nprovider\\nimmediately .\\n●\\nConsultation\\nBefore\\nStarting\\nNew\\nSupplements:\\nAlways\\ndiscuss\\nwith\\nyour\\ndoctor\\nbefore\\nstarting\\nany\\nnew\\nsupplements,\\neven\\nthose\\nconsidered\\nsafe,\\nto\\nensure\\nthey\\nare\\nappropriate\\nfor\\nyour\\nspecific\\nhealth\\nneeds\\nand\\npregnancy .\\nHealthy\\nLifestyle\\nDuring\\nPregnancy\\nEating\\na\\nnutritious\\ndiet\\nduring\\npregnancy\\nis\\nlinked\\nto\\ngood\\nbrain\\ndevelopment\\nand\\na\\nhealthy\\nbirth\\nweight,\\nand\\ncan\\nreduce\\nthe\\nrisk\\nof\\nmany\\nbirth\\ndefects.Learn\\nto\\nmake\\nthe\\nright\\nlifestyle\\nchoices\\nduring\\npregnancy:\\ndiet,\\nsleep,\\nexercise,\\nbeauty ,\\ntravel,\\nwork\\nand',\n",
              " \"brain\\ndevelopment\\nand\\na\\nhealthy\\nbirth\\nweight,\\nand\\ncan\\nreduce\\nthe\\nrisk\\nof\\nmany\\nbirth\\ndefects.Learn\\nto\\nmake\\nthe\\nright\\nlifestyle\\nchoices\\nduring\\npregnancy:\\ndiet,\\nsleep,\\nexercise,\\nbeauty ,\\ntravel,\\nwork\\nand\\nmany\\nmore.A\\nhealthy\\npregnancy\\ndiet\\nwill\\npromote\\nyour\\nbaby's\\ngrowth\\nand\\ndevelopment.\\nUnderstand\\nwhich\\nnutrients\\nyou\\nneed\\nmost\\nand\\nwhere\\nto\\nfind\\nthem.\\nDuring\\npregnancy ,\\nthe\\nbasic\\nprinciples\\nof\\nhealthy\\neating\\nremain\\nthe\\nsame\\n—\\nget\\nplenty\\nof\\nfruits,\\nvegetables,\\nwhole\\ngrains,\\nlean\\nprotein\\nand\\nhealthy\\nfats.Dos\\nand\\nDon'ts\\nThere\\ncan\\nbe\\nmisconceptions\\nabout\\nwhat\\nis\\nok\\nto\\ndo\\nduring\\npregnancy .\\nIt’s\\ncommonly\\nknown\\nto\\ntry\\nto\\neat\\nhealthy\\nwhile\\navoiding\\ncertain\\nfoods,\\nexercise,\\nand\\ntake\\nyour\\nprenatal\\nmultivitamins,\\nbut\\nother\\nthings\\nmay\\nsurprise\\nyou.\\nBefore\\nyour\\nlittle\\nbundle\\nof\\njoy\\narrives,\\nyou’re\",\n",
              " 'commonly\\nknown\\nto\\ntry\\nto\\neat\\nhealthy\\nwhile\\navoiding\\ncertain\\nfoods,\\nexercise,\\nand\\ntake\\nyour\\nprenatal\\nmultivitamins,\\nbut\\nother\\nthings\\nmay\\nsurprise\\nyou.\\nBefore\\nyour\\nlittle\\nbundle\\nof\\njoy\\narrives,\\nyou’re\\nresponsible\\nfor\\nhelping\\nthem\\ngrow\\nin\\na\\nnurturing,\\nhealthy\\nenvironment.\\nThis\\nlist\\nof\\npregnancy\\ndo’s,\\nand\\ndon’ts\\ncan\\nilluminate\\nwhat\\nyou\\nshould\\nworry\\nabout\\n—\\nand\\nwhat\\nyou\\nshouldn’ t\\nfret\\nover.\\nSafe\\nSleep\\nPractices\\nSleeping\\non\\nyour\\neither\\nside\\ncan\\nhelp\\ngive\\nyou\\nand\\nyour\\nbaby\\noptimal\\nblood\\nflow.\\nDoctors\\nmay\\nrecommend\\nnot\\nsleeping\\non\\nyour\\nback\\nor\\nstomach\\nafter\\na\\ncertain\\npoint\\nin\\nyour\\npregnancy .\\nSide\\nsleeping:\\nLeft\\nvs.\\nright\\nDoctors\\ngenerally\\nrecommend\\nsleeping\\non\\nyour\\nside\\nduring\\npregnancy ,\\nespecially\\nas\\ntime\\ngoes\\non.\\nWhy\\nis\\nthis\\nexactly?\\nIt\\nboils\\ndown\\nto\\nblood\\nflow.\\nAs\\nthe\\nfetus\\ngets\\nbigger ,',\n",
              " 'sleeping:\\nLeft\\nvs.\\nright\\nDoctors\\ngenerally\\nrecommend\\nsleeping\\non\\nyour\\nside\\nduring\\npregnancy ,\\nespecially\\nas\\ntime\\ngoes\\non.\\nWhy\\nis\\nthis\\nexactly?\\nIt\\nboils\\ndown\\nto\\nblood\\nflow.\\nAs\\nthe\\nfetus\\ngets\\nbigger ,\\nthere\\nis\\ngreater\\nchance\\nof\\ncompression\\nof\\nthe\\nblood\\nflow\\nto\\nthe\\nuterus.\\nHowever ,\\ndoctors\\nstill\\ncontinue\\nto\\ntilt\\npatients\\nwhen\\nthey\\nare\\nlying\\ndown\\nduring\\na\\ncesarean\\ndelivery ,\\ncommonly\\ncalled\\na\\nc-section,\\nor\\nwhen\\nthey\\nare\\nin\\nlabor\\nwith\\nabnormal\\nheart\\nrhythms.\\nA\\n2019\\nreview\\nof\\nmedical\\nstudies\\nsuggests\\nthat\\nsleeping\\non\\nyour\\nback\\ncarries\\nrisks,\\nbut\\nit\\ndoesn’ t\\nseem\\nto\\nmatter\\nwhether\\nyou\\nsleep\\non\\nyour\\nright\\nor\\nleft\\nside.These\\nstudies\\ndo\\nhave\\nsome\\nflaws,\\nthough.\\nThird\\ntrimester\\npregnancy\\nloss\\nis\\nvery\\nuncommon.\\nTherefore,\\nthere\\naren’ t\\nmany\\ncases\\nfrom\\nwhich\\nto\\ndraw\\nconclusions.Additionally ,\\nit’s',\n",
              " 'right\\nor\\nleft\\nside.These\\nstudies\\ndo\\nhave\\nsome\\nflaws,\\nthough.\\nThird\\ntrimester\\npregnancy\\nloss\\nis\\nvery\\nuncommon.\\nTherefore,\\nthere\\naren’ t\\nmany\\ncases\\nfrom\\nwhich\\nto\\ndraw\\nconclusions.Additionally ,\\nit’s\\ndifficult\\nto\\ndetermine\\nexactly\\nwhen\\nthe\\nfetus\\npassed\\naway\\nand\\nwhether\\nthere\\nwere\\nother\\nfactors\\ninvolved.\\nIt\\ncan\\nbe\\nchallenging\\nto\\npinpoint\\nwhat\\nis\\noccurring\\nin\\nutero\\nwithout\\nmonitoring.The\\nstudy\\ndid\\nfind,\\nhowever ,\\nthat\\nthere\\nwas\\nan\\nincreased\\nrisk\\nof\\nstillbirth\\nfor\\nback\\nsleepers\\nafter\\n28\\nweeks.There’ s\\na\\nlot\\nof\\nmixed\\ndata\\non\\nwhether\\nlying\\nflat\\non\\nyour\\nback\\nduring\\npregnancy\\ncontributes\\nto\\nan\\nincreased\\nrisk\\nof\\nstillbirth.\\nLeft\\nside\\nSleeping\\non\\nyour\\nleft\\nside\\nis\\noften\\nreferred\\nto\\nas\\nthe\\n“ideal”\\nscenario\\nduring\\npregnancy .Positioning\\nyourself\\non\\nthe\\nleft\\nside\\nof\\nyour\\nbody\\nallows\\nfor\\noptimal\\nblood']"
            ]
          },
          "metadata": {},
          "execution_count": 15
        }
      ]
    },
    {
      "cell_type": "markdown",
      "metadata": {
        "id": "V1WK54-74Rpt"
      },
      "source": [
        "### Load the dataset into the vector store\n",
        "\n"
      ]
    },
    {
      "cell_type": "code",
      "execution_count": null,
      "metadata": {
        "colab": {
          "base_uri": "https://localhost:8080/"
        },
        "id": "GX5BECsdSUUM",
        "outputId": "f7687205-1198-40b2-8989-b4c3cc3fcf8d"
      },
      "outputs": [
        {
          "output_type": "stream",
          "name": "stdout",
          "text": [
            "Inserted 50 headlines.\n"
          ]
        }
      ],
      "source": [
        "\n",
        "astra_vector_store.add_texts(texts[:50])\n",
        "\n",
        "print(\"Inserted %i headlines.\" % len(texts[:50]))\n",
        "\n",
        "astra_vector_index = VectorStoreIndexWrapper(vectorstore=astra_vector_store)"
      ]
    },
    {
      "cell_type": "markdown",
      "metadata": {
        "id": "oLJp8yPF4Rpt"
      },
      "source": [
        "### Run the QA cycle\n",
        "\n",
        "Simply run the cells and ask a question -- or `quit` to stop. (you can also stop execution with the \"▪\" button on the top toolbar)\n",
        "\n",
        "Here are some suggested questions:\n",
        "- _What is the current GDP?_\n",
        "- _How much the agriculture target will be increased to and what the focus will be_\n"
      ]
    },
    {
      "cell_type": "code",
      "source": [],
      "metadata": {
        "id": "vHdOTIrD-P1v"
      },
      "execution_count": null,
      "outputs": []
    },
    {
      "cell_type": "code",
      "execution_count": null,
      "metadata": {
        "colab": {
          "base_uri": "https://localhost:8080/"
        },
        "id": "MbJugrh7SX3C",
        "outputId": "dcaf7359-65c9-46b4-dd6c-e95124f49189"
      },
      "outputs": [
        {
          "output_type": "stream",
          "name": "stdout",
          "text": [
            "\n",
            "Enter your question (or type 'quit' to exit): what are stages of pregnancy\n",
            "\n",
            "QUESTION: \"what are stages of pregnancy\"\n"
          ]
        },
        {
          "output_type": "stream",
          "name": "stderr",
          "text": [
            "WARNING:cassandra.protocol:Server warning: Top-K queries can only be run with consistency level ONE / LOCAL_ONE / NODE_LOCAL. Consistency level LOCAL_QUORUM was requested. Downgrading the consistency level to LOCAL_ONE.\n"
          ]
        },
        {
          "output_type": "stream",
          "name": "stdout",
          "text": [
            "ANSWER: \"The stages of pregnancy are divided into three trimesters: the first trimester (weeks 1-12), the second trimester (weeks 13-26), and the third trimester (weeks 27-40). Each trimester has different developments and symptoms for both the mother and the fetus.\"\n",
            "\n",
            "FIRST DOCUMENTS BY RELEVANCE:\n"
          ]
        },
        {
          "output_type": "stream",
          "name": "stderr",
          "text": [
            "WARNING:cassandra.protocol:Server warning: Top-K queries can only be run with consistency level ONE / LOCAL_ONE / NODE_LOCAL. Consistency level LOCAL_QUORUM was requested. Downgrading the consistency level to LOCAL_ONE.\n"
          ]
        },
        {
          "output_type": "stream",
          "name": "stdout",
          "text": [
            "    [0.9327] \"Pregnancy\n",
            "Care\n",
            "Pregnancy\n",
            "is\n",
            "the\n",
            "period\n",
            "during\n",
            "which\n",
            "a\n",
            "fertilized\n",
            "egg\n",
            "develops\n",
            "into\n",
            "a ...\"\n",
            "    [0.9150] \"grows\n",
            "rapidly ,\n",
            "and\n",
            "the\n",
            "mother\n",
            "may\n",
            "start\n",
            "to\n",
            "feel\n",
            "fetal\n",
            "movements\n",
            "(quickening).\n",
            "Sympt ...\"\n",
            "    [0.9122] \"swimming,\n",
            "prenatal\n",
            "yoga,\n",
            "and\n",
            "light\n",
            "strength\n",
            "training.\n",
            "These\n",
            "help\n",
            "in\n",
            "maintaining\n",
            "fitn ...\"\n",
            "    [0.9078] \"her\n",
            "to\n",
            "the\n",
            "PHC-Medical\n",
            "Officer.\n",
            "●\n",
            "Routine\n",
            "Checkups\n",
            "and\n",
            "Screenings\n",
            ":\n",
            "1.\n",
            "Initial\n",
            "Visit ...\"\n",
            "\n",
            "What's your next question (or type 'quit' to exit): what are trimesters?\n",
            "\n",
            "QUESTION: \"what are trimesters?\"\n"
          ]
        },
        {
          "output_type": "stream",
          "name": "stderr",
          "text": [
            "WARNING:cassandra.protocol:Server warning: Top-K queries can only be run with consistency level ONE / LOCAL_ONE / NODE_LOCAL. Consistency level LOCAL_QUORUM was requested. Downgrading the consistency level to LOCAL_ONE.\n"
          ]
        },
        {
          "output_type": "stream",
          "name": "stdout",
          "text": [
            "ANSWER: \"Trimesters refer to the three distinct stages of pregnancy, divided into first, second, and third trimesters. Each trimester has its own unique developments and symptoms.\"\n",
            "\n",
            "FIRST DOCUMENTS BY RELEVANCE:\n"
          ]
        },
        {
          "output_type": "stream",
          "name": "stderr",
          "text": [
            "WARNING:cassandra.protocol:Server warning: Top-K queries can only be run with consistency level ONE / LOCAL_ONE / NODE_LOCAL. Consistency level LOCAL_QUORUM was requested. Downgrading the consistency level to LOCAL_ONE.\n"
          ]
        },
        {
          "output_type": "stream",
          "name": "stdout",
          "text": [
            "    [0.9101] \"Pregnancy\n",
            "Care\n",
            "Pregnancy\n",
            "is\n",
            "the\n",
            "period\n",
            "during\n",
            "which\n",
            "a\n",
            "fertilized\n",
            "egg\n",
            "develops\n",
            "into\n",
            "a ...\"\n",
            "    [0.9004] \"swimming,\n",
            "prenatal\n",
            "yoga,\n",
            "and\n",
            "light\n",
            "strength\n",
            "training.\n",
            "These\n",
            "help\n",
            "in\n",
            "maintaining\n",
            "fitn ...\"\n",
            "    [0.8917] \"trimester\n",
            "if\n",
            "possible,\n",
            "as\n",
            "this\n",
            "is\n",
            "the\n",
            "most\n",
            "critical\n",
            "period\n",
            "for\n",
            "fetal\n",
            "development.\n",
            "Co ...\"\n",
            "    [0.8899] \"grows\n",
            "rapidly ,\n",
            "and\n",
            "the\n",
            "mother\n",
            "may\n",
            "start\n",
            "to\n",
            "feel\n",
            "fetal\n",
            "movements\n",
            "(quickening).\n",
            "Sympt ...\"\n",
            "\n",
            "What's your next question (or type 'quit' to exit): what is prenatal care\n",
            "\n",
            "QUESTION: \"what is prenatal care\"\n"
          ]
        },
        {
          "output_type": "stream",
          "name": "stderr",
          "text": [
            "WARNING:cassandra.protocol:Server warning: Top-K queries can only be run with consistency level ONE / LOCAL_ONE / NODE_LOCAL. Consistency level LOCAL_QUORUM was requested. Downgrading the consistency level to LOCAL_ONE.\n"
          ]
        },
        {
          "output_type": "stream",
          "name": "stdout",
          "text": [
            "ANSWER: \"Prenatal care is regular medical care and checkups that are essential for monitoring the health of both a pregnant person and their baby. It involves various tests and screenings to ensure proper fetal development and early detection of any potential complications. Prenatal care also includes education and guidance on nutrition and lifestyle during pregnancy.\"\n",
            "\n",
            "FIRST DOCUMENTS BY RELEVANCE:\n"
          ]
        },
        {
          "output_type": "stream",
          "name": "stderr",
          "text": [
            "WARNING:cassandra.protocol:Server warning: Top-K queries can only be run with consistency level ONE / LOCAL_ONE / NODE_LOCAL. Consistency level LOCAL_QUORUM was requested. Downgrading the consistency level to LOCAL_ONE.\n"
          ]
        },
        {
          "output_type": "stream",
          "name": "stdout",
          "text": [
            "    [0.9138] \"pregnancy\n",
            "tests,\n",
            "blood\n",
            "tests,\n",
            "and\n",
            "an\n",
            "ultrasound\n",
            "to\n",
            "confirm\n",
            "the\n",
            "gestational\n",
            "age\n",
            "and\n",
            "c ...\"\n",
            "    [0.8960] \"her\n",
            "to\n",
            "the\n",
            "PHC-Medical\n",
            "Officer.\n",
            "●\n",
            "Routine\n",
            "Checkups\n",
            "and\n",
            "Screenings\n",
            ":\n",
            "1.\n",
            "Initial\n",
            "Visit ...\"\n",
            "    [0.8915] \"Pregnancy\n",
            "Care\n",
            "Pregnancy\n",
            "is\n",
            "the\n",
            "period\n",
            "during\n",
            "which\n",
            "a\n",
            "fertilized\n",
            "egg\n",
            "develops\n",
            "into\n",
            "a ...\"\n",
            "    [0.8913] \"+\n",
            "7\n",
            "daysFour\n",
            "antenatal\n",
            "check\n",
            "ups\n",
            "are\n",
            "essential\n",
            "for\n",
            "a\n",
            "pregnant\n",
            "woman:\n",
            "No.of\n",
            "Visit\n",
            "Tim ...\"\n",
            "\n",
            "What's your next question (or type 'quit' to exit): Early detection of pregnancy mean\n",
            "\n",
            "QUESTION: \"Early detection of pregnancy mean\"\n"
          ]
        },
        {
          "output_type": "stream",
          "name": "stderr",
          "text": [
            "WARNING:cassandra.protocol:Server warning: Top-K queries can only be run with consistency level ONE / LOCAL_ONE / NODE_LOCAL. Consistency level LOCAL_QUORUM was requested. Downgrading the consistency level to LOCAL_ONE.\n"
          ]
        },
        {
          "output_type": "stream",
          "name": "stdout",
          "text": [
            "ANSWER: \"Early detection of pregnancy means identifying a pregnancy as early as possible after the first missed period, typically through the use of pregnancy tests, blood tests, and ultrasound. This is important for proper prenatal care and monitoring of the health of both mother and baby.\"\n",
            "\n",
            "FIRST DOCUMENTS BY RELEVANCE:\n"
          ]
        },
        {
          "output_type": "stream",
          "name": "stderr",
          "text": [
            "WARNING:cassandra.protocol:Server warning: Top-K queries can only be run with consistency level ONE / LOCAL_ONE / NODE_LOCAL. Consistency level LOCAL_QUORUM was requested. Downgrading the consistency level to LOCAL_ONE.\n"
          ]
        },
        {
          "output_type": "stream",
          "name": "stdout",
          "text": [
            "    [0.9158] \"and\n",
            "safe\n",
            "delivery .\n",
            "It\n",
            "should\n",
            "be\n",
            "undertaken\n",
            "as\n",
            "early\n",
            "as\n",
            "possible\n",
            "after\n",
            "the\n",
            "first\n",
            "mis ...\"\n",
            "    [0.9107] \"pregnancy\n",
            "tests,\n",
            "blood\n",
            "tests,\n",
            "and\n",
            "an\n",
            "ultrasound\n",
            "to\n",
            "confirm\n",
            "the\n",
            "gestational\n",
            "age\n",
            "and\n",
            "c ...\"\n",
            "    [0.9076] \"Pregnancy\n",
            "Care\n",
            "Pregnancy\n",
            "is\n",
            "the\n",
            "period\n",
            "during\n",
            "which\n",
            "a\n",
            "fertilized\n",
            "egg\n",
            "develops\n",
            "into\n",
            "a ...\"\n",
            "    [0.9064] \"with\n",
            "her\n",
            "LMP .\n",
            "●\n",
            "If\n",
            "the\n",
            "exact\n",
            "date\n",
            "of\n",
            "the\n",
            "LMP\n",
            "is\n",
            "not\n",
            "known\n",
            "and\n",
            "it\n",
            "is\n",
            "late\n",
            "in\n",
            "the\n",
            "pre ...\"\n",
            "\n",
            "What's your next question (or type 'quit' to exit): EDD\n",
            "\n",
            "QUESTION: \"EDD\"\n"
          ]
        },
        {
          "output_type": "stream",
          "name": "stderr",
          "text": [
            "WARNING:cassandra.protocol:Server warning: Top-K queries can only be run with consistency level ONE / LOCAL_ONE / NODE_LOCAL. Consistency level LOCAL_QUORUM was requested. Downgrading the consistency level to LOCAL_ONE.\n"
          ]
        },
        {
          "output_type": "stream",
          "name": "stdout",
          "text": [
            "ANSWER: \"The EDD, or estimated due date, can be calculated using the formula in the given context: Date of LMP + 9 months + 7 days. However, this formula is based on the assumption that the menstrual cycle was regular and typically lasts 28-30 days. It is important to note that this is only an estimate and the actual date of delivery may vary.\"\n",
            "\n",
            "FIRST DOCUMENTS BY RELEVANCE:\n"
          ]
        },
        {
          "output_type": "stream",
          "name": "stderr",
          "text": [
            "WARNING:cassandra.protocol:Server warning: Top-K queries can only be run with consistency level ONE / LOCAL_ONE / NODE_LOCAL. Consistency level LOCAL_QUORUM was requested. Downgrading the consistency level to LOCAL_ONE.\n"
          ]
        },
        {
          "output_type": "stream",
          "name": "stdout",
          "text": [
            "    [0.8942] \"with\n",
            "her\n",
            "LMP .\n",
            "●\n",
            "If\n",
            "the\n",
            "exact\n",
            "date\n",
            "of\n",
            "the\n",
            "LMP\n",
            "is\n",
            "not\n",
            "known\n",
            "and\n",
            "it\n",
            "is\n",
            "late\n",
            "in\n",
            "the\n",
            "pre ...\"\n",
            "    [0.8927] \"and\n",
            "safe\n",
            "delivery .\n",
            "It\n",
            "should\n",
            "be\n",
            "undertaken\n",
            "as\n",
            "early\n",
            "as\n",
            "possible\n",
            "after\n",
            "the\n",
            "first\n",
            "mis ...\"\n",
            "    [0.8754] \"Officer\n",
            "for\n",
            "further\n",
            "investigation\n",
            "and\n",
            "management\n",
            "of\n",
            "any\n",
            "illness\n",
            "that\n",
            "may\n",
            "be\n",
            "present. ...\"\n",
            "    [0.8753] \"●\n",
            "If\n",
            "two\n",
            "parallel\n",
            "red\n",
            "bands\n",
            "appear ,\n",
            "the\n",
            "pregnancy\n",
            "test\n",
            "is\n",
            "positive.\n",
            "Determining\n",
            "LMP ...\"\n",
            "\n",
            "What's your next question (or type 'quit' to exit): Nutrition and Diet Guidelines that are to be followed\n",
            "\n",
            "QUESTION: \"Nutrition and Diet Guidelines that are to be followed\"\n"
          ]
        },
        {
          "output_type": "stream",
          "name": "stderr",
          "text": [
            "WARNING:cassandra.protocol:Server warning: Top-K queries can only be run with consistency level ONE / LOCAL_ONE / NODE_LOCAL. Consistency level LOCAL_QUORUM was requested. Downgrading the consistency level to LOCAL_ONE.\n"
          ]
        },
        {
          "output_type": "stream",
          "name": "stdout",
          "text": [
            "ANSWER: \"Some important nutrition and diet guidelines to follow during pregnancy include eating one extra meal a day, consuming milk and dairy products for calcium and protein, eating fresh fruits and vegetables for vitamins and brain development, and incorporating a variety of food groups for a well-balanced diet. It is also recommended to take prenatal multivitamins and to consult with a healthcare provider before taking any herbal supplements. Adequate intake of iron and folic acid is also important and may be provided through daily supplements.\"\n",
            "\n",
            "FIRST DOCUMENTS BY RELEVANCE:\n"
          ]
        },
        {
          "output_type": "stream",
          "name": "stderr",
          "text": [
            "WARNING:cassandra.protocol:Server warning: Top-K queries can only be run with consistency level ONE / LOCAL_ONE / NODE_LOCAL. Consistency level LOCAL_QUORUM was requested. Downgrading the consistency level to LOCAL_ONE.\n"
          ]
        },
        {
          "output_type": "stream",
          "name": "stdout",
          "text": [
            "    [0.9065] \"her\n",
            "to\n",
            "the\n",
            "PHC-Medical\n",
            "Officer.\n",
            "●\n",
            "Routine\n",
            "Checkups\n",
            "and\n",
            "Screenings\n",
            ":\n",
            "1.\n",
            "Initial\n",
            "Visit ...\"\n",
            "    [0.9011] \"brain\n",
            "development\n",
            "and\n",
            "a\n",
            "healthy\n",
            "birth\n",
            "weight,\n",
            "and\n",
            "can\n",
            "reduce\n",
            "the\n",
            "risk\n",
            "of\n",
            "many\n",
            "birth\n",
            " ...\"\n",
            "    [0.8996] \"volume\n",
            "during\n",
            "pregnancy .\n",
            "The\n",
            "recommended\n",
            "daily\n",
            "intake\n",
            "is\n",
            "27\n",
            "mg.\n",
            "●\n",
            "Calcium:\n",
            "Importan ...\"\n",
            "    [0.8966] \"pregnancy .\n",
            "●\n",
            "Take\n",
            "milk\n",
            "and\n",
            "dairy\n",
            "products\n",
            "like\n",
            "curd,\n",
            "buttermilk,\n",
            "paneer -these\n",
            "are\n",
            " ...\"\n",
            "\n",
            "What's your next question (or type 'quit' to exit): Exercise and Physical Activity \n",
            "\n",
            "QUESTION: \"Exercise and Physical Activity\"\n"
          ]
        },
        {
          "output_type": "stream",
          "name": "stderr",
          "text": [
            "WARNING:cassandra.protocol:Server warning: Top-K queries can only be run with consistency level ONE / LOCAL_ONE / NODE_LOCAL. Consistency level LOCAL_QUORUM was requested. Downgrading the consistency level to LOCAL_ONE.\n"
          ]
        },
        {
          "output_type": "stream",
          "name": "stdout",
          "text": [
            "ANSWER: \"Regular exercise, even light activities like walking, can reduce stress levels and improve physical well-being during pregnancy. It is important to engage in safe exercises, such as walking, swimming, prenatal yoga, and light strength training, to maintain fitness and prepare for labor. However, it is also important to avoid high-impact sports, heavy lifting, and activities that may increase the risk of injury, such as contact sports. It is recommended to consult with your healthcare provider before starting any new exercise routine during pregnancy.\"\n",
            "\n",
            "FIRST DOCUMENTS BY RELEVANCE:\n"
          ]
        },
        {
          "output_type": "stream",
          "name": "stderr",
          "text": [
            "WARNING:cassandra.protocol:Server warning: Top-K queries can only be run with consistency level ONE / LOCAL_ONE / NODE_LOCAL. Consistency level LOCAL_QUORUM was requested. Downgrading the consistency level to LOCAL_ONE.\n"
          ]
        },
        {
          "output_type": "stream",
          "name": "stdout",
          "text": [
            "    [0.9039] \"and\n",
            "Meditation:\n",
            "Practicing\n",
            "mindfulness\n",
            "techniques\n",
            "such\n",
            "as\n",
            "deep\n",
            "breathing,\n",
            "meditation ...\"\n",
            "    [0.8980] \"lood\n",
            "sugar\n",
            "Examination\n",
            "for\n",
            "Gestational\n",
            "Diabetes\n",
            "Mellitus\n",
            "Testing\n",
            "for\n",
            "GDM\n",
            "is\n",
            "recommen ...\"\n",
            "    [0.8927] \"many\n",
            "of\n",
            "your\n",
            "fears\n",
            "are\n",
            "manageable.\n",
            "●\n",
            "Limiting\n",
            "Media\n",
            "Exposure:\n",
            "Avoid\n",
            "consuming\n",
            "too\n",
            "mu ...\"\n",
            "    [0.8906] \"ligaments\n",
            "in\n",
            "the\n",
            "pelvic\n",
            "area\n",
            "and\n",
            "can\n",
            "affect\n",
            "the\n",
            "stability\n",
            "of\n",
            "the\n",
            "spine.\n",
            "Management:\n",
            " ...\"\n",
            "\n",
            "What's your next question (or type 'quit' to exit): what is hyperemesis gravidarum\n",
            "\n",
            "QUESTION: \"what is hyperemesis gravidarum\"\n"
          ]
        },
        {
          "output_type": "stream",
          "name": "stderr",
          "text": [
            "WARNING:cassandra.protocol:Server warning: Top-K queries can only be run with consistency level ONE / LOCAL_ONE / NODE_LOCAL. Consistency level LOCAL_QUORUM was requested. Downgrading the consistency level to LOCAL_ONE.\n"
          ]
        },
        {
          "output_type": "stream",
          "name": "stdout",
          "text": [
            "ANSWER: \"Hyperemesis gravidarum is a severe form of morning sickness that requires medical attention during pregnancy. It is characterized by extreme nausea and vomiting that can impact both the mother and baby.\"\n",
            "\n",
            "FIRST DOCUMENTS BY RELEVANCE:\n"
          ]
        },
        {
          "output_type": "stream",
          "name": "stderr",
          "text": [
            "WARNING:cassandra.protocol:Server warning: Top-K queries can only be run with consistency level ONE / LOCAL_ONE / NODE_LOCAL. Consistency level LOCAL_QUORUM was requested. Downgrading the consistency level to LOCAL_ONE.\n"
          ]
        },
        {
          "output_type": "stream",
          "name": "stdout",
          "text": [
            "    [0.8955] \"called\n",
            "hyperemesis\n",
            "gravidarum.\n",
            "This\n",
            "requires\n",
            "medical\n",
            "attention,\n",
            "as\n",
            "it\n",
            "can\n",
            "impact\n",
            "bot ...\"\n",
            "    [0.8829] \"swimming,\n",
            "prenatal\n",
            "yoga,\n",
            "and\n",
            "light\n",
            "strength\n",
            "training.\n",
            "These\n",
            "help\n",
            "in\n",
            "maintaining\n",
            "fitn ...\"\n",
            "    [0.8827] \"woman\n",
            "with\n",
            "PIH,\n",
            "pre-eclampsia\n",
            "or\n",
            "imminent\n",
            "eclampsia\n",
            "requires\n",
            "hospitalization\n",
            "and\n",
            "sup ...\"\n",
            "    [0.8810] \"Pregnant\n",
            "Woman\n",
            "Refer\n",
            "the\n",
            "pregnant\n",
            "woman\n",
            "to\n",
            "24-hour\n",
            "PHC/FRU\n",
            "for\n",
            "further\n",
            "examination\n",
            "i ...\"\n",
            "\n",
            "What's your next question (or type 'quit' to exit):  Dealing with Anxiety\n",
            "\n",
            "QUESTION: \"Dealing with Anxiety\"\n"
          ]
        },
        {
          "output_type": "stream",
          "name": "stderr",
          "text": [
            "WARNING:cassandra.protocol:Server warning: Top-K queries can only be run with consistency level ONE / LOCAL_ONE / NODE_LOCAL. Consistency level LOCAL_QUORUM was requested. Downgrading the consistency level to LOCAL_ONE.\n"
          ]
        },
        {
          "output_type": "stream",
          "name": "stdout",
          "text": [
            "ANSWER: \"There are several strategies for managing anxiety during pregnancy, including education, positive affirmations, limiting media exposure, mindfulness and relaxation techniques, routine, avoiding caffeine and sugary foods, peer support groups, seeking professional help, and practicing prenatal yoga and regular physical activity. Additionally, cognitive-behavioral therapy (CBT) has been found to be particularly effective for managing stress and anxiety during pregnancy.\"\n",
            "\n",
            "FIRST DOCUMENTS BY RELEVANCE:\n"
          ]
        },
        {
          "output_type": "stream",
          "name": "stderr",
          "text": [
            "WARNING:cassandra.protocol:Server warning: Top-K queries can only be run with consistency level ONE / LOCAL_ONE / NODE_LOCAL. Consistency level LOCAL_QUORUM was requested. Downgrading the consistency level to LOCAL_ONE.\n"
          ]
        },
        {
          "output_type": "stream",
          "name": "stdout",
          "text": [
            "    [0.9207] \"therapy\n",
            "(CBT)\n",
            "is\n",
            "particularly\n",
            "effective\n",
            "in\n",
            "managing\n",
            "stress\n",
            "and\n",
            "anxiety\n",
            "during\n",
            "pregna ...\"\n",
            "    [0.9169] \"many\n",
            "of\n",
            "your\n",
            "fears\n",
            "are\n",
            "manageable.\n",
            "●\n",
            "Limiting\n",
            "Media\n",
            "Exposure:\n",
            "Avoid\n",
            "consuming\n",
            "too\n",
            "mu ...\"\n",
            "    [0.9154] \"for\n",
            "managing\n",
            "stress.\n",
            "Aim\n",
            "for\n",
            "7-9\n",
            "hours\n",
            "of\n",
            "quality\n",
            "sleep\n",
            "per\n",
            "night.\n",
            "Create\n",
            "a\n",
            "comforta ...\"\n",
            "    [0.9087] \"and\n",
            "Meditation:\n",
            "Practicing\n",
            "mindfulness\n",
            "techniques\n",
            "such\n",
            "as\n",
            "deep\n",
            "breathing,\n",
            "meditation ...\"\n",
            "\n",
            "What's your next question (or type 'quit' to exit):  Strategies for Managing Anxiety\n",
            "\n",
            "QUESTION: \"Strategies for Managing Anxiety\"\n"
          ]
        },
        {
          "output_type": "stream",
          "name": "stderr",
          "text": [
            "WARNING:cassandra.protocol:Server warning: Top-K queries can only be run with consistency level ONE / LOCAL_ONE / NODE_LOCAL. Consistency level LOCAL_QUORUM was requested. Downgrading the consistency level to LOCAL_ONE.\n"
          ]
        },
        {
          "output_type": "stream",
          "name": "stdout",
          "text": [
            "ANSWER: \"Some strategies for managing anxiety during pregnancy include educating yourself about pregnancy and childbirth, using positive affirmations, limiting media exposure, practicing mindfulness and relaxation techniques, establishing a routine, avoiding caffeine and sugary foods, seeking peer support, and engaging in activities like prenatal yoga and regular physical exercise. Adequate sleep and effective time management can also help reduce anxiety levels. Seeking professional help, such as cognitive-behavioral therapy, may also be beneficial in managing anxiety during pregnancy.\"\n",
            "\n",
            "FIRST DOCUMENTS BY RELEVANCE:\n"
          ]
        },
        {
          "output_type": "stream",
          "name": "stderr",
          "text": [
            "WARNING:cassandra.protocol:Server warning: Top-K queries can only be run with consistency level ONE / LOCAL_ONE / NODE_LOCAL. Consistency level LOCAL_QUORUM was requested. Downgrading the consistency level to LOCAL_ONE.\n"
          ]
        },
        {
          "output_type": "stream",
          "name": "stdout",
          "text": [
            "    [0.9240] \"for\n",
            "managing\n",
            "stress.\n",
            "Aim\n",
            "for\n",
            "7-9\n",
            "hours\n",
            "of\n",
            "quality\n",
            "sleep\n",
            "per\n",
            "night.\n",
            "Create\n",
            "a\n",
            "comforta ...\"\n",
            "    [0.9238] \"therapy\n",
            "(CBT)\n",
            "is\n",
            "particularly\n",
            "effective\n",
            "in\n",
            "managing\n",
            "stress\n",
            "and\n",
            "anxiety\n",
            "during\n",
            "pregna ...\"\n",
            "    [0.9203] \"many\n",
            "of\n",
            "your\n",
            "fears\n",
            "are\n",
            "manageable.\n",
            "●\n",
            "Limiting\n",
            "Media\n",
            "Exposure:\n",
            "Avoid\n",
            "consuming\n",
            "too\n",
            "mu ...\"\n",
            "    [0.9200] \"and\n",
            "Meditation:\n",
            "Practicing\n",
            "mindfulness\n",
            "techniques\n",
            "such\n",
            "as\n",
            "deep\n",
            "breathing,\n",
            "meditation ...\"\n",
            "\n",
            "What's your next question (or type 'quit' to exit):  Whento Avoid Medications?\n",
            "\n",
            "QUESTION: \"Whento Avoid Medications?\"\n"
          ]
        },
        {
          "output_type": "stream",
          "name": "stderr",
          "text": [
            "WARNING:cassandra.protocol:Server warning: Top-K queries can only be run with consistency level ONE / LOCAL_ONE / NODE_LOCAL. Consistency level LOCAL_QUORUM was requested. Downgrading the consistency level to LOCAL_ONE.\n"
          ]
        },
        {
          "output_type": "stream",
          "name": "stdout",
          "text": [
            "ANSWER: \"During the first trimester if possible, as this is the most critical period for fetal development.\"\n",
            "\n",
            "FIRST DOCUMENTS BY RELEVANCE:\n"
          ]
        },
        {
          "output_type": "stream",
          "name": "stderr",
          "text": [
            "WARNING:cassandra.protocol:Server warning: Top-K queries can only be run with consistency level ONE / LOCAL_ONE / NODE_LOCAL. Consistency level LOCAL_QUORUM was requested. Downgrading the consistency level to LOCAL_ONE.\n"
          ]
        },
        {
          "output_type": "stream",
          "name": "stdout",
          "text": [
            "    [0.9084] \"During\n",
            "Pregnancy\n",
            "The\n",
            "safety\n",
            "of\n",
            "medications\n",
            "and\n",
            "supplements\n",
            "during\n",
            "pregnancy\n",
            "is\n",
            "a\n",
            "cru ...\"\n",
            "    [0.9025] \"Diphenhydramine\n",
            "(Benadryl)\n",
            "and\n",
            "loratadine\n",
            "(Claritin)\n",
            "are\n",
            "generally\n",
            "considered\n",
            "safe\n",
            "f ...\"\n",
            "    [0.9024] \"trimester\n",
            "if\n",
            "possible,\n",
            "as\n",
            "this\n",
            "is\n",
            "the\n",
            "most\n",
            "critical\n",
            "period\n",
            "for\n",
            "fetal\n",
            "development.\n",
            "Co ...\"\n",
            "    [0.9009] \"anxiety\n",
            "levels.\n",
            "Opt\n",
            "for\n",
            "a\n",
            "balanced\n",
            "diet\n",
            "that\n",
            "stabilizes\n",
            "blood\n",
            "sugar\n",
            "levels,\n",
            "as\n",
            "fluct ...\"\n",
            "\n",
            "What's your next question (or type 'quit' to exit): Safe Sleep Practices\n",
            "\n",
            "QUESTION: \"Safe Sleep Practices\"\n"
          ]
        },
        {
          "output_type": "stream",
          "name": "stderr",
          "text": [
            "WARNING:cassandra.protocol:Server warning: Top-K queries can only be run with consistency level ONE / LOCAL_ONE / NODE_LOCAL. Consistency level LOCAL_QUORUM was requested. Downgrading the consistency level to LOCAL_ONE.\n"
          ]
        },
        {
          "output_type": "stream",
          "name": "stdout",
          "text": [
            "ANSWER: \"Sleeping on your side, specifically the left side, is recommended during pregnancy to promote optimal blood flow to the fetus. It is important to create a comfortable sleeping environment and establish a bedtime routine to aim for 7-9 hours of quality sleep per night. Additionally, regular exercise, mindfulness techniques, and seeking support from a counselor or therapist can also help manage stress during pregnancy.\"\n",
            "\n",
            "FIRST DOCUMENTS BY RELEVANCE:\n"
          ]
        },
        {
          "output_type": "stream",
          "name": "stderr",
          "text": [
            "WARNING:cassandra.protocol:Server warning: Top-K queries can only be run with consistency level ONE / LOCAL_ONE / NODE_LOCAL. Consistency level LOCAL_QUORUM was requested. Downgrading the consistency level to LOCAL_ONE.\n"
          ]
        },
        {
          "output_type": "stream",
          "name": "stdout",
          "text": [
            "    [0.9105] \"for\n",
            "managing\n",
            "stress.\n",
            "Aim\n",
            "for\n",
            "7-9\n",
            "hours\n",
            "of\n",
            "quality\n",
            "sleep\n",
            "per\n",
            "night.\n",
            "Create\n",
            "a\n",
            "comforta ...\"\n",
            "    [0.9032] \"many\n",
            "of\n",
            "your\n",
            "fears\n",
            "are\n",
            "manageable.\n",
            "●\n",
            "Limiting\n",
            "Media\n",
            "Exposure:\n",
            "Avoid\n",
            "consuming\n",
            "too\n",
            "mu ...\"\n",
            "    [0.9009] \"commonly\n",
            "known\n",
            "to\n",
            "try\n",
            "to\n",
            "eat\n",
            "healthy\n",
            "while\n",
            "avoiding\n",
            "certain\n",
            "foods,\n",
            "exercise,\n",
            "and\n",
            "tak ...\"\n",
            "    [0.8955] \"and\n",
            "Meditation:\n",
            "Practicing\n",
            "mindfulness\n",
            "techniques\n",
            "such\n",
            "as\n",
            "deep\n",
            "breathing,\n",
            "meditation ...\"\n",
            "\n",
            "What's your next question (or type 'quit' to exit): Ways to make side sleeping work ?\n",
            "\n",
            "QUESTION: \"Ways to make side sleeping work ?\"\n"
          ]
        },
        {
          "output_type": "stream",
          "name": "stderr",
          "text": [
            "WARNING:cassandra.protocol:Server warning: Top-K queries can only be run with consistency level ONE / LOCAL_ONE / NODE_LOCAL. Consistency level LOCAL_QUORUM was requested. Downgrading the consistency level to LOCAL_ONE.\n"
          ]
        },
        {
          "output_type": "stream",
          "name": "stdout",
          "text": [
            "ANSWER: \"Some ways to make side sleeping work during pregnancy include using pillows to support your belly and back, using a pregnancy wedge pillow, and placing a pillow between your legs for added comfort. It may also be helpful to switch sides throughout the night and use a body pillow for added support. Consulting with your doctor for more personalized recommendations may also be beneficial.\"\n",
            "\n",
            "FIRST DOCUMENTS BY RELEVANCE:\n"
          ]
        },
        {
          "output_type": "stream",
          "name": "stderr",
          "text": [
            "WARNING:cassandra.protocol:Server warning: Top-K queries can only be run with consistency level ONE / LOCAL_ONE / NODE_LOCAL. Consistency level LOCAL_QUORUM was requested. Downgrading the consistency level to LOCAL_ONE.\n"
          ]
        },
        {
          "output_type": "stream",
          "name": "stdout",
          "text": [
            "    [0.9102] \"commonly\n",
            "known\n",
            "to\n",
            "try\n",
            "to\n",
            "eat\n",
            "healthy\n",
            "while\n",
            "avoiding\n",
            "certain\n",
            "foods,\n",
            "exercise,\n",
            "and\n",
            "tak ...\"\n",
            "    [0.9056] \"right\n",
            "or\n",
            "left\n",
            "side.These\n",
            "studies\n",
            "do\n",
            "have\n",
            "some\n",
            "flaws,\n",
            "though.\n",
            "Third\n",
            "trimester\n",
            "pregnan ...\"\n",
            "    [0.9017] \"sleeping:\n",
            "Left\n",
            "vs.\n",
            "right\n",
            "Doctors\n",
            "generally\n",
            "recommend\n",
            "sleeping\n",
            "on\n",
            "your\n",
            "side\n",
            "during\n",
            "pr ...\"\n",
            "    [0.8879] \"for\n",
            "managing\n",
            "stress.\n",
            "Aim\n",
            "for\n",
            "7-9\n",
            "hours\n",
            "of\n",
            "quality\n",
            "sleep\n",
            "per\n",
            "night.\n",
            "Create\n",
            "a\n",
            "comforta ...\"\n",
            "\n",
            "What's your next question (or type 'quit' to exit): Stomach sleeping\n",
            "\n",
            "QUESTION: \"Stomach sleeping\"\n"
          ]
        },
        {
          "output_type": "stream",
          "name": "stderr",
          "text": [
            "WARNING:cassandra.protocol:Server warning: Top-K queries can only be run with consistency level ONE / LOCAL_ONE / NODE_LOCAL. Consistency level LOCAL_QUORUM was requested. Downgrading the consistency level to LOCAL_ONE.\n"
          ]
        },
        {
          "output_type": "stream",
          "name": "stdout",
          "text": [
            "ANSWER: \"Sleeping on your stomach is generally not recommended during pregnancy, as it can put added pressure on your growing belly and potentially restrict blood flow to the uterus. Doctors may advise against it after a certain point in pregnancy, and it may also increase the risk of stillbirth. It is generally recommended to sleep on your side, either the left or right, to promote optimal blood flow to the baby.\"\n",
            "\n",
            "FIRST DOCUMENTS BY RELEVANCE:\n"
          ]
        },
        {
          "output_type": "stream",
          "name": "stderr",
          "text": [
            "WARNING:cassandra.protocol:Server warning: Top-K queries can only be run with consistency level ONE / LOCAL_ONE / NODE_LOCAL. Consistency level LOCAL_QUORUM was requested. Downgrading the consistency level to LOCAL_ONE.\n"
          ]
        },
        {
          "output_type": "stream",
          "name": "stdout",
          "text": [
            "    [0.8971] \"commonly\n",
            "known\n",
            "to\n",
            "try\n",
            "to\n",
            "eat\n",
            "healthy\n",
            "while\n",
            "avoiding\n",
            "certain\n",
            "foods,\n",
            "exercise,\n",
            "and\n",
            "tak ...\"\n",
            "    [0.8866] \"right\n",
            "or\n",
            "left\n",
            "side.These\n",
            "studies\n",
            "do\n",
            "have\n",
            "some\n",
            "flaws,\n",
            "though.\n",
            "Third\n",
            "trimester\n",
            "pregnan ...\"\n",
            "    [0.8858] \"sleeping:\n",
            "Left\n",
            "vs.\n",
            "right\n",
            "Doctors\n",
            "generally\n",
            "recommend\n",
            "sleeping\n",
            "on\n",
            "your\n",
            "side\n",
            "during\n",
            "pr ...\"\n",
            "    [0.8818] \"swimming,\n",
            "prenatal\n",
            "yoga,\n",
            "and\n",
            "light\n",
            "strength\n",
            "training.\n",
            "These\n",
            "help\n",
            "in\n",
            "maintaining\n",
            "fitn ...\"\n",
            "\n",
            "What's your next question (or type 'quit' to exit): Hygiene and Self-Car\n",
            "\n",
            "QUESTION: \"Hygiene and Self-Car\"\n"
          ]
        },
        {
          "output_type": "stream",
          "name": "stderr",
          "text": [
            "WARNING:cassandra.protocol:Server warning: Top-K queries can only be run with consistency level ONE / LOCAL_ONE / NODE_LOCAL. Consistency level LOCAL_QUORUM was requested. Downgrading the consistency level to LOCAL_ONE.\n"
          ]
        },
        {
          "output_type": "stream",
          "name": "stdout",
          "text": [
            "ANSWER: \"Unfortunately, there is no specific information given about hygiene and self-care in this context. It is important to maintain good hygiene during pregnancy by regularly washing your hands, keeping your living space clean, and practicing good personal hygiene. As for self-care, some important aspects during pregnancy include getting enough rest, eating a healthy diet, staying active, and taking care of your mental and emotional well-being. It is also important to follow any specific guidelines provided by your healthcare provider.\"\n",
            "\n",
            "FIRST DOCUMENTS BY RELEVANCE:\n"
          ]
        },
        {
          "output_type": "stream",
          "name": "stderr",
          "text": [
            "WARNING:cassandra.protocol:Server warning: Top-K queries can only be run with consistency level ONE / LOCAL_ONE / NODE_LOCAL. Consistency level LOCAL_QUORUM was requested. Downgrading the consistency level to LOCAL_ONE.\n"
          ]
        },
        {
          "output_type": "stream",
          "name": "stdout",
          "text": [
            "    [0.8719] \"many\n",
            "of\n",
            "your\n",
            "fears\n",
            "are\n",
            "manageable.\n",
            "●\n",
            "Limiting\n",
            "Media\n",
            "Exposure:\n",
            "Avoid\n",
            "consuming\n",
            "too\n",
            "mu ...\"\n",
            "    [0.8715] \"her\n",
            "to\n",
            "the\n",
            "PHC-Medical\n",
            "Officer.\n",
            "●\n",
            "Routine\n",
            "Checkups\n",
            "and\n",
            "Screenings\n",
            ":\n",
            "1.\n",
            "Initial\n",
            "Visit ...\"\n",
            "    [0.8688] \"for\n",
            "managing\n",
            "stress.\n",
            "Aim\n",
            "for\n",
            "7-9\n",
            "hours\n",
            "of\n",
            "quality\n",
            "sleep\n",
            "per\n",
            "night.\n",
            "Create\n",
            "a\n",
            "comforta ...\"\n",
            "    [0.8684] \"pregnancy\n",
            "tests,\n",
            "blood\n",
            "tests,\n",
            "and\n",
            "an\n",
            "ultrasound\n",
            "to\n",
            "confirm\n",
            "the\n",
            "gestational\n",
            "age\n",
            "and\n",
            "c ...\"\n",
            "\n",
            "What's your next question (or type 'quit' to exit):  i need complete information on dental health\n",
            "\n",
            "QUESTION: \"i need complete information on dental health\"\n"
          ]
        },
        {
          "output_type": "stream",
          "name": "stderr",
          "text": [
            "WARNING:cassandra.protocol:Server warning: Top-K queries can only be run with consistency level ONE / LOCAL_ONE / NODE_LOCAL. Consistency level LOCAL_QUORUM was requested. Downgrading the consistency level to LOCAL_ONE.\n"
          ]
        },
        {
          "output_type": "stream",
          "name": "stdout",
          "text": [
            "ANSWER: \"I'm sorry, but I don't have any information on dental health. My knowledge is limited to the context provided. Is there something specific you would like to know about dental health?\"\n",
            "\n",
            "FIRST DOCUMENTS BY RELEVANCE:\n"
          ]
        },
        {
          "output_type": "stream",
          "name": "stderr",
          "text": [
            "WARNING:cassandra.protocol:Server warning: Top-K queries can only be run with consistency level ONE / LOCAL_ONE / NODE_LOCAL. Consistency level LOCAL_QUORUM was requested. Downgrading the consistency level to LOCAL_ONE.\n"
          ]
        },
        {
          "output_type": "stream",
          "name": "stdout",
          "text": [
            "    [0.8868] \"her\n",
            "to\n",
            "the\n",
            "PHC-Medical\n",
            "Officer.\n",
            "●\n",
            "Routine\n",
            "Checkups\n",
            "and\n",
            "Screenings\n",
            ":\n",
            "1.\n",
            "Initial\n",
            "Visit ...\"\n",
            "    [0.8752] \"volume\n",
            "during\n",
            "pregnancy .\n",
            "The\n",
            "recommended\n",
            "daily\n",
            "intake\n",
            "is\n",
            "27\n",
            "mg.\n",
            "●\n",
            "Calcium:\n",
            "Importan ...\"\n",
            "    [0.8752] \"+\n",
            "7\n",
            "daysFour\n",
            "antenatal\n",
            "check\n",
            "ups\n",
            "are\n",
            "essential\n",
            "for\n",
            "a\n",
            "pregnant\n",
            "woman:\n",
            "No.of\n",
            "Visit\n",
            "Tim ...\"\n",
            "    [0.8733] \"Wort,\n",
            "echinacea,\n",
            "and\n",
            "ginkgo\n",
            "biloba,\n",
            "as\n",
            "their\n",
            "safety\n",
            "during\n",
            "pregnancy\n",
            "is\n",
            "not\n",
            "well\n",
            "est ...\"\n",
            "\n",
            "What's your next question (or type 'quit' to exit): what are  Signs of Labor?\n",
            "\n",
            "QUESTION: \"what are  Signs of Labor?\"\n"
          ]
        },
        {
          "output_type": "stream",
          "name": "stderr",
          "text": [
            "WARNING:cassandra.protocol:Server warning: Top-K queries can only be run with consistency level ONE / LOCAL_ONE / NODE_LOCAL. Consistency level LOCAL_QUORUM was requested. Downgrading the consistency level to LOCAL_ONE.\n"
          ]
        },
        {
          "output_type": "stream",
          "name": "stdout",
          "text": [
            "ANSWER: \"Signs of labor can include contractions, leaking or gushing of amniotic fluid, and a bloody show (mucus-tinged vaginal discharge).\"\n",
            "\n",
            "FIRST DOCUMENTS BY RELEVANCE:\n"
          ]
        },
        {
          "output_type": "stream",
          "name": "stderr",
          "text": [
            "WARNING:cassandra.protocol:Server warning: Top-K queries can only be run with consistency level ONE / LOCAL_ONE / NODE_LOCAL. Consistency level LOCAL_QUORUM was requested. Downgrading the consistency level to LOCAL_ONE.\n"
          ]
        },
        {
          "output_type": "stream",
          "name": "stdout",
          "text": [
            "    [0.9051] \"grows\n",
            "rapidly ,\n",
            "and\n",
            "the\n",
            "mother\n",
            "may\n",
            "start\n",
            "to\n",
            "feel\n",
            "fetal\n",
            "movements\n",
            "(quickening).\n",
            "Sympt ...\"\n",
            "    [0.8995] \"swimming,\n",
            "prenatal\n",
            "yoga,\n",
            "and\n",
            "light\n",
            "strength\n",
            "training.\n",
            "These\n",
            "help\n",
            "in\n",
            "maintaining\n",
            "fitn ...\"\n",
            "    [0.8962] \"or\n",
            "intervention\n",
            "is\n",
            "recommended\n",
            "at\n",
            "that\n",
            "point\n",
            "of\n",
            "time.\n",
            "Advise\n",
            "the\n",
            "woman\n",
            "to\n",
            "go\n",
            "in\n",
            "for\n",
            " ...\"\n",
            "    [0.8937] \"lines,\n",
            "between\n",
            "the\n",
            "umbilicus\n",
            "and\n",
            "the\n",
            "xiphisternum.\n",
            "●\n",
            "Keep\n",
            "the\n",
            "ulnar\n",
            "border\n",
            "of\n",
            "the\n",
            "cu ...\"\n",
            "\n",
            "What's your next question (or type 'quit' to exit): what are  Types of Delivery?\n",
            "\n",
            "QUESTION: \"what are  Types of Delivery?\"\n"
          ]
        },
        {
          "output_type": "stream",
          "name": "stderr",
          "text": [
            "WARNING:cassandra.protocol:Server warning: Top-K queries can only be run with consistency level ONE / LOCAL_ONE / NODE_LOCAL. Consistency level LOCAL_QUORUM was requested. Downgrading the consistency level to LOCAL_ONE.\n"
          ]
        },
        {
          "output_type": "stream",
          "name": "stdout",
          "text": [
            "ANSWER: \"The two types of delivery are vaginal delivery and cesarean section.\"\n",
            "\n",
            "FIRST DOCUMENTS BY RELEVANCE:\n"
          ]
        },
        {
          "output_type": "stream",
          "name": "stderr",
          "text": [
            "WARNING:cassandra.protocol:Server warning: Top-K queries can only be run with consistency level ONE / LOCAL_ONE / NODE_LOCAL. Consistency level LOCAL_QUORUM was requested. Downgrading the consistency level to LOCAL_ONE.\n"
          ]
        },
        {
          "output_type": "stream",
          "name": "stdout",
          "text": [
            "    [0.8806] \"or\n",
            "intervention\n",
            "is\n",
            "recommended\n",
            "at\n",
            "that\n",
            "point\n",
            "of\n",
            "time.\n",
            "Advise\n",
            "the\n",
            "woman\n",
            "to\n",
            "go\n",
            "in\n",
            "for\n",
            " ...\"\n",
            "    [0.8788] \"only\n",
            "palpate\n",
            "the\n",
            "fetal\n",
            "parts\n",
            "while\n",
            "conducting\n",
            "an\n",
            "abdominal\n",
            "examination.\n",
            "The\n",
            "normal\n",
            "l ...\"\n",
            "    [0.8744] \"many\n",
            "of\n",
            "your\n",
            "fears\n",
            "are\n",
            "manageable.\n",
            "●\n",
            "Limiting\n",
            "Media\n",
            "Exposure:\n",
            "Avoid\n",
            "consuming\n",
            "too\n",
            "mu ...\"\n",
            "    [0.8737] \"her\n",
            "to\n",
            "the\n",
            "PHC-Medical\n",
            "Officer.\n",
            "●\n",
            "Routine\n",
            "Checkups\n",
            "and\n",
            "Screenings\n",
            ":\n",
            "1.\n",
            "Initial\n",
            "Visit ...\"\n",
            "\n",
            "What's your next question (or type 'quit' to exit): What type of delivery is best?\n",
            "\n",
            "QUESTION: \"What type of delivery is best?\"\n"
          ]
        },
        {
          "output_type": "stream",
          "name": "stderr",
          "text": [
            "WARNING:cassandra.protocol:Server warning: Top-K queries can only be run with consistency level ONE / LOCAL_ONE / NODE_LOCAL. Consistency level LOCAL_QUORUM was requested. Downgrading the consistency level to LOCAL_ONE.\n"
          ]
        },
        {
          "output_type": "stream",
          "name": "stdout",
          "text": [
            "ANSWER: \"An institutional delivery is recommended for the woman in this context.\"\n",
            "\n",
            "FIRST DOCUMENTS BY RELEVANCE:\n"
          ]
        },
        {
          "output_type": "stream",
          "name": "stderr",
          "text": [
            "WARNING:cassandra.protocol:Server warning: Top-K queries can only be run with consistency level ONE / LOCAL_ONE / NODE_LOCAL. Consistency level LOCAL_QUORUM was requested. Downgrading the consistency level to LOCAL_ONE.\n"
          ]
        },
        {
          "output_type": "stream",
          "name": "stdout",
          "text": [
            "    [0.8808] \"or\n",
            "intervention\n",
            "is\n",
            "recommended\n",
            "at\n",
            "that\n",
            "point\n",
            "of\n",
            "time.\n",
            "Advise\n",
            "the\n",
            "woman\n",
            "to\n",
            "go\n",
            "in\n",
            "for\n",
            " ...\"\n",
            "    [0.8770] \"only\n",
            "palpate\n",
            "the\n",
            "fetal\n",
            "parts\n",
            "while\n",
            "conducting\n",
            "an\n",
            "abdominal\n",
            "examination.\n",
            "The\n",
            "normal\n",
            "l ...\"\n",
            "    [0.8754] \"many\n",
            "of\n",
            "your\n",
            "fears\n",
            "are\n",
            "manageable.\n",
            "●\n",
            "Limiting\n",
            "Media\n",
            "Exposure:\n",
            "Avoid\n",
            "consuming\n",
            "too\n",
            "mu ...\"\n",
            "    [0.8751] \"commonly\n",
            "known\n",
            "to\n",
            "try\n",
            "to\n",
            "eat\n",
            "healthy\n",
            "while\n",
            "avoiding\n",
            "certain\n",
            "foods,\n",
            "exercise,\n",
            "and\n",
            "tak ...\"\n",
            "\n",
            "What's your next question (or type 'quit' to exit): Vaginal delivery\n",
            "\n",
            "QUESTION: \"Vaginal delivery\"\n"
          ]
        },
        {
          "output_type": "stream",
          "name": "stderr",
          "text": [
            "WARNING:cassandra.protocol:Server warning: Top-K queries can only be run with consistency level ONE / LOCAL_ONE / NODE_LOCAL. Consistency level LOCAL_QUORUM was requested. Downgrading the consistency level to LOCAL_ONE.\n"
          ]
        },
        {
          "output_type": "stream",
          "name": "stdout",
          "text": [
            "ANSWER: \"At term, the normal lie is longitudinal with a cephalic presentation, meaning the baby's head is down and facing the mother's back. Any other lie is considered abnormal and may require a cesarean section. If a malpresentation is diagnosed before 36 weeks, no active management or intervention is recommended at that point. It is important to advise the woman to go in for an institutional delivery.\"\n",
            "\n",
            "FIRST DOCUMENTS BY RELEVANCE:\n"
          ]
        },
        {
          "output_type": "stream",
          "name": "stderr",
          "text": [
            "WARNING:cassandra.protocol:Server warning: Top-K queries can only be run with consistency level ONE / LOCAL_ONE / NODE_LOCAL. Consistency level LOCAL_QUORUM was requested. Downgrading the consistency level to LOCAL_ONE.\n"
          ]
        },
        {
          "output_type": "stream",
          "name": "stdout",
          "text": [
            "    [0.9010] \"or\n",
            "intervention\n",
            "is\n",
            "recommended\n",
            "at\n",
            "that\n",
            "point\n",
            "of\n",
            "time.\n",
            "Advise\n",
            "the\n",
            "woman\n",
            "to\n",
            "go\n",
            "in\n",
            "for\n",
            " ...\"\n",
            "    [0.8965] \"lines,\n",
            "between\n",
            "the\n",
            "umbilicus\n",
            "and\n",
            "the\n",
            "xiphisternum.\n",
            "●\n",
            "Keep\n",
            "the\n",
            "ulnar\n",
            "border\n",
            "of\n",
            "the\n",
            "cu ...\"\n",
            "    [0.8958] \"only\n",
            "palpate\n",
            "the\n",
            "fetal\n",
            "parts\n",
            "while\n",
            "conducting\n",
            "an\n",
            "abdominal\n",
            "examination.\n",
            "The\n",
            "normal\n",
            "l ...\"\n",
            "    [0.8919] \"swimming,\n",
            "prenatal\n",
            "yoga,\n",
            "and\n",
            "light\n",
            "strength\n",
            "training.\n",
            "These\n",
            "help\n",
            "in\n",
            "maintaining\n",
            "fitn ...\"\n",
            "\n",
            "What's your next question (or type 'quit' to exit):  planned cesarean delivery \n",
            "\n",
            "QUESTION: \"planned cesarean delivery\"\n"
          ]
        },
        {
          "output_type": "stream",
          "name": "stderr",
          "text": [
            "WARNING:cassandra.protocol:Server warning: Top-K queries can only be run with consistency level ONE / LOCAL_ONE / NODE_LOCAL. Consistency level LOCAL_QUORUM was requested. Downgrading the consistency level to LOCAL_ONE.\n"
          ]
        },
        {
          "output_type": "stream",
          "name": "stdout",
          "text": [
            "ANSWER: \"Based on the context provided, it is recommended for the woman to have an elective cesarean section and to go in for an institutional delivery. This means that the delivery will be planned and scheduled rather than waiting for labor to begin. This is necessary because if a transverse lie is missed, it can be disastrous and the woman will need a cesarean delivery.\"\n",
            "\n",
            "FIRST DOCUMENTS BY RELEVANCE:\n"
          ]
        },
        {
          "output_type": "stream",
          "name": "stderr",
          "text": [
            "WARNING:cassandra.protocol:Server warning: Top-K queries can only be run with consistency level ONE / LOCAL_ONE / NODE_LOCAL. Consistency level LOCAL_QUORUM was requested. Downgrading the consistency level to LOCAL_ONE.\n"
          ]
        },
        {
          "output_type": "stream",
          "name": "stdout",
          "text": [
            "    [0.9088] \"or\n",
            "intervention\n",
            "is\n",
            "recommended\n",
            "at\n",
            "that\n",
            "point\n",
            "of\n",
            "time.\n",
            "Advise\n",
            "the\n",
            "woman\n",
            "to\n",
            "go\n",
            "in\n",
            "for\n",
            " ...\"\n",
            "    [0.8938] \"and\n",
            "safe\n",
            "delivery .\n",
            "It\n",
            "should\n",
            "be\n",
            "undertaken\n",
            "as\n",
            "early\n",
            "as\n",
            "possible\n",
            "after\n",
            "the\n",
            "first\n",
            "mis ...\"\n",
            "    [0.8936] \"her\n",
            "to\n",
            "the\n",
            "PHC-Medical\n",
            "Officer.\n",
            "●\n",
            "Routine\n",
            "Checkups\n",
            "and\n",
            "Screenings\n",
            ":\n",
            "1.\n",
            "Initial\n",
            "Visit ...\"\n",
            "    [0.8936] \"only\n",
            "palpate\n",
            "the\n",
            "fetal\n",
            "parts\n",
            "while\n",
            "conducting\n",
            "an\n",
            "abdominal\n",
            "examination.\n",
            "The\n",
            "normal\n",
            "l ...\"\n",
            "\n",
            "What's your next question (or type 'quit' to exit):  Benefits of C-section deliverie\n",
            "\n",
            "QUESTION: \"Benefits of C-section deliverie\"\n"
          ]
        },
        {
          "output_type": "stream",
          "name": "stderr",
          "text": [
            "WARNING:cassandra.protocol:Server warning: Top-K queries can only be run with consistency level ONE / LOCAL_ONE / NODE_LOCAL. Consistency level LOCAL_QUORUM was requested. Downgrading the consistency level to LOCAL_ONE.\n"
          ]
        },
        {
          "output_type": "stream",
          "name": "stdout",
          "text": [
            "ANSWER: \"The main benefit of a C-section delivery is that it can be life-saving for both mother and baby in certain emergency situations, such as a transverse lie or other complications during labor. It can also be a planned, elective procedure in cases where a vaginal delivery is not recommended or the mother has a medical condition that may make vaginal delivery risky. C-sections can also be helpful for women who have had previous C-sections and want to avoid potential complications with a vaginal birth.\"\n",
            "\n",
            "FIRST DOCUMENTS BY RELEVANCE:\n"
          ]
        },
        {
          "output_type": "stream",
          "name": "stderr",
          "text": [
            "WARNING:cassandra.protocol:Server warning: Top-K queries can only be run with consistency level ONE / LOCAL_ONE / NODE_LOCAL. Consistency level LOCAL_QUORUM was requested. Downgrading the consistency level to LOCAL_ONE.\n"
          ]
        },
        {
          "output_type": "stream",
          "name": "stdout",
          "text": [
            "    [0.9040] \"or\n",
            "intervention\n",
            "is\n",
            "recommended\n",
            "at\n",
            "that\n",
            "point\n",
            "of\n",
            "time.\n",
            "Advise\n",
            "the\n",
            "woman\n",
            "to\n",
            "go\n",
            "in\n",
            "for\n",
            " ...\"\n",
            "    [0.8992] \"commonly\n",
            "known\n",
            "to\n",
            "try\n",
            "to\n",
            "eat\n",
            "healthy\n",
            "while\n",
            "avoiding\n",
            "certain\n",
            "foods,\n",
            "exercise,\n",
            "and\n",
            "tak ...\"\n",
            "    [0.8980] \"sleeping:\n",
            "Left\n",
            "vs.\n",
            "right\n",
            "Doctors\n",
            "generally\n",
            "recommend\n",
            "sleeping\n",
            "on\n",
            "your\n",
            "side\n",
            "during\n",
            "pr ...\"\n",
            "    [0.8978] \"right\n",
            "or\n",
            "left\n",
            "side.These\n",
            "studies\n",
            "do\n",
            "have\n",
            "some\n",
            "flaws,\n",
            "though.\n",
            "Third\n",
            "trimester\n",
            "pregnan ...\"\n",
            "\n",
            "What's your next question (or type 'quit' to exit): what is Postpartum Care?\n",
            "\n",
            "QUESTION: \"what is Postpartum Care?\"\n"
          ]
        },
        {
          "output_type": "stream",
          "name": "stderr",
          "text": [
            "WARNING:cassandra.protocol:Server warning: Top-K queries can only be run with consistency level ONE / LOCAL_ONE / NODE_LOCAL. Consistency level LOCAL_QUORUM was requested. Downgrading the consistency level to LOCAL_ONE.\n"
          ]
        },
        {
          "output_type": "stream",
          "name": "stdout",
          "text": [
            "ANSWER: \"Postpartum care is the medical care provided to a woman after giving birth. It involves monitoring the physical and emotional recovery of the mother, as well as ensuring the health and development of the newborn. This may include check-ups, education on newborn care, and support for postpartum mental health.\"\n",
            "\n",
            "FIRST DOCUMENTS BY RELEVANCE:\n"
          ]
        },
        {
          "output_type": "stream",
          "name": "stderr",
          "text": [
            "WARNING:cassandra.protocol:Server warning: Top-K queries can only be run with consistency level ONE / LOCAL_ONE / NODE_LOCAL. Consistency level LOCAL_QUORUM was requested. Downgrading the consistency level to LOCAL_ONE.\n"
          ]
        },
        {
          "output_type": "stream",
          "name": "stdout",
          "text": [
            "    [0.9033] \"pregnancy\n",
            "tests,\n",
            "blood\n",
            "tests,\n",
            "and\n",
            "an\n",
            "ultrasound\n",
            "to\n",
            "confirm\n",
            "the\n",
            "gestational\n",
            "age\n",
            "and\n",
            "c ...\"\n",
            "    [0.8997] \"by\n",
            "other\n",
            "symptoms\n",
            "like\n",
            "vaginal\n",
            "bleeding,\n",
            "consult\n",
            "your\n",
            "healthcare\n",
            "provider\n",
            "as\n",
            "it\n",
            "coul ...\"\n",
            "    [0.8997] \"Pregnancy\n",
            "Care\n",
            "Pregnancy\n",
            "is\n",
            "the\n",
            "period\n",
            "during\n",
            "which\n",
            "a\n",
            "fertilized\n",
            "egg\n",
            "develops\n",
            "into\n",
            "a ...\"\n",
            "    [0.8984] \"woman\n",
            "with\n",
            "PIH,\n",
            "pre-eclampsia\n",
            "or\n",
            "imminent\n",
            "eclampsia\n",
            "requires\n",
            "hospitalization\n",
            "and\n",
            "sup ...\"\n",
            "\n",
            "What's your next question (or type 'quit' to exit): may i know the contraception plan\n",
            "\n",
            "QUESTION: \"may i know the contraception plan\"\n"
          ]
        },
        {
          "output_type": "stream",
          "name": "stderr",
          "text": [
            "WARNING:cassandra.protocol:Server warning: Top-K queries can only be run with consistency level ONE / LOCAL_ONE / NODE_LOCAL. Consistency level LOCAL_QUORUM was requested. Downgrading the consistency level to LOCAL_ONE.\n"
          ]
        },
        {
          "output_type": "stream",
          "name": "stdout",
          "text": [
            "ANSWER: \"I'm sorry, I cannot provide a specific contraception plan as it depends on an individual's health and personal preferences. It is best to consult with a healthcare professional for a personalized contraception plan.\"\n",
            "\n",
            "FIRST DOCUMENTS BY RELEVANCE:\n"
          ]
        },
        {
          "output_type": "stream",
          "name": "stderr",
          "text": [
            "WARNING:cassandra.protocol:Server warning: Top-K queries can only be run with consistency level ONE / LOCAL_ONE / NODE_LOCAL. Consistency level LOCAL_QUORUM was requested. Downgrading the consistency level to LOCAL_ONE.\n"
          ]
        },
        {
          "output_type": "stream",
          "name": "stdout",
          "text": [
            "    [0.8827] \"or\n",
            "referred.\n",
            "Regular\n",
            "ANC\n",
            "visits\n",
            "protect\n",
            "you\n",
            "and\n",
            "your\n",
            "baby\n",
            "from\n",
            "complications\n",
            "and\n",
            "ens ...\"\n",
            "    [0.8826] \"rate\n",
            "of\n",
            "the\n",
            "district\n",
            "is\n",
            "20\n",
            "per\n",
            "1000\n",
            "population,\n",
            "then,\n",
            "100\n",
            "children\n",
            "will\n",
            "be\n",
            "born\n",
            "for\n",
            " ...\"\n",
            "    [0.8806] \"her\n",
            "to\n",
            "the\n",
            "PHC-Medical\n",
            "Officer.\n",
            "●\n",
            "Routine\n",
            "Checkups\n",
            "and\n",
            "Screenings\n",
            ":\n",
            "1.\n",
            "Initial\n",
            "Visit ...\"\n",
            "    [0.8797] \"and\n",
            "safe\n",
            "delivery .\n",
            "It\n",
            "should\n",
            "be\n",
            "undertaken\n",
            "as\n",
            "early\n",
            "as\n",
            "possible\n",
            "after\n",
            "the\n",
            "first\n",
            "mis ...\"\n",
            "\n",
            "What's your next question (or type 'quit' to exit): Postpartum Follow-Up\n",
            "\n",
            "QUESTION: \"Postpartum Follow-Up\"\n"
          ]
        },
        {
          "output_type": "stream",
          "name": "stderr",
          "text": [
            "WARNING:cassandra.protocol:Server warning: Top-K queries can only be run with consistency level ONE / LOCAL_ONE / NODE_LOCAL. Consistency level LOCAL_QUORUM was requested. Downgrading the consistency level to LOCAL_ONE.\n"
          ]
        },
        {
          "output_type": "stream",
          "name": "stdout",
          "text": [
            "ANSWER: \"The context provided does not mention anything about postpartum follow-up. Therefore, it is not possible to provide a helpful answer.\"\n",
            "\n",
            "FIRST DOCUMENTS BY RELEVANCE:\n"
          ]
        },
        {
          "output_type": "stream",
          "name": "stderr",
          "text": [
            "WARNING:cassandra.protocol:Server warning: Top-K queries can only be run with consistency level ONE / LOCAL_ONE / NODE_LOCAL. Consistency level LOCAL_QUORUM was requested. Downgrading the consistency level to LOCAL_ONE.\n"
          ]
        },
        {
          "output_type": "stream",
          "name": "stdout",
          "text": [
            "    [0.9173] \"her\n",
            "to\n",
            "the\n",
            "PHC-Medical\n",
            "Officer.\n",
            "●\n",
            "Routine\n",
            "Checkups\n",
            "and\n",
            "Screenings\n",
            ":\n",
            "1.\n",
            "Initial\n",
            "Visit ...\"\n",
            "    [0.9132] \"+\n",
            "7\n",
            "daysFour\n",
            "antenatal\n",
            "check\n",
            "ups\n",
            "are\n",
            "essential\n",
            "for\n",
            "a\n",
            "pregnant\n",
            "woman:\n",
            "No.of\n",
            "Visit\n",
            "Tim ...\"\n",
            "    [0.9089] \"woman\n",
            "with\n",
            "PIH,\n",
            "pre-eclampsia\n",
            "or\n",
            "imminent\n",
            "eclampsia\n",
            "requires\n",
            "hospitalization\n",
            "and\n",
            "sup ...\"\n",
            "    [0.9077] \"pregnancy\n",
            "tests,\n",
            "blood\n",
            "tests,\n",
            "and\n",
            "an\n",
            "ultrasound\n",
            "to\n",
            "confirm\n",
            "the\n",
            "gestational\n",
            "age\n",
            "and\n",
            "c ...\"\n",
            "\n",
            "What's your next question (or type 'quit' to exit): what is postpartum follow-up\n",
            "\n",
            "QUESTION: \"what is postpartum follow-up\"\n"
          ]
        },
        {
          "output_type": "stream",
          "name": "stderr",
          "text": [
            "WARNING:cassandra.protocol:Server warning: Top-K queries can only be run with consistency level ONE / LOCAL_ONE / NODE_LOCAL. Consistency level LOCAL_QUORUM was requested. Downgrading the consistency level to LOCAL_ONE.\n"
          ]
        },
        {
          "output_type": "stream",
          "name": "stdout",
          "text": [
            "ANSWER: \"Postpartum follow-up refers to the medical check-ups and care provided to a woman after she has given birth. This usually includes physical examinations, monitoring for any postpartum complications, and counseling on postpartum care and birth spacing. It is important for ensuring the health and well-being of both the mother and the newborn.\"\n",
            "\n",
            "FIRST DOCUMENTS BY RELEVANCE:\n"
          ]
        },
        {
          "output_type": "stream",
          "name": "stderr",
          "text": [
            "WARNING:cassandra.protocol:Server warning: Top-K queries can only be run with consistency level ONE / LOCAL_ONE / NODE_LOCAL. Consistency level LOCAL_QUORUM was requested. Downgrading the consistency level to LOCAL_ONE.\n"
          ]
        },
        {
          "output_type": "stream",
          "name": "stdout",
          "text": [
            "    [0.8938] \"her\n",
            "to\n",
            "the\n",
            "PHC-Medical\n",
            "Officer.\n",
            "●\n",
            "Routine\n",
            "Checkups\n",
            "and\n",
            "Screenings\n",
            ":\n",
            "1.\n",
            "Initial\n",
            "Visit ...\"\n",
            "    [0.8907] \"pregnancy\n",
            "tests,\n",
            "blood\n",
            "tests,\n",
            "and\n",
            "an\n",
            "ultrasound\n",
            "to\n",
            "confirm\n",
            "the\n",
            "gestational\n",
            "age\n",
            "and\n",
            "c ...\"\n",
            "    [0.8905] \"+\n",
            "7\n",
            "daysFour\n",
            "antenatal\n",
            "check\n",
            "ups\n",
            "are\n",
            "essential\n",
            "for\n",
            "a\n",
            "pregnant\n",
            "woman:\n",
            "No.of\n",
            "Visit\n",
            "Tim ...\"\n",
            "    [0.8843] \"or\n",
            "intervention\n",
            "is\n",
            "recommended\n",
            "at\n",
            "that\n",
            "point\n",
            "of\n",
            "time.\n",
            "Advise\n",
            "the\n",
            "woman\n",
            "to\n",
            "go\n",
            "in\n",
            "for\n",
            " ...\"\n",
            "\n",
            "What's your next question (or type 'quit' to exit): what is Reproductive Health\n",
            "\n",
            "QUESTION: \"what is Reproductive Health\"\n"
          ]
        },
        {
          "output_type": "stream",
          "name": "stderr",
          "text": [
            "WARNING:cassandra.protocol:Server warning: Top-K queries can only be run with consistency level ONE / LOCAL_ONE / NODE_LOCAL. Consistency level LOCAL_QUORUM was requested. Downgrading the consistency level to LOCAL_ONE.\n"
          ]
        },
        {
          "output_type": "stream",
          "name": "stdout",
          "text": [
            "ANSWER: \"Reproductive health refers to the physical, emotional, and social well-being related to the reproductive system and its functions. This includes the ability to have a satisfying and safe sex life, the ability to reproduce and plan for a family, and access to reproductive health services. It also encompasses the prevention and treatment of reproductive health problems.\"\n",
            "\n",
            "FIRST DOCUMENTS BY RELEVANCE:\n"
          ]
        },
        {
          "output_type": "stream",
          "name": "stderr",
          "text": [
            "WARNING:cassandra.protocol:Server warning: Top-K queries can only be run with consistency level ONE / LOCAL_ONE / NODE_LOCAL. Consistency level LOCAL_QUORUM was requested. Downgrading the consistency level to LOCAL_ONE.\n"
          ]
        },
        {
          "output_type": "stream",
          "name": "stdout",
          "text": [
            "    [0.8774] \"rate\n",
            "of\n",
            "the\n",
            "district\n",
            "is\n",
            "20\n",
            "per\n",
            "1000\n",
            "population,\n",
            "then,\n",
            "100\n",
            "children\n",
            "will\n",
            "be\n",
            "born\n",
            "for\n",
            " ...\"\n",
            "    [0.8744] \"her\n",
            "to\n",
            "the\n",
            "PHC-Medical\n",
            "Officer.\n",
            "●\n",
            "Routine\n",
            "Checkups\n",
            "and\n",
            "Screenings\n",
            ":\n",
            "1.\n",
            "Initial\n",
            "Visit ...\"\n",
            "    [0.8735] \"or\n",
            "intervention\n",
            "is\n",
            "recommended\n",
            "at\n",
            "that\n",
            "point\n",
            "of\n",
            "time.\n",
            "Advise\n",
            "the\n",
            "woman\n",
            "to\n",
            "go\n",
            "in\n",
            "for\n",
            " ...\"\n",
            "    [0.8710] \"Pregnancy\n",
            "Care\n",
            "Pregnancy\n",
            "is\n",
            "the\n",
            "period\n",
            "during\n",
            "which\n",
            "a\n",
            "fertilized\n",
            "egg\n",
            "develops\n",
            "into\n",
            "a ...\"\n",
            "\n",
            "What's your next question (or type 'quit' to exit): Time period of Ovulation and Fertility Window\n",
            "\n",
            "QUESTION: \"Time period of Ovulation and Fertility Window\"\n"
          ]
        },
        {
          "output_type": "stream",
          "name": "stderr",
          "text": [
            "WARNING:cassandra.protocol:Server warning: Top-K queries can only be run with consistency level ONE / LOCAL_ONE / NODE_LOCAL. Consistency level LOCAL_QUORUM was requested. Downgrading the consistency level to LOCAL_ONE.\n"
          ]
        },
        {
          "output_type": "stream",
          "name": "stdout",
          "text": [
            "ANSWER: \"The time period of ovulation and fertility window can vary from woman to woman and can also be affected by factors such as stress, illness, and medication. On average, ovulation occurs around day 14 of a 28-day menstrual cycle. However, the fertile window, which is the time when a woman is most likely to conceive, can last up to 6 days, including the day of ovulation and the 5 days leading up to it. It is recommended to track your menstrual cycle and use ovulation predictor kits to determine your specific ovulation and fertility window.\"\n",
            "\n",
            "FIRST DOCUMENTS BY RELEVANCE:\n"
          ]
        },
        {
          "output_type": "stream",
          "name": "stderr",
          "text": [
            "WARNING:cassandra.protocol:Server warning: Top-K queries can only be run with consistency level ONE / LOCAL_ONE / NODE_LOCAL. Consistency level LOCAL_QUORUM was requested. Downgrading the consistency level to LOCAL_ONE.\n"
          ]
        },
        {
          "output_type": "stream",
          "name": "stdout",
          "text": [
            "    [0.9062] \"Pregnancy\n",
            "Care\n",
            "Pregnancy\n",
            "is\n",
            "the\n",
            "period\n",
            "during\n",
            "which\n",
            "a\n",
            "fertilized\n",
            "egg\n",
            "develops\n",
            "into\n",
            "a ...\"\n",
            "    [0.8987] \"with\n",
            "her\n",
            "LMP .\n",
            "●\n",
            "If\n",
            "the\n",
            "exact\n",
            "date\n",
            "of\n",
            "the\n",
            "LMP\n",
            "is\n",
            "not\n",
            "known\n",
            "and\n",
            "it\n",
            "is\n",
            "late\n",
            "in\n",
            "the\n",
            "pre ...\"\n",
            "    [0.8944] \"and\n",
            "safe\n",
            "delivery .\n",
            "It\n",
            "should\n",
            "be\n",
            "undertaken\n",
            "as\n",
            "early\n",
            "as\n",
            "possible\n",
            "after\n",
            "the\n",
            "first\n",
            "mis ...\"\n",
            "    [0.8845] \"her\n",
            "to\n",
            "the\n",
            "PHC-Medical\n",
            "Officer.\n",
            "●\n",
            "Routine\n",
            "Checkups\n",
            "and\n",
            "Screenings\n",
            ":\n",
            "1.\n",
            "Initial\n",
            "Visit ...\"\n",
            "\n",
            "What's your next question (or type 'quit' to exit): what are multiple pregnancies?\n",
            "\n",
            "QUESTION: \"what are multiple pregnancies?\"\n"
          ]
        },
        {
          "output_type": "stream",
          "name": "stderr",
          "text": [
            "WARNING:cassandra.protocol:Server warning: Top-K queries can only be run with consistency level ONE / LOCAL_ONE / NODE_LOCAL. Consistency level LOCAL_QUORUM was requested. Downgrading the consistency level to LOCAL_ONE.\n"
          ]
        },
        {
          "output_type": "stream",
          "name": "stdout",
          "text": [
            "ANSWER: \"Multiple pregnancies refer to a situation where a woman is carrying more than one fetus, such as twins, triplets, or higher order multiples.\"\n",
            "\n",
            "FIRST DOCUMENTS BY RELEVANCE:\n"
          ]
        },
        {
          "output_type": "stream",
          "name": "stderr",
          "text": [
            "WARNING:cassandra.protocol:Server warning: Top-K queries can only be run with consistency level ONE / LOCAL_ONE / NODE_LOCAL. Consistency level LOCAL_QUORUM was requested. Downgrading the consistency level to LOCAL_ONE.\n"
          ]
        },
        {
          "output_type": "stream",
          "name": "stdout",
          "text": [
            "    [0.9004] \"Pregnancy\n",
            "Care\n",
            "Pregnancy\n",
            "is\n",
            "the\n",
            "period\n",
            "during\n",
            "which\n",
            "a\n",
            "fertilized\n",
            "egg\n",
            "develops\n",
            "into\n",
            "a ...\"\n",
            "    [0.8966] \"grows\n",
            "rapidly ,\n",
            "and\n",
            "the\n",
            "mother\n",
            "may\n",
            "start\n",
            "to\n",
            "feel\n",
            "fetal\n",
            "movements\n",
            "(quickening).\n",
            "Sympt ...\"\n",
            "    [0.8937] \"swimming,\n",
            "prenatal\n",
            "yoga,\n",
            "and\n",
            "light\n",
            "strength\n",
            "training.\n",
            "These\n",
            "help\n",
            "in\n",
            "maintaining\n",
            "fitn ...\"\n",
            "    [0.8935] \"disease\n",
            "or\n",
            "proteinuria\n",
            "●\n",
            "Non\n",
            "pitting\n",
            "oedema\n",
            "with\n",
            "hypothyroidism\n",
            "or\n",
            "filariasis\n",
            "●\n",
            "Preg ...\"\n",
            "\n",
            "What's your next question (or type 'quit' to exit): what are the tests to be performed after Pregnancy After Miscarriage or Infertility\n",
            "\n",
            "QUESTION: \"what are the tests to be performed after Pregnancy After Miscarriage or Infertility\"\n"
          ]
        },
        {
          "output_type": "stream",
          "name": "stderr",
          "text": [
            "WARNING:cassandra.protocol:Server warning: Top-K queries can only be run with consistency level ONE / LOCAL_ONE / NODE_LOCAL. Consistency level LOCAL_QUORUM was requested. Downgrading the consistency level to LOCAL_ONE.\n"
          ]
        },
        {
          "output_type": "stream",
          "name": "stdout",
          "text": [
            "ANSWER: \"After a pregnancy loss or difficulty conceiving, a doctor may recommend the following tests to be performed:\n",
            "\n",
            "1. Blood tests: These may include hormone levels, thyroid function, and genetic testing.\n",
            "\n",
            "2. Ultrasound: This can be used to check for any abnormalities or issues with the uterus or reproductive organs.\n",
            "\n",
            "3. Hysterosalpingogram (HSG): This is an X-ray procedure that looks for blockages or abnormalities in the fallopian tubes.\n",
            "\n",
            "4. Endometrial biopsy: This involves taking a sample of tissue from the lining of the uterus to check for any abnormalities or signs of infection.\n",
            "\n",
            "5. Semen analysis: This is a test to check the quality and quantity of sperm in the male partner.\n",
            "\n",
            "It is important to discuss with a doctor about which tests may be necessary in your specific case.\"\n",
            "\n",
            "FIRST DOCUMENTS BY RELEVANCE:\n"
          ]
        },
        {
          "output_type": "stream",
          "name": "stderr",
          "text": [
            "WARNING:cassandra.protocol:Server warning: Top-K queries can only be run with consistency level ONE / LOCAL_ONE / NODE_LOCAL. Consistency level LOCAL_QUORUM was requested. Downgrading the consistency level to LOCAL_ONE.\n"
          ]
        },
        {
          "output_type": "stream",
          "name": "stdout",
          "text": [
            "    [0.9002] \"pregnancy\n",
            "tests,\n",
            "blood\n",
            "tests,\n",
            "and\n",
            "an\n",
            "ultrasound\n",
            "to\n",
            "confirm\n",
            "the\n",
            "gestational\n",
            "age\n",
            "and\n",
            "c ...\"\n",
            "    [0.8998] \"+\n",
            "7\n",
            "daysFour\n",
            "antenatal\n",
            "check\n",
            "ups\n",
            "are\n",
            "essential\n",
            "for\n",
            "a\n",
            "pregnant\n",
            "woman:\n",
            "No.of\n",
            "Visit\n",
            "Tim ...\"\n",
            "    [0.8979] \"her\n",
            "to\n",
            "the\n",
            "PHC-Medical\n",
            "Officer.\n",
            "●\n",
            "Routine\n",
            "Checkups\n",
            "and\n",
            "Screenings\n",
            ":\n",
            "1.\n",
            "Initial\n",
            "Visit ...\"\n",
            "    [0.8974] \"lood\n",
            "sugar\n",
            "Examination\n",
            "for\n",
            "Gestational\n",
            "Diabetes\n",
            "Mellitus\n",
            "Testing\n",
            "for\n",
            "GDM\n",
            "is\n",
            "recommen ...\"\n",
            "\n",
            "What's your next question (or type 'quit' to exit): what are Cultural and Religious Considerations in Pregnancy Care\n",
            "\n",
            "QUESTION: \"what are Cultural and Religious Considerations in Pregnancy Care\"\n"
          ]
        },
        {
          "output_type": "stream",
          "name": "stderr",
          "text": [
            "WARNING:cassandra.protocol:Server warning: Top-K queries can only be run with consistency level ONE / LOCAL_ONE / NODE_LOCAL. Consistency level LOCAL_QUORUM was requested. Downgrading the consistency level to LOCAL_ONE.\n"
          ]
        },
        {
          "output_type": "stream",
          "name": "stdout",
          "text": [
            "ANSWER: \"Cultural and Religious Considerations in Pregnancy Care involve understanding and respecting the beliefs, values, and practices of different cultures and religions when providing care for pregnant individuals. This may include considering dietary restrictions, traditional practices during pregnancy and childbirth, and incorporating cultural and spiritual beliefs into the care plan. It is important for healthcare providers to be culturally competent and aware of any potential conflicts or sensitivities that may arise.\"\n",
            "\n",
            "FIRST DOCUMENTS BY RELEVANCE:\n"
          ]
        },
        {
          "output_type": "stream",
          "name": "stderr",
          "text": [
            "WARNING:cassandra.protocol:Server warning: Top-K queries can only be run with consistency level ONE / LOCAL_ONE / NODE_LOCAL. Consistency level LOCAL_QUORUM was requested. Downgrading the consistency level to LOCAL_ONE.\n"
          ]
        },
        {
          "output_type": "stream",
          "name": "stdout",
          "text": [
            "    [0.9086] \"by\n",
            "other\n",
            "symptoms\n",
            "like\n",
            "vaginal\n",
            "bleeding,\n",
            "consult\n",
            "your\n",
            "healthcare\n",
            "provider\n",
            "as\n",
            "it\n",
            "coul ...\"\n",
            "    [0.9068] \"pregnancy\n",
            "tests,\n",
            "blood\n",
            "tests,\n",
            "and\n",
            "an\n",
            "ultrasound\n",
            "to\n",
            "confirm\n",
            "the\n",
            "gestational\n",
            "age\n",
            "and\n",
            "c ...\"\n",
            "    [0.9064] \"her\n",
            "to\n",
            "the\n",
            "PHC-Medical\n",
            "Officer.\n",
            "●\n",
            "Routine\n",
            "Checkups\n",
            "and\n",
            "Screenings\n",
            ":\n",
            "1.\n",
            "Initial\n",
            "Visit ...\"\n",
            "    [0.9027] \"many\n",
            "of\n",
            "your\n",
            "fears\n",
            "are\n",
            "manageable.\n",
            "●\n",
            "Limiting\n",
            "Media\n",
            "Exposure:\n",
            "Avoid\n",
            "consuming\n",
            "too\n",
            "mu ...\"\n",
            "\n",
            "What's your next question (or type 'quit' to exit): Role of Partners and Family in Pregnancy Care\n",
            "\n",
            "QUESTION: \"Role of Partners and Family in Pregnancy Care\"\n"
          ]
        },
        {
          "output_type": "stream",
          "name": "stderr",
          "text": [
            "WARNING:cassandra.protocol:Server warning: Top-K queries can only be run with consistency level ONE / LOCAL_ONE / NODE_LOCAL. Consistency level LOCAL_QUORUM was requested. Downgrading the consistency level to LOCAL_ONE.\n"
          ]
        },
        {
          "output_type": "stream",
          "name": "stdout",
          "text": [
            "ANSWER: \"The role of partners and family in pregnancy care is crucial for the overall well-being and health of the mother and baby. They can provide emotional support, help with household tasks and childcare, and attend appointments with the mother. Partners and family members can also play a vital role in managing stress and ensuring proper nutrition and self-care for the mother during pregnancy. Their involvement can also help in early detection of any potential complications and ensuring a healthy and positive pregnancy experience for the mother.\"\n",
            "\n",
            "FIRST DOCUMENTS BY RELEVANCE:\n"
          ]
        },
        {
          "output_type": "stream",
          "name": "stderr",
          "text": [
            "WARNING:cassandra.protocol:Server warning: Top-K queries can only be run with consistency level ONE / LOCAL_ONE / NODE_LOCAL. Consistency level LOCAL_QUORUM was requested. Downgrading the consistency level to LOCAL_ONE.\n"
          ]
        },
        {
          "output_type": "stream",
          "name": "stdout",
          "text": [
            "    [0.9038] \"Pregnancy\n",
            "Care\n",
            "Pregnancy\n",
            "is\n",
            "the\n",
            "period\n",
            "during\n",
            "which\n",
            "a\n",
            "fertilized\n",
            "egg\n",
            "develops\n",
            "into\n",
            "a ...\"\n",
            "    [0.9025] \"pregnancy\n",
            "tests,\n",
            "blood\n",
            "tests,\n",
            "and\n",
            "an\n",
            "ultrasound\n",
            "to\n",
            "confirm\n",
            "the\n",
            "gestational\n",
            "age\n",
            "and\n",
            "c ...\"\n",
            "    [0.9018] \"her\n",
            "to\n",
            "the\n",
            "PHC-Medical\n",
            "Officer.\n",
            "●\n",
            "Routine\n",
            "Checkups\n",
            "and\n",
            "Screenings\n",
            ":\n",
            "1.\n",
            "Initial\n",
            "Visit ...\"\n",
            "    [0.9013] \"by\n",
            "other\n",
            "symptoms\n",
            "like\n",
            "vaginal\n",
            "bleeding,\n",
            "consult\n",
            "your\n",
            "healthcare\n",
            "provider\n",
            "as\n",
            "it\n",
            "coul ...\"\n",
            "\n",
            "What's your next question (or type 'quit' to exit): can you give me the Workplace Considerations and Maternity Leave\n",
            "\n",
            "QUESTION: \"can you give me the Workplace Considerations and Maternity Leave\"\n"
          ]
        },
        {
          "output_type": "stream",
          "name": "stderr",
          "text": [
            "WARNING:cassandra.protocol:Server warning: Top-K queries can only be run with consistency level ONE / LOCAL_ONE / NODE_LOCAL. Consistency level LOCAL_QUORUM was requested. Downgrading the consistency level to LOCAL_ONE.\n"
          ]
        },
        {
          "output_type": "stream",
          "name": "stdout",
          "text": [
            "ANSWER: \"I'm sorry, I am not able to provide information on workplace considerations and maternity leave as it is outside of my expertise. It would be best to consult with a human resources representative or your healthcare provider for more information on this topic.\"\n",
            "\n",
            "FIRST DOCUMENTS BY RELEVANCE:\n"
          ]
        },
        {
          "output_type": "stream",
          "name": "stderr",
          "text": [
            "WARNING:cassandra.protocol:Server warning: Top-K queries can only be run with consistency level ONE / LOCAL_ONE / NODE_LOCAL. Consistency level LOCAL_QUORUM was requested. Downgrading the consistency level to LOCAL_ONE.\n"
          ]
        },
        {
          "output_type": "stream",
          "name": "stdout",
          "text": [
            "    [0.8915] \"by\n",
            "other\n",
            "symptoms\n",
            "like\n",
            "vaginal\n",
            "bleeding,\n",
            "consult\n",
            "your\n",
            "healthcare\n",
            "provider\n",
            "as\n",
            "it\n",
            "coul ...\"\n",
            "    [0.8859] \"for\n",
            "managing\n",
            "stress.\n",
            "Aim\n",
            "for\n",
            "7-9\n",
            "hours\n",
            "of\n",
            "quality\n",
            "sleep\n",
            "per\n",
            "night.\n",
            "Create\n",
            "a\n",
            "comforta ...\"\n",
            "    [0.8858] \"many\n",
            "of\n",
            "your\n",
            "fears\n",
            "are\n",
            "manageable.\n",
            "●\n",
            "Limiting\n",
            "Media\n",
            "Exposure:\n",
            "Avoid\n",
            "consuming\n",
            "too\n",
            "mu ...\"\n",
            "    [0.8830] \"or\n",
            "intervention\n",
            "is\n",
            "recommended\n",
            "at\n",
            "that\n",
            "point\n",
            "of\n",
            "time.\n",
            "Advise\n",
            "the\n",
            "woman\n",
            "to\n",
            "go\n",
            "in\n",
            "for\n",
            " ...\"\n",
            "\n",
            "What's your next question (or type 'quit' to exit): what is  Maternity Leave:\n",
            "\n",
            "QUESTION: \"what is  Maternity Leave:\"\n"
          ]
        },
        {
          "output_type": "stream",
          "name": "stderr",
          "text": [
            "WARNING:cassandra.protocol:Server warning: Top-K queries can only be run with consistency level ONE / LOCAL_ONE / NODE_LOCAL. Consistency level LOCAL_QUORUM was requested. Downgrading the consistency level to LOCAL_ONE.\n"
          ]
        },
        {
          "output_type": "stream",
          "name": "stdout",
          "text": [
            "ANSWER: \"Maternity leave is a period of time that a woman takes off from work to give birth and care for her newborn child. This time off is typically unpaid, but some companies may offer paid maternity leave.\"\n",
            "\n",
            "FIRST DOCUMENTS BY RELEVANCE:\n"
          ]
        },
        {
          "output_type": "stream",
          "name": "stderr",
          "text": [
            "WARNING:cassandra.protocol:Server warning: Top-K queries can only be run with consistency level ONE / LOCAL_ONE / NODE_LOCAL. Consistency level LOCAL_QUORUM was requested. Downgrading the consistency level to LOCAL_ONE.\n"
          ]
        },
        {
          "output_type": "stream",
          "name": "stdout",
          "text": [
            "    [0.8996] \"Pregnancy\n",
            "Care\n",
            "Pregnancy\n",
            "is\n",
            "the\n",
            "period\n",
            "during\n",
            "which\n",
            "a\n",
            "fertilized\n",
            "egg\n",
            "develops\n",
            "into\n",
            "a ...\"\n",
            "    [0.8882] \"by\n",
            "other\n",
            "symptoms\n",
            "like\n",
            "vaginal\n",
            "bleeding,\n",
            "consult\n",
            "your\n",
            "healthcare\n",
            "provider\n",
            "as\n",
            "it\n",
            "coul ...\"\n",
            "    [0.8854] \"commonly\n",
            "known\n",
            "to\n",
            "try\n",
            "to\n",
            "eat\n",
            "healthy\n",
            "while\n",
            "avoiding\n",
            "certain\n",
            "foods,\n",
            "exercise,\n",
            "and\n",
            "tak ...\"\n",
            "    [0.8843] \"your\n",
            "balance\n",
            "and\n",
            "contribute\n",
            "to\n",
            "back\n",
            "pain.\n",
            "●\n",
            "Sleep\n",
            "Position:\n",
            "Sleep\n",
            "on\n",
            "your\n",
            "side,\n",
            "pref ...\"\n",
            "\n",
            "What's your next question (or type 'quit' to exit): what are rules and procedures of Rules and Procedures\n",
            "\n",
            "QUESTION: \"what are rules and procedures of Rules and Procedures\"\n"
          ]
        },
        {
          "output_type": "stream",
          "name": "stderr",
          "text": [
            "WARNING:cassandra.protocol:Server warning: Top-K queries can only be run with consistency level ONE / LOCAL_ONE / NODE_LOCAL. Consistency level LOCAL_QUORUM was requested. Downgrading the consistency level to LOCAL_ONE.\n"
          ]
        },
        {
          "output_type": "stream",
          "name": "stdout",
          "text": [
            "ANSWER: \"The rules and procedures for this activity include confirming admission, making payment by a specific deadline, and reporting through a self-reporting system. Failure to comply with these rules may result in the cancellation of the provisional allotment. Candidates who are satisfied with their allotment and have paid their tuition fee do not need to participate in further phases of counselling. Eligible candidates can participate in the final phase of counselling for changes in college or branch. It is important to note that the total fee payable or refundable is subject to verification of the actual fee paid. Candidates belonging to certain categories may be considered for reimbursement of tuition fee, but this is subject to verification and eligibility criteria set by the government. Additionally, there are instructions for downloading the allotment order and making tuition fee payments online. Candidates are advised to use their own bank accounts for payment and to check the amount limit for their credit card, debit card, or net banking before making the payment.\"\n",
            "\n",
            "FIRST DOCUMENTS BY RELEVANCE:\n"
          ]
        },
        {
          "output_type": "stream",
          "name": "stderr",
          "text": [
            "WARNING:cassandra.protocol:Server warning: Top-K queries can only be run with consistency level ONE / LOCAL_ONE / NODE_LOCAL. Consistency level LOCAL_QUORUM was requested. Downgrading the consistency level to LOCAL_ONE.\n"
          ]
        },
        {
          "output_type": "stream",
          "name": "stdout",
          "text": [
            "    [0.8736] \"Number, Rank, Name, Father Name, Allotted College, Branch and Admission Number are a ...\"\n",
            "    [0.8671] \"* Candidates are informed that the amount shown against the entry total fee payable/ ...\"\n",
            "    [0.8670] \"her\n",
            "to\n",
            "the\n",
            "PHC-Medical\n",
            "Officer.\n",
            "●\n",
            "Routine\n",
            "Checkups\n",
            "and\n",
            "Screenings\n",
            ":\n",
            "1.\n",
            "Initial\n",
            "Visit ...\"\n",
            "    [0.8665] \"Instructions to Candidates:\n",
            "1. Download the allotment order. Pay Tuition Fee through ...\"\n",
            "\n",
            "What's your next question (or type 'quit' to exit): what are rules and procedures of maternity leave?\n",
            "\n",
            "QUESTION: \"what are rules and procedures of maternity leave?\"\n"
          ]
        },
        {
          "output_type": "stream",
          "name": "stderr",
          "text": [
            "WARNING:cassandra.protocol:Server warning: Top-K queries can only be run with consistency level ONE / LOCAL_ONE / NODE_LOCAL. Consistency level LOCAL_QUORUM was requested. Downgrading the consistency level to LOCAL_ONE.\n"
          ]
        },
        {
          "output_type": "stream",
          "name": "stdout",
          "text": [
            "ANSWER: \"The rules and procedures of maternity leave may vary depending on the country or organization. Generally, maternity leave is a period of time that a pregnant person takes off from work before and after the birth of their child. It is usually a paid leave and is meant to give the parent time to recover from childbirth and bond with their new baby. The length of maternity leave and the amount of pay may vary, but some common rules and procedures include: \n",
            "1. Eligibility: In most cases, an employee must have worked for a certain amount of time before being eligible for maternity leave. This may be determined by the organization's policies or by the government's laws.\n",
            "2. Notification: Employees are usually required to inform their employer in advance about their pregnancy and their expected date of delivery.\n",
            "3. Medical Documentation: Employers may require a medical certificate or proof of pregnancy from a healthcare provider in order for the employee to be granted maternity leave.\n",
            "4. Length of Leave: The length of maternity leave may vary depending on the country or organization, but it typically ranges from 6-12 weeks before and after the birth of the child.\n",
            "5. Pay: Some organizations may offer full or partial pay during maternity leave, while others may only offer unpaid leave. Government laws may also dictate\"\n",
            "\n",
            "FIRST DOCUMENTS BY RELEVANCE:\n"
          ]
        },
        {
          "output_type": "stream",
          "name": "stderr",
          "text": [
            "WARNING:cassandra.protocol:Server warning: Top-K queries can only be run with consistency level ONE / LOCAL_ONE / NODE_LOCAL. Consistency level LOCAL_QUORUM was requested. Downgrading the consistency level to LOCAL_ONE.\n"
          ]
        },
        {
          "output_type": "stream",
          "name": "stdout",
          "text": [
            "    [0.8949] \"her\n",
            "to\n",
            "the\n",
            "PHC-Medical\n",
            "Officer.\n",
            "●\n",
            "Routine\n",
            "Checkups\n",
            "and\n",
            "Screenings\n",
            ":\n",
            "1.\n",
            "Initial\n",
            "Visit ...\"\n",
            "    [0.8901] \"and\n",
            "safe\n",
            "delivery .\n",
            "It\n",
            "should\n",
            "be\n",
            "undertaken\n",
            "as\n",
            "early\n",
            "as\n",
            "possible\n",
            "after\n",
            "the\n",
            "first\n",
            "mis ...\"\n",
            "    [0.8898] \"many\n",
            "of\n",
            "your\n",
            "fears\n",
            "are\n",
            "manageable.\n",
            "●\n",
            "Limiting\n",
            "Media\n",
            "Exposure:\n",
            "Avoid\n",
            "consuming\n",
            "too\n",
            "mu ...\"\n",
            "    [0.8889] \"by\n",
            "other\n",
            "symptoms\n",
            "like\n",
            "vaginal\n",
            "bleeding,\n",
            "consult\n",
            "your\n",
            "healthcare\n",
            "provider\n",
            "as\n",
            "it\n",
            "coul ...\"\n",
            "\n",
            "What's your next question (or type 'quit' to exit):  Onsurity’s Group Health Insurance\n",
            "\n",
            "QUESTION: \"Onsurity’s Group Health Insurance\"\n"
          ]
        },
        {
          "output_type": "stream",
          "name": "stderr",
          "text": [
            "WARNING:cassandra.protocol:Server warning: Top-K queries can only be run with consistency level ONE / LOCAL_ONE / NODE_LOCAL. Consistency level LOCAL_QUORUM was requested. Downgrading the consistency level to LOCAL_ONE.\n"
          ]
        },
        {
          "output_type": "stream",
          "name": "stdout",
          "text": [
            "ANSWER: \"I'm sorry, I don't have enough information to provide an answer to this question. Could you please provide more context or clarify the question?\"\n",
            "\n",
            "FIRST DOCUMENTS BY RELEVANCE:\n"
          ]
        },
        {
          "output_type": "stream",
          "name": "stderr",
          "text": [
            "WARNING:cassandra.protocol:Server warning: Top-K queries can only be run with consistency level ONE / LOCAL_ONE / NODE_LOCAL. Consistency level LOCAL_QUORUM was requested. Downgrading the consistency level to LOCAL_ONE.\n"
          ]
        },
        {
          "output_type": "stream",
          "name": "stdout",
          "text": [
            "    [0.8735] \"many\n",
            "of\n",
            "your\n",
            "fears\n",
            "are\n",
            "manageable.\n",
            "●\n",
            "Limiting\n",
            "Media\n",
            "Exposure:\n",
            "Avoid\n",
            "consuming\n",
            "too\n",
            "mu ...\"\n",
            "    [0.8732] \"anxiety\n",
            "levels.\n",
            "Opt\n",
            "for\n",
            "a\n",
            "balanced\n",
            "diet\n",
            "that\n",
            "stabilizes\n",
            "blood\n",
            "sugar\n",
            "levels,\n",
            "as\n",
            "fluct ...\"\n",
            "    [0.8716] \"her\n",
            "to\n",
            "the\n",
            "PHC-Medical\n",
            "Officer.\n",
            "●\n",
            "Routine\n",
            "Checkups\n",
            "and\n",
            "Screenings\n",
            ":\n",
            "1.\n",
            "Initial\n",
            "Visit ...\"\n",
            "    [0.8643] \"pregnancy\n",
            "tests,\n",
            "blood\n",
            "tests,\n",
            "and\n",
            "an\n",
            "ultrasound\n",
            "to\n",
            "confirm\n",
            "the\n",
            "gestational\n",
            "age\n",
            "and\n",
            "c ...\"\n",
            "\n",
            "What's your next question (or type 'quit' to exit): can you explain me the PCOD(Polycystic Ovarian Disease) and Its Effect on Pregnancy\n",
            "\n",
            "QUESTION: \"can you explain me the PCOD(Polycystic Ovarian Disease) and Its Effect on Pregnancy\"\n"
          ]
        },
        {
          "output_type": "stream",
          "name": "stderr",
          "text": [
            "WARNING:cassandra.protocol:Server warning: Top-K queries can only be run with consistency level ONE / LOCAL_ONE / NODE_LOCAL. Consistency level LOCAL_QUORUM was requested. Downgrading the consistency level to LOCAL_ONE.\n"
          ]
        },
        {
          "output_type": "stream",
          "name": "stdout",
          "text": [
            "ANSWER: \"PCOD, or Polycystic Ovarian Disease, is a hormonal disorder that affects many women of childbearing age. It is characterized by small cysts on the ovaries and hormonal imbalances, which can lead to irregular menstrual cycles and difficulty getting pregnant. PCOD can also cause other symptoms such as weight gain, acne, and excess hair growth.\n",
            "\n",
            "In terms of its effect on pregnancy, PCOD can make it more difficult to conceive due to irregular ovulation. It can also increase the risk of complications during pregnancy, such as gestational diabetes, preeclampsia, and preterm birth. Women with PCOD may also have a higher chance of miscarriage.\n",
            "\n",
            "It is important for women with PCOD to work closely with their healthcare provider when trying to conceive and throughout their pregnancy to monitor and manage any potential risks. Medications and lifestyle changes, such as maintaining a healthy weight and managing insulin levels, can help improve fertility and reduce the risk of complications during pregnancy.\"\n",
            "\n",
            "FIRST DOCUMENTS BY RELEVANCE:\n"
          ]
        },
        {
          "output_type": "stream",
          "name": "stderr",
          "text": [
            "WARNING:cassandra.protocol:Server warning: Top-K queries can only be run with consistency level ONE / LOCAL_ONE / NODE_LOCAL. Consistency level LOCAL_QUORUM was requested. Downgrading the consistency level to LOCAL_ONE.\n"
          ]
        },
        {
          "output_type": "stream",
          "name": "stdout",
          "text": [
            "    [0.8946] \"Pregnancy\n",
            "Care\n",
            "Pregnancy\n",
            "is\n",
            "the\n",
            "period\n",
            "during\n",
            "which\n",
            "a\n",
            "fertilized\n",
            "egg\n",
            "develops\n",
            "into\n",
            "a ...\"\n",
            "    [0.8881] \"by\n",
            "other\n",
            "symptoms\n",
            "like\n",
            "vaginal\n",
            "bleeding,\n",
            "consult\n",
            "your\n",
            "healthcare\n",
            "provider\n",
            "as\n",
            "it\n",
            "coul ...\"\n",
            "    [0.8872] \"commonly\n",
            "known\n",
            "to\n",
            "try\n",
            "to\n",
            "eat\n",
            "healthy\n",
            "while\n",
            "avoiding\n",
            "certain\n",
            "foods,\n",
            "exercise,\n",
            "and\n",
            "tak ...\"\n",
            "    [0.8864] \"anxiety\n",
            "levels.\n",
            "Opt\n",
            "for\n",
            "a\n",
            "balanced\n",
            "diet\n",
            "that\n",
            "stabilizes\n",
            "blood\n",
            "sugar\n",
            "levels,\n",
            "as\n",
            "fluct ...\"\n",
            "\n",
            "What's your next question (or type 'quit' to exit): what are  Types of PCOD?\n",
            "\n",
            "QUESTION: \"what are  Types of PCOD?\"\n"
          ]
        },
        {
          "output_type": "stream",
          "name": "stderr",
          "text": [
            "WARNING:cassandra.protocol:Server warning: Top-K queries can only be run with consistency level ONE / LOCAL_ONE / NODE_LOCAL. Consistency level LOCAL_QUORUM was requested. Downgrading the consistency level to LOCAL_ONE.\n"
          ]
        },
        {
          "output_type": "stream",
          "name": "stdout",
          "text": [
            "ANSWER: \"Unfortunately, the given context does not mention anything about PCOD (polycystic ovary syndrome). Therefore, I am unable to provide an answer to this question.\"\n",
            "\n",
            "FIRST DOCUMENTS BY RELEVANCE:\n"
          ]
        },
        {
          "output_type": "stream",
          "name": "stderr",
          "text": [
            "WARNING:cassandra.protocol:Server warning: Top-K queries can only be run with consistency level ONE / LOCAL_ONE / NODE_LOCAL. Consistency level LOCAL_QUORUM was requested. Downgrading the consistency level to LOCAL_ONE.\n"
          ]
        },
        {
          "output_type": "stream",
          "name": "stdout",
          "text": [
            "    [0.8731] \"her\n",
            "to\n",
            "the\n",
            "PHC-Medical\n",
            "Officer.\n",
            "●\n",
            "Routine\n",
            "Checkups\n",
            "and\n",
            "Screenings\n",
            ":\n",
            "1.\n",
            "Initial\n",
            "Visit ...\"\n",
            "    [0.8715] \"Pregnant\n",
            "Woman\n",
            "Refer\n",
            "the\n",
            "pregnant\n",
            "woman\n",
            "to\n",
            "24-hour\n",
            "PHC/FRU\n",
            "for\n",
            "further\n",
            "examination\n",
            "i ...\"\n",
            "    [0.8705] \"woman\n",
            "with\n",
            "PIH,\n",
            "pre-eclampsia\n",
            "or\n",
            "imminent\n",
            "eclampsia\n",
            "requires\n",
            "hospitalization\n",
            "and\n",
            "sup ...\"\n",
            "    [0.8704] \"many\n",
            "of\n",
            "your\n",
            "fears\n",
            "are\n",
            "manageable.\n",
            "●\n",
            "Limiting\n",
            "Media\n",
            "Exposure:\n",
            "Avoid\n",
            "consuming\n",
            "too\n",
            "mu ...\"\n",
            "\n",
            "What's your next question (or type 'quit' to exit): what is  Insulin-Resistant PCOD?\n",
            "\n",
            "QUESTION: \"what is  Insulin-Resistant PCOD?\"\n"
          ]
        },
        {
          "output_type": "stream",
          "name": "stderr",
          "text": [
            "WARNING:cassandra.protocol:Server warning: Top-K queries can only be run with consistency level ONE / LOCAL_ONE / NODE_LOCAL. Consistency level LOCAL_QUORUM was requested. Downgrading the consistency level to LOCAL_ONE.\n"
          ]
        },
        {
          "output_type": "stream",
          "name": "stdout",
          "text": [
            "ANSWER: \"Insulin-Resistant PCOD is a condition where a woman's body has difficulty responding to the hormone insulin, leading to high levels of insulin in the body. This can lead to an imbalance in hormone levels and can result in irregular menstrual cycles, weight gain, and other symptoms associated with Polycystic Ovarian Disease (PCOD).\"\n",
            "\n",
            "FIRST DOCUMENTS BY RELEVANCE:\n"
          ]
        },
        {
          "output_type": "stream",
          "name": "stderr",
          "text": [
            "WARNING:cassandra.protocol:Server warning: Top-K queries can only be run with consistency level ONE / LOCAL_ONE / NODE_LOCAL. Consistency level LOCAL_QUORUM was requested. Downgrading the consistency level to LOCAL_ONE.\n"
          ]
        },
        {
          "output_type": "stream",
          "name": "stdout",
          "text": [
            "    [0.8789] \"can\n",
            "be\n",
            "suspected\n",
            "if\n",
            "the\n",
            "woman\n",
            "gains\n",
            "less\n",
            "than\n",
            "2\n",
            "kg\n",
            "per\n",
            "month.\n",
            "She\n",
            "needs\n",
            "to\n",
            "be\n",
            "put\n",
            "on ...\"\n",
            "    [0.8767] \"disease\n",
            "or\n",
            "proteinuria\n",
            "●\n",
            "Non\n",
            "pitting\n",
            "oedema\n",
            "with\n",
            "hypothyroidism\n",
            "or\n",
            "filariasis\n",
            "●\n",
            "Preg ...\"\n",
            "    [0.8747] \"woman\n",
            "with\n",
            "PIH,\n",
            "pre-eclampsia\n",
            "or\n",
            "imminent\n",
            "eclampsia\n",
            "requires\n",
            "hospitalization\n",
            "and\n",
            "sup ...\"\n",
            "    [0.8679] \"hypothyroidism\n",
            "or\n",
            "filariasis\n",
            "and\n",
            "requires\n",
            "immediate\n",
            "referral\n",
            "to\n",
            "FRU\n",
            "for\n",
            "investigatio ...\"\n",
            "\n",
            "What's your next question (or type 'quit' to exit):  Effect of PCOD on Pregnancy\n",
            "\n",
            "QUESTION: \"Effect of PCOD on Pregnancy\"\n"
          ]
        },
        {
          "output_type": "stream",
          "name": "stderr",
          "text": [
            "WARNING:cassandra.protocol:Server warning: Top-K queries can only be run with consistency level ONE / LOCAL_ONE / NODE_LOCAL. Consistency level LOCAL_QUORUM was requested. Downgrading the consistency level to LOCAL_ONE.\n"
          ]
        },
        {
          "output_type": "stream",
          "name": "stdout",
          "text": [
            "ANSWER: \"Polycystic ovary syndrome (PCOS) can have an impact on pregnancy in various ways. It can make it more difficult to conceive due to irregular ovulation and hormonal imbalances. Women with PCOS also have a higher risk of pregnancy complications such as gestational diabetes, high blood pressure, and preterm birth. It is important for women with PCOS to work closely with their healthcare provider to manage their condition and monitor their pregnancy for any potential complications.\"\n",
            "\n",
            "FIRST DOCUMENTS BY RELEVANCE:\n"
          ]
        },
        {
          "output_type": "stream",
          "name": "stderr",
          "text": [
            "WARNING:cassandra.protocol:Server warning: Top-K queries can only be run with consistency level ONE / LOCAL_ONE / NODE_LOCAL. Consistency level LOCAL_QUORUM was requested. Downgrading the consistency level to LOCAL_ONE.\n"
          ]
        },
        {
          "output_type": "stream",
          "name": "stdout",
          "text": [
            "    [0.8937] \"Pregnancy\n",
            "Care\n",
            "Pregnancy\n",
            "is\n",
            "the\n",
            "period\n",
            "during\n",
            "which\n",
            "a\n",
            "fertilized\n",
            "egg\n",
            "develops\n",
            "into\n",
            "a ...\"\n",
            "    [0.8917] \"by\n",
            "other\n",
            "symptoms\n",
            "like\n",
            "vaginal\n",
            "bleeding,\n",
            "consult\n",
            "your\n",
            "healthcare\n",
            "provider\n",
            "as\n",
            "it\n",
            "coul ...\"\n",
            "    [0.8892] \"woman\n",
            "with\n",
            "PIH,\n",
            "pre-eclampsia\n",
            "or\n",
            "imminent\n",
            "eclampsia\n",
            "requires\n",
            "hospitalization\n",
            "and\n",
            "sup ...\"\n",
            "    [0.8887] \"Pregnant\n",
            "Woman\n",
            "Refer\n",
            "the\n",
            "pregnant\n",
            "woman\n",
            "to\n",
            "24-hour\n",
            "PHC/FRU\n",
            "for\n",
            "further\n",
            "examination\n",
            "i ...\"\n",
            "\n",
            "What's your next question (or type 'quit' to exit): what is  Gestational Diabetes?\n",
            "\n",
            "QUESTION: \"what is  Gestational Diabetes?\"\n"
          ]
        },
        {
          "output_type": "stream",
          "name": "stderr",
          "text": [
            "WARNING:cassandra.protocol:Server warning: Top-K queries can only be run with consistency level ONE / LOCAL_ONE / NODE_LOCAL. Consistency level LOCAL_QUORUM was requested. Downgrading the consistency level to LOCAL_ONE.\n"
          ]
        },
        {
          "output_type": "stream",
          "name": "stdout",
          "text": [
            "ANSWER: \"Gestational Diabetes is a type of diabetes that occurs during pregnancy. It is a temporary condition that can develop in women who did not have diabetes before becoming pregnant. It can cause high blood sugar levels that can affect the health of both the mother and the baby if not properly managed. This condition is usually diagnosed through regular testing during pregnancy and can be managed through diet, exercise, and sometimes medication.\"\n",
            "\n",
            "FIRST DOCUMENTS BY RELEVANCE:\n"
          ]
        },
        {
          "output_type": "stream",
          "name": "stderr",
          "text": [
            "WARNING:cassandra.protocol:Server warning: Top-K queries can only be run with consistency level ONE / LOCAL_ONE / NODE_LOCAL. Consistency level LOCAL_QUORUM was requested. Downgrading the consistency level to LOCAL_ONE.\n"
          ]
        },
        {
          "output_type": "stream",
          "name": "stdout",
          "text": [
            "    [0.9174] \"lood\n",
            "sugar\n",
            "Examination\n",
            "for\n",
            "Gestational\n",
            "Diabetes\n",
            "Mellitus\n",
            "Testing\n",
            "for\n",
            "GDM\n",
            "is\n",
            "recommen ...\"\n",
            "    [0.9058] \"disease\n",
            "or\n",
            "proteinuria\n",
            "●\n",
            "Non\n",
            "pitting\n",
            "oedema\n",
            "with\n",
            "hypothyroidism\n",
            "or\n",
            "filariasis\n",
            "●\n",
            "Preg ...\"\n",
            "    [0.9030] \"can\n",
            "be\n",
            "suspected\n",
            "if\n",
            "the\n",
            "woman\n",
            "gains\n",
            "less\n",
            "than\n",
            "2\n",
            "kg\n",
            "per\n",
            "month.\n",
            "She\n",
            "needs\n",
            "to\n",
            "be\n",
            "put\n",
            "on ...\"\n",
            "    [0.8994] \"her\n",
            "to\n",
            "the\n",
            "PHC-Medical\n",
            "Officer.\n",
            "●\n",
            "Routine\n",
            "Checkups\n",
            "and\n",
            "Screenings\n",
            ":\n",
            "1.\n",
            "Initial\n",
            "Visit ...\"\n",
            "\n",
            "What's your next question (or type 'quit' to exit): Managing PCOD During Pregnancy\n",
            "\n",
            "QUESTION: \"Managing PCOD During Pregnancy\"\n"
          ]
        },
        {
          "output_type": "stream",
          "name": "stderr",
          "text": [
            "WARNING:cassandra.protocol:Server warning: Top-K queries can only be run with consistency level ONE / LOCAL_ONE / NODE_LOCAL. Consistency level LOCAL_QUORUM was requested. Downgrading the consistency level to LOCAL_ONE.\n"
          ]
        },
        {
          "output_type": "stream",
          "name": "stdout",
          "text": [
            "ANSWER: \"I don't know, as PCOD (polycystic ovary syndrome) is a medical condition and it is important to consult with a healthcare provider for specific management strategies during pregnancy.\"\n",
            "\n",
            "FIRST DOCUMENTS BY RELEVANCE:\n"
          ]
        },
        {
          "output_type": "stream",
          "name": "stderr",
          "text": [
            "WARNING:cassandra.protocol:Server warning: Top-K queries can only be run with consistency level ONE / LOCAL_ONE / NODE_LOCAL. Consistency level LOCAL_QUORUM was requested. Downgrading the consistency level to LOCAL_ONE.\n"
          ]
        },
        {
          "output_type": "stream",
          "name": "stdout",
          "text": [
            "    [0.9037] \"by\n",
            "other\n",
            "symptoms\n",
            "like\n",
            "vaginal\n",
            "bleeding,\n",
            "consult\n",
            "your\n",
            "healthcare\n",
            "provider\n",
            "as\n",
            "it\n",
            "coul ...\"\n",
            "    [0.9007] \"many\n",
            "of\n",
            "your\n",
            "fears\n",
            "are\n",
            "manageable.\n",
            "●\n",
            "Limiting\n",
            "Media\n",
            "Exposure:\n",
            "Avoid\n",
            "consuming\n",
            "too\n",
            "mu ...\"\n",
            "    [0.9000] \"woman\n",
            "with\n",
            "PIH,\n",
            "pre-eclampsia\n",
            "or\n",
            "imminent\n",
            "eclampsia\n",
            "requires\n",
            "hospitalization\n",
            "and\n",
            "sup ...\"\n",
            "    [0.8987] \"anxiety\n",
            "levels.\n",
            "Opt\n",
            "for\n",
            "a\n",
            "balanced\n",
            "diet\n",
            "that\n",
            "stabilizes\n",
            "blood\n",
            "sugar\n",
            "levels,\n",
            "as\n",
            "fluct ...\"\n",
            "\n",
            "What's your next question (or type 'quit' to exit): what are general ways of Managing PCOD During Pregnancy\n",
            "\n",
            "QUESTION: \"what are general ways of Managing PCOD During Pregnancy\"\n"
          ]
        },
        {
          "output_type": "stream",
          "name": "stderr",
          "text": [
            "WARNING:cassandra.protocol:Server warning: Top-K queries can only be run with consistency level ONE / LOCAL_ONE / NODE_LOCAL. Consistency level LOCAL_QUORUM was requested. Downgrading the consistency level to LOCAL_ONE.\n"
          ]
        },
        {
          "output_type": "stream",
          "name": "stdout",
          "text": [
            "ANSWER: \"Unfortunately, there is no specific way to manage PCOD (Polycystic Ovary Syndrome) during pregnancy as it is a complex condition that requires individualized treatment. However, some general ways to manage PCOD during pregnancy may include: \n",
            "1. Regular prenatal care: It is important to attend regular prenatal check-ups and follow the advice of your healthcare provider. They can monitor your condition and provide appropriate treatment if necessary.\n",
            "2. Maintain a healthy diet: A balanced and nutritious diet can help manage the symptoms of PCOD and support a healthy pregnancy. Consult with a registered dietitian to create a meal plan that suits your specific needs.\n",
            "3. Exercise regularly: Regular physical activity can help manage PCOD symptoms and promote a healthy pregnancy. Consult with your healthcare provider before starting any exercise routine.\n",
            "4. Manage stress: Stress can worsen PCOD symptoms, so practicing relaxation techniques such as mindfulness, deep breathing, and meditation can be beneficial.\n",
            "5. Follow medication guidelines: If you are taking medication for PCOD, make sure to follow your doctor's instructions and discuss any potential risks with them.\n",
            "6. Get enough rest: Adequate rest and sleep are important for managing PCOD symptoms and promoting a healthy pregnancy.\n",
            "7. Seek support: Joining a support group or\"\n",
            "\n",
            "FIRST DOCUMENTS BY RELEVANCE:\n"
          ]
        },
        {
          "output_type": "stream",
          "name": "stderr",
          "text": [
            "WARNING:cassandra.protocol:Server warning: Top-K queries can only be run with consistency level ONE / LOCAL_ONE / NODE_LOCAL. Consistency level LOCAL_QUORUM was requested. Downgrading the consistency level to LOCAL_ONE.\n"
          ]
        },
        {
          "output_type": "stream",
          "name": "stdout",
          "text": [
            "    [0.9015] \"many\n",
            "of\n",
            "your\n",
            "fears\n",
            "are\n",
            "manageable.\n",
            "●\n",
            "Limiting\n",
            "Media\n",
            "Exposure:\n",
            "Avoid\n",
            "consuming\n",
            "too\n",
            "mu ...\"\n",
            "    [0.9003] \"by\n",
            "other\n",
            "symptoms\n",
            "like\n",
            "vaginal\n",
            "bleeding,\n",
            "consult\n",
            "your\n",
            "healthcare\n",
            "provider\n",
            "as\n",
            "it\n",
            "coul ...\"\n",
            "    [0.8973] \"woman\n",
            "with\n",
            "PIH,\n",
            "pre-eclampsia\n",
            "or\n",
            "imminent\n",
            "eclampsia\n",
            "requires\n",
            "hospitalization\n",
            "and\n",
            "sup ...\"\n",
            "    [0.8969] \"for\n",
            "managing\n",
            "stress.\n",
            "Aim\n",
            "for\n",
            "7-9\n",
            "hours\n",
            "of\n",
            "quality\n",
            "sleep\n",
            "per\n",
            "night.\n",
            "Create\n",
            "a\n",
            "comforta ...\"\n",
            "\n",
            "What's your next question (or type 'quit' to exit): what are  Causes of Miscarriage?\n",
            "\n",
            "QUESTION: \"what are  Causes of Miscarriage?\"\n"
          ]
        },
        {
          "output_type": "stream",
          "name": "stderr",
          "text": [
            "WARNING:cassandra.protocol:Server warning: Top-K queries can only be run with consistency level ONE / LOCAL_ONE / NODE_LOCAL. Consistency level LOCAL_QUORUM was requested. Downgrading the consistency level to LOCAL_ONE.\n"
          ]
        },
        {
          "output_type": "stream",
          "name": "stdout",
          "text": [
            "ANSWER: \"There are many potential causes of miscarriage, including genetic abnormalities in the embryo, hormonal imbalances, chronic health conditions such as diabetes or thyroid problems, infections, structural issues in the uterus, and certain lifestyle factors such as smoking or drug use. It is important to consult with a healthcare provider if you are experiencing symptoms of a miscarriage or if you have a history of recurrent miscarriages to determine the specific cause in your individual situation.\"\n",
            "\n",
            "FIRST DOCUMENTS BY RELEVANCE:\n"
          ]
        },
        {
          "output_type": "stream",
          "name": "stderr",
          "text": [
            "WARNING:cassandra.protocol:Server warning: Top-K queries can only be run with consistency level ONE / LOCAL_ONE / NODE_LOCAL. Consistency level LOCAL_QUORUM was requested. Downgrading the consistency level to LOCAL_ONE.\n"
          ]
        },
        {
          "output_type": "stream",
          "name": "stdout",
          "text": [
            "    [0.8993] \"by\n",
            "other\n",
            "symptoms\n",
            "like\n",
            "vaginal\n",
            "bleeding,\n",
            "consult\n",
            "your\n",
            "healthcare\n",
            "provider\n",
            "as\n",
            "it\n",
            "coul ...\"\n",
            "    [0.8991] \"swimming,\n",
            "prenatal\n",
            "yoga,\n",
            "and\n",
            "light\n",
            "strength\n",
            "training.\n",
            "These\n",
            "help\n",
            "in\n",
            "maintaining\n",
            "fitn ...\"\n",
            "    [0.8962] \"commonly\n",
            "known\n",
            "to\n",
            "try\n",
            "to\n",
            "eat\n",
            "healthy\n",
            "while\n",
            "avoiding\n",
            "certain\n",
            "foods,\n",
            "exercise,\n",
            "and\n",
            "tak ...\"\n",
            "    [0.8925] \"called\n",
            "hyperemesis\n",
            "gravidarum.\n",
            "This\n",
            "requires\n",
            "medical\n",
            "attention,\n",
            "as\n",
            "it\n",
            "can\n",
            "impact\n",
            "bot ...\"\n",
            "\n",
            "What's your next question (or type 'quit' to exit): what are Types of Miscarriage?\n",
            "\n",
            "QUESTION: \"what are Types of Miscarriage?\"\n"
          ]
        },
        {
          "output_type": "stream",
          "name": "stderr",
          "text": [
            "WARNING:cassandra.protocol:Server warning: Top-K queries can only be run with consistency level ONE / LOCAL_ONE / NODE_LOCAL. Consistency level LOCAL_QUORUM was requested. Downgrading the consistency level to LOCAL_ONE.\n"
          ]
        },
        {
          "output_type": "stream",
          "name": "stdout",
          "text": [
            "ANSWER: \"Types of miscarriage can include threatened miscarriage, inevitable miscarriage, incomplete miscarriage, complete miscarriage, and missed miscarriage.\"\n",
            "\n",
            "FIRST DOCUMENTS BY RELEVANCE:\n"
          ]
        },
        {
          "output_type": "stream",
          "name": "stderr",
          "text": [
            "WARNING:cassandra.protocol:Server warning: Top-K queries can only be run with consistency level ONE / LOCAL_ONE / NODE_LOCAL. Consistency level LOCAL_QUORUM was requested. Downgrading the consistency level to LOCAL_ONE.\n"
          ]
        },
        {
          "output_type": "stream",
          "name": "stdout",
          "text": [
            "    [0.8891] \"swimming,\n",
            "prenatal\n",
            "yoga,\n",
            "and\n",
            "light\n",
            "strength\n",
            "training.\n",
            "These\n",
            "help\n",
            "in\n",
            "maintaining\n",
            "fitn ...\"\n",
            "    [0.8846] \"by\n",
            "other\n",
            "symptoms\n",
            "like\n",
            "vaginal\n",
            "bleeding,\n",
            "consult\n",
            "your\n",
            "healthcare\n",
            "provider\n",
            "as\n",
            "it\n",
            "coul ...\"\n",
            "    [0.8823] \"right\n",
            "or\n",
            "left\n",
            "side.These\n",
            "studies\n",
            "do\n",
            "have\n",
            "some\n",
            "flaws,\n",
            "though.\n",
            "Third\n",
            "trimester\n",
            "pregnan ...\"\n",
            "    [0.8820] \"called\n",
            "hyperemesis\n",
            "gravidarum.\n",
            "This\n",
            "requires\n",
            "medical\n",
            "attention,\n",
            "as\n",
            "it\n",
            "can\n",
            "impact\n",
            "bot ...\"\n",
            "\n",
            "What's your next question (or type 'quit' to exit): what are Precautions to Prevent Miscarriage\n",
            "\n",
            "QUESTION: \"what are Precautions to Prevent Miscarriage\"\n"
          ]
        },
        {
          "output_type": "stream",
          "name": "stderr",
          "text": [
            "WARNING:cassandra.protocol:Server warning: Top-K queries can only be run with consistency level ONE / LOCAL_ONE / NODE_LOCAL. Consistency level LOCAL_QUORUM was requested. Downgrading the consistency level to LOCAL_ONE.\n"
          ]
        },
        {
          "output_type": "stream",
          "name": "stdout",
          "text": [
            "ANSWER: \"Avoiding high-impact sports, heavy lifting, and activities that increase the risk of falls or abdominal trauma can help prevent miscarriage. Additionally, avoiding substances like alcohol, tobacco, and certain medications can also lower the risk of miscarriage. It is important to consult with a healthcare provider for personalized recommendations and to follow a healthy and balanced diet during pregnancy.\"\n",
            "\n",
            "FIRST DOCUMENTS BY RELEVANCE:\n"
          ]
        },
        {
          "output_type": "stream",
          "name": "stderr",
          "text": [
            "WARNING:cassandra.protocol:Server warning: Top-K queries can only be run with consistency level ONE / LOCAL_ONE / NODE_LOCAL. Consistency level LOCAL_QUORUM was requested. Downgrading the consistency level to LOCAL_ONE.\n"
          ]
        },
        {
          "output_type": "stream",
          "name": "stdout",
          "text": [
            "    [0.9096] \"swimming,\n",
            "prenatal\n",
            "yoga,\n",
            "and\n",
            "light\n",
            "strength\n",
            "training.\n",
            "These\n",
            "help\n",
            "in\n",
            "maintaining\n",
            "fitn ...\"\n",
            "    [0.9094] \"many\n",
            "of\n",
            "your\n",
            "fears\n",
            "are\n",
            "manageable.\n",
            "●\n",
            "Limiting\n",
            "Media\n",
            "Exposure:\n",
            "Avoid\n",
            "consuming\n",
            "too\n",
            "mu ...\"\n",
            "    [0.9090] \"While\n",
            "some\n",
            "SSRIs\n",
            "are\n",
            "considered\n",
            "safe,\n",
            "others,\n",
            "such\n",
            "as\n",
            "paroxetine\n",
            "(Paxil)\n",
            ",\n",
            "may\n",
            "be\n",
            "as ...\"\n",
            "    [0.9067] \"by\n",
            "other\n",
            "symptoms\n",
            "like\n",
            "vaginal\n",
            "bleeding,\n",
            "consult\n",
            "your\n",
            "healthcare\n",
            "provider\n",
            "as\n",
            "it\n",
            "coul ...\"\n",
            "\n",
            "What's your next question (or type 'quit' to exit): what are  Commontests carried during pregnancy?\n",
            "\n",
            "QUESTION: \"what are  Commontests carried during pregnancy?\"\n"
          ]
        },
        {
          "output_type": "stream",
          "name": "stderr",
          "text": [
            "WARNING:cassandra.protocol:Server warning: Top-K queries can only be run with consistency level ONE / LOCAL_ONE / NODE_LOCAL. Consistency level LOCAL_QUORUM was requested. Downgrading the consistency level to LOCAL_ONE.\n"
          ]
        },
        {
          "output_type": "stream",
          "name": "stdout",
          "text": [
            "ANSWER: \"Common tests carried during pregnancy include pregnancy tests, blood tests, and ultrasounds to confirm gestational age and check for multiple pregnancies. Other tests may include screening for gestational diabetes and anemia.\"\n",
            "\n",
            "FIRST DOCUMENTS BY RELEVANCE:\n"
          ]
        },
        {
          "output_type": "stream",
          "name": "stderr",
          "text": [
            "WARNING:cassandra.protocol:Server warning: Top-K queries can only be run with consistency level ONE / LOCAL_ONE / NODE_LOCAL. Consistency level LOCAL_QUORUM was requested. Downgrading the consistency level to LOCAL_ONE.\n"
          ]
        },
        {
          "output_type": "stream",
          "name": "stdout",
          "text": [
            "    [0.9094] \"swimming,\n",
            "prenatal\n",
            "yoga,\n",
            "and\n",
            "light\n",
            "strength\n",
            "training.\n",
            "These\n",
            "help\n",
            "in\n",
            "maintaining\n",
            "fitn ...\"\n",
            "    [0.9061] \"pregnancy\n",
            "tests,\n",
            "blood\n",
            "tests,\n",
            "and\n",
            "an\n",
            "ultrasound\n",
            "to\n",
            "confirm\n",
            "the\n",
            "gestational\n",
            "age\n",
            "and\n",
            "c ...\"\n",
            "    [0.9036] \"her\n",
            "to\n",
            "the\n",
            "PHC-Medical\n",
            "Officer.\n",
            "●\n",
            "Routine\n",
            "Checkups\n",
            "and\n",
            "Screenings\n",
            ":\n",
            "1.\n",
            "Initial\n",
            "Visit ...\"\n",
            "    [0.9032] \"lood\n",
            "sugar\n",
            "Examination\n",
            "for\n",
            "Gestational\n",
            "Diabetes\n",
            "Mellitus\n",
            "Testing\n",
            "for\n",
            "GDM\n",
            "is\n",
            "recommen ...\"\n",
            "\n",
            "What's your next question (or type 'quit' to exit): note me down the Key maternal health schemes\n",
            "\n",
            "QUESTION: \"note me down the Key maternal health schemes\"\n"
          ]
        },
        {
          "output_type": "stream",
          "name": "stderr",
          "text": [
            "WARNING:cassandra.protocol:Server warning: Top-K queries can only be run with consistency level ONE / LOCAL_ONE / NODE_LOCAL. Consistency level LOCAL_QUORUM was requested. Downgrading the consistency level to LOCAL_ONE.\n"
          ]
        },
        {
          "output_type": "stream",
          "name": "stdout",
          "text": [
            "ANSWER: \"Some key maternal health schemes include the Pradhan Mantri Surakshit Matritva Abhiyan (PMSMA), Janani Suraksha Yojana (JSY), and Janani Shishu Suraksha Karyakram (JSSK).\"\n",
            "\n",
            "FIRST DOCUMENTS BY RELEVANCE:\n"
          ]
        },
        {
          "output_type": "stream",
          "name": "stderr",
          "text": [
            "WARNING:cassandra.protocol:Server warning: Top-K queries can only be run with consistency level ONE / LOCAL_ONE / NODE_LOCAL. Consistency level LOCAL_QUORUM was requested. Downgrading the consistency level to LOCAL_ONE.\n"
          ]
        },
        {
          "output_type": "stream",
          "name": "stdout",
          "text": [
            "    [0.8994] \"her\n",
            "to\n",
            "the\n",
            "PHC-Medical\n",
            "Officer.\n",
            "●\n",
            "Routine\n",
            "Checkups\n",
            "and\n",
            "Screenings\n",
            ":\n",
            "1.\n",
            "Initial\n",
            "Visit ...\"\n",
            "    [0.8972] \"rate\n",
            "of\n",
            "the\n",
            "district\n",
            "is\n",
            "20\n",
            "per\n",
            "1000\n",
            "population,\n",
            "then,\n",
            "100\n",
            "children\n",
            "will\n",
            "be\n",
            "born\n",
            "for\n",
            " ...\"\n",
            "    [0.8928] \"+\n",
            "7\n",
            "daysFour\n",
            "antenatal\n",
            "check\n",
            "ups\n",
            "are\n",
            "essential\n",
            "for\n",
            "a\n",
            "pregnant\n",
            "woman:\n",
            "No.of\n",
            "Visit\n",
            "Tim ...\"\n",
            "    [0.8923] \"woman\n",
            "with\n",
            "PIH,\n",
            "pre-eclampsia\n",
            "or\n",
            "imminent\n",
            "eclampsia\n",
            "requires\n",
            "hospitalization\n",
            "and\n",
            "sup ...\"\n",
            "\n",
            "What's your next question (or type 'quit' to exit): what are different types of premature births?\n",
            "\n",
            "QUESTION: \"what are different types of premature births?\"\n"
          ]
        },
        {
          "output_type": "stream",
          "name": "stderr",
          "text": [
            "WARNING:cassandra.protocol:Server warning: Top-K queries can only be run with consistency level ONE / LOCAL_ONE / NODE_LOCAL. Consistency level LOCAL_QUORUM was requested. Downgrading the consistency level to LOCAL_ONE.\n"
          ]
        },
        {
          "output_type": "stream",
          "name": "stdout",
          "text": [
            "ANSWER: \"There are three main types of premature births: spontaneous premature birth (when labor begins on its own before 37 weeks), preterm labor (when labor begins before 37 weeks due to a medical issue), and elective preterm birth (when a baby is delivered before 37 weeks for non-medical reasons).\"\n",
            "\n",
            "FIRST DOCUMENTS BY RELEVANCE:\n"
          ]
        },
        {
          "output_type": "stream",
          "name": "stderr",
          "text": [
            "WARNING:cassandra.protocol:Server warning: Top-K queries can only be run with consistency level ONE / LOCAL_ONE / NODE_LOCAL. Consistency level LOCAL_QUORUM was requested. Downgrading the consistency level to LOCAL_ONE.\n"
          ]
        },
        {
          "output_type": "stream",
          "name": "stdout",
          "text": [
            "    [0.8941] \"swimming,\n",
            "prenatal\n",
            "yoga,\n",
            "and\n",
            "light\n",
            "strength\n",
            "training.\n",
            "These\n",
            "help\n",
            "in\n",
            "maintaining\n",
            "fitn ...\"\n",
            "    [0.8928] \"many\n",
            "of\n",
            "your\n",
            "fears\n",
            "are\n",
            "manageable.\n",
            "●\n",
            "Limiting\n",
            "Media\n",
            "Exposure:\n",
            "Avoid\n",
            "consuming\n",
            "too\n",
            "mu ...\"\n",
            "    [0.8903] \"commonly\n",
            "known\n",
            "to\n",
            "try\n",
            "to\n",
            "eat\n",
            "healthy\n",
            "while\n",
            "avoiding\n",
            "certain\n",
            "foods,\n",
            "exercise,\n",
            "and\n",
            "tak ...\"\n",
            "    [0.8898] \"her\n",
            "to\n",
            "the\n",
            "PHC-Medical\n",
            "Officer.\n",
            "●\n",
            "Routine\n",
            "Checkups\n",
            "and\n",
            "Screenings\n",
            ":\n",
            "1.\n",
            "Initial\n",
            "Visit ...\"\n",
            "\n",
            "What's your next question (or type 'quit' to exit): whai is full form of NICU?\n",
            "\n",
            "QUESTION: \"whai is full form of NICU?\"\n"
          ]
        },
        {
          "output_type": "stream",
          "name": "stderr",
          "text": [
            "WARNING:cassandra.protocol:Server warning: Top-K queries can only be run with consistency level ONE / LOCAL_ONE / NODE_LOCAL. Consistency level LOCAL_QUORUM was requested. Downgrading the consistency level to LOCAL_ONE.\n"
          ]
        },
        {
          "output_type": "stream",
          "name": "stdout",
          "text": [
            "ANSWER: \"NICU stands for Neonatal Intensive Care Unit.\"\n",
            "\n",
            "FIRST DOCUMENTS BY RELEVANCE:\n"
          ]
        },
        {
          "output_type": "stream",
          "name": "stderr",
          "text": [
            "WARNING:cassandra.protocol:Server warning: Top-K queries can only be run with consistency level ONE / LOCAL_ONE / NODE_LOCAL. Consistency level LOCAL_QUORUM was requested. Downgrading the consistency level to LOCAL_ONE.\n"
          ]
        },
        {
          "output_type": "stream",
          "name": "stdout",
          "text": [
            "    [0.8796] \"her\n",
            "to\n",
            "the\n",
            "PHC-Medical\n",
            "Officer.\n",
            "●\n",
            "Routine\n",
            "Checkups\n",
            "and\n",
            "Screenings\n",
            ":\n",
            "1.\n",
            "Initial\n",
            "Visit ...\"\n",
            "    [0.8780] \"pregnancy\n",
            "tests,\n",
            "blood\n",
            "tests,\n",
            "and\n",
            "an\n",
            "ultrasound\n",
            "to\n",
            "confirm\n",
            "the\n",
            "gestational\n",
            "age\n",
            "and\n",
            "c ...\"\n",
            "    [0.8766] \"rate\n",
            "of\n",
            "the\n",
            "district\n",
            "is\n",
            "20\n",
            "per\n",
            "1000\n",
            "population,\n",
            "then,\n",
            "100\n",
            "children\n",
            "will\n",
            "be\n",
            "born\n",
            "for\n",
            " ...\"\n",
            "    [0.8758] \"woman\n",
            "with\n",
            "PIH,\n",
            "pre-eclampsia\n",
            "or\n",
            "imminent\n",
            "eclampsia\n",
            "requires\n",
            "hospitalization\n",
            "and\n",
            "sup ...\"\n",
            "\n",
            "What's your next question (or type 'quit' to exit): can you brief me on nicu?\n",
            "\n",
            "QUESTION: \"can you brief me on nicu?\"\n"
          ]
        },
        {
          "output_type": "stream",
          "name": "stderr",
          "text": [
            "WARNING:cassandra.protocol:Server warning: Top-K queries can only be run with consistency level ONE / LOCAL_ONE / NODE_LOCAL. Consistency level LOCAL_QUORUM was requested. Downgrading the consistency level to LOCAL_ONE.\n"
          ]
        },
        {
          "output_type": "stream",
          "name": "stdout",
          "text": [
            "ANSWER: \"NICU stands for Neonatal Intensive Care Unit and it is a specialized unit in a hospital that provides intensive medical care for newborn babies who are born prematurely or have serious health conditions. These units are equipped with advanced medical technology and a highly trained medical team to monitor and treat the newborns. The goal of the NICU is to provide the best possible care for the baby while supporting the family during a difficult and stressful time.\"\n",
            "\n",
            "FIRST DOCUMENTS BY RELEVANCE:\n"
          ]
        },
        {
          "output_type": "stream",
          "name": "stderr",
          "text": [
            "WARNING:cassandra.protocol:Server warning: Top-K queries can only be run with consistency level ONE / LOCAL_ONE / NODE_LOCAL. Consistency level LOCAL_QUORUM was requested. Downgrading the consistency level to LOCAL_ONE.\n"
          ]
        },
        {
          "output_type": "stream",
          "name": "stdout",
          "text": [
            "    [0.8921] \"her\n",
            "to\n",
            "the\n",
            "PHC-Medical\n",
            "Officer.\n",
            "●\n",
            "Routine\n",
            "Checkups\n",
            "and\n",
            "Screenings\n",
            ":\n",
            "1.\n",
            "Initial\n",
            "Visit ...\"\n",
            "    [0.8823] \"or\n",
            "intervention\n",
            "is\n",
            "recommended\n",
            "at\n",
            "that\n",
            "point\n",
            "of\n",
            "time.\n",
            "Advise\n",
            "the\n",
            "woman\n",
            "to\n",
            "go\n",
            "in\n",
            "for\n",
            " ...\"\n",
            "    [0.8820] \"commonly\n",
            "known\n",
            "to\n",
            "try\n",
            "to\n",
            "eat\n",
            "healthy\n",
            "while\n",
            "avoiding\n",
            "certain\n",
            "foods,\n",
            "exercise,\n",
            "and\n",
            "tak ...\"\n",
            "    [0.8798] \"pregnancy\n",
            "tests,\n",
            "blood\n",
            "tests,\n",
            "and\n",
            "an\n",
            "ultrasound\n",
            "to\n",
            "confirm\n",
            "the\n",
            "gestational\n",
            "age\n",
            "and\n",
            "c ...\"\n",
            "\n",
            "What's your next question (or type 'quit' to exit): what are general pregnancy complications?\n",
            "\n",
            "QUESTION: \"what are general pregnancy complications?\"\n"
          ]
        },
        {
          "output_type": "stream",
          "name": "stderr",
          "text": [
            "WARNING:cassandra.protocol:Server warning: Top-K queries can only be run with consistency level ONE / LOCAL_ONE / NODE_LOCAL. Consistency level LOCAL_QUORUM was requested. Downgrading the consistency level to LOCAL_ONE.\n"
          ]
        },
        {
          "output_type": "stream",
          "name": "stdout",
          "text": [
            "ANSWER: \"Some general pregnancy complications include high-risk activities, common discomforts like nausea and vomiting, and physical changes like back pain. It is important for pregnant women to avoid high-impact sports, heavy lifting, and activities that increase the risk of falls or abdominal trauma. They should also manage common discomforts such as morning sickness and back pain through strategies like small, frequent meals and low-impact exercise. It is also important for pregnant women to monitor for symptoms of more serious complications, such as severe anemia, jaundice, high blood pressure, and preeclampsia, and seek medical attention if necessary. Mental health considerations, such as managing stress and seeking support for emotional and psychological changes, are also important during pregnancy.\"\n",
            "\n",
            "FIRST DOCUMENTS BY RELEVANCE:\n"
          ]
        },
        {
          "output_type": "stream",
          "name": "stderr",
          "text": [
            "WARNING:cassandra.protocol:Server warning: Top-K queries can only be run with consistency level ONE / LOCAL_ONE / NODE_LOCAL. Consistency level LOCAL_QUORUM was requested. Downgrading the consistency level to LOCAL_ONE.\n"
          ]
        },
        {
          "name": "stdout",
          "output_type": "stream",
          "text": [
            "    [0.9117] \"swimming,\n",
            "prenatal\n",
            "yoga,\n",
            "and\n",
            "light\n",
            "strength\n",
            "training.\n",
            "These\n",
            "help\n",
            "in\n",
            "maintaining\n",
            "fitn ...\"\n",
            "    [0.9072] \"Pregnant\n",
            "Woman\n",
            "Refer\n",
            "the\n",
            "pregnant\n",
            "woman\n",
            "to\n",
            "24-hour\n",
            "PHC/FRU\n",
            "for\n",
            "further\n",
            "examination\n",
            "i ...\"\n",
            "    [0.9052] \"by\n",
            "other\n",
            "symptoms\n",
            "like\n",
            "vaginal\n",
            "bleeding,\n",
            "consult\n",
            "your\n",
            "healthcare\n",
            "provider\n",
            "as\n",
            "it\n",
            "coul ...\"\n",
            "    [0.9027] \"called\n",
            "hyperemesis\n",
            "gravidarum.\n",
            "This\n",
            "requires\n",
            "medical\n",
            "attention,\n",
            "as\n",
            "it\n",
            "can\n",
            "impact\n",
            "bot ...\"\n",
            "\n",
            "What's your next question (or type 'quit' to exit): quit\n"
          ]
        }
      ],
      "source": [
        "first_question = True\n",
        "while True:\n",
        "    if first_question:\n",
        "        query_text = input(\"\\nEnter your question (or type 'quit' to exit): \").strip()\n",
        "    else:\n",
        "        query_text = input(\"\\nWhat's your next question (or type 'quit' to exit): \").strip()\n",
        "\n",
        "    if query_text.lower() == \"quit\":\n",
        "        break\n",
        "\n",
        "    if query_text == \"\":\n",
        "        continue\n",
        "\n",
        "    first_question = False\n",
        "\n",
        "    print(\"\\nQUESTION: \\\"%s\\\"\" % query_text)\n",
        "    answer = astra_vector_index.query(query_text, llm=llm).strip()\n",
        "    print(\"ANSWER: \\\"%s\\\"\\n\" % answer)\n",
        "\n",
        "    print(\"FIRST DOCUMENTS BY RELEVANCE:\")\n",
        "    for doc, score in astra_vector_store.similarity_search_with_score(query_text, k=4):\n",
        "        print(\"    [%0.4f] \\\"%s ...\\\"\" % (score, doc.page_content[:84]))"
      ]
    },
    {
      "cell_type": "code",
      "source": [
        "from sklearn.metrics import f1_score\n",
        "import numpy as np\n",
        "\n",
        "def exact_match(pred, true):\n",
        "    return int(pred.strip().lower() == true.strip().lower())\n",
        "\n",
        "def precision_recall_f1(pred, true):\n",
        "    pred_tokens = pred.lower().split()\n",
        "    true_tokens = true.lower().split()\n",
        "\n",
        "    common_tokens = set(pred_tokens) & set(true_tokens)\n",
        "\n",
        "    if len(common_tokens) == 0:\n",
        "        return 0, 0, 0\n",
        "\n",
        "    precision = len(common_tokens) / len(pred_tokens)\n",
        "    recall = len(common_tokens) / len(true_tokens)\n",
        "    f1 = 2 * precision * recall / (precision + recall)\n",
        "\n",
        "    return precision, recall, f1\n",
        "\n",
        "# Example Usage:\n",
        "generated_answers = [\"Trimesters refer to the three distinct stages of pregnancy, divided into first, second, and third trimesters. Each trimester has its own unique developments and symptoms.\", \"The condition of extreme nausea and vomiting that can impact both the mother and baby is called as Hyperemesis gravidarum. It is a severe form of morning sickness that requires medical attention during pregnancy.\", \" Anxiety during pregnancy is common, with many women experiencing worries about theirhealth, the baby’s health, and the changes that come with motherhood. Strategies for Managing Anxiety: Education, Positive Affirmations, Limiting Media Exposure, Mindfulness and Relaxation Techniques, Establish a daily routine that includes time for relaxation, hobbies, and activities that bring joy,Sharing experiences with other pregnant women can normalize your feelings and offer practical advice\",\"Sleeping on your stomach is generally not recommended during pregnancy, as it can put added pressure on your growing belly and potentially restrict blood flow to the uterus. Doctors may advise against it after a certain point in pregnancy, and it may also increase the risk of stillbirth. It is generally recommended to sleep on your side, either the left or right, to promote optimal blood flow to the baby.\", \"The two types of delivery are vaginal delivery and cesarean section.\", \"Multiple pregnancies refer to a situation where a woman is carrying more than one fetus, such as twins, triplets, or higher order multiples.\",\"NICU stands for Neonatal Intensive Care Unit and it is a specialized unit in a hospital that provides intensive medical care for newborn babies who are born prematurely or have serious health conditions. These units are equipped with advanced medical technology and a highly trained medical team to monitor and treat the newborns. The goal of the NICU is to provide the best possible care for the baby while supporting the family during a difficult and stressful time.\"\n",
        "]\n",
        "reference_answers = [\"A trimester is divided into first, second, and third trimesters where first trimester lasting about 12-14 weeks, second trimester lasts about 13-26 weeks, third semester lasting about 27-36 weeks.\",\"The condition of extreme nausea and vomiting that can impact both the mother and baby is called as Hyperemesis gravidarum. It is a severe form of morning sickness that requires medical attention during pregnancy\",\" Anxiety during pregnancy is common, with many women experiencing worries about theirhealth, the baby’s health, and the changes that come with motherhood. Strategies for Managing Anxiety: Education, Positive Affirmations, Limiting Media Exposure, Mindfulness and Relaxation Techniques, Establish a daily routine that includes time for relaxation, hobbies, and activities that bring joy,Sharing experiences with other pregnant women can normalize your feelings and offer practical advice\",\"Sleeping on your stomach is generally not recommended during pregnancy, as it can put added pressure on your growing belly and potentially restrict blood flow to the uterus. Doctors may advise against it after a certain point in pregnancy, and it may also increase the risk of stillbirth. It is generally recommended to sleep , either the left or right, to promote optimal blood flow to the baby.\", \"The two types of delivery are vaginal delivery and cesarean section.\", \"Multiple pregnancies refer to a situation where a woman is carrying more than one fetus, such as twins, triplets, or higher order multiples.\",\"NICU stands for Neonatal Intensive Care Unit and it is a specialized unit in a hospital that provides intensive medical care for newborn babies who are born prematurely or have serious health conditions. These units are equipped with advanced medical technology and a highly trained medical team to monitor and treat the newborns. The goal of the NICU is to provide the best possible care for the baby while supporting the family during a difficult and stressful time.\"]\n",
        "\n",
        "exact_matches = [exact_match(pred, true) for pred, true in zip(generated_answers, reference_answers)]\n",
        "f1_scores = [precision_recall_f1(pred, true)[2] for pred, true in zip(generated_answers, reference_answers)]\n",
        "\n",
        "print(\"Exact Match Accuracy: \", np.mean(exact_matches))\n",
        "print(\"Average F1 Score: \", np.mean(f1_scores))\n"
      ],
      "metadata": {
        "id": "dSaUPguw389l",
        "colab": {
          "base_uri": "https://localhost:8080/"
        },
        "outputId": "b56f89b4-7eca-4d39-9a20-40d0e0cac80a"
      },
      "execution_count": null,
      "outputs": [
        {
          "output_type": "stream",
          "name": "stdout",
          "text": [
            "Exact Match Accuracy:  0.5714285714285714\n",
            "Average F1 Score:  0.7471383907605136\n"
          ]
        }
      ]
    },
    {
      "cell_type": "code",
      "source": [
        "pip install rouge-score\n"
      ],
      "metadata": {
        "colab": {
          "base_uri": "https://localhost:8080/"
        },
        "id": "bcdXf9yXD4Ox",
        "outputId": "0f7fedc0-4afa-4f86-dfac-8248555d1690"
      },
      "execution_count": null,
      "outputs": [
        {
          "output_type": "stream",
          "name": "stdout",
          "text": [
            "Collecting rouge-score\n",
            "  Downloading rouge_score-0.1.2.tar.gz (17 kB)\n",
            "  Preparing metadata (setup.py) ... \u001b[?25l\u001b[?25hdone\n",
            "Requirement already satisfied: absl-py in /usr/local/lib/python3.10/dist-packages (from rouge-score) (1.4.0)\n",
            "Requirement already satisfied: nltk in /usr/local/lib/python3.10/dist-packages (from rouge-score) (3.8.1)\n",
            "Requirement already satisfied: numpy in /usr/local/lib/python3.10/dist-packages (from rouge-score) (1.26.4)\n",
            "Requirement already satisfied: six>=1.14.0 in /usr/local/lib/python3.10/dist-packages (from rouge-score) (1.16.0)\n",
            "Requirement already satisfied: click in /usr/local/lib/python3.10/dist-packages (from nltk->rouge-score) (8.1.7)\n",
            "Requirement already satisfied: joblib in /usr/local/lib/python3.10/dist-packages (from nltk->rouge-score) (1.4.2)\n",
            "Requirement already satisfied: regex>=2021.8.3 in /usr/local/lib/python3.10/dist-packages (from nltk->rouge-score) (2024.5.15)\n",
            "Requirement already satisfied: tqdm in /usr/local/lib/python3.10/dist-packages (from nltk->rouge-score) (4.66.5)\n",
            "Building wheels for collected packages: rouge-score\n",
            "  Building wheel for rouge-score (setup.py) ... \u001b[?25l\u001b[?25hdone\n",
            "  Created wheel for rouge-score: filename=rouge_score-0.1.2-py3-none-any.whl size=24935 sha256=78269314ea2ad988b2ba80786a70e8b3bd9bc613d48eb0c0275326b13d5d6429\n",
            "  Stored in directory: /root/.cache/pip/wheels/5f/dd/89/461065a73be61a532ff8599a28e9beef17985c9e9c31e541b4\n",
            "Successfully built rouge-score\n",
            "Installing collected packages: rouge-score\n",
            "Successfully installed rouge-score-0.1.2\n"
          ]
        }
      ]
    },
    {
      "cell_type": "code",
      "source": [
        "from rouge_score import rouge_scorer\n",
        "\n",
        "def rouge_scores(pred, true):\n",
        "    scorer = rouge_scorer.RougeScorer(['rouge1', 'rouge2', 'rougeL'], use_stemmer=True)\n",
        "    scores = scorer.score(true, pred)\n",
        "    return scores\n",
        "\n",
        "# Example Usage:\n",
        "for pred, true in zip(generated_answers, reference_answers):\n",
        "    scores = rouge_scores(pred, true)\n",
        "    print(f\"ROUGE-1: {scores['rouge1'].fmeasure}, ROUGE-2: {scores['rouge2'].fmeasure}, ROUGE-L: {scores['rougeL'].fmeasure}\")\n"
      ],
      "metadata": {
        "colab": {
          "base_uri": "https://localhost:8080/"
        },
        "id": "7ozB7FejD4-O",
        "outputId": "3e3ecf14-e8a4-448a-f22e-ea768398b617"
      },
      "execution_count": null,
      "outputs": [
        {
          "output_type": "stream",
          "name": "stdout",
          "text": [
            "ROUGE-1: 0.3157894736842105, ROUGE-2: 0.21818181818181817, ROUGE-L: 0.3157894736842105\n",
            "ROUGE-1: 1.0, ROUGE-2: 1.0, ROUGE-L: 1.0\n",
            "ROUGE-1: 1.0, ROUGE-2: 1.0, ROUGE-L: 1.0\n",
            "ROUGE-1: 0.9781021897810218, ROUGE-2: 0.962962962962963, ROUGE-L: 0.9781021897810218\n",
            "ROUGE-1: 1.0, ROUGE-2: 1.0, ROUGE-L: 1.0\n",
            "ROUGE-1: 1.0, ROUGE-2: 1.0, ROUGE-L: 1.0\n",
            "ROUGE-1: 1.0, ROUGE-2: 1.0, ROUGE-L: 1.0\n"
          ]
        }
      ]
    },
    {
      "cell_type": "code",
      "source": [
        "pip install nltk\n"
      ],
      "metadata": {
        "colab": {
          "base_uri": "https://localhost:8080/"
        },
        "id": "IaPmluvVD8QP",
        "outputId": "feafac98-1015-4e1f-c9d9-25f31c6920a2"
      },
      "execution_count": null,
      "outputs": [
        {
          "output_type": "stream",
          "name": "stdout",
          "text": [
            "Requirement already satisfied: nltk in /usr/local/lib/python3.10/dist-packages (3.8.1)\n",
            "Requirement already satisfied: click in /usr/local/lib/python3.10/dist-packages (from nltk) (8.1.7)\n",
            "Requirement already satisfied: joblib in /usr/local/lib/python3.10/dist-packages (from nltk) (1.4.2)\n",
            "Requirement already satisfied: regex>=2021.8.3 in /usr/local/lib/python3.10/dist-packages (from nltk) (2024.5.15)\n",
            "Requirement already satisfied: tqdm in /usr/local/lib/python3.10/dist-packages (from nltk) (4.66.5)\n"
          ]
        }
      ]
    },
    {
      "cell_type": "code",
      "source": [
        "import nltk\n",
        "from nltk.translate.bleu_score import sentence_bleu\n",
        "\n",
        "# Example Usage:\n",
        "for pred, true in zip(generated_answers, reference_answers):\n",
        "    pred_tokens = pred.lower().split()\n",
        "    true_tokens = [true.lower().split()]\n",
        "    bleu_score = sentence_bleu(true_tokens, pred_tokens)\n",
        "    print(f\"BLEU Score: {bleu_score}\")\n"
      ],
      "metadata": {
        "colab": {
          "base_uri": "https://localhost:8080/"
        },
        "id": "CvG-xB_8D9MV",
        "outputId": "6cb37eed-69ae-45b4-8031-d4cedcb57804"
      },
      "execution_count": null,
      "outputs": [
        {
          "output_type": "stream",
          "name": "stdout",
          "text": [
            "BLEU Score: 0.1699212719881832\n",
            "BLEU Score: 0.9691937043892331\n",
            "BLEU Score: 1.0\n",
            "BLEU Score: 0.9338603241255118\n",
            "BLEU Score: 1.0\n",
            "BLEU Score: 1.0\n",
            "BLEU Score: 1.0\n"
          ]
        }
      ]
    },
    {
      "cell_type": "code",
      "source": [
        "# Combine all metrics in a single workflow\n",
        "for pred, true in zip(generated_answers, reference_answers):\n",
        "    # Exact Match & F1 Score\n",
        "    em = exact_match(pred, true)\n",
        "    _, _, f1 = precision_recall_f1(pred, true)\n",
        "\n",
        "    # ROUGE Scores\n",
        "    rouge = rouge_scores(pred, true)\n",
        "\n",
        "    # BLEU Score\n",
        "    pred_tokens = pred.lower().split()\n",
        "    true_tokens = [true.lower().split()]\n",
        "    bleu = sentence_bleu(true_tokens, pred_tokens)\n",
        "\n",
        "    # Display Results\n",
        "    print(f\"Exact Match: {em}, F1: {f1}\")\n",
        "    print(f\"ROUGE-1: {rouge['rouge1'].fmeasure}, ROUGE-2: {rouge['rouge2'].fmeasure}, ROUGE-L: {rouge['rougeL'].fmeasure}\")\n",
        "    print(f\"BLEU Score: {bleu}\")\n",
        "    print(\"-\" * 30)\n"
      ],
      "metadata": {
        "colab": {
          "base_uri": "https://localhost:8080/"
        },
        "id": "PeFjkZp6EM5_",
        "outputId": "5f43dd36-d5e6-40a7-f63b-e8af075f22b2"
      },
      "execution_count": null,
      "outputs": [
        {
          "output_type": "stream",
          "name": "stdout",
          "text": [
            "Exact Match: 0, F1: 0.29629629629629634\n",
            "ROUGE-1: 0.3157894736842105, ROUGE-2: 0.21818181818181817, ROUGE-L: 0.3157894736842105\n",
            "BLEU Score: 0.1699212719881832\n",
            "------------------------------\n",
            "Exact Match: 0, F1: 0.8235294117647058\n",
            "ROUGE-1: 1.0, ROUGE-2: 1.0, ROUGE-L: 1.0\n",
            "BLEU Score: 0.9691937043892331\n",
            "------------------------------\n",
            "Exact Match: 1, F1: 0.84375\n",
            "ROUGE-1: 1.0, ROUGE-2: 1.0, ROUGE-L: 1.0\n",
            "BLEU Score: 1.0\n",
            "------------------------------\n",
            "Exact Match: 0, F1: 0.6956521739130436\n",
            "ROUGE-1: 0.9781021897810218, ROUGE-2: 0.962962962962963, ROUGE-L: 0.9781021897810218\n",
            "BLEU Score: 0.9338603241255118\n",
            "------------------------------\n",
            "Exact Match: 1, F1: 0.9090909090909091\n",
            "ROUGE-1: 1.0, ROUGE-2: 1.0, ROUGE-L: 1.0\n",
            "BLEU Score: 1.0\n",
            "------------------------------\n",
            "Exact Match: 1, F1: 0.9565217391304348\n",
            "ROUGE-1: 1.0, ROUGE-2: 1.0, ROUGE-L: 1.0\n",
            "BLEU Score: 1.0\n",
            "------------------------------\n",
            "Exact Match: 1, F1: 0.7051282051282052\n",
            "ROUGE-1: 1.0, ROUGE-2: 1.0, ROUGE-L: 1.0\n",
            "BLEU Score: 1.0\n",
            "------------------------------\n"
          ]
        }
      ]
    },
    {
      "cell_type": "code",
      "source": [],
      "metadata": {
        "id": "RSKWwLrAcNFD"
      },
      "execution_count": null,
      "outputs": []
    }
  ],
  "metadata": {
    "colab": {
      "provenance": [],
      "include_colab_link": true
    },
    "kernelspec": {
      "display_name": "Python 3 (ipykernel)",
      "language": "python",
      "name": "python3"
    },
    "language_info": {
      "codemirror_mode": {
        "name": "ipython",
        "version": 3
      },
      "file_extension": ".py",
      "mimetype": "text/x-python",
      "name": "python",
      "nbconvert_exporter": "python",
      "pygments_lexer": "ipython3",
      "version": "3.10.12"
    }
  },
  "nbformat": 4,
  "nbformat_minor": 0
}